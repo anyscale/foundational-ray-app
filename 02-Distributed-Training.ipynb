{
 "cells": [
  {
   "cell_type": "markdown",
   "metadata": {},
   "source": [
    "# Distributed training\n",
    "\n",
    "<div align=\"left\">\n",
    "<a target=\"_blank\" href=\"https://console.anyscale.com/\"><img src=\"https://img.shields.io/badge/🚀 Run_on-Anyscale-9hf\"></a>&nbsp;\n",
    "<a href=\"https://github.com/anyscale/foundational-ray-app\" role=\"button\"><img src=\"https://img.shields.io/static/v1?label=&amp;message=View%20On%20GitHub&amp;color=586069&amp;logo=github&amp;labelColor=2f363d\"></a>&nbsp;\n",
    "</div>\n",
    "\n",
    "In this tutorial, we'll execute a distributed training workload that will connect the following heterogenous workloads:\n",
    "- preprocess the dataset prior to training\n",
    "- distributed training with Ray Train and PyTorch (with observability)\n",
    "- evaluation (batch inference + eval logic)\n",
    "- save model artifacts to a model registry (MLOps)\n",
    "\n",
    "**Note**: we won't be tuning our model in this tutorial but be sure to check out [Ray Tune](https://docs.ray.io/en/latest/tune/index.html) for experiment execution and hyperparameter tuning at any scale.\n",
    "\n",
    "<img src=\"https://raw.githubusercontent.com/anyscale/foundational-ray-app/refs/heads/main/images/distributed_training.png\" width=800>"
   ]
  },
  {
   "cell_type": "code",
   "execution_count": null,
   "metadata": {},
   "outputs": [],
   "source": [
    "%load_ext autoreload\n",
    "%autoreload all"
   ]
  },
  {
   "cell_type": "code",
   "execution_count": null,
   "metadata": {},
   "outputs": [],
   "source": [
    "import os\n",
    "import ray"
   ]
  },
  {
   "cell_type": "code",
   "execution_count": null,
   "metadata": {},
   "outputs": [
    {
     "name": "stderr",
     "output_type": "stream",
     "text": [
      "2025-04-02 18:27:04,049\tINFO worker.py:1660 -- Connecting to existing Ray cluster at address: 10.0.36.61:6379...\n",
      "2025-04-02 18:27:04,059\tINFO worker.py:1843 -- Connected to Ray cluster. View the dashboard at \u001b[1m\u001b[32mhttps://session-fyhrc759flh928h7czptpn79mb.i.anyscaleuserdata.com \u001b[39m\u001b[22m\n",
      "2025-04-02 18:27:04,071\tINFO packaging.py:367 -- Pushing file package 'gcs://_ray_pkg_28b918945162c68d1e41f99e522c62841b3f0281.zip' (1.83MiB) to Ray cluster...\n",
      "2025-04-02 18:27:04,080\tINFO packaging.py:380 -- Successfully pushed file package 'gcs://_ray_pkg_28b918945162c68d1e41f99e522c62841b3f0281.zip'.\n"
     ]
    },
    {
     "data": {
      "application/vnd.jupyter.widget-view+json": {
       "model_id": "70dd24abfa324634b620680d40b68f82",
       "version_major": 2,
       "version_minor": 0
      },
      "text/html": [
       "<div class=\"lm-Widget p-Widget lm-Panel p-Panel jp-Cell-outputWrapper\">\n",
       "    <div style=\"margin-left: 50px;display: flex;flex-direction: row;align-items: center\">\n",
       "        <div class=\"jp-RenderedHTMLCommon\" style=\"display: flex; flex-direction: row;\">\n",
       "  <svg viewBox=\"0 0 567 224\" fill=\"none\" xmlns=\"http://www.w3.org/2000/svg\" style=\"height: 3em;\">\n",
       "    <g clip-path=\"url(#clip0_4338_178347)\">\n",
       "        <path d=\"M341.29 165.561H355.29L330.13 129.051C345.63 123.991 354.21 112.051 354.21 94.2307C354.21 71.3707 338.72 58.1807 311.88 58.1807H271V165.561H283.27V131.661H311.8C314.25 131.661 316.71 131.501 319.01 131.351L341.25 165.561H341.29ZM283.29 119.851V70.0007H311.82C331.3 70.0007 342.34 78.2907 342.34 94.5507C342.34 111.271 331.34 119.861 311.82 119.861L283.29 119.851ZM451.4 138.411L463.4 165.561H476.74L428.74 58.1807H416L367.83 165.561H380.83L392.83 138.411H451.4ZM446.19 126.601H398L422 72.1407L446.24 126.601H446.19ZM526.11 128.741L566.91 58.1807H554.35L519.99 114.181L485.17 58.1807H472.44L514.01 129.181V165.541H526.13V128.741H526.11Z\" fill=\"var(--jp-ui-font-color0)\"/>\n",
       "        <path d=\"M82.35 104.44C84.0187 97.8827 87.8248 92.0678 93.1671 87.9146C98.5094 83.7614 105.083 81.5067 111.85 81.5067C118.617 81.5067 125.191 83.7614 130.533 87.9146C135.875 92.0678 139.681 97.8827 141.35 104.44H163.75C164.476 101.562 165.622 98.8057 167.15 96.2605L127.45 56.5605C121.071 60.3522 113.526 61.6823 106.235 60.3005C98.9443 58.9187 92.4094 54.9203 87.8602 49.0574C83.3109 43.1946 81.0609 35.8714 81.5332 28.4656C82.0056 21.0599 85.1679 14.0819 90.4252 8.8446C95.6824 3.60726 102.672 0.471508 110.08 0.0272655C117.487 -0.416977 124.802 1.86091 130.647 6.4324C136.493 11.0039 140.467 17.5539 141.821 24.8501C143.175 32.1463 141.816 39.6859 138 46.0505L177.69 85.7505C182.31 82.9877 187.58 81.4995 192.962 81.4375C198.345 81.3755 203.648 82.742 208.33 85.3976C213.012 88.0532 216.907 91.9029 219.616 96.5544C222.326 101.206 223.753 106.492 223.753 111.875C223.753 117.258 222.326 122.545 219.616 127.197C216.907 131.848 213.012 135.698 208.33 138.353C203.648 141.009 198.345 142.375 192.962 142.313C187.58 142.251 182.31 140.763 177.69 138L138 177.7C141.808 184.071 143.155 191.614 141.79 198.91C140.424 206.205 136.44 212.75 130.585 217.313C124.731 221.875 117.412 224.141 110.004 223.683C102.596 223.226 95.6103 220.077 90.3621 214.828C85.1139 209.58 81.9647 202.595 81.5072 195.187C81.0497 187.779 83.3154 180.459 87.878 174.605C92.4405 168.751 98.9853 164.766 106.281 163.401C113.576 162.035 121.119 163.383 127.49 167.19L167.19 127.49C165.664 124.941 164.518 122.182 163.79 119.3H141.39C139.721 125.858 135.915 131.673 130.573 135.826C125.231 139.98 118.657 142.234 111.89 142.234C105.123 142.234 98.5494 139.98 93.2071 135.826C87.8648 131.673 84.0587 125.858 82.39 119.3H60C58.1878 126.495 53.8086 132.78 47.6863 136.971C41.5641 141.163 34.1211 142.972 26.7579 142.059C19.3947 141.146 12.6191 137.574 7.70605 132.014C2.79302 126.454 0.0813599 119.29 0.0813599 111.87C0.0813599 104.451 2.79302 97.2871 7.70605 91.7272C12.6191 86.1673 19.3947 82.5947 26.7579 81.6817C34.1211 80.7686 41.5641 82.5781 47.6863 86.7696C53.8086 90.9611 58.1878 97.2456 60 104.44H82.35ZM100.86 204.32C103.407 206.868 106.759 208.453 110.345 208.806C113.93 209.159 117.527 208.258 120.522 206.256C123.517 204.254 125.725 201.276 126.771 197.828C127.816 194.38 127.633 190.677 126.253 187.349C124.874 184.021 122.383 181.274 119.205 179.577C116.027 177.88 112.359 177.337 108.826 178.042C105.293 178.746 102.113 180.654 99.8291 183.44C97.5451 186.226 96.2979 189.718 96.3 193.32C96.2985 195.364 96.7006 197.388 97.4831 199.275C98.2656 201.163 99.4132 202.877 100.86 204.32ZM204.32 122.88C206.868 120.333 208.453 116.981 208.806 113.396C209.159 109.811 208.258 106.214 206.256 103.219C204.254 100.223 201.275 98.0151 197.827 96.97C194.38 95.9249 190.676 96.1077 187.348 97.4873C184.02 98.8669 181.274 101.358 179.577 104.536C177.879 107.714 177.337 111.382 178.041 114.915C178.746 118.448 180.653 121.627 183.439 123.911C186.226 126.195 189.717 127.443 193.32 127.44C195.364 127.443 197.388 127.042 199.275 126.259C201.163 125.476 202.878 124.328 204.32 122.88ZM122.88 19.4205C120.333 16.8729 116.981 15.2876 113.395 14.9347C109.81 14.5817 106.213 15.483 103.218 17.4849C100.223 19.4868 98.0146 22.4654 96.9696 25.9131C95.9245 29.3608 96.1073 33.0642 97.4869 36.3922C98.8665 39.7202 101.358 42.4668 104.535 44.1639C107.713 45.861 111.381 46.4036 114.914 45.6992C118.447 44.9949 121.627 43.0871 123.911 40.301C126.195 37.515 127.442 34.0231 127.44 30.4205C127.44 28.3772 127.038 26.3539 126.255 24.4664C125.473 22.5788 124.326 20.8642 122.88 19.4205ZM19.42 100.86C16.8725 103.408 15.2872 106.76 14.9342 110.345C14.5813 113.93 15.4826 117.527 17.4844 120.522C19.4863 123.518 22.4649 125.726 25.9127 126.771C29.3604 127.816 33.0638 127.633 36.3918 126.254C39.7198 124.874 42.4664 122.383 44.1635 119.205C45.8606 116.027 46.4032 112.359 45.6988 108.826C44.9944 105.293 43.0866 102.114 40.3006 99.8296C37.5145 97.5455 34.0227 96.2983 30.42 96.3005C26.2938 96.3018 22.337 97.9421 19.42 100.86ZM100.86 100.86C98.3125 103.408 96.7272 106.76 96.3742 110.345C96.0213 113.93 96.9226 117.527 98.9244 120.522C100.926 123.518 103.905 125.726 107.353 126.771C110.8 127.816 114.504 127.633 117.832 126.254C121.16 124.874 123.906 122.383 125.604 119.205C127.301 116.027 127.843 112.359 127.139 108.826C126.434 105.293 124.527 102.114 121.741 99.8296C118.955 97.5455 115.463 96.2983 111.86 96.3005C109.817 96.299 107.793 96.701 105.905 97.4835C104.018 98.2661 102.303 99.4136 100.86 100.86Z\" fill=\"#00AEEF\"/>\n",
       "    </g>\n",
       "    <defs>\n",
       "        <clipPath id=\"clip0_4338_178347\">\n",
       "            <rect width=\"566.93\" height=\"223.75\" fill=\"white\"/>\n",
       "        </clipPath>\n",
       "    </defs>\n",
       "  </svg>\n",
       "</div>\n",
       "\n",
       "        <table class=\"jp-RenderedHTMLCommon\" style=\"border-collapse: collapse;color: var(--jp-ui-font-color1);font-size: var(--jp-ui-font-size1);\">\n",
       "    <tr>\n",
       "        <td style=\"text-align: left\"><b>Python version:</b></td>\n",
       "        <td style=\"text-align: left\"><b>3.12.9</b></td>\n",
       "    </tr>\n",
       "    <tr>\n",
       "        <td style=\"text-align: left\"><b>Ray version:</b></td>\n",
       "        <td style=\"text-align: left\"><b>2.44.1</b></td>\n",
       "    </tr>\n",
       "    <tr>\n",
       "    <td style=\"text-align: left\"><b>Dashboard:</b></td>\n",
       "    <td style=\"text-align: left\"><b><a href=\"http://session-fyhrc759flh928h7czptpn79mb.i.anyscaleuserdata.com\" target=\"_blank\">http://session-fyhrc759flh928h7czptpn79mb.i.anyscaleuserdata.com</a></b></td>\n",
       "</tr>\n",
       "\n",
       "</table>\n",
       "\n",
       "    </div>\n",
       "</div>\n"
      ],
      "text/plain": [
       "RayContext(dashboard_url='session-fyhrc759flh928h7czptpn79mb.i.anyscaleuserdata.com', python_version='3.12.9', ray_version='2.44.1', ray_commit='66b3699996151045a71991762f4f83ecc03f881e')"
      ]
     },
     "execution_count": null,
     "metadata": {},
     "output_type": "execute_result"
    }
   ],
   "source": [
    "# Enable Ray Train v2 (it's too good to wait for public release!)\n",
    "ray.init(runtime_env={\"env_vars\": {\"RAY_TRAIN_V2_ENABLED\": \"1\"}})"
   ]
  },
  {
   "cell_type": "code",
   "execution_count": null,
   "metadata": {},
   "outputs": [],
   "source": [
    "%%bash\n",
    "# This will be removed once Ray Train v2 is part of latest Ray version\n",
    "echo \"RAY_TRAIN_V2_ENABLED=1\" > /home/ray/default/.env"
   ]
  },
  {
   "cell_type": "code",
   "execution_count": null,
   "metadata": {},
   "outputs": [
    {
     "data": {
      "text/plain": [
       "True"
      ]
     },
     "execution_count": null,
     "metadata": {},
     "output_type": "execute_result"
    }
   ],
   "source": [
    "# Load env vars in notebooks\n",
    "from dotenv import load_dotenv\n",
    "load_dotenv()"
   ]
  },
  {
   "cell_type": "markdown",
   "metadata": {},
   "source": [
    "### Preprocess"
   ]
  },
  {
   "cell_type": "markdown",
   "metadata": {},
   "source": [
    "We need to convert our classes to labels (unique integers) so that we can train a classifier that can correctly predict the class given an input image. But before we do this, we'll quickly apply the same data ingestion and preprocessing as the previous notebook."
   ]
  },
  {
   "cell_type": "code",
   "execution_count": null,
   "metadata": {},
   "outputs": [],
   "source": [
    "def add_class(row):\n",
    "    row[\"class\"] = row[\"path\"].rsplit(\"/\", 3)[-2]\n",
    "    return row"
   ]
  },
  {
   "cell_type": "code",
   "execution_count": null,
   "metadata": {},
   "outputs": [],
   "source": [
    "# Preprocess data splits\n",
    "train_ds = ray.data.read_images(\"s3://doggos-dataset/train\", include_paths=True, shuffle=\"files\")\n",
    "train_ds = train_ds.map(add_class)\n",
    "val_ds = ray.data.read_images(\"s3://doggos-dataset/val\", include_paths=True)\n",
    "val_ds = val_ds.map(add_class)"
   ]
  },
  {
   "cell_type": "markdown",
   "metadata": {},
   "source": [
    "We'll define a `Preprocessor` class that will:\n",
    "- create an embedding, since we will not want to change the embedding layer's weights and so we don't have to do it repeatedly as part of the model's forward pass (unecessary compute)\n",
    "- convert our classes into labels for the classifier. \n",
    "\n",
    "While we could've just done this as a simple operation, we're taking the time to organize it as a class so that we can save and load for inference later."
   ]
  },
  {
   "cell_type": "code",
   "execution_count": null,
   "metadata": {},
   "outputs": [],
   "source": [
    "from doggos.embed import EmbeddingGenerator"
   ]
  },
  {
   "cell_type": "code",
   "execution_count": null,
   "metadata": {},
   "outputs": [],
   "source": [
    "class Preprocessor:\n",
    "    \"\"\"Preprocessor class.\"\"\"\n",
    "    def __init__(self, class_to_label={}):\n",
    "        self.class_to_label = class_to_label or {}  # mutable defaults\n",
    "        self.label_to_class = {v: k for k, v in self.class_to_label.items()}\n",
    "        \n",
    "    def fit(self, ds, column):\n",
    "        self.classes = ds.unique(column=column)\n",
    "        self.class_to_label = {tag: i for i, tag in enumerate(self.classes)}\n",
    "        self.label_to_class = {v: k for k, v in self.class_to_label.items()}\n",
    "        return self\n",
    "\n",
    "    def convert_to_label(self, row, class_to_label):\n",
    "        if \"class\" in row:\n",
    "            row[\"label\"] = class_to_label[row[\"class\"]]\n",
    "        return row\n",
    "    \n",
    "    def transform(self, ds, concurrency=4, batch_size=64, num_gpus=1):\n",
    "        ds = ds.map(\n",
    "            self.convert_to_label, \n",
    "            fn_kwargs={\"class_to_label\": self.class_to_label},\n",
    "        )\n",
    "        ds = ds.map_batches(\n",
    "            EmbeddingGenerator,\n",
    "            fn_constructor_kwargs={\"model_id\": \"openai/clip-vit-base-patch32\"},\n",
    "            fn_kwargs={\"device\": \"cuda\"}, \n",
    "            concurrency=concurrency, \n",
    "            batch_size=batch_size,\n",
    "            num_gpus=num_gpus,\n",
    "        )\n",
    "        ds = ds.drop_columns([\"image\"])\n",
    "        return ds\n",
    "\n",
    "    def save(self, fp):\n",
    "        with open(fp, \"w\") as f:\n",
    "            json.dump(self.class_to_label, f)"
   ]
  },
  {
   "cell_type": "code",
   "execution_count": null,
   "metadata": {},
   "outputs": [
    {
     "name": "stderr",
     "output_type": "stream",
     "text": [
      "2025-04-02 18:27:12,214\tINFO dataset.py:2809 -- Tip: Use `take_batch()` instead of `take() / show()` to return records in pandas or numpy batch format.\n"
     ]
    },
    {
     "name": "stderr",
     "output_type": "stream",
     "text": [
      "2025-04-02 18:27:12,226\tINFO streaming_executor.py:108 -- Starting execution of Dataset. Full logs are in /tmp/ray/session_2025-04-02_17-14-18_653275_2278/logs/ray-data\n",
      "2025-04-02 18:27:12,227\tINFO streaming_executor.py:109 -- Execution plan of Dataset: InputDataBuffer[Input] -> TaskPoolMapOperator[ListFiles] -> TaskPoolMapOperator[ReadFiles] -> TaskPoolMapOperator[Map(add_class)] -> AllToAllOperator[Aggregate] -> LimitOperator[limit=1]\n"
     ]
    },
    {
     "data": {
      "application/vnd.jupyter.widget-view+json": {
       "model_id": "a2083c48a5dc4820a57a54118872714d",
       "version_major": 2,
       "version_minor": 0
      },
      "text/plain": [
       "Running 0: 0.00 row [00:00, ? row/s]"
      ]
     },
     "metadata": {},
     "output_type": "display_data"
    },
    {
     "data": {
      "application/vnd.jupyter.widget-view+json": {
       "model_id": "f0471871b12d497e99a662d68f246513",
       "version_major": 2,
       "version_minor": 0
      },
      "text/plain": [
       "- ListFiles 1: 0.00 row [00:00, ? row/s]"
      ]
     },
     "metadata": {},
     "output_type": "display_data"
    },
    {
     "data": {
      "application/vnd.jupyter.widget-view+json": {
       "model_id": "02da7fa069f64e9795be109f94e9f29e",
       "version_major": 2,
       "version_minor": 0
      },
      "text/plain": [
       "- ReadFiles 2: 0.00 row [00:00, ? row/s]"
      ]
     },
     "metadata": {},
     "output_type": "display_data"
    },
    {
     "data": {
      "application/vnd.jupyter.widget-view+json": {
       "model_id": "4dde1b4880b644dc80665aa864a3c4b0",
       "version_major": 2,
       "version_minor": 0
      },
      "text/plain": [
       "- Map(add_class) 3: 0.00 row [00:00, ? row/s]"
      ]
     },
     "metadata": {},
     "output_type": "display_data"
    },
    {
     "data": {
      "application/vnd.jupyter.widget-view+json": {
       "model_id": "5b9d534af9e944aa87eb6d6b4996b9c6",
       "version_major": 2,
       "version_minor": 0
      },
      "text/plain": [
       "- Aggregate 4: 0.00 row [00:00, ? row/s]"
      ]
     },
     "metadata": {},
     "output_type": "display_data"
    },
    {
     "data": {
      "application/vnd.jupyter.widget-view+json": {
       "model_id": "0e63b9c9f1e64045944177fa294ea86d",
       "version_major": 2,
       "version_minor": 0
      },
      "text/plain": [
       "Sort Sample 5:   0%|          | 0.00/1.00 [00:00<?, ? row/s]"
      ]
     },
     "metadata": {},
     "output_type": "display_data"
    },
    {
     "data": {
      "application/vnd.jupyter.widget-view+json": {
       "model_id": "270f2bb668134713b95fecdfc9a0b034",
       "version_major": 2,
       "version_minor": 0
      },
      "text/plain": [
       "Shuffle Map 6:   0%|          | 0.00/1.00 [00:00<?, ? row/s]"
      ]
     },
     "metadata": {},
     "output_type": "display_data"
    },
    {
     "data": {
      "application/vnd.jupyter.widget-view+json": {
       "model_id": "968af0b458d4419f9be14301bf5d013f",
       "version_major": 2,
       "version_minor": 0
      },
      "text/plain": [
       "Shuffle Reduce 7:   0%|          | 0.00/1.00 [00:00<?, ? row/s]"
      ]
     },
     "metadata": {},
     "output_type": "display_data"
    },
    {
     "data": {
      "application/vnd.jupyter.widget-view+json": {
       "model_id": "125308605a554d44a49987a8041fabca",
       "version_major": 2,
       "version_minor": 0
      },
      "text/plain": [
       "- limit=1 8: 0.00 row [00:00, ? row/s]"
      ]
     },
     "metadata": {},
     "output_type": "display_data"
    },
    {
     "name": "stdout",
     "output_type": "stream",
     "text": [
      "\u001b[36m(autoscaler +16s)\u001b[0m Tip: use `ray status` to view detailed cluster status. To disable these messages, set RAY_SCHEDULER_EVENTS=0.\n",
      "\u001b[36m(autoscaler +16s)\u001b[0m [autoscaler] [4xT4:48CPU-192GB] Attempting to add 1 node(s) to the cluster (increasing from 0 to 1).\n",
      "\u001b[36m(autoscaler +16s)\u001b[0m [autoscaler] [4xT4:48CPU-192GB] Launched 1 instances.\n",
      "\u001b[36m(ListFiles pid=3046, ip=10.0.176.153)\u001b[0m >>> [DBG] partition_files: before: pyarrow.Table\n",
      "\u001b[36m(ListFiles pid=3046, ip=10.0.176.153)\u001b[0m __path: string\n",
      "\u001b[36m(ListFiles pid=3046, ip=10.0.176.153)\u001b[0m __file_size: int64\n",
      "\u001b[36m(ListFiles pid=3046, ip=10.0.176.153)\u001b[0m ----\n",
      "\u001b[36m(ListFiles pid=3046, ip=10.0.176.153)\u001b[0m __path: [[\"doggos-dataset/train/basset/basset_10028.jpg\",\"doggos-dataset/train/basset/basset_10054.jpg\",\"doggos-dataset/train/basset/basset_10072.jpg\",\"doggos-dataset/train/basset/basset_10095.jpg\",\"doggos-dataset/train/basset/basset_10110.jpg\",...,\"doggos-dataset/train/yorkshire_terrier/yorkshire_terrier_889.jpg\",\"doggos-dataset/train/yorkshire_terrier/yorkshire_terrier_9618.jpg\",\"doggos-dataset/train/yorkshire_terrier/yorkshire_terrier_962.jpg\",\"doggos-dataset/train/yorkshire_terrier/yorkshire_terrier_967.jpg\",\"doggos-dataset/train/yorkshire_terrier/yorkshire_terrier_9739.jpg\"]]\n",
      "\u001b[36m(ListFiles pid=3046, ip=10.0.176.153)\u001b[0m __file_size: [[56919,36417,21093,23721,12511,...,19267,43746,29862,37592,32578]]\n",
      "\u001b[36m(ListFiles pid=3046, ip=10.0.176.153)\u001b[0m >>> [DBG] partition_files: after: pyarrow.Table\n",
      "\u001b[36m(ListFiles pid=3046, ip=10.0.176.153)\u001b[0m __path: string\n",
      "\u001b[36m(ListFiles pid=3046, ip=10.0.176.153)\u001b[0m __file_size: int64\n",
      "\u001b[36m(ListFiles pid=3046, ip=10.0.176.153)\u001b[0m ----\n",
      "\u001b[36m(ListFiles pid=3046, ip=10.0.176.153)\u001b[0m __path: [[\"doggos-dataset/train/beagle/beagle_8713.jpg\",\"doggos-dataset/train/beagle/beagle_9849.jpg\",\"doggos-dataset/train/samoyed/samoyed_6343.jpg\",\"doggos-dataset/train/border_collie/border_collie_1128.jpg\",\"doggos-dataset/train/miniature_schnauzer/miniature_schnauzer_2418.jpg\",...,\"doggos-dataset/train/golden_retriever/golden_retriever_3004.jpg\",\"doggos-dataset/train/siberian_husky/siberian_husky_6409.jpg\",\"doggos-dataset/train/miniature_poodle/miniature_poodle_777.jpg\",\"doggos-dataset/train/yorkshire_terrier/yorkshire_terrier_2197.jpg\",\"doggos-dataset/train/bernese_mountain_dog/bernese_mountain_dog_3278.jpg\"]]\n",
      "\u001b[36m(ListFiles pid=3046, ip=10.0.176.153)\u001b[0m __file_size: [[32733,26092,33891,25075,28417,...,19560,21355,118033,44089,28607]]\n"
     ]
    },
    {
     "name": "stderr",
     "output_type": "stream",
     "text": [
      "2025-04-02 18:28:25,682\tINFO streaming_executor.py:108 -- Starting execution of Dataset. Full logs are in /tmp/ray/session_2025-04-02_17-14-18_653275_2278/logs/ray-data\n",
      "2025-04-02 18:28:25,682\tINFO streaming_executor.py:109 -- Execution plan of Dataset: InputDataBuffer[Input] -> TaskPoolMapOperator[ListFiles] -> TaskPoolMapOperator[ReadFiles] -> TaskPoolMapOperator[Map(add_class)->Map(Preprocessor.convert_to_label)] -> ActorPoolMapOperator[MapBatches(EmbeddingGenerator)] -> TaskPoolMapOperator[MapBatches(drop_columns)] -> LimitOperator[limit=1]\n"
     ]
    },
    {
     "data": {
      "application/vnd.jupyter.widget-view+json": {
       "model_id": "0a33d25f6a194c9e8715c552b1dd9366",
       "version_major": 2,
       "version_minor": 0
      },
      "text/plain": [
       "Running 0: 0.00 row [00:00, ? row/s]"
      ]
     },
     "metadata": {},
     "output_type": "display_data"
    },
    {
     "data": {
      "application/vnd.jupyter.widget-view+json": {
       "model_id": "2bfcd8adda8c4f769b5afd267c573e29",
       "version_major": 2,
       "version_minor": 0
      },
      "text/plain": [
       "- ListFiles 1: 0.00 row [00:00, ? row/s]"
      ]
     },
     "metadata": {},
     "output_type": "display_data"
    },
    {
     "data": {
      "application/vnd.jupyter.widget-view+json": {
       "model_id": "d73d5a94686d45ffa5c192a0c5c2d150",
       "version_major": 2,
       "version_minor": 0
      },
      "text/plain": [
       "- ReadFiles 2: 0.00 row [00:00, ? row/s]"
      ]
     },
     "metadata": {},
     "output_type": "display_data"
    },
    {
     "data": {
      "application/vnd.jupyter.widget-view+json": {
       "model_id": "67fb19ac4e70451b97bae04b5b013881",
       "version_major": 2,
       "version_minor": 0
      },
      "text/plain": [
       "- Map(add_class)->Map(Preprocessor.convert_to_label) 3: 0.00 row [00:00, ? row/s]"
      ]
     },
     "metadata": {},
     "output_type": "display_data"
    },
    {
     "data": {
      "application/vnd.jupyter.widget-view+json": {
       "model_id": "b9f92cd74cbe40b09a153aac9081ab39",
       "version_major": 2,
       "version_minor": 0
      },
      "text/plain": [
       "- MapBatches(EmbeddingGenerator) 4: 0.00 row [00:00, ? row/s]"
      ]
     },
     "metadata": {},
     "output_type": "display_data"
    },
    {
     "data": {
      "application/vnd.jupyter.widget-view+json": {
       "model_id": "99b16f73d7674d9889f029b28d942869",
       "version_major": 2,
       "version_minor": 0
      },
      "text/plain": [
       "- MapBatches(drop_columns) 5: 0.00 row [00:00, ? row/s]"
      ]
     },
     "metadata": {},
     "output_type": "display_data"
    },
    {
     "data": {
      "application/vnd.jupyter.widget-view+json": {
       "model_id": "05b522c86e7743e580ceeb21c8916549",
       "version_major": 2,
       "version_minor": 0
      },
      "text/plain": [
       "- limit=1 6: 0.00 row [00:00, ? row/s]"
      ]
     },
     "metadata": {},
     "output_type": "display_data"
    },
    {
     "name": "stdout",
     "output_type": "stream",
     "text": [
      "\u001b[36m(ListFiles pid=3498, ip=10.0.176.153)\u001b[0m >>> [DBG] partition_files: before: pyarrow.Table\n",
      "\u001b[36m(ListFiles pid=3498, ip=10.0.176.153)\u001b[0m __path: string\u001b[32m [repeated 2x across cluster] (Ray deduplicates logs by default. Set RAY_DEDUP_LOGS=0 to disable log deduplication, or see https://docs.ray.io/en/master/ray-observability/user-guides/configure-logging.html#log-deduplication for more options.)\u001b[0m\n",
      "\u001b[36m(ListFiles pid=3498, ip=10.0.176.153)\u001b[0m __file_size: [[39346,42995,36702,49523,25549,...,27985,35400,45738,12883,37239]]\u001b[32m [repeated 4x across cluster]\u001b[0m\n",
      "\u001b[36m(ListFiles pid=3498, ip=10.0.176.153)\u001b[0m ----\u001b[32m [repeated 2x across cluster]\u001b[0m\n",
      "\u001b[36m(ListFiles pid=3498, ip=10.0.176.153)\u001b[0m __path: [[\"doggos-dataset/train/pug/pug_2009.jpg\",\"doggos-dataset/train/great_pyrenees/great_pyrenees_4320.jpg\",\"doggos-dataset/train/pug/pug_11958.jpg\",\"doggos-dataset/train/pomeranian/pomeranian_4243.jpg\",\"doggos-dataset/train/shih_tzu/shih_tzu_2335.jpg\",...,\"doggos-dataset/train/bernese_mountain_dog/bernese_mountain_dog_6800.jpg\",\"doggos-dataset/train/saint_bernard/saint_bernard_823.jpg\",\"doggos-dataset/train/german_shepherd/german_shepherd_16149.jpg\",\"doggos-dataset/train/chihuahua/chihuahua_10621.jpg\",\"doggos-dataset/train/beagle/beagle_6109.jpg\"]]\u001b[32m [repeated 2x across cluster]\u001b[0m\n",
      "\u001b[36m(ListFiles pid=3498, ip=10.0.176.153)\u001b[0m >>> [DBG] partition_files: after: pyarrow.Table\n"
     ]
    },
    {
     "data": {
      "text/plain": [
       "[{'path': 'doggos-dataset/train/pug/pug_2009.jpg',\n",
       "  'class': 'pug',\n",
       "  'label': 30,\n",
       "  'embedding': array([ 1.81501538e-01,  5.73930405e-02,  1.48565983e-02,  1.26786485e-01,\n",
       "          2.12252170e-01, -4.24531519e-01,  3.75080675e-01,  3.71895790e-01,\n",
       "          8.15596431e-02, -8.67301971e-02, -2.72777379e-01,  2.33231321e-01,\n",
       "          1.60963506e-01,  1.86343133e-01,  2.89597452e-01,  2.99186319e-01,\n",
       "          8.68393958e-01, -4.69412267e-01, -6.23207688e-02,  3.46514359e-02,\n",
       "         -7.01109409e-01, -1.29454061e-02,  4.30427343e-01, -3.07353348e-01,\n",
       "         -3.83952796e-01, -1.16510019e-01,  2.16083750e-01,  3.01714212e-01,\n",
       "          1.33251980e-01,  1.13569565e-01,  2.26420999e-01, -1.78429671e-02,\n",
       "         -1.44004405e-01,  2.24117056e-01,  3.95707190e-01,  4.51326966e-02,\n",
       "          3.49065483e-01,  1.55329593e-02, -9.69648734e-02,  1.89188182e+00,\n",
       "         -2.75962591e-01,  1.85660899e-01,  1.97352141e-01,  5.13417065e-01,\n",
       "          3.21188599e-01,  9.38576818e-01, -4.96349990e-01,  2.00365290e-01,\n",
       "          6.53246045e-02, -6.33887947e-02, -3.97620380e-01,  5.62131926e-02,\n",
       "         -4.96130064e-02, -2.87587702e-01,  2.81903863e-01,  1.43409729e-01,\n",
       "          1.55741230e-01,  2.43542403e-01, -1.70685396e-01,  6.22165799e-02,\n",
       "          8.94465744e-01, -1.93975672e-01, -7.19790608e-02,  2.52659410e-01,\n",
       "         -3.54460806e-01,  1.34600461e-01, -2.71484077e-01,  3.57666105e-01,\n",
       "         -1.86542124e-01,  2.76026875e-03,  1.36317849e-01, -2.31821746e-01,\n",
       "         -1.12470031e-01, -3.76725197e-03, -3.08586061e-01, -2.84967214e-01,\n",
       "          1.43705457e-01, -1.33490875e-01,  1.86902344e-01,  4.05925483e-01,\n",
       "          1.48168057e-01, -4.93135154e-01, -1.87935531e-01, -9.16966975e-01,\n",
       "          5.50184846e-01,  7.12497905e-03,  1.10764205e+00,  5.08569479e-02,\n",
       "          3.93244624e-01,  2.41207778e-01, -3.54107261e-01, -6.03490651e-01,\n",
       "         -7.64617634e+00,  6.52828395e-01, -3.50649297e-01, -2.76634321e-02,\n",
       "         -1.21054351e-02, -3.00003529e-01, -1.19702065e+00,  8.80959809e-01,\n",
       "          2.46407747e-01,  2.08125204e-01, -3.29819441e-01, -2.48852193e-01,\n",
       "          1.79663703e-01, -1.92412719e-01,  1.15858459e+00,  3.15515734e-02,\n",
       "          1.73629783e-02, -2.40724996e-01,  6.05000198e-01, -4.00992870e-01,\n",
       "          3.53719473e-01, -1.12141937e-01, -3.62252742e-02,  1.52956724e-01,\n",
       "         -5.43443978e-01, -7.61437476e-01, -1.67154521e-01,  3.38952959e-01,\n",
       "          2.95697898e-01,  2.48168901e-01,  2.15309113e-01,  8.89968127e-02,\n",
       "          8.25387537e-02,  3.09813078e-02, -2.70542055e-02,  2.03939885e-01,\n",
       "          1.29301846e-03, -8.14064026e-01,  7.44696677e-01,  3.55572253e-01,\n",
       "         -1.03980228e-01,  9.80163217e-01, -5.39270759e-01,  2.86668502e-02,\n",
       "          3.28607678e-01,  4.58271503e-02, -1.14979513e-01, -5.04606187e-01,\n",
       "          5.86120933e-02, -2.16575786e-01,  8.32751393e-05,  4.23652023e-01,\n",
       "         -1.26066178e-01, -5.85580170e-02,  4.36408579e-01, -1.74034432e-01,\n",
       "          4.09387648e-01,  2.28215575e-01, -1.65594280e-01, -1.74963698e-02,\n",
       "          1.59065306e-01,  1.06766619e-01, -4.72654134e-01,  4.08353359e-01,\n",
       "         -5.95361829e-01, -5.48282444e-01,  9.18975174e-02,  3.14783901e-02,\n",
       "          3.16330433e-01,  1.87265560e-01, -2.04722404e-01, -3.90583932e-01,\n",
       "          1.55626699e-01, -6.30806386e-01, -1.30612075e-01, -2.55994797e-01,\n",
       "          1.85215637e-01,  1.92248061e-01,  1.44836277e-01, -8.65853131e-02,\n",
       "         -2.17822582e-01, -1.02705888e-01, -4.33496684e-01,  5.67154102e-02,\n",
       "          2.57384300e-01, -1.18529312e-01,  4.61745828e-01, -6.31379783e-02,\n",
       "         -2.49759093e-01,  4.14320141e-01,  4.25563216e-01, -5.57309926e-01,\n",
       "         -3.53988707e-01, -2.08410755e-01, -5.09792745e-01,  1.25275165e-01,\n",
       "         -1.11492261e-01,  9.26192924e-02,  3.17364186e-01,  2.18837023e-01,\n",
       "          3.90408128e-01, -1.88185394e-01,  4.57152903e-01,  8.11435282e-03,\n",
       "          3.18821430e-01, -1.39529124e-01, -1.38562047e+00,  1.35726199e-01,\n",
       "         -3.06902528e-01,  1.07986860e-01,  3.80169973e-02,  1.87113494e-01,\n",
       "         -3.39703918e-01, -4.07522589e-01,  2.90576339e-01, -6.10482991e-02,\n",
       "         -2.82609463e-03,  2.69667089e-01,  1.43644676e-01,  2.28248447e-01,\n",
       "         -5.63617796e-02,  3.10619533e-01, -2.50590920e-01, -1.62441298e-01,\n",
       "         -4.55398113e-01,  2.33891428e-01,  9.11743402e-01, -1.27782121e-01,\n",
       "          6.06331766e-01,  5.99977970e-01, -5.77571839e-02,  1.71030134e-01,\n",
       "          7.38044158e-02, -3.63356262e-01, -9.22934040e-02, -4.53766525e-01,\n",
       "         -1.35485798e-01, -4.18413132e-02, -2.21306294e-01,  1.61221772e-01,\n",
       "         -9.12778378e-02,  8.95294607e-01, -8.83987099e-02,  5.74830584e-02,\n",
       "          1.80938125e-01, -1.57258689e-01,  7.06785798e-01, -4.19437736e-01,\n",
       "          3.16949248e-01,  4.22707707e-01,  1.39213651e-01,  7.80055672e-02,\n",
       "          1.70596540e-01,  3.37936908e-01,  3.84687215e-01, -6.62338018e-01,\n",
       "          3.03410530e-01, -7.11186975e-02,  6.96902990e-01, -3.55768263e-01,\n",
       "          2.65485466e-01, -3.83826017e-01,  3.95704627e-01,  8.36307555e-02,\n",
       "          4.48784828e-02, -3.20489705e-02, -1.24569058e+00, -2.53717691e-01,\n",
       "         -2.39836216e-01,  2.30169758e-01,  3.80827308e-01, -1.33538321e-02,\n",
       "          2.43396461e-01,  2.99539417e-03, -1.04966938e-01, -1.62347093e-01,\n",
       "          1.17311895e-01,  3.16508859e-01,  6.27778396e-02,  2.71556854e-01,\n",
       "          6.28306210e-01,  2.76798010e-01, -2.64586091e-01,  2.35207811e-01,\n",
       "         -3.52802932e-01,  5.02421081e-01,  2.42899850e-01,  3.10762748e-02,\n",
       "         -2.29000121e-01, -4.02790457e-02, -5.39315939e-01, -2.33650625e-01,\n",
       "         -2.70174265e-01,  1.13311663e-01,  4.45835561e-01,  2.10930496e-01,\n",
       "         -4.54882532e-02,  1.77513480e-01,  9.48868692e-02, -1.69491008e-01,\n",
       "          2.20021248e-01,  1.10378563e-02, -2.13094607e-01,  1.09906994e-01,\n",
       "          5.68862379e-01, -1.38490796e-02,  1.37070149e-01,  3.08636963e-01,\n",
       "          8.60795081e-02, -2.31099799e-02, -4.69195008e-01, -1.05370820e-01,\n",
       "          1.38407439e-01,  5.43363392e-04, -7.67385066e-02, -2.13311315e-01,\n",
       "         -5.97769618e-02,  2.80498832e-01,  2.65847370e-02, -3.49625945e-04,\n",
       "          9.78511155e-01, -1.28052682e-01,  6.19122162e-02,  3.42145026e-01,\n",
       "         -2.75892228e-01,  5.17061710e-01, -3.09323281e-01, -5.33507943e-01,\n",
       "          2.23247483e-01,  8.61454725e-01, -1.96921408e-01, -3.49720269e-02,\n",
       "          6.05697334e-01,  5.77358454e-02, -1.44350037e-01,  1.89705491e-02,\n",
       "          2.53360748e-01,  2.34191060e-01,  6.25771955e-02, -4.47736859e-01,\n",
       "          1.49167180e-02, -1.54584274e-01,  2.30909675e-01,  3.11213374e-01,\n",
       "          3.23936194e-01,  3.09912473e-01, -1.85159326e-01, -1.58323079e-01,\n",
       "         -8.11665282e-02, -1.22865602e-01,  1.88892096e-01, -2.61809409e-01,\n",
       "         -2.47019790e-02, -2.42528766e-01,  1.48258314e-01,  4.16267097e-01,\n",
       "          1.84335336e-01,  1.09401837e-01, -3.13592315e-01,  5.66717982e-03,\n",
       "          7.63669789e-01, -2.28897661e-01,  2.70133793e-01,  4.58425850e-01,\n",
       "         -5.03000915e-01, -3.87661159e-01,  1.27914324e-01,  1.55527651e-01,\n",
       "          8.76496658e-02,  1.59947962e-01, -5.27823567e-02,  5.13761975e-02,\n",
       "         -1.28431892e+00, -2.30477601e-01,  7.93983638e-02, -1.83378816e-01,\n",
       "         -3.20518494e-01,  1.95140272e-01, -9.04209167e-02,  2.50559688e-01,\n",
       "         -4.76942003e-01, -2.21700799e-02, -2.00104147e-01, -2.77906239e-01,\n",
       "          1.72961354e+00, -2.40618616e-01, -2.24079475e-01, -1.27538815e-01,\n",
       "          3.23215961e-01, -6.00851715e-01, -2.44288489e-01,  4.36868310e-01,\n",
       "          1.99787304e-01, -2.29048342e-01, -4.88979071e-01,  4.53997999e-01,\n",
       "          3.46022785e-01, -1.52385306e+00,  2.50692010e-01, -1.00868034e+00,\n",
       "         -1.18065268e-01,  2.57937402e-01,  3.33125353e-01,  1.80321023e-01,\n",
       "          4.94859591e-02, -2.54072011e-01, -9.85839725e-01, -2.24387527e-01,\n",
       "         -1.85763896e-01,  4.76148307e-01,  5.88959754e-02,  2.00462282e-01,\n",
       "          3.01444381e-02,  3.33838969e-01,  1.31005168e-01, -1.15361005e-01,\n",
       "          1.16211958e-01, -2.03124404e-01,  8.57054710e-01, -3.28000903e-01,\n",
       "          9.45758820e-02, -1.62442446e-01, -8.98718834e-02, -2.88803369e-01,\n",
       "          4.11705077e-01, -2.28081599e-01, -1.67676121e-01, -1.89957783e-01,\n",
       "         -2.07430840e-01, -1.29987121e-01,  1.15392894e-01,  2.82132834e-01,\n",
       "          2.40613788e-01, -2.66679138e-01,  3.67407888e-01, -1.76507503e-01,\n",
       "         -6.26683235e-03,  1.82734877e-01, -6.90587938e-01, -1.30087554e-01,\n",
       "          3.14379960e-01,  2.08173633e-01, -1.07811540e-02, -2.00610161e-01,\n",
       "         -3.58260721e-01,  4.02138323e-01, -3.13119918e-01, -1.73204392e-02,\n",
       "          3.09976518e-01,  2.17093214e-01, -3.53585988e-01, -1.42063960e-01,\n",
       "          5.66046834e-01,  1.78437322e-01,  2.51524597e-01,  3.58523518e-01,\n",
       "         -3.29445481e-01, -1.90310717e-01,  5.05942665e-02,  3.70142877e-01,\n",
       "          2.76089106e-02,  3.99802893e-01, -2.62275517e-01, -5.16021192e-01,\n",
       "         -3.49143147e-03,  9.47480947e-02, -8.78324807e-02,  6.59943938e-01,\n",
       "         -1.00412279e-01,  8.60617831e-02, -1.82817310e-01,  1.83159262e-01,\n",
       "          1.81440249e-01,  2.36180261e-01, -8.00155520e-01,  8.16184431e-02,\n",
       "         -4.05852377e-01, -2.29409173e-01,  3.31561804e-01,  4.40040939e-02,\n",
       "         -1.30602404e-01,  2.39539593e-02, -3.30001086e-01, -2.62209356e-01,\n",
       "         -3.71817708e-01, -1.79194555e-01, -1.50187641e-01, -1.28727317e-01,\n",
       "         -2.80633509e-01, -5.31246126e-01, -4.08603221e-01,  1.02820031e-01,\n",
       "         -3.17153424e-01, -4.90623713e-02,  2.38794386e-01, -6.14412487e-01,\n",
       "          2.67617404e-02, -1.85754120e-01, -8.14964533e-01, -4.54551011e-01,\n",
       "          1.90307647e-01,  4.30788100e-02,  3.89578938e-01, -4.92338985e-02,\n",
       "         -3.73362839e-01, -8.86244848e-02, -2.79369205e-01, -1.68213159e-01,\n",
       "         -1.52482361e-01, -2.73463070e-01,  1.04092851e-01, -2.20395736e-02,\n",
       "         -2.70749211e-01,  1.51082277e-02, -6.59900188e-01,  1.30881906e-01,\n",
       "         -3.59310448e-01,  4.93518144e-01,  5.03438830e-01,  8.52934718e-02],\n",
       "        dtype=float32)}]"
      ]
     },
     "execution_count": null,
     "metadata": {},
     "output_type": "execute_result"
    }
   ],
   "source": [
    "# Preprocess\n",
    "preprocessor = Preprocessor()\n",
    "preprocessor = preprocessor.fit(train_ds, column=\"class\")\n",
    "train_ds = preprocessor.transform(ds=train_ds)\n",
    "val_ds = preprocessor.transform(ds=val_ds)\n",
    "train_ds.take(1)"
   ]
  },
  {
   "cell_type": "markdown",
   "metadata": {},
   "source": [
    "<div class=\"alert alert-block alert\"> <b> Data Processing</b> \n",
    "\n",
    "Be sure to checkout this extensive guide on [data loading and preprocessing](https://docs.ray.io/en/latest/train/user-guides/data-loading-preprocessing.html) for the last-mile preprocessing we'll need to do prior to training our models. However, Ray Data does support performant joins, filters, aggregations, etc. for the more structure data processing your workloads may need."
   ]
  },
  {
   "cell_type": "markdown",
   "metadata": {},
   "source": [
    "<div class=\"alert alert-block alert\"> <b> Store often, Save compute</b> \n",
    "\n",
    "We're going to now store our preprocessed data into shared cloud storage because we want to:\n",
    "- save a record of what this preprocessed data looks like\n",
    "- avoid triggering the entire preprocessing for each batch our model will process\n",
    "- don't want to [`materialize`](https://docs.ray.io/en/latest/data/api/doc/ray.data.Dataset.materialize.html) the preprocessed data either (shouldn't force large data to fit in memory)"
   ]
  },
  {
   "cell_type": "code",
   "execution_count": null,
   "metadata": {},
   "outputs": [],
   "source": [
    "from doggos.utils import delete_s3_objects"
   ]
  },
  {
   "cell_type": "code",
   "execution_count": null,
   "metadata": {},
   "outputs": [
    {
     "name": "stdout",
     "output_type": "stream",
     "text": [
      "Deleted 65 objects from s3://anyscale-test-data-cld-i2w99rzq8b6lbjkke9y94vi5/org_7c1Kalm9WcX2bNIjW53GUT/cld_kvedZWag2qA8i5BjxUevf5i7/artifact_storage/goku_mohandas/doggos/preprocessed_data\n"
     ]
    },
    {
     "name": "stderr",
     "output_type": "stream",
     "text": [
      "2025-04-02 18:28:49,638\tINFO streaming_executor.py:108 -- Starting execution of Dataset. Full logs are in /tmp/ray/session_2025-04-02_17-14-18_653275_2278/logs/ray-data\n",
      "2025-04-02 18:28:49,639\tINFO streaming_executor.py:109 -- Execution plan of Dataset: InputDataBuffer[Input] -> TaskPoolMapOperator[ListFiles] -> TaskPoolMapOperator[ReadFiles] -> TaskPoolMapOperator[Map(add_class)->Map(Preprocessor.convert_to_label)] -> ActorPoolMapOperator[MapBatches(EmbeddingGenerator)] -> TaskPoolMapOperator[MapBatches(drop_columns)->Write]\n"
     ]
    },
    {
     "data": {
      "application/vnd.jupyter.widget-view+json": {
       "model_id": "27b078cf85024aca97188d3304a96fdd",
       "version_major": 2,
       "version_minor": 0
      },
      "text/plain": [
       "Running 0: 0.00 row [00:00, ? row/s]"
      ]
     },
     "metadata": {},
     "output_type": "display_data"
    },
    {
     "data": {
      "application/vnd.jupyter.widget-view+json": {
       "model_id": "f7d99edae6134ddba65d2def86ec6cc9",
       "version_major": 2,
       "version_minor": 0
      },
      "text/plain": [
       "- ListFiles 1: 0.00 row [00:00, ? row/s]"
      ]
     },
     "metadata": {},
     "output_type": "display_data"
    },
    {
     "data": {
      "application/vnd.jupyter.widget-view+json": {
       "model_id": "8ce0f135f7044db4a1ecc154cf17fc24",
       "version_major": 2,
       "version_minor": 0
      },
      "text/plain": [
       "- ReadFiles 2: 0.00 row [00:00, ? row/s]"
      ]
     },
     "metadata": {},
     "output_type": "display_data"
    },
    {
     "data": {
      "application/vnd.jupyter.widget-view+json": {
       "model_id": "192bf1cd50e64ba1b6e100a71335f31a",
       "version_major": 2,
       "version_minor": 0
      },
      "text/plain": [
       "- Map(add_class)->Map(Preprocessor.convert_to_label) 3: 0.00 row [00:00, ? row/s]"
      ]
     },
     "metadata": {},
     "output_type": "display_data"
    },
    {
     "data": {
      "application/vnd.jupyter.widget-view+json": {
       "model_id": "538846491d7a437fb1e29d541f210ae4",
       "version_major": 2,
       "version_minor": 0
      },
      "text/plain": [
       "- MapBatches(EmbeddingGenerator) 4: 0.00 row [00:00, ? row/s]"
      ]
     },
     "metadata": {},
     "output_type": "display_data"
    },
    {
     "data": {
      "application/vnd.jupyter.widget-view+json": {
       "model_id": "c434e711eec742bdbccff40e3a23a75f",
       "version_major": 2,
       "version_minor": 0
      },
      "text/plain": [
       "- MapBatches(drop_columns)->Write 5: 0.00 row [00:00, ? row/s]"
      ]
     },
     "metadata": {},
     "output_type": "display_data"
    },
    {
     "name": "stdout",
     "output_type": "stream",
     "text": [
      "\u001b[36m(ListFiles pid=3494, ip=10.0.176.153)\u001b[0m >>> [DBG] partition_files: before: pyarrow.Table\n",
      "\u001b[36m(ListFiles pid=3494, ip=10.0.176.153)\u001b[0m __path: string\n",
      "\u001b[36m(ListFiles pid=3494, ip=10.0.176.153)\u001b[0m __file_size: int64\n",
      "\u001b[36m(ListFiles pid=3494, ip=10.0.176.153)\u001b[0m ----\n",
      "\u001b[36m(ListFiles pid=3494, ip=10.0.176.153)\u001b[0m __path: [[\"doggos-dataset/train/basset/basset_10028.jpg\",\"doggos-dataset/train/basset/basset_10054.jpg\",\"doggos-dataset/train/basset/basset_10072.jpg\",\"doggos-dataset/train/basset/basset_10095.jpg\",\"doggos-dataset/train/basset/basset_10110.jpg\",...,\"doggos-dataset/train/yorkshire_terrier/yorkshire_terrier_889.jpg\",\"doggos-dataset/train/yorkshire_terrier/yorkshire_terrier_9618.jpg\",\"doggos-dataset/train/yorkshire_terrier/yorkshire_terrier_962.jpg\",\"doggos-dataset/train/yorkshire_terrier/yorkshire_terrier_967.jpg\",\"doggos-dataset/train/yorkshire_terrier/yorkshire_terrier_9739.jpg\"]]\n",
      "\u001b[36m(ListFiles pid=3494, ip=10.0.176.153)\u001b[0m __file_size: [[56919,36417,21093,23721,12511,...,19267,43746,29862,37592,32578]]\n",
      "\u001b[36m(ListFiles pid=3494, ip=10.0.176.153)\u001b[0m >>> [DBG] partition_files: after: pyarrow.Table\n",
      "\u001b[36m(ListFiles pid=3494, ip=10.0.176.153)\u001b[0m __path: string\n",
      "\u001b[36m(ListFiles pid=3494, ip=10.0.176.153)\u001b[0m __file_size: int64\n",
      "\u001b[36m(ListFiles pid=3494, ip=10.0.176.153)\u001b[0m ----\n",
      "\u001b[36m(ListFiles pid=3494, ip=10.0.176.153)\u001b[0m __path: [[\"doggos-dataset/train/great_dane/great_dane_1480.jpg\",\"doggos-dataset/train/great_pyrenees/great_pyrenees_514.jpg\",\"doggos-dataset/train/basset/basset_10095.jpg\",\"doggos-dataset/train/chow/chow_2791.jpg\",\"doggos-dataset/train/boxer/boxer_1956.jpg\",...,\"doggos-dataset/train/collie/collie_17669.jpg\",\"doggos-dataset/train/siberian_husky/siberian_husky_6105.jpg\",\"doggos-dataset/train/chow/chow_2619.jpg\",\"doggos-dataset/train/great_pyrenees/great_pyrenees_2746.jpg\",\"doggos-dataset/train/great_pyrenees/great_pyrenees_648.jpg\"]]\n",
      "\u001b[36m(ListFiles pid=3494, ip=10.0.176.153)\u001b[0m __file_size: [[34186,64776,23721,34502,25504,...,61735,32866,27854,50452,27392]]\n"
     ]
    },
    {
     "name": "stderr",
     "output_type": "stream",
     "text": [
      "2025-04-02 18:29:09,362\tINFO dataset.py:4178 -- Data sink Parquet finished. 2880 rows and 5.9MB data written.\n",
      "2025-04-02 18:29:09,589\tINFO streaming_executor.py:108 -- Starting execution of Dataset. Full logs are in /tmp/ray/session_2025-04-02_17-14-18_653275_2278/logs/ray-data\n",
      "2025-04-02 18:29:09,590\tINFO streaming_executor.py:109 -- Execution plan of Dataset: InputDataBuffer[Input] -> TaskPoolMapOperator[ListFiles] -> TaskPoolMapOperator[ReadFiles] -> TaskPoolMapOperator[Map(add_class)->Map(Preprocessor.convert_to_label)] -> ActorPoolMapOperator[MapBatches(EmbeddingGenerator)] -> TaskPoolMapOperator[MapBatches(drop_columns)->Write]\n"
     ]
    },
    {
     "data": {
      "application/vnd.jupyter.widget-view+json": {
       "model_id": "5fde2124f65a46fc8689e941797f1872",
       "version_major": 2,
       "version_minor": 0
      },
      "text/plain": [
       "Running 0: 0.00 row [00:00, ? row/s]"
      ]
     },
     "metadata": {},
     "output_type": "display_data"
    },
    {
     "data": {
      "application/vnd.jupyter.widget-view+json": {
       "model_id": "567e99efc19e44a6a164ed6ceb35b420",
       "version_major": 2,
       "version_minor": 0
      },
      "text/plain": [
       "- ListFiles 1: 0.00 row [00:00, ? row/s]"
      ]
     },
     "metadata": {},
     "output_type": "display_data"
    },
    {
     "data": {
      "application/vnd.jupyter.widget-view+json": {
       "model_id": "4f18102f9b45423fb3694d633625bc7d",
       "version_major": 2,
       "version_minor": 0
      },
      "text/plain": [
       "- ReadFiles 2: 0.00 row [00:00, ? row/s]"
      ]
     },
     "metadata": {},
     "output_type": "display_data"
    },
    {
     "data": {
      "application/vnd.jupyter.widget-view+json": {
       "model_id": "2c85e37323fc4aeb809d196c1b5adbc9",
       "version_major": 2,
       "version_minor": 0
      },
      "text/plain": [
       "- Map(add_class)->Map(Preprocessor.convert_to_label) 3: 0.00 row [00:00, ? row/s]"
      ]
     },
     "metadata": {},
     "output_type": "display_data"
    },
    {
     "data": {
      "application/vnd.jupyter.widget-view+json": {
       "model_id": "083b10a3733a4b9f81eef1cf70fced58",
       "version_major": 2,
       "version_minor": 0
      },
      "text/plain": [
       "- MapBatches(EmbeddingGenerator) 4: 0.00 row [00:00, ? row/s]"
      ]
     },
     "metadata": {},
     "output_type": "display_data"
    },
    {
     "data": {
      "application/vnd.jupyter.widget-view+json": {
       "model_id": "25371d1e6bdd4c1c94293ad6b5b44908",
       "version_major": 2,
       "version_minor": 0
      },
      "text/plain": [
       "- MapBatches(drop_columns)->Write 5: 0.00 row [00:00, ? row/s]"
      ]
     },
     "metadata": {},
     "output_type": "display_data"
    },
    {
     "name": "stderr",
     "output_type": "stream",
     "text": [
      "2025-04-02 18:29:26,381\tINFO dataset.py:4178 -- Data sink Parquet finished. 720 rows and 1.5MB data written.\n"
     ]
    }
   ],
   "source": [
    "# Write processed data to cloud storage\n",
    "preprocessed_data_path = os.path.join(\n",
    "    os.getenv(\"ANYSCALE_ARTIFACT_STORAGE\", \"\"), \n",
    "    os.getenv(\"ANYSCALE_USERNAME\", \"\").replace(\" \", \"_\"), \n",
    "    \"doggos/preprocessed_data\",\n",
    ")\n",
    "delete_s3_objects(s3_path=preprocessed_data_path)\n",
    "preprocessed_train_path = os.path.join(preprocessed_data_path, \"preprocessed_train\")\n",
    "preprocessed_val_path = os.path.join(preprocessed_data_path, \"preprocessed_val\")\n",
    "train_ds.write_parquet(preprocessed_train_path)\n",
    "val_ds.write_parquet(preprocessed_val_path)"
   ]
  },
  {
   "cell_type": "markdown",
   "metadata": {},
   "source": [
    "### Model"
   ]
  },
  {
   "cell_type": "markdown",
   "metadata": {},
   "source": [
    "Let's define our model -- a simple two layer neural net with softmax layer to predict class probabilities. You'll notice that it's all just base PyTorch and nothing else."
   ]
  },
  {
   "cell_type": "code",
   "execution_count": null,
   "metadata": {},
   "outputs": [],
   "source": [
    "import json\n",
    "from pathlib import Path\n",
    "import torch\n",
    "import torch.nn as nn\n",
    "import torch.nn.functional as F"
   ]
  },
  {
   "cell_type": "code",
   "execution_count": null,
   "metadata": {},
   "outputs": [],
   "source": [
    "class ClassificationModel(torch.nn.Module):\n",
    "    def __init__(self, embedding_dim, hidden_dim, dropout_p, num_classes):\n",
    "        super().__init__()\n",
    "        # Hyperparameters\n",
    "        self.embedding_dim = embedding_dim\n",
    "        self.hidden_dim = hidden_dim\n",
    "        self.dropout_p = dropout_p\n",
    "        self.num_classes = num_classes\n",
    "\n",
    "        # Define layers\n",
    "        self.fc1 = nn.Linear(embedding_dim, hidden_dim)\n",
    "        self.batch_norm = nn.BatchNorm1d(hidden_dim)\n",
    "        self.relu = nn.ReLU()\n",
    "        self.dropout = nn.Dropout(dropout_p)\n",
    "        self.fc2 = nn.Linear(hidden_dim, num_classes)\n",
    "\n",
    "    def forward(self, batch):\n",
    "        z = self.fc1(batch[\"embedding\"])\n",
    "        z = self.batch_norm(z)\n",
    "        z = self.relu(z)\n",
    "        z = self.dropout(z)\n",
    "        z = self.fc2(z)\n",
    "        return z\n",
    "\n",
    "    @torch.inference_mode()\n",
    "    def predict(self, batch):\n",
    "        z = self(batch)\n",
    "        y_pred = torch.argmax(z, dim=1).cpu().numpy()\n",
    "        return y_pred\n",
    "\n",
    "    @torch.inference_mode()\n",
    "    def predict_probabilities(self, batch):\n",
    "        z = self(batch)\n",
    "        y_probs = F.softmax(z, dim=1).cpu().numpy()\n",
    "        return y_probs\n",
    "\n",
    "    def save(self, dp):\n",
    "        Path(dp).mkdir(parents=True, exist_ok=True)\n",
    "        with open(Path(dp, \"args.json\"), \"w\") as fp:\n",
    "            json.dump({\n",
    "                \"embedding_dim\": self.embedding_dim,\n",
    "                \"hidden_dim\": self.hidden_dim,\n",
    "                \"dropout_p\": self.dropout_p,\n",
    "                \"num_classes\": self.num_classes,\n",
    "            }, fp, indent=4)\n",
    "        torch.save(self.state_dict(), Path(dp, \"model.pt\"))\n",
    "\n",
    "    @classmethod\n",
    "    def load(cls, args_fp, state_dict_fp, device=\"cpu\"):\n",
    "        with open(args_fp, \"r\") as fp:\n",
    "            model = cls(**json.load(fp))\n",
    "        model.load_state_dict(torch.load(state_dict_fp, map_location=device))\n",
    "        return model"
   ]
  },
  {
   "cell_type": "code",
   "execution_count": null,
   "metadata": {},
   "outputs": [
    {
     "name": "stdout",
     "output_type": "stream",
     "text": [
      "<bound method Module.named_parameters of ClassificationModel(\n",
      "  (fc1): Linear(in_features=512, out_features=256, bias=True)\n",
      "  (batch_norm): BatchNorm1d(256, eps=1e-05, momentum=0.1, affine=True, track_running_stats=True)\n",
      "  (relu): ReLU()\n",
      "  (dropout): Dropout(p=0.3, inplace=False)\n",
      "  (fc2): Linear(in_features=256, out_features=36, bias=True)\n",
      ")>\n"
     ]
    }
   ],
   "source": [
    "# Initialize model\n",
    "num_classes = len(preprocessor.classes)\n",
    "model = ClassificationModel(\n",
    "    embedding_dim=512, \n",
    "    hidden_dim=256, \n",
    "    dropout_p=0.3, \n",
    "    num_classes=num_classes,\n",
    ")\n",
    "print (model.named_parameters)"
   ]
  },
  {
   "cell_type": "markdown",
   "metadata": {},
   "source": [
    "### Batching"
   ]
  },
  {
   "cell_type": "markdown",
   "metadata": {},
   "source": [
    "Let's take a look at a sample batch of data and ensure that tensors of the proper data type."
   ]
  },
  {
   "cell_type": "code",
   "execution_count": null,
   "metadata": {},
   "outputs": [],
   "source": [
    "from ray.train.torch import get_device"
   ]
  },
  {
   "cell_type": "code",
   "execution_count": null,
   "metadata": {},
   "outputs": [],
   "source": [
    "def collate_fn(batch):\n",
    "    dtypes = {\"embedding\": torch.float32, \"label\": torch.int64}\n",
    "    tensor_batch = {}\n",
    "    for key in dtypes.keys():\n",
    "        if key in batch:\n",
    "            tensor_batch[key] = torch.as_tensor(\n",
    "                batch[key],\n",
    "                dtype=dtypes[key],\n",
    "                device=get_device(),\n",
    "            )\n",
    "    return tensor_batch"
   ]
  },
  {
   "cell_type": "code",
   "execution_count": null,
   "metadata": {},
   "outputs": [
    {
     "name": "stderr",
     "output_type": "stream",
     "text": [
      "2025-04-02 18:29:28,454\tINFO streaming_executor.py:108 -- Starting execution of Dataset. Full logs are in /tmp/ray/session_2025-04-02_17-14-18_653275_2278/logs/ray-data\n",
      "2025-04-02 18:29:28,455\tINFO streaming_executor.py:109 -- Execution plan of Dataset: InputDataBuffer[Input] -> TaskPoolMapOperator[ListFiles] -> TaskPoolMapOperator[ReadFiles] -> TaskPoolMapOperator[Map(add_class)->Map(Preprocessor.convert_to_label)] -> ActorPoolMapOperator[MapBatches(EmbeddingGenerator)] -> TaskPoolMapOperator[MapBatches(drop_columns)] -> LimitOperator[limit=3]\n"
     ]
    },
    {
     "data": {
      "application/vnd.jupyter.widget-view+json": {
       "model_id": "f15cef7d4f484841b58c8ebd0ea1c2dc",
       "version_major": 2,
       "version_minor": 0
      },
      "text/plain": [
       "Running 0: 0.00 row [00:00, ? row/s]"
      ]
     },
     "metadata": {},
     "output_type": "display_data"
    },
    {
     "data": {
      "application/vnd.jupyter.widget-view+json": {
       "model_id": "007ded79c9294d548fbb39a855a703cb",
       "version_major": 2,
       "version_minor": 0
      },
      "text/plain": [
       "- ListFiles 1: 0.00 row [00:00, ? row/s]"
      ]
     },
     "metadata": {},
     "output_type": "display_data"
    },
    {
     "data": {
      "application/vnd.jupyter.widget-view+json": {
       "model_id": "b563679a68274357b429f809717e2eeb",
       "version_major": 2,
       "version_minor": 0
      },
      "text/plain": [
       "- ReadFiles 2: 0.00 row [00:00, ? row/s]"
      ]
     },
     "metadata": {},
     "output_type": "display_data"
    },
    {
     "data": {
      "application/vnd.jupyter.widget-view+json": {
       "model_id": "1253eac5df8a430fa915f053b40d6c7f",
       "version_major": 2,
       "version_minor": 0
      },
      "text/plain": [
       "- Map(add_class)->Map(Preprocessor.convert_to_label) 3: 0.00 row [00:00, ? row/s]"
      ]
     },
     "metadata": {},
     "output_type": "display_data"
    },
    {
     "data": {
      "application/vnd.jupyter.widget-view+json": {
       "model_id": "2fe8afb8d684460386ec63029a128c6d",
       "version_major": 2,
       "version_minor": 0
      },
      "text/plain": [
       "- MapBatches(EmbeddingGenerator) 4: 0.00 row [00:00, ? row/s]"
      ]
     },
     "metadata": {},
     "output_type": "display_data"
    },
    {
     "data": {
      "application/vnd.jupyter.widget-view+json": {
       "model_id": "c4574e69165f434da88a9eb1c7453823",
       "version_major": 2,
       "version_minor": 0
      },
      "text/plain": [
       "- MapBatches(drop_columns) 5: 0.00 row [00:00, ? row/s]"
      ]
     },
     "metadata": {},
     "output_type": "display_data"
    },
    {
     "data": {
      "application/vnd.jupyter.widget-view+json": {
       "model_id": "e4137e1749de483ea238855f8c5791c8",
       "version_major": 2,
       "version_minor": 0
      },
      "text/plain": [
       "- limit=3 6: 0.00 row [00:00, ? row/s]"
      ]
     },
     "metadata": {},
     "output_type": "display_data"
    },
    {
     "name": "stdout",
     "output_type": "stream",
     "text": [
      "\u001b[36m(ListFiles pid=3508, ip=10.0.176.153)\u001b[0m >>> [DBG] partition_files: before: pyarrow.Table\n",
      "\u001b[36m(ListFiles pid=3508, ip=10.0.176.153)\u001b[0m __path: string\n",
      "\u001b[36m(ListFiles pid=3508, ip=10.0.176.153)\u001b[0m __file_size: int64\n",
      "\u001b[36m(ListFiles pid=3508, ip=10.0.176.153)\u001b[0m ----\n",
      "\u001b[36m(ListFiles pid=3508, ip=10.0.176.153)\u001b[0m __path: [[\"doggos-dataset/train/basset/basset_10028.jpg\",\"doggos-dataset/train/basset/basset_10054.jpg\",\"doggos-dataset/train/basset/basset_10072.jpg\",\"doggos-dataset/train/basset/basset_10095.jpg\",\"doggos-dataset/train/basset/basset_10110.jpg\",...,\"doggos-dataset/train/yorkshire_terrier/yorkshire_terrier_889.jpg\",\"doggos-dataset/train/yorkshire_terrier/yorkshire_terrier_9618.jpg\",\"doggos-dataset/train/yorkshire_terrier/yorkshire_terrier_962.jpg\",\"doggos-dataset/train/yorkshire_terrier/yorkshire_terrier_967.jpg\",\"doggos-dataset/train/yorkshire_terrier/yorkshire_terrier_9739.jpg\"]]\n",
      "\u001b[36m(ListFiles pid=3508, ip=10.0.176.153)\u001b[0m __file_size: [[56919,36417,21093,23721,12511,...,19267,43746,29862,37592,32578]]\n",
      "\u001b[36m(ListFiles pid=3508, ip=10.0.176.153)\u001b[0m >>> [DBG] partition_files: after: pyarrow.Table\n",
      "\u001b[36m(ListFiles pid=3508, ip=10.0.176.153)\u001b[0m __path: string\n",
      "\u001b[36m(ListFiles pid=3508, ip=10.0.176.153)\u001b[0m __file_size: int64\n",
      "\u001b[36m(ListFiles pid=3508, ip=10.0.176.153)\u001b[0m ----\n",
      "\u001b[36m(ListFiles pid=3508, ip=10.0.176.153)\u001b[0m __path: [[\"doggos-dataset/train/basset/basset_9446.jpg\",\"doggos-dataset/train/border_collie/border_collie_7105.jpg\",\"doggos-dataset/train/bull_mastiff/bull_mastiff_2379.jpg\",\"doggos-dataset/train/siberian_husky/siberian_husky_11396.jpg\",\"doggos-dataset/train/saint_bernard/saint_bernard_13804.jpg\",...,\"doggos-dataset/train/french_bulldog/french_bulldog_2545.jpg\",\"doggos-dataset/train/chihuahua/chihuahua_2921.jpg\",\"doggos-dataset/train/tibetan_mastiff/tibetan_mastiff_1553.jpg\",\"doggos-dataset/train/great_pyrenees/great_pyrenees_7202.jpg\",\"doggos-dataset/train/cocker_spaniel/cocker_spaniel_3269.jpg\"]]\n",
      "\u001b[36m(ListFiles pid=3508, ip=10.0.176.153)\u001b[0m __file_size: [[29061,43731,33337,18786,33637,...,112357,8689,31468,40533,40834]]\n"
     ]
    },
    {
     "name": "stderr",
     "output_type": "stream",
     "text": [
      "/tmp/ipykernel_15087/3214280880.py:6: UserWarning: The given NumPy array is not writable, and PyTorch does not support non-writable tensors. This means writing to this tensor will result in undefined behavior. You may want to copy the array to protect its data or make it writable before converting it to a tensor. This type of warning will be suppressed for the rest of this program. (Triggered internally at ../torch/csrc/utils/tensor_numpy.cpp:206.)\n",
      "  tensor_batch[key] = torch.as_tensor(\n"
     ]
    },
    {
     "data": {
      "text/plain": [
       "{'embedding': tensor([[-0.0251,  0.5316, -0.1216,  ...,  0.9258,  0.3328,  0.1347],\n",
       "         [ 0.0257, -0.1513, -0.0980,  ...,  0.6236,  0.3261, -0.3017],\n",
       "         [ 0.2110,  0.5755, -0.1381,  ...,  0.9099,  0.3310,  0.1828]]),\n",
       " 'label': tensor([ 1, 29, 13])}"
      ]
     },
     "execution_count": null,
     "metadata": {},
     "output_type": "execute_result"
    }
   ],
   "source": [
    "# Sample batch\n",
    "sample_batch = train_ds.take_batch(batch_size=3)\n",
    "collate_fn(batch=sample_batch)"
   ]
  },
  {
   "cell_type": "markdown",
   "metadata": {},
   "source": [
    "### Model registry"
   ]
  },
  {
   "cell_type": "markdown",
   "metadata": {},
   "source": [
    "We'll be creating a model registry in our [Anyscale user storage](https://docs.anyscale.com/configuration/storage/#user-storage) to save our model checkpoints to. We'll be using OSS mlflow but we can easily [set up other experiment trackers](https://docs.ray.io/en/latest/train/user-guides/experiment-tracking.html) with Ray."
   ]
  },
  {
   "cell_type": "code",
   "execution_count": null,
   "metadata": {},
   "outputs": [],
   "source": [
    "import shutil"
   ]
  },
  {
   "cell_type": "code",
   "execution_count": null,
   "metadata": {},
   "outputs": [],
   "source": [
    "model_registry = \"/mnt/user_storage/mlflow/doggos\"\n",
    "os.path.isdir(model_registry) and shutil.rmtree(model_registry)  # clean up\n",
    "os.makedirs(model_registry, exist_ok=True)"
   ]
  },
  {
   "cell_type": "markdown",
   "metadata": {},
   "source": [
    "### Training"
   ]
  },
  {
   "cell_type": "markdown",
   "metadata": {},
   "source": [
    "We'll define our training workload by specifying our:\n",
    "- experiment and model parameters\n",
    "- compute scaling configuration\n",
    "- forward pass for batches of training and validation data\n",
    "- train loop for each epoch of data (and checkpointing)\n",
    "\n",
    "<img src=\"https://raw.githubusercontent.com/anyscale/foundational-ray-app/refs/heads/main/images/trainer.png\" width=500>"
   ]
  },
  {
   "cell_type": "code",
   "execution_count": null,
   "metadata": {},
   "outputs": [],
   "source": [
    "# Train loop config\n",
    "experiment_name = \"doggos\"\n",
    "train_loop_config = {\n",
    "    \"model_registry\": model_registry,\n",
    "    \"experiment_name\": experiment_name,\n",
    "    \"embedding_dim\": 512,\n",
    "    \"hidden_dim\": 256,\n",
    "    \"dropout_p\": 0.3,\n",
    "    \"lr\": 1e-3,\n",
    "    \"lr_factor\": 0.8,\n",
    "    \"lr_patience\": 3,\n",
    "    \"num_epochs\": 20,\n",
    "    \"batch_size\": 256,\n",
    "}"
   ]
  },
  {
   "cell_type": "code",
   "execution_count": null,
   "metadata": {},
   "outputs": [],
   "source": [
    "# Scaling config\n",
    "num_workers = 4\n",
    "scaling_config = ray.train.ScalingConfig(\n",
    "    num_workers=num_workers,\n",
    "    use_gpu=True,\n",
    "    resources_per_worker={\"CPU\": 8, \"GPU\": 1})"
   ]
  },
  {
   "cell_type": "code",
   "execution_count": null,
   "metadata": {},
   "outputs": [],
   "source": [
    "import tempfile\n",
    "import mlflow\n",
    "import numpy as np\n",
    "from ray.train.torch import TorchTrainer"
   ]
  },
  {
   "cell_type": "code",
   "execution_count": null,
   "metadata": {},
   "outputs": [],
   "source": [
    "def train_step(ds, batch_size, model, num_classes, loss_fn, optimizer):\n",
    "    model.train()\n",
    "    loss = 0.0\n",
    "    ds_generator = ds.iter_torch_batches(batch_size=batch_size, collate_fn=collate_fn)\n",
    "    for i, batch in enumerate(ds_generator):\n",
    "        optimizer.zero_grad()  # reset gradients\n",
    "        z = model(batch)  # forward pass\n",
    "        targets = F.one_hot(batch[\"label\"], num_classes=num_classes).float()\n",
    "        J = loss_fn(z, targets)  # define loss\n",
    "        J.backward()  # backward pass\n",
    "        optimizer.step()  # update weights\n",
    "        loss += (J.detach().item() - loss) / (i + 1)  # cumulative loss\n",
    "    return loss"
   ]
  },
  {
   "cell_type": "code",
   "execution_count": null,
   "metadata": {},
   "outputs": [],
   "source": [
    "def eval_step(ds, batch_size, model, num_classes, loss_fn):\n",
    "    model.eval()\n",
    "    loss = 0.0\n",
    "    y_trues, y_preds = [], []\n",
    "    ds_generator = ds.iter_torch_batches(batch_size=batch_size, collate_fn=collate_fn)\n",
    "    with torch.inference_mode():\n",
    "        for i, batch in enumerate(ds_generator):\n",
    "            z = model(batch)\n",
    "            targets = F.one_hot(batch[\"label\"], num_classes=num_classes).float()  # one-hot (for loss_fn)\n",
    "            J = loss_fn(z, targets).item()\n",
    "            loss += (J - loss) / (i + 1)\n",
    "            y_trues.extend(batch[\"label\"].cpu().numpy())\n",
    "            y_preds.extend(torch.argmax(z, dim=1).cpu().numpy())\n",
    "    return loss, np.vstack(y_trues), np.vstack(y_preds)"
   ]
  },
  {
   "cell_type": "code",
   "execution_count": null,
   "metadata": {},
   "outputs": [],
   "source": [
    "def train_loop_per_worker(config):\n",
    "    # Hyperparameters\n",
    "    model_registry = config[\"model_registry\"]\n",
    "    experiment_name = config[\"experiment_name\"]\n",
    "    embedding_dim = config[\"embedding_dim\"]\n",
    "    hidden_dim = config[\"hidden_dim\"]\n",
    "    dropout_p = config[\"dropout_p\"]\n",
    "    lr = config[\"lr\"]\n",
    "    lr_factor = config[\"lr_factor\"]\n",
    "    lr_patience = config[\"lr_patience\"]\n",
    "    num_epochs = config[\"num_epochs\"]\n",
    "    batch_size = config[\"batch_size\"]\n",
    "    num_classes = config[\"num_classes\"]\n",
    "\n",
    "    # Experiment tracking\n",
    "    if ray.train.get_context().get_world_rank() == 0:\n",
    "        mlflow.set_tracking_uri(f\"file:{model_registry}\")\n",
    "        mlflow.set_experiment(experiment_name)\n",
    "        mlflow.start_run()\n",
    "        mlflow.log_params(config)\n",
    "\n",
    "    # Datasets\n",
    "    train_ds = ray.train.get_dataset_shard(\"train\")\n",
    "    val_ds = ray.train.get_dataset_shard(\"val\")\n",
    "\n",
    "    # Model\n",
    "    model = ClassificationModel(\n",
    "        embedding_dim=embedding_dim, \n",
    "        hidden_dim=hidden_dim, \n",
    "        dropout_p=dropout_p, \n",
    "        num_classes=num_classes,\n",
    "    )\n",
    "    model = ray.train.torch.prepare_model(model)\n",
    "\n",
    "    # Training components\n",
    "    loss_fn = torch.nn.CrossEntropyLoss()\n",
    "    optimizer = torch.optim.Adam(model.parameters(), lr=lr)\n",
    "    scheduler = torch.optim.lr_scheduler.ReduceLROnPlateau(\n",
    "        optimizer, \n",
    "        mode=\"min\", \n",
    "        factor=lr_factor, \n",
    "        patience=lr_patience,\n",
    "    )\n",
    "\n",
    "    # Training\n",
    "    best_val_loss = float(\"inf\")\n",
    "    for epoch in range(num_epochs):\n",
    "        # Steps\n",
    "        train_loss = train_step(train_ds, batch_size, model, num_classes, loss_fn, optimizer)\n",
    "        val_loss, _, _ = eval_step(val_ds, batch_size, model, num_classes, loss_fn)\n",
    "        scheduler.step(val_loss)\n",
    "\n",
    "        # Checkpoint (metrics, preprocessor and model artifacts)\n",
    "        with tempfile.TemporaryDirectory() as dp:\n",
    "            model.module.save(dp=dp)\n",
    "            metrics = dict(lr=optimizer.param_groups[0][\"lr\"], train_loss=train_loss, val_loss=val_loss)\n",
    "            with open(os.path.join(dp, \"class_to_label.json\"), \"w\") as fp:\n",
    "                json.dump(config[\"class_to_label\"], fp, indent=4)\n",
    "            if ray.train.get_context().get_world_rank() == 0:  # only on main worker 0\n",
    "                mlflow.log_metrics(metrics, step=epoch)\n",
    "                if val_loss < best_val_loss:\n",
    "                    best_val_loss = val_loss\n",
    "                    mlflow.log_artifacts(dp)\n",
    "\n",
    "    # End experiment tracking\n",
    "    if ray.train.get_context().get_world_rank() == 0:\n",
    "        mlflow.end_run()"
   ]
  },
  {
   "cell_type": "markdown",
   "metadata": {},
   "source": [
    "<div class=\"alert alert-block alert\"> <b> Minimal change to your training code</b> \n",
    "\n",
    "You'll notice that there isn't much new Ray Train code on top of our base PyTorch code. We specified how we want to scale out our training workload, load the Ray datasets and then checkpoint on our main worker node... and that's it! Check out these guides ([PyTorch](https://docs.ray.io/en/latest/train/getting-started-pytorch.html), [PyTorch Lightning](https://docs.ray.io/en/latest/train/getting-started-pytorch-lightning.html), [HuggingFace Transformers](https://docs.ray.io/en/latest/train/getting-started-transformers.html)) to see the minimal delta code needed to distribute our training workloads and check out this extensive list of [Ray Train user guides](https://docs.ray.io/en/latest/train/user-guides.html)."
   ]
  },
  {
   "cell_type": "code",
   "execution_count": null,
   "metadata": {},
   "outputs": [],
   "source": [
    "# Load preprocessed datasets\n",
    "preprocessed_train_ds = ray.data.read_parquet(preprocessed_train_path)\n",
    "preprocessed_val_ds = ray.data.read_parquet(preprocessed_val_path)"
   ]
  },
  {
   "cell_type": "code",
   "execution_count": null,
   "metadata": {},
   "outputs": [],
   "source": [
    "# Trainer\n",
    "train_loop_config[\"class_to_label\"] = preprocessor.class_to_label\n",
    "train_loop_config[\"num_classes\"] = len(preprocessor.class_to_label)\n",
    "trainer = TorchTrainer(\n",
    "    train_loop_per_worker=train_loop_per_worker,\n",
    "    train_loop_config=train_loop_config,\n",
    "    scaling_config=scaling_config,\n",
    "    datasets={\"train\": preprocessed_train_ds, \"val\": preprocessed_val_ds},\n",
    ")"
   ]
  },
  {
   "cell_type": "markdown",
   "metadata": {},
   "source": [
    "<div class=\"alert alert-block alert\"> <b> Ray Train</b> \n",
    "\n",
    "**🎛️ Multi-node orchestration made easy**\n",
    "\n",
    "- Ray Train automatically handles multi-node, multi-GPU setup with no manual SSH setup or hostfile configs. \n",
    "- And it also integrates with Ray's cluster launcher for cloud (AWS, GCP, K8s) and on-prem clusters. \n",
    "- Solutions like PyTorch DDP require manually setting up your own process group, ranks, networking, etc.\n",
    "\n",
    "**🩹 2. Built-in fault tolerance**\n",
    "- Ray Train supports automatic retry of failed workers.\n",
    "- and can continue training from the last checkpoint in case of failure.\n",
    "\n",
    "\n",
    "**✂️ 3. Flexible training strategies** (not just DDP)\n",
    "- Ray Train supports Data Parallel, Model Parallel, Parameter Server, and even custom strategies.\n",
    "- You can also use Torch DDP, FSPD, DeepSpeed, etc. under the hood if you want.\n",
    "- [Ray Compiled graphs](https://docs.ray.io/en/latest/ray-core/compiled-graph/ray-compiled-graph.html) allow us to even define different parallelism for jointly optimizing multipe models (Megatron, Deepspeed, etc. only allow for one global setting).\n",
    "\n",
    "**🔥 Better support for heterogeneous clusters**\n",
    "- Ray Train lets you define per-worker resource requirements (e.g., 2 CPUs, 1 GPU per worker).\n",
    "- and can run on heterogeneous machines and scale flexibly.\n",
    "\n",
    "**🌍 Integrations**\n",
    "\n",
    "<img src=\"https://raw.githubusercontent.com/anyscale/foundational-ray-app/refs/heads/main/images/train_integrations.png\" width=500>\n",
    "\n",
    "[RayTurbo Train](https://docs.anyscale.com/rayturbo/generated/rayturbo-train) offers even more improvement to the price-performance ratio, performance monitoring and more:\n",
    "- **elastic training** to ccale to a dynamic number of workers, continue training on fewer resources (even on spot instances).\n",
    "- **purpose-built dashboard** designed to streamline the debugging of Ray Train workloads\n",
    "    - Monitoring: View the status of training runs and train workers.\n",
    "    - Metrics: See insights on training throughput, training system operation time.\n",
    "    - Profiling: Investigate bottlenecks, hangs, or errors from individual training worker processes.\n",
    "\n",
    "<img src=\"https://raw.githubusercontent.com/anyscale/foundational-ray-app/refs/heads/main/images/train_dashboard.png\" width=700>"
   ]
  },
  {
   "cell_type": "code",
   "execution_count": null,
   "metadata": {},
   "outputs": [],
   "source": [
    "# Train\n",
    "results = trainer.fit()"
   ]
  },
  {
   "cell_type": "markdown",
   "metadata": {},
   "source": [
    "We can view our experiment metrics and model artifacts in our model registry. We're using OSS mlflow so we can run the server by pointing to our model registry location:\n",
    "\n",
    "```bash\n",
    "mlflow server -h 0.0.0.0 -p 8080 --backend-store-uri /mnt/user_storage/mlflow/doggos\n",
    "```\n",
    "\n",
    "We can view the dashboard by going to the **Overview tab** up top → **Open Ports**. \n",
    "\n",
    "<img src=\"https://raw.githubusercontent.com/anyscale/foundational-ray-app/refs/heads/main/images/mlflow.png\" width=685>\n",
    "\n",
    "We also have our Ray Dashboard and Train workfload specific dashboards above. \n",
    "\n",
    "<img src=\"https://raw.githubusercontent.com/anyscale/foundational-ray-app/refs/heads/main/images/train_metrics.png\" width=700>\n"
   ]
  },
  {
   "cell_type": "code",
   "execution_count": null,
   "metadata": {},
   "outputs": [
    {
     "data": {
      "text/plain": [
       "run_id                                      522d5709bf9d4269ad1f7045ba5a1ddc\n",
       "experiment_id                                             353495717340030283\n",
       "status                                                              FINISHED\n",
       "artifact_uri               file:///mnt/user_storage/mlflow/doggos/3534957...\n",
       "start_time                                  2025-04-02 18:32:11.738000+00:00\n",
       "end_time                                    2025-04-02 18:32:41.704000+00:00\n",
       "metrics.lr                                                             0.001\n",
       "metrics.train_loss                                                  0.348422\n",
       "metrics.val_loss                                                    0.653389\n",
       "params.num_classes                                                        36\n",
       "params.lr_factor                                                         0.8\n",
       "params.lr                                                              0.001\n",
       "params.dropout_p                                                         0.3\n",
       "params.batch_size                                                        256\n",
       "params.num_epochs                                                         20\n",
       "params.model_registry                        /mnt/user_storage/mlflow/doggos\n",
       "params.experiment_name                                                doggos\n",
       "params.class_to_label      {'maltese_dog': 0, 'shih_tzu': 1, 'saint_berna...\n",
       "params.lr_patience                                                         3\n",
       "params.embedding_dim                                                     512\n",
       "params.hidden_dim                                                        256\n",
       "tags.mlflow.source.type                                                LOCAL\n",
       "tags.mlflow.runName                                      legendary-zebra-909\n",
       "tags.mlflow.source.name    /home/ray/anaconda3/lib/python3.12/site-packag...\n",
       "tags.mlflow.user                                                         ray\n",
       "Name: 0, dtype: object"
      ]
     },
     "execution_count": null,
     "metadata": {},
     "output_type": "execute_result"
    }
   ],
   "source": [
    "# Sorted runs\n",
    "mlflow.set_tracking_uri(f\"file:{model_registry}\")\n",
    "sorted_runs = mlflow.search_runs(\n",
    "    experiment_names=[experiment_name], \n",
    "    order_by=[\"metrics.val_loss ASC\"])\n",
    "best_run = sorted_runs.iloc[0]\n",
    "best_run"
   ]
  },
  {
   "cell_type": "markdown",
   "metadata": {},
   "source": [
    "And we can easily wrap our training workload as a production grade [Anyscale Job](https://docs.anyscale.com/platform/jobs/) ([API ref](https://docs.anyscale.com/reference/job-api/))\n",
    "\n",
    "**Note**: \n",
    "- we're using a `containerfile` to define our dependencies, but we could easily use a pre-built image as well.\n",
    "- we can specify the compute as a [compute config](https://docs.anyscale.com/configuration/compute-configuration/) or inline in a [job config](https://docs.anyscale.com/reference/job-api#job-cli) file.\n",
    "- when we don't specify compute and when launching from a workspace, this defaults to the compute configuration of the Workspace."
   ]
  },
  {
   "cell_type": "code",
   "execution_count": null,
   "metadata": {},
   "outputs": [
    {
     "name": "stderr",
     "output_type": "stream",
     "text": [
      "Output\n",
      "(anyscale +0.8s) Submitting job with config JobConfig(name='train-doggos-model', image_uri=None, compute_config=ComputeConfig(cloud='anyscale_v2_default_cloud'), env_vars=None, py_modules=None, py_executable=None, cloud=None, project=None, ray_version=None, job_queue_config=None).\n",
      "(anyscale +1.4s) Created compute config: 'compute-v1-038176bbd05fe5f40d47c502a03ae789:1'\n",
      "(anyscale +1.4s) View the compute config in the UI: 'https://console.anyscale.com/v2/cld_kvedZWag2qA8i5BjxUevf5i7/compute-configs/cpt_wmtzjwgcli4ftbuveyuujqtg4b'\n",
      "(anyscale +2.4s) Uploading local dir '/home/ray/default' to cloud storage.\n",
      "(anyscale +3.3s) Including workspace-managed pip dependencies.\n",
      "(anyscale +3.7s) Job 'train-doggos-model' submitted, ID: 'prodjob_a9sg2ernkhnr62vklzdx39unm8'.\n",
      "(anyscale +3.7s) View the job in the UI: https://console.anyscale.com/jobs/prodjob_a9sg2ernkhnr62vklzdx39unm8\n",
      "(anyscale +3.7s) Use `--wait` to wait for the job to run and stream logs.\n"
     ]
    }
   ],
   "source": [
    "%%bash\n",
    "# Production batch job\n",
    "anyscale job submit --name=train-doggos-model \\\n",
    "  --containerfile=\"/home/ray/default/containerfile\" \\\n",
    "  --working-dir=\"/home/ray/default\" \\\n",
    "  --exclude=\"\" \\\n",
    "  --max-retries=0 \\\n",
    "  -- python doggos/train.py"
   ]
  },
  {
   "cell_type": "markdown",
   "metadata": {},
   "source": [
    "<img src=\"https://raw.githubusercontent.com/anyscale/foundational-ray-app/refs/heads/main/images/train_job.png\" width=700>"
   ]
  },
  {
   "cell_type": "markdown",
   "metadata": {},
   "source": [
    "### Evaluation"
   ]
  },
  {
   "cell_type": "markdown",
   "metadata": {},
   "source": [
    "We'll conclude by evaluating our trained model on our test dataset. Evaluation is essentially just the same as our batch inference workload -- where we'll apply the model on batches of data and then calculate metrics using the predictions vs.true labels. Ray data is hyper optimized for throughput so preserving order is not a priority. But for evaluation, this is crucial! So we'll achieve this by preserving the entire row and adding the predicted label as another column to each row."
   ]
  },
  {
   "cell_type": "code",
   "execution_count": null,
   "metadata": {},
   "outputs": [],
   "source": [
    "from urllib.parse import urlparse\n",
    "from sklearn.metrics import multilabel_confusion_matrix"
   ]
  },
  {
   "cell_type": "code",
   "execution_count": null,
   "metadata": {},
   "outputs": [],
   "source": [
    "class TorchPredictor:\n",
    "    def __init__(self, preprocessor, model):\n",
    "        self.preprocessor = preprocessor\n",
    "        self.model = model\n",
    "        self.model.eval()\n",
    "\n",
    "    def __call__(self, batch, device=\"cuda\"):\n",
    "        self.model.to(device)\n",
    "        batch[\"prediction\"] = self.model.predict(collate_fn(batch))\n",
    "        return batch\n",
    "\n",
    "    def predict_probabilities(self, batch, device=\"cuda\"):\n",
    "        self.model.to(device)\n",
    "        predicted_probabilities = self.model.predict_probabilities(collate_fn(batch))\n",
    "        batch[\"probabilities\"] = [\n",
    "            {self.preprocessor.label_to_class[i]: prob for i, prob in enumerate(probabilities)}\n",
    "            for probabilities in predicted_probabilities\n",
    "        ]\n",
    "        return batch\n",
    "    \n",
    "    @classmethod\n",
    "    def from_artifacts_dir(cls, artifacts_dir):\n",
    "        with open(os.path.join(artifacts_dir, \"class_to_label.json\"), \"r\") as fp:\n",
    "            class_to_label = json.load(fp)\n",
    "        preprocessor = Preprocessor(class_to_label=class_to_label)\n",
    "        model = ClassificationModel.load(\n",
    "            args_fp=os.path.join(artifacts_dir, \"args.json\"), \n",
    "            state_dict_fp=os.path.join(artifacts_dir, \"model.pt\"),\n",
    "        )\n",
    "        return cls(preprocessor=preprocessor, model=model)"
   ]
  },
  {
   "cell_type": "code",
   "execution_count": null,
   "metadata": {},
   "outputs": [
    {
     "name": "stderr",
     "output_type": "stream",
     "text": [
      "/tmp/ipykernel_15087/1167522715.py:52: FutureWarning: You are using `torch.load` with `weights_only=False` (the current default value), which uses the default pickle module implicitly. It is possible to construct malicious pickle data which will execute arbitrary code during unpickling (See https://github.com/pytorch/pytorch/blob/main/SECURITY.md#untrusted-models for more details). In a future release, the default value for `weights_only` will be flipped to `True`. This limits the functions that could be executed during unpickling. Arbitrary objects will no longer be allowed to be loaded via this mode unless they are explicitly allowlisted by the user via `torch.serialization.add_safe_globals`. We recommend you start setting `weights_only=True` for any use case where you don't have full control of the loaded file. Please open an issue on GitHub for any issues related to this experimental feature.\n",
      "  model.load_state_dict(torch.load(state_dict_fp, map_location=device))\n"
     ]
    }
   ],
   "source": [
    "# Load and preproces eval dataset\n",
    "artifacts_dir = urlparse(best_run.artifact_uri).path\n",
    "predictor = TorchPredictor.from_artifacts_dir(artifacts_dir=artifacts_dir)\n",
    "test_ds = ray.data.read_images(\"s3://doggos-dataset/test\", include_paths=True)\n",
    "test_ds = test_ds.map(add_class)\n",
    "test_ds = predictor.preprocessor.transform(ds=test_ds)"
   ]
  },
  {
   "cell_type": "code",
   "execution_count": null,
   "metadata": {},
   "outputs": [
    {
     "name": "stderr",
     "output_type": "stream",
     "text": [
      "2025-04-02 18:37:43,249\tINFO streaming_executor.py:108 -- Starting execution of Dataset. Full logs are in /tmp/ray/session_2025-04-02_17-14-18_653275_2278/logs/ray-data\n",
      "2025-04-02 18:37:43,249\tINFO streaming_executor.py:109 -- Execution plan of Dataset: InputDataBuffer[Input] -> TaskPoolMapOperator[ListFiles] -> TaskPoolMapOperator[ReadFiles] -> TaskPoolMapOperator[Map(add_class)->Map(Preprocessor.convert_to_label)] -> ActorPoolMapOperator[MapBatches(EmbeddingGenerator)] -> TaskPoolMapOperator[MapBatches(drop_columns)] -> TaskPoolMapOperator[MapBatches(TorchPredictor)] -> LimitOperator[limit=1]\n"
     ]
    },
    {
     "data": {
      "application/vnd.jupyter.widget-view+json": {
       "model_id": "3e0d2f0cb85a4d098191da67308534e2",
       "version_major": 2,
       "version_minor": 0
      },
      "text/plain": [
       "Running 0: 0.00 row [00:00, ? row/s]"
      ]
     },
     "metadata": {},
     "output_type": "display_data"
    },
    {
     "name": "stdout",
     "output_type": "stream",
     "text": [
      "\u001b[36m(autoscaler +10m46s)\u001b[0m [autoscaler] [4xT4:48CPU-192GB] Attempting to add 1 node(s) to the cluster (increasing from 0 to 1).\n",
      "\u001b[36m(autoscaler +10m46s)\u001b[0m [autoscaler] [4xT4:48CPU-192GB] Launched 1 instances.\n"
     ]
    },
    {
     "data": {
      "application/vnd.jupyter.widget-view+json": {
       "model_id": "1d83cb41399b42f893ce47aafc7d2e7f",
       "version_major": 2,
       "version_minor": 0
      },
      "text/plain": [
       "- ListFiles 1: 0.00 row [00:00, ? row/s]"
      ]
     },
     "metadata": {},
     "output_type": "display_data"
    },
    {
     "data": {
      "application/vnd.jupyter.widget-view+json": {
       "model_id": "bf65e7a471824036a31c461e25b39550",
       "version_major": 2,
       "version_minor": 0
      },
      "text/plain": [
       "- ReadFiles 2: 0.00 row [00:00, ? row/s]"
      ]
     },
     "metadata": {},
     "output_type": "display_data"
    },
    {
     "data": {
      "application/vnd.jupyter.widget-view+json": {
       "model_id": "8da68d9c7d0a4f7f910938d8af3687cf",
       "version_major": 2,
       "version_minor": 0
      },
      "text/plain": [
       "- Map(add_class)->Map(Preprocessor.convert_to_label) 3: 0.00 row [00:00, ? row/s]"
      ]
     },
     "metadata": {},
     "output_type": "display_data"
    },
    {
     "data": {
      "application/vnd.jupyter.widget-view+json": {
       "model_id": "3e73f3747b974b71b66cc6da14cd70f5",
       "version_major": 2,
       "version_minor": 0
      },
      "text/plain": [
       "- MapBatches(EmbeddingGenerator) 4: 0.00 row [00:00, ? row/s]"
      ]
     },
     "metadata": {},
     "output_type": "display_data"
    },
    {
     "data": {
      "application/vnd.jupyter.widget-view+json": {
       "model_id": "16b5f012c8954b2daf8d63e783f0a7a1",
       "version_major": 2,
       "version_minor": 0
      },
      "text/plain": [
       "- MapBatches(drop_columns) 5: 0.00 row [00:00, ? row/s]"
      ]
     },
     "metadata": {},
     "output_type": "display_data"
    },
    {
     "data": {
      "application/vnd.jupyter.widget-view+json": {
       "model_id": "8017e96a87df4820b129dc76970b3d9d",
       "version_major": 2,
       "version_minor": 0
      },
      "text/plain": [
       "- MapBatches(TorchPredictor) 6: 0.00 row [00:00, ? row/s]"
      ]
     },
     "metadata": {},
     "output_type": "display_data"
    },
    {
     "data": {
      "application/vnd.jupyter.widget-view+json": {
       "model_id": "c402120c67ae45098c53f924a4e618ea",
       "version_major": 2,
       "version_minor": 0
      },
      "text/plain": [
       "- limit=1 7: 0.00 row [00:00, ? row/s]"
      ]
     },
     "metadata": {},
     "output_type": "display_data"
    },
    {
     "name": "stdout",
     "output_type": "stream",
     "text": [
      "\u001b[36m(autoscaler +12m1s)\u001b[0m [autoscaler] [4xT4:48CPU-192GB] Attempting to add 1 node(s) to the cluster (increasing from 1 to 2).\n",
      "\u001b[36m(autoscaler +12m1s)\u001b[0m [autoscaler] [4xT4:48CPU-192GB] Launched 1 instances.\n"
     ]
    },
    {
     "name": "stderr",
     "output_type": "stream",
     "text": [
      "\u001b[36m(MapBatches(TorchPredictor) pid=3917, ip=10.0.170.141)\u001b[0m /tmp/ipykernel_15087/3214280880.py:6: UserWarning: The given NumPy array is not writable, and PyTorch does not support non-writable tensors. This means writing to this tensor will result in undefined behavior. You may want to copy the array to protect its data or make it writable before converting it to a tensor. This type of warning will be suppressed for the rest of this program. (Triggered internally at ../torch/csrc/utils/tensor_numpy.cpp:206.)\n"
     ]
    },
    {
     "data": {
      "text/plain": [
       "[{'path': 'doggos-dataset/test/basset/basset_9267.jpg',\n",
       "  'class': 'basset',\n",
       "  'label': 5,\n",
       "  'embedding': array([-2.02093303e-01, -1.04970559e-01, -1.15789562e-01,  5.02281904e-01,\n",
       "          2.84895480e-01, -4.70606178e-01,  6.45553768e-01,  1.42213970e-01,\n",
       "         -1.13678843e-01,  4.15867865e-02,  7.72936177e-03,  4.17216755e-02,\n",
       "          9.35566574e-02, -4.93040830e-02,  9.31968570e-01, -5.57315126e-02,\n",
       "          1.05987585e+00, -2.87986808e-02,  4.33141410e-01,  2.53021240e-01,\n",
       "         -3.08147579e-01,  4.43557389e-02,  6.32729471e-01, -1.65148988e-01,\n",
       "          7.41173625e-02, -1.56396821e-01,  5.19857824e-01, -3.45465988e-02,\n",
       "          2.25368850e-02, -2.50943899e-01,  3.53148878e-01,  4.39028651e-01,\n",
       "          2.00261652e-01, -1.63211197e-01,  3.06067616e-01,  7.68953338e-02,\n",
       "          3.44168842e-01, -3.08347106e-01, -1.15625575e-01,  2.08915567e+00,\n",
       "         -5.43349862e-01, -1.80627152e-01,  3.52634966e-01, -1.24708787e-02,\n",
       "          2.27354556e-01, -1.67532527e+00,  2.05652773e-01,  1.92158967e-02,\n",
       "          4.56654355e-02,  7.81211257e-03, -8.65580887e-02,  4.78751272e-01,\n",
       "         -2.89523005e-01,  2.41408288e-01,  3.36951435e-01,  6.76198304e-02,\n",
       "          2.55026639e-01,  3.72980773e-01, -1.84450701e-01, -4.13234323e-01,\n",
       "          1.17006230e+00,  5.21823764e-04,  5.99243581e-01,  2.13133946e-01,\n",
       "          1.51875824e-01, -1.02415912e-01, -1.87634885e-01,  4.73174542e-01,\n",
       "         -4.97064173e-01,  3.54501247e-01, -4.32597548e-02, -2.55184561e-01,\n",
       "         -1.53534431e-02,  2.22090483e-01, -2.20621854e-01,  1.34301662e-01,\n",
       "         -2.40729898e-01, -3.02699953e-01,  3.12428445e-01,  1.05354249e-01,\n",
       "          9.65381563e-02, -3.82279307e-01,  1.77833736e-02, -3.40477407e-01,\n",
       "          3.92736644e-01, -2.30462402e-01,  9.11555588e-01, -4.87813979e-01,\n",
       "          2.57991403e-01, -2.41225287e-02, -2.39907771e-01, -4.25445884e-01,\n",
       "         -6.64152765e+00,  2.95589834e-01, -4.88888294e-01,  3.02201450e-01,\n",
       "         -1.75264683e-02, -1.01668485e-01, -1.23793912e+00,  9.67631698e-01,\n",
       "          8.67166817e-02, -4.26222473e-01, -2.88591444e-01, -1.32043749e-01,\n",
       "          2.43968517e-01,  4.41988744e-03, -3.00187528e-01,  2.79210120e-01,\n",
       "         -2.37647235e-01, -5.28486013e-01,  3.07100475e-01, -7.97413349e-01,\n",
       "          2.30441198e-01, -1.14555731e-01,  4.43905294e-02,  2.33398795e-01,\n",
       "         -2.04921395e-01,  2.47804105e-01,  6.33711964e-02,  1.78330123e-01,\n",
       "          2.30795264e-01, -1.21654332e-01,  2.43454903e-01,  1.81010738e-01,\n",
       "          1.97950095e-01, -7.87542582e-01, -2.33990282e-01,  2.69716918e-01,\n",
       "          1.28958881e-01, -3.64087671e-02,  2.47161329e-01, -6.76537827e-02,\n",
       "         -3.06588829e-01,  8.21148038e-01, -5.81589878e-01,  2.15638071e-01,\n",
       "         -1.11232698e-02, -6.14772320e-01,  3.01378816e-01, -9.51831639e-02,\n",
       "         -9.66776833e-02,  1.76047571e-02,  1.00652874e-01, -9.80040878e-02,\n",
       "         -3.03498894e-01, -7.77594224e-02,  4.28744823e-01,  4.62263882e-01,\n",
       "          1.29619747e-01, -6.97662532e-02, -8.47557336e-02,  4.61688668e-01,\n",
       "         -3.23787630e-01, -4.22624871e-02, -2.69337773e-01,  2.31877372e-01,\n",
       "          5.93632460e-04, -4.99709219e-01,  1.05811059e-01,  2.11558715e-02,\n",
       "         -4.82318789e-01,  7.76179880e-03,  2.57028818e-01,  4.95251149e-01,\n",
       "          1.05445817e-01, -2.67300159e-01,  2.02938423e-01,  2.33681068e-01,\n",
       "          3.75688553e-01,  2.65270710e-01,  1.83413953e-01,  4.65080351e-01,\n",
       "          2.41593868e-01, -1.24735504e-01,  2.59973675e-01, -3.99552099e-02,\n",
       "          1.32266498e+00,  4.12543789e-02,  6.36208236e-01, -9.68466997e-02,\n",
       "         -6.71695232e-01,  5.08533716e-02,  2.41713345e-01, -1.38714641e-01,\n",
       "          5.03525063e-02,  4.51695770e-02, -3.03675056e-01,  3.25894989e-02,\n",
       "         -5.25548995e-01, -4.88297567e-02,  3.74558091e-01,  7.58223459e-02,\n",
       "         -1.43676311e-01,  1.43176019e-01, -1.75152168e-01,  5.57089806e-01,\n",
       "          6.40043497e-01, -1.52932703e-02, -5.78124940e-01, -3.85529220e-01,\n",
       "          4.62757498e-02, -1.80481002e-02,  2.23023355e-01,  2.58132249e-01,\n",
       "         -4.26578403e-01, -5.16928792e-01, -2.12179750e-01, -2.94265509e-01,\n",
       "          6.22628368e-02,  6.47819161e-01, -1.78370789e-01,  4.40655470e-01,\n",
       "         -1.83787704e-01,  1.21747456e-01,  1.71247497e-01, -1.78377181e-01,\n",
       "          1.58493400e-01,  1.44723475e-01,  1.74189126e+00,  2.80732214e-02,\n",
       "          4.41966951e-01,  2.21457362e-01,  1.41694963e-01,  2.36490846e-01,\n",
       "         -2.36277699e-01,  5.56055307e-02, -2.78137624e-04, -1.19016171e-02,\n",
       "          5.28059527e-03,  3.38994503e-01,  6.52343407e-02,  1.03212893e-02,\n",
       "         -4.51703638e-01,  3.05235445e-01, -1.19201712e-01,  5.55016100e-02,\n",
       "          9.03415680e-02, -2.10305765e-01,  7.13749137e-03, -2.91060030e-01,\n",
       "          2.79017478e-01, -5.01781702e-02, -3.27486172e-03, -1.92639567e-02,\n",
       "         -3.18668425e-01,  2.84234226e-01,  6.36605740e-01, -5.05388439e-01,\n",
       "          1.69563502e-01,  3.88251901e-01,  6.38162017e-01,  5.61878920e-01,\n",
       "          1.48039177e-01, -2.71120042e-01,  1.91179305e-01, -3.47294033e-01,\n",
       "         -4.29785997e-02, -8.81048664e-02,  7.48171151e-01, -1.16352342e-01,\n",
       "         -1.56713545e-01,  4.90431488e-01,  3.87605041e-01, -1.01919854e+00,\n",
       "          2.18766823e-01, -2.69971579e-01, -3.32399189e-01,  1.50346160e-01,\n",
       "          7.20445514e-02,  3.12839806e-01, -1.60464913e-01, -2.07947746e-01,\n",
       "          2.45314270e-01,  2.64305651e-01, -1.04653180e-01, -3.55265111e-01,\n",
       "          1.28179938e-02,  1.36560276e-01, -4.57190275e-02, -3.22295636e-01,\n",
       "          1.52449325e-01,  1.77244619e-01, -4.11936998e-01, -3.69236916e-02,\n",
       "         -2.39885360e-01,  3.73140991e-01, -1.72057554e-01,  2.37705648e-01,\n",
       "         -5.09331375e-02,  2.04840422e-01,  4.23232436e-01, -3.89389433e-02,\n",
       "         -1.33494884e-01, -3.13393548e-02,  1.63175642e-01, -1.73536092e-01,\n",
       "          3.47794920e-01,  6.32014945e-02,  8.23300779e-02,  1.97851509e-02,\n",
       "         -2.24131525e-01,  7.78063536e-02, -4.79342788e-02,  5.93788140e-02,\n",
       "         -2.00865611e-01,  6.88924491e-02, -3.53370935e-01,  3.04996639e-01,\n",
       "         -1.47060081e-02,  2.57219285e-01, -4.20749247e-01,  3.67509395e-01,\n",
       "          8.18829834e-01, -3.02797914e-01, -2.80223936e-02, -9.47534144e-02,\n",
       "          1.34218007e-01,  2.55519480e-01, -4.95399207e-01, -4.75279868e-01,\n",
       "          7.47838259e-01,  5.45164526e-01, -2.38622367e-01,  2.55463630e-01,\n",
       "          1.49934411e-01,  3.04229110e-01, -1.35500506e-01,  3.81089866e-01,\n",
       "          1.05774291e-02, -7.69206733e-02, -5.11906028e-01, -2.12554991e-01,\n",
       "          6.01118326e-01, -1.09830700e-01,  1.70449421e-01,  5.43608628e-02,\n",
       "          4.40194100e-01,  4.12232041e-01,  5.36668003e-02, -5.63323677e-01,\n",
       "          7.05911517e-02, -6.20284319e-01,  1.90784007e-01,  2.20651075e-01,\n",
       "          4.07474518e-01,  1.73501492e-01,  5.04846513e-01,  1.33012291e-02,\n",
       "          2.67627425e-02,  9.71277729e-02, -7.27418602e-01,  1.40952513e-01,\n",
       "          2.24534914e-01,  1.48194209e-01,  4.04514149e-02,  9.01990831e-01,\n",
       "          2.77962714e-01, -1.22347343e+00,  3.47197056e-01, -4.85180318e-02,\n",
       "          9.05238748e-01,  8.92667025e-02,  6.85600489e-02,  4.40213159e-02,\n",
       "         -1.21037388e+00,  1.31817892e-01, -5.31004965e-01, -3.83377641e-01,\n",
       "         -1.62780941e-01, -4.45054889e-01,  4.94725794e-01, -1.44788116e-01,\n",
       "         -7.02696070e-02, -1.11938938e-02, -2.70365179e-02,  2.09047034e-01,\n",
       "          1.82936478e+00,  3.23615551e-01, -7.19543099e-01,  1.34125844e-01,\n",
       "          2.98680365e-01, -3.14004898e-01,  6.15327731e-02,  7.57114887e-02,\n",
       "          2.30952710e-01, -2.70099878e-01, -7.84469843e-01,  4.32280481e-01,\n",
       "          2.93579549e-01, -1.04689789e+00, -2.81418115e-01, -8.95228684e-01,\n",
       "          5.84119916e-01, -4.95679498e-01, -4.10559177e-01,  2.10539967e-01,\n",
       "          1.54497668e-01,  1.27542362e-01, -4.21226680e-01, -4.28065121e-01,\n",
       "          1.31873727e-01,  3.93003166e-01, -3.72124076e-01,  6.56481087e-02,\n",
       "          4.01953191e-01, -4.19922084e-01,  3.04469824e-01, -4.38501954e-01,\n",
       "          6.41244948e-01, -3.01776886e-01,  4.75246876e-01,  2.54152805e-01,\n",
       "         -2.17832744e-01, -6.82770312e-02, -8.35441798e-03,  1.44320011e-01,\n",
       "          1.93473563e-01, -1.71269774e-02,  1.65140271e-01, -5.48378289e-01,\n",
       "          3.15308422e-01,  6.82970941e-01,  1.26274914e-01, -4.53573048e-01,\n",
       "         -1.26160994e-01, -4.89893407e-02, -2.50042737e-01, -3.53567660e-01,\n",
       "         -4.01208133e-01, -1.20875768e-01,  9.50847790e-02, -1.27566934e-01,\n",
       "         -1.12202168e-01,  1.72162667e-01,  2.60484278e-01, -3.05011660e-01,\n",
       "         -6.29458070e-01,  4.24153596e-01,  1.80191338e-01, -6.03072345e-02,\n",
       "         -1.32029504e-03,  7.36313984e-02, -2.16473565e-01, -5.49414694e-01,\n",
       "          1.65518016e-01, -2.05749929e-01,  1.55891687e-01, -1.49634823e-01,\n",
       "          2.07621932e-01, -6.90547079e-02, -3.54022622e-01, -4.07943130e-01,\n",
       "          3.98085773e-01, -2.67152160e-01, -1.74840838e-01, -2.50121802e-01,\n",
       "         -2.26323307e-03,  5.90376914e-01,  2.00590380e-02,  4.43324625e-01,\n",
       "         -1.38653412e-01, -2.20378801e-01,  1.30251735e-01, -3.13934982e-02,\n",
       "          1.63176447e-01, -6.41276017e-02, -6.58211708e-01, -1.01801932e-01,\n",
       "         -6.43581674e-02,  6.33640364e-02,  1.09093107e-01, -1.29061520e-01,\n",
       "         -5.71904540e-01, -1.15481690e-01,  9.06840712e-02, -1.69206969e-02,\n",
       "          5.17197177e-02,  5.38313761e-03, -7.38410592e-01, -3.22553396e-01,\n",
       "          2.60549217e-01, -1.77071944e-01, -3.43262076e-01, -3.56772214e-01,\n",
       "         -6.61865115e-01,  2.11087823e-01, -8.39715153e-02, -1.52061418e-01,\n",
       "         -2.77071416e-01, -3.03665727e-01, -4.86825377e-01, -4.03487265e-01,\n",
       "          7.31755257e-01, -4.37472790e-01,  2.02084094e-01,  5.50738163e-02,\n",
       "         -2.71029115e-01,  4.94490713e-01, -9.77668464e-01, -1.57678545e-01,\n",
       "         -1.87649786e-01, -2.11824358e-01,  1.63598098e-02,  1.44719392e-01,\n",
       "         -4.35105085e-01, -4.44910042e-02, -6.01864047e-02,  2.10556030e-01,\n",
       "         -4.66821134e-01,  6.09949589e-01,  1.89885259e-01, -2.41792649e-02],\n",
       "        dtype=float32),\n",
       "  'prediction': 5}]"
      ]
     },
     "execution_count": null,
     "metadata": {},
     "output_type": "execute_result"
    }
   ],
   "source": [
    "# y_pred (batch inference)\n",
    "pred_ds = test_ds.map_batches(\n",
    "    predictor,\n",
    "    fn_kwargs={\"device\": \"cuda\"},\n",
    "    concurrency=4,\n",
    "    batch_size=64,\n",
    "    num_gpus=1,\n",
    ")\n",
    "pred_ds.take(1)"
   ]
  },
  {
   "cell_type": "code",
   "execution_count": null,
   "metadata": {},
   "outputs": [],
   "source": [
    "def batch_metric(batch):\n",
    "    labels = batch[\"label\"]\n",
    "    preds = batch[\"prediction\"]\n",
    "    mcm = multilabel_confusion_matrix(labels, preds)\n",
    "    tn, fp, fn, tp = [], [], [], []\n",
    "    for i in range(mcm.shape[0]):\n",
    "        tn.append(mcm[i, 0, 0])  # True negatives\n",
    "        fp.append(mcm[i, 0, 1])  # False positives\n",
    "        fn.append(mcm[i, 1, 0])  # False negatives\n",
    "        tp.append(mcm[i, 1, 1])  # True positives\n",
    "    return {\"TN\": tn, \"FP\": fp, \"FN\": fn, \"TP\": tp}\n"
   ]
  },
  {
   "cell_type": "code",
   "execution_count": null,
   "metadata": {},
   "outputs": [
    {
     "name": "stderr",
     "output_type": "stream",
     "text": [
      "2025-04-02 19:28:15,787\tINFO streaming_executor.py:108 -- Starting execution of Dataset. Full logs are in /tmp/ray/session_2025-04-02_17-14-18_653275_2278/logs/ray-data\n",
      "2025-04-02 19:28:15,788\tINFO streaming_executor.py:109 -- Execution plan of Dataset: InputDataBuffer[Input] -> TaskPoolMapOperator[MapBatches(batch_metric)] -> AllToAllOperator[Aggregate] -> LimitOperator[limit=1]\n"
     ]
    },
    {
     "data": {
      "application/vnd.jupyter.widget-view+json": {
       "model_id": "c7abe23968e240dbbfa08b06b4302df7",
       "version_major": 2,
       "version_minor": 0
      },
      "text/plain": [
       "Running 0: 0.00 row [00:00, ? row/s]"
      ]
     },
     "metadata": {},
     "output_type": "display_data"
    },
    {
     "data": {
      "application/vnd.jupyter.widget-view+json": {
       "model_id": "b4c8ec26d65e4f77a0e5431cef60a2a9",
       "version_major": 2,
       "version_minor": 0
      },
      "text/plain": [
       "- MapBatches(batch_metric) 1: 0.00 row [00:00, ? row/s]"
      ]
     },
     "metadata": {},
     "output_type": "display_data"
    },
    {
     "data": {
      "application/vnd.jupyter.widget-view+json": {
       "model_id": "1ef3f8c99e39430abeba2d9fe678f50a",
       "version_major": 2,
       "version_minor": 0
      },
      "text/plain": [
       "- Aggregate 2: 0.00 row [00:00, ? row/s]"
      ]
     },
     "metadata": {},
     "output_type": "display_data"
    },
    {
     "data": {
      "application/vnd.jupyter.widget-view+json": {
       "model_id": "2d6302552ef9481c9d735ca86b6b7b90",
       "version_major": 2,
       "version_minor": 0
      },
      "text/plain": [
       "Sort Sample 3:   0%|          | 0.00/1.00 [00:00<?, ? row/s]"
      ]
     },
     "metadata": {},
     "output_type": "display_data"
    },
    {
     "data": {
      "application/vnd.jupyter.widget-view+json": {
       "model_id": "c0893025628e45f58b8d7fb0ab05ac2d",
       "version_major": 2,
       "version_minor": 0
      },
      "text/plain": [
       "Shuffle Map 4:   0%|          | 0.00/1.00 [00:00<?, ? row/s]"
      ]
     },
     "metadata": {},
     "output_type": "display_data"
    },
    {
     "data": {
      "application/vnd.jupyter.widget-view+json": {
       "model_id": "1a525c1dc5104bb6a2d4c8b8a9d10a38",
       "version_major": 2,
       "version_minor": 0
      },
      "text/plain": [
       "Shuffle Reduce 5:   0%|          | 0.00/1.00 [00:00<?, ? row/s]"
      ]
     },
     "metadata": {},
     "output_type": "display_data"
    },
    {
     "data": {
      "application/vnd.jupyter.widget-view+json": {
       "model_id": "fb92b6000bf54920a05c105ef2e12701",
       "version_major": 2,
       "version_minor": 0
      },
      "text/plain": [
       "- limit=1 6: 0.00 row [00:00, ? row/s]"
      ]
     },
     "metadata": {},
     "output_type": "display_data"
    }
   ],
   "source": [
    "# Aggregated metrics after processing all batches\n",
    "metrics_ds = pred_ds.map_batches(batch_metric)\n",
    "aggregate_metrics = metrics_ds.sum([\"TN\", \"FP\", \"FN\", \"TP\"])\n",
    "\n",
    "# Aggregate the confusion matrix components across all batches\n",
    "tn = aggregate_metrics[\"sum(TN)\"]\n",
    "fp = aggregate_metrics[\"sum(FP)\"]\n",
    "fn = aggregate_metrics[\"sum(FN)\"]\n",
    "tp = aggregate_metrics[\"sum(TP)\"]\n",
    "\n",
    "# Calculate metrics\n",
    "precision = tp / (tp + fp) if (tp + fp) > 0 else 0\n",
    "recall = tp / (tp + fn) if (tp + fn) > 0 else 0\n",
    "f1 = 2 * precision * recall / (precision + recall) if (precision + recall) > 0 else 0\n",
    "accuracy = (tp + tn) / (tp + tn + fp + fn)"
   ]
  },
  {
   "cell_type": "code",
   "execution_count": null,
   "metadata": {},
   "outputs": [
    {
     "name": "stdout",
     "output_type": "stream",
     "text": [
      "Precision: 0.84\n",
      "Recall: 0.84\n",
      "F1: 0.84\n",
      "Accuracy: 0.98\n"
     ]
    }
   ],
   "source": [
    "print(f\"Precision: {precision:.2f}\")\n",
    "print(f\"Recall: {recall:.2f}\")\n",
    "print(f\"F1: {f1:.2f}\")\n",
    "print(f\"Accuracy: {accuracy:.2f}\")"
   ]
  },
  {
   "cell_type": "code",
   "execution_count": null,
   "metadata": {},
   "outputs": [
    {
     "data": {
      "text/plain": [
       "{'status': 'ok', 'restart': True}"
      ]
     },
     "execution_count": null,
     "metadata": {},
     "output_type": "execute_result"
    },
    {
     "ename": "",
     "evalue": "",
     "output_type": "error",
     "traceback": [
      "\u001b[1;31mThe Kernel crashed while executing code in the the current cell or a previous cell. Please review the code in the cell(s) to identify a possible cause of the failure. Click <a href='https://aka.ms/vscodeJupyterKernelCrash'>here</a> for more info. View Jupyter <a href='command:jupyter.viewOutput'>log</a> for further details."
     ]
    }
   ],
   "source": [
    "import IPython\n",
    "IPython.get_ipython().kernel.do_shutdown(restart=True)"
   ]
  }
 ],
 "metadata": {
  "kernelspec": {
   "display_name": "base",
   "language": "python",
   "name": "python3"
  },
  "language_info": {
   "codemirror_mode": {
    "name": "ipython",
    "version": 3
   },
   "file_extension": ".py",
   "mimetype": "text/x-python",
   "name": "python",
   "nbconvert_exporter": "python",
   "pygments_lexer": "ipython3",
   "version": "3.12.9"
  }
 },
 "nbformat": 4,
 "nbformat_minor": 2
}
