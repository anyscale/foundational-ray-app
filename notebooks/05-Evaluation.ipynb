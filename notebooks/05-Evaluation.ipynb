{
 "cells": [
  {
   "cell_type": "code",
   "execution_count": 1,
   "metadata": {},
   "outputs": [],
   "source": [
    "%load_ext autoreload\n",
    "%autoreload 2"
   ]
  },
  {
   "cell_type": "code",
   "execution_count": 2,
   "metadata": {},
   "outputs": [],
   "source": [
    "import os\n",
    "import ray\n",
    "import warnings\n",
    "warnings.filterwarnings(\"ignore\")"
   ]
  },
  {
   "cell_type": "markdown",
   "metadata": {},
   "source": [
    "### Evaluation"
   ]
  },
  {
   "cell_type": "markdown",
   "metadata": {},
   "source": [
    "<p style=\"font-weight: bold; background-color: yellow; padding: 10px; display: inline;\">TODO</p>\n",
    "\n",
    "- overall diagram for this section (more detailed than overall e2e)\n",
    "- mention that eval is batch inference"
   ]
  },
  {
   "cell_type": "code",
   "execution_count": 3,
   "metadata": {},
   "outputs": [],
   "source": [
    "import mlflow\n",
    "from sklearn.metrics import precision_recall_fscore_support\n",
    "from urllib.parse import urlparse"
   ]
  },
  {
   "cell_type": "code",
   "execution_count": 4,
   "metadata": {},
   "outputs": [],
   "source": [
    "from doggos.infer import TorchPredictor\n",
    "from doggos.utils import add_class, batch_metric"
   ]
  },
  {
   "cell_type": "code",
   "execution_count": 5,
   "metadata": {},
   "outputs": [],
   "source": [
    "# Get best run\n",
    "model_registry = \"/mnt/user_storage/mlflow\"\n",
    "experiment_name = \"doggos\"\n",
    "mlflow.set_tracking_uri(f\"file:{model_registry}\")\n",
    "sorted_runs = mlflow.search_runs(\n",
    "    experiment_names=[experiment_name], \n",
    "    order_by=[\"metrics.val_loss ASC\"])\n",
    "best_run = sorted_runs.iloc[0]"
   ]
  },
  {
   "cell_type": "code",
   "execution_count": 6,
   "metadata": {},
   "outputs": [
    {
     "name": "stderr",
     "output_type": "stream",
     "text": [
      "2025-02-19 21:47:26,528\tINFO worker.py:1636 -- Connecting to existing Ray cluster at address: 10.0.55.44:6379...\n",
      "2025-02-19 21:47:26,537\tINFO worker.py:1812 -- Connected to Ray cluster. View the dashboard at \u001b[1m\u001b[32mhttps://session-3apyclh1wkjd883fht6vsy8xjh.i.anyscaleuserdata.com \u001b[39m\u001b[22m\n",
      "2025-02-19 21:47:26,544\tINFO packaging.py:393 -- Pushing file package 'gcs://_ray_pkg_7d4fc9210c75f6811c389bb991914b6b7f18e4e5.zip' (2.86MiB) to Ray cluster...\n",
      "2025-02-19 21:47:26,571\tINFO packaging.py:406 -- Successfully pushed file package 'gcs://_ray_pkg_7d4fc9210c75f6811c389bb991914b6b7f18e4e5.zip'.\n"
     ]
    }
   ],
   "source": [
    "# Load and preproces eval dataset\n",
    "artifacts_dir = urlparse(best_run.artifact_uri).path\n",
    "predictor = TorchPredictor.from_artifacts_dir(artifacts_dir=artifacts_dir)\n",
    "test_ds = ray.data.read_images(\"s3://doggos-dataset/test\", include_paths=True)\n",
    "test_ds = test_ds.map(add_class)\n",
    "test_ds = predictor.preprocessor.transform(ds=test_ds)"
   ]
  },
  {
   "cell_type": "code",
   "execution_count": 7,
   "metadata": {},
   "outputs": [
    {
     "name": "stderr",
     "output_type": "stream",
     "text": [
      "2025-02-19 21:47:26,786\tINFO dataset.py:2631 -- Tip: Use `take_batch()` instead of `take() / show()` to return records in pandas or numpy batch format.\n",
      "2025-02-19 21:47:26,792\tINFO streaming_executor.py:108 -- Starting execution of Dataset. Full logs are in /tmp/ray/session_2025-02-19_20-21-51_646153_2288/logs/ray-data\n",
      "2025-02-19 21:47:26,793\tINFO streaming_executor.py:109 -- Execution plan of Dataset: InputDataBuffer[Input] -> TaskPoolMapOperator[ListFiles] -> TaskPoolMapOperator[PartitionFiles] -> TaskPoolMapOperator[ReadFiles] -> TaskPoolMapOperator[Map(add_class)->Map(Preprocessor.convert_to_label)] -> ActorPoolMapOperator[MapBatches(EmbeddingGenerator)] -> TaskPoolMapOperator[MapBatches(drop_columns)] -> TaskPoolMapOperator[MapBatches(TorchPredictor)] -> LimitOperator[limit=1]\n"
     ]
    },
    {
     "data": {
      "application/vnd.jupyter.widget-view+json": {
       "model_id": "a6a4922a356a4d3e9be0ee74f76035a7",
       "version_major": 2,
       "version_minor": 0
      },
      "text/plain": [
       "Running 0: 0.00 row [00:00, ? row/s]"
      ]
     },
     "metadata": {},
     "output_type": "display_data"
    },
    {
     "data": {
      "application/vnd.jupyter.widget-view+json": {
       "model_id": "20d214053c18441388a98b895ce1f7e7",
       "version_major": 2,
       "version_minor": 0
      },
      "text/plain": [
       "- ListFiles 1: 0.00 row [00:00, ? row/s]"
      ]
     },
     "metadata": {},
     "output_type": "display_data"
    },
    {
     "data": {
      "application/vnd.jupyter.widget-view+json": {
       "model_id": "0496a955198749df9d8a611ed33fabe1",
       "version_major": 2,
       "version_minor": 0
      },
      "text/plain": [
       "- PartitionFiles 2: 0.00 row [00:00, ? row/s]"
      ]
     },
     "metadata": {},
     "output_type": "display_data"
    },
    {
     "data": {
      "application/vnd.jupyter.widget-view+json": {
       "model_id": "ddc92db4f89643b0ad414bed4f5d0026",
       "version_major": 2,
       "version_minor": 0
      },
      "text/plain": [
       "- ReadFiles 3: 0.00 row [00:00, ? row/s]"
      ]
     },
     "metadata": {},
     "output_type": "display_data"
    },
    {
     "data": {
      "application/vnd.jupyter.widget-view+json": {
       "model_id": "86841527dcc247b59b66c483ec1d5240",
       "version_major": 2,
       "version_minor": 0
      },
      "text/plain": [
       "- Map(add_class)->Map(Preprocessor.convert_to_label) 4: 0.00 row [00:00, ? row/s]"
      ]
     },
     "metadata": {},
     "output_type": "display_data"
    },
    {
     "data": {
      "application/vnd.jupyter.widget-view+json": {
       "model_id": "e9878f763b76470684803222056ebec3",
       "version_major": 2,
       "version_minor": 0
      },
      "text/plain": [
       "- MapBatches(EmbeddingGenerator) 5: 0.00 row [00:00, ? row/s]"
      ]
     },
     "metadata": {},
     "output_type": "display_data"
    },
    {
     "data": {
      "application/vnd.jupyter.widget-view+json": {
       "model_id": "5d4682d48f5a4331ad98ffd3065d4da4",
       "version_major": 2,
       "version_minor": 0
      },
      "text/plain": [
       "- MapBatches(drop_columns) 6: 0.00 row [00:00, ? row/s]"
      ]
     },
     "metadata": {},
     "output_type": "display_data"
    },
    {
     "data": {
      "application/vnd.jupyter.widget-view+json": {
       "model_id": "8b37d0cc656d4ba7b62fb3e12180a7f7",
       "version_major": 2,
       "version_minor": 0
      },
      "text/plain": [
       "- MapBatches(TorchPredictor) 7: 0.00 row [00:00, ? row/s]"
      ]
     },
     "metadata": {},
     "output_type": "display_data"
    },
    {
     "data": {
      "application/vnd.jupyter.widget-view+json": {
       "model_id": "4fb8ce1ba51148e98676a19b5762b698",
       "version_major": 2,
       "version_minor": 0
      },
      "text/plain": [
       "- limit=1 8: 0.00 row [00:00, ? row/s]"
      ]
     },
     "metadata": {},
     "output_type": "display_data"
    },
    {
     "name": "stdout",
     "output_type": "stream",
     "text": [
      "\u001b[36m(autoscaler +25s)\u001b[0m Tip: use `ray status` to view detailed cluster status. To disable these messages, set RAY_SCHEDULER_EVENTS=0.\n"
     ]
    },
    {
     "data": {
      "text/plain": [
       "[{'path': 'doggos-dataset/test/chihuahua/chihuahua_3006.jpg',\n",
       "  'class': 'chihuahua',\n",
       "  'label': 7,\n",
       "  'embedding': array([ 1.55004308e-01,  3.50220859e-01,  6.03504479e-03,  6.07165873e-01,\n",
       "          1.74657986e-01,  8.32328424e-02,  4.55964990e-02,  2.52718627e-01,\n",
       "          1.10991307e-01,  6.14749454e-02,  1.04563266e-01, -1.77179605e-01,\n",
       "          3.77644926e-01,  1.32574603e-01,  9.00012702e-02, -1.21757388e-04,\n",
       "          1.80395916e-01, -2.37003922e-01,  3.23602378e-01,  6.06229901e-03,\n",
       "         -7.01510489e-01, -2.49777824e-01,  4.55600441e-01,  1.16429061e-01,\n",
       "          1.82448328e-03,  2.85436958e-03,  1.19094074e-01, -9.10363644e-02,\n",
       "         -4.61813845e-02, -1.60100311e-02,  3.78849730e-02, -1.79648995e-02,\n",
       "         -8.57185870e-02,  6.68228492e-02, -4.17238951e-01,  1.05522819e-01,\n",
       "          2.25980356e-02,  1.94572985e-01, -2.90276945e-01,  4.56804574e-01,\n",
       "         -9.43910182e-02,  4.28021342e-01,  3.46948087e-01,  2.31809869e-01,\n",
       "          9.72746089e-02,  8.10200870e-01,  5.14389277e-01, -8.70324224e-02,\n",
       "          9.60029066e-02,  2.73948014e-01,  3.86640429e-02, -2.54920989e-01,\n",
       "         -2.79998928e-02, -1.97763830e-01,  5.15318930e-01, -2.53730804e-01,\n",
       "         -2.03082696e-01,  1.74171582e-01,  9.23699141e-03, -8.02467242e-02,\n",
       "          5.87783635e-01,  1.47965804e-01,  3.25745225e-01,  3.62010181e-01,\n",
       "         -5.06096542e-01, -5.02955437e-01,  1.53062761e-01,  9.11559880e-01,\n",
       "         -2.63159424e-01, -1.51359469e-01,  6.58820868e-01,  2.26876304e-01,\n",
       "         -4.33949456e-02,  4.49080825e-01, -2.60673966e-02, -2.52745837e-01,\n",
       "          2.18827382e-01,  1.76551059e-01, -4.46506254e-02,  1.31843224e-01,\n",
       "          3.35666180e-01, -4.69207734e-01,  2.56380886e-01,  1.67916808e-02,\n",
       "          7.37897009e-02, -3.35367262e-01,  1.55126810e+00, -8.03257078e-02,\n",
       "          8.83818328e-01, -2.62853682e-01,  1.26772970e-01, -2.70483017e-01,\n",
       "         -7.09938526e+00, -3.56755972e-01, -3.89051855e-01, -6.72653168e-02,\n",
       "         -4.13144529e-01, -1.46850541e-01, -8.91711235e-01,  1.08117259e+00,\n",
       "          3.46787363e-01,  3.25323045e-01,  1.16843738e-01, -1.95189700e-01,\n",
       "         -2.64962852e-01, -1.49027348e-01,  1.20256174e+00, -5.51288649e-02,\n",
       "         -9.76975337e-02, -3.69134694e-01, -1.69557303e-01, -4.15059000e-01,\n",
       "          8.45532864e-03, -3.02259922e-01,  1.39559925e-01,  1.74875692e-01,\n",
       "         -2.26409316e-01, -2.43837669e-01, -2.36502692e-01, -8.36129040e-02,\n",
       "         -1.51514769e-01, -2.72416294e-01, -5.78765646e-02,  4.88997698e-01,\n",
       "         -2.48072103e-01, -5.93099117e-01,  3.23539913e-01,  2.43176728e-01,\n",
       "         -1.87681541e-01, -8.56812745e-02,  3.50523800e-01,  8.38933215e-02,\n",
       "         -3.20114978e-02,  9.09239233e-01, -1.01875767e-01,  2.70830929e-01,\n",
       "          5.45813739e-01,  7.84415007e-02, -1.33976892e-01,  9.64642912e-02,\n",
       "          3.15477401e-01, -9.60487500e-02,  4.48960662e-02,  9.34923440e-02,\n",
       "         -9.84180868e-02,  6.45838380e-01,  3.02718282e-01,  2.06686944e-01,\n",
       "          5.01913130e-01,  5.15342832e-01, -1.52541548e-02, -3.75018477e-01,\n",
       "         -4.56237286e-01, -2.53792107e-03, -6.99284747e-02, -3.41909602e-02,\n",
       "         -2.75680542e-01, -3.02314490e-01, -7.33159423e-01,  5.22365987e-01,\n",
       "          4.87636238e-01,  1.06051221e-01,  2.25660741e-01, -3.14213336e-02,\n",
       "         -1.50630802e-01, -3.74023914e-01, -6.01555705e-01,  4.48187888e-01,\n",
       "          3.77132416e-01,  2.59748816e-01,  3.08209449e-01, -2.83134460e-01,\n",
       "          2.28783146e-01, -7.04225525e-02, -5.59054166e-02,  7.05827698e-02,\n",
       "          3.01546603e-03,  6.30673885e-01, -5.45236528e-01, -8.39073956e-02,\n",
       "         -8.58336836e-02,  7.63380080e-02,  2.62714148e-01, -3.89048934e-01,\n",
       "         -4.01650250e-01, -2.81047702e-01, -4.21245903e-01,  3.23414683e-01,\n",
       "         -1.54381946e-01, -1.22735940e-01,  1.45041779e-01, -1.73199445e-01,\n",
       "         -6.26784265e-02, -2.06039369e-01,  6.13106042e-02,  1.74229622e-01,\n",
       "          1.58138409e-01,  1.30366445e-01, -1.14270544e+00,  1.94353312e-01,\n",
       "         -2.54120696e-02,  2.89291799e-01, -1.90162025e-02, -1.91069439e-01,\n",
       "         -5.79536557e-01, -1.28208727e-01,  3.92685443e-01,  2.32157633e-01,\n",
       "         -1.88867986e-01, -2.19549984e-03, -1.04401216e-01, -2.31647193e-02,\n",
       "          7.61083812e-02,  1.83523446e-02, -5.08700162e-02, -1.92165673e-01,\n",
       "         -4.83823359e-01,  6.27288967e-02,  1.07812786e+00,  1.33965969e-01,\n",
       "          8.58138680e-01,  2.13031083e-01, -2.14545369e-01,  1.89788342e-01,\n",
       "          5.64965755e-02, -2.85349190e-02,  2.57884562e-01, -3.14808458e-01,\n",
       "         -3.39547805e-02,  2.00695753e-01, -2.38349795e-01,  1.79675743e-01,\n",
       "         -1.78338960e-01,  8.75994802e-01,  5.17299533e-01, -3.47118855e-01,\n",
       "          1.59966201e-01, -5.09920239e-01,  4.82158422e-01, -1.61681220e-01,\n",
       "          2.82332450e-01,  2.57227272e-02,  2.00709194e-01, -1.65815175e-01,\n",
       "         -5.20713329e-01,  4.94240940e-01,  4.85504419e-01, -5.71020305e-01,\n",
       "          5.05453944e-01,  3.96430194e-01,  3.17317516e-01, -7.16555834e-01,\n",
       "         -2.03292549e-01, -1.25236854e-01, -8.65357965e-02, -3.78019333e-01,\n",
       "          2.29426354e-01,  6.05912209e-02,  4.12001669e-01, -1.40440345e-01,\n",
       "         -1.57254428e-01, -6.63214102e-02,  2.00395927e-01, -5.33710480e-01,\n",
       "          4.43075418e-01, -2.39700496e-01, -1.56495512e-01, -3.58689666e-01,\n",
       "          2.66577542e-01, -1.90556198e-02,  2.60790110e-01, -3.55140865e-03,\n",
       "          9.90684330e-03,  3.22923660e-01, -1.26882970e-01,  6.25090301e-01,\n",
       "         -2.49819815e-01,  3.12346667e-01,  2.12737843e-01, -1.16298541e-01,\n",
       "         -2.20661849e-01, -2.29382560e-01, -3.68462890e-01, -6.09120727e-02,\n",
       "          5.31209856e-02,  1.27025232e-01, -5.00553131e-01,  7.08071351e-01,\n",
       "          6.27410933e-02,  5.02784312e-01,  1.58782154e-01, -1.14058390e-01,\n",
       "         -3.42327476e-01, -4.05094355e-01,  8.36731493e-02, -5.24524868e-01,\n",
       "         -9.01700854e-02, -2.19400287e-01, -4.89062577e-01, -1.98866889e-01,\n",
       "          3.13224718e-02, -5.83788455e-02, -3.14272791e-01,  1.70114636e-03,\n",
       "          4.28338110e-01, -1.44156516e-01,  2.34264001e-01, -1.26154125e-02,\n",
       "         -1.23179898e-01,  6.27791286e-02,  1.83375195e-01,  3.48191202e-01,\n",
       "          9.07644272e-01,  2.55441815e-01,  8.92625675e-02,  8.89962763e-02,\n",
       "          2.68120408e-01,  7.72260249e-01, -1.83021933e-01,  3.50747645e-01,\n",
       "          1.58030033e-01,  1.32611319e-01, -4.56919558e-02,  3.37971061e-01,\n",
       "          1.02790564e-01,  1.30762249e-01,  6.04814813e-02,  2.61331171e-01,\n",
       "         -1.48459017e-01,  1.95644796e-02, -2.10918427e-01,  9.22517180e-02,\n",
       "          2.04759762e-02, -3.39366376e-01, -4.42166120e-01,  9.64779258e-02,\n",
       "          2.45385766e-01, -1.33701533e-01, -4.31957841e-01, -2.04561025e-01,\n",
       "         -3.53578150e-01, -6.51593089e-01,  2.65650481e-01, -1.91461459e-01,\n",
       "          1.52047604e-01, -8.50883126e-02, -9.16604251e-02,  5.32377362e-01,\n",
       "         -8.44108462e-02,  3.08557123e-01, -5.35814226e-01, -1.02323294e-03,\n",
       "         -2.48088568e-01, -3.79930496e-01,  3.59801799e-02,  9.09867167e-01,\n",
       "         -4.36486751e-02, -2.78544247e-01,  7.48539120e-02, -1.95339128e-01,\n",
       "          7.81289518e-01,  5.76658025e-02,  2.42958963e-01, -3.93006295e-01,\n",
       "         -1.32789993e+00, -4.04262692e-02, -1.04866415e-01, -9.57257897e-02,\n",
       "         -3.13595653e-01,  1.34340793e-01, -2.45459899e-01,  3.13810557e-01,\n",
       "         -1.77637368e-01, -3.23259532e-02, -3.80489916e-01,  2.63212025e-01,\n",
       "          2.39584112e+00, -2.34488308e-01, -7.44042993e-02,  1.93408877e-01,\n",
       "          5.54586947e-03, -7.89811432e-01, -3.97257507e-04,  2.82048881e-01,\n",
       "         -1.28165841e-01, -5.83998084e-01, -1.43010914e-02,  4.56524715e-02,\n",
       "         -1.16215631e-01, -1.53408480e+00,  6.88584864e-01, -8.42489541e-01,\n",
       "          5.80864310e-01,  3.67602646e-01, -1.86988354e-01, -4.46810052e-02,\n",
       "         -6.62270635e-02,  1.63095713e-01, -3.90860438e-01, -2.88307071e-01,\n",
       "         -9.04037058e-03,  3.76943260e-01,  3.30122858e-01,  2.15196222e-01,\n",
       "          1.93829402e-01,  3.74224782e-01, -1.21055037e-01, -6.76768571e-02,\n",
       "         -2.33988725e-02,  3.52961183e-01,  1.83092192e-01, -1.79712400e-01,\n",
       "          7.42640644e-02, -9.56892818e-02, -1.35193467e-01,  3.85071397e-01,\n",
       "          2.46601611e-01,  2.81496674e-01, -3.39351818e-02, -5.87256312e-01,\n",
       "         -4.71234024e-02,  2.09404528e-01,  6.98220804e-02, -2.46889219e-02,\n",
       "          1.15948543e-02, -3.70716602e-01, -1.14506960e-01, -5.21087468e-01,\n",
       "          6.55068219e-01,  1.68741837e-01, -3.46204937e-01,  2.43213121e-02,\n",
       "          1.87823862e-01, -9.69677269e-02,  4.17556465e-02, -4.70528722e-01,\n",
       "         -6.15200222e-01,  9.63312089e-02, -9.66607481e-02,  1.89979181e-01,\n",
       "          4.42304045e-01,  4.23611879e-01, -4.23019342e-02, -6.86264038e-02,\n",
       "          3.21164221e-01,  8.58953968e-02,  3.36218029e-01, -5.94701730e-02,\n",
       "         -2.08601683e-01, -1.24648973e-01,  2.67659366e-01, -2.56038457e-01,\n",
       "          1.21418975e-01,  4.59024012e-01,  5.28153330e-02, -2.99422860e-01,\n",
       "          1.87512815e-01,  1.72197089e-01,  2.03083456e-01,  8.02600086e-01,\n",
       "          1.49076059e-01, -9.36832875e-02, -2.83812076e-01, -2.72359252e-01,\n",
       "         -3.62050235e-02,  1.12228326e-01, -2.99674422e-01,  1.28148273e-01,\n",
       "         -6.25935197e-01,  1.96511120e-01,  2.33486295e-01, -4.05327678e-02,\n",
       "         -4.59846735e-01,  2.80539393e-01,  7.94584826e-02,  2.34079167e-01,\n",
       "         -2.69827902e-01,  1.11085959e-02, -6.95749819e-02, -9.12947506e-02,\n",
       "         -4.01273429e-01, -4.02093232e-02, -6.12793118e-02, -2.14295238e-01,\n",
       "         -1.24059822e-02,  4.42810953e-02, -7.41890967e-02, -7.84678385e-02,\n",
       "          8.01974684e-02, -6.08280182e-01, -7.00416490e-02,  4.99843538e-01,\n",
       "          2.22478420e-01, -3.39381471e-02, -3.19758207e-01, -1.14147961e-01,\n",
       "          3.85343552e-01,  1.33222640e-01, -2.63374954e-01, -1.26050100e-01,\n",
       "          3.13293666e-01,  6.14108294e-02,  4.88346100e-01,  2.03566998e-01,\n",
       "         -3.87448221e-01,  2.41982549e-01, -4.77673858e-02,  2.68242918e-02,\n",
       "         -3.73928100e-01,  3.12510252e-01,  1.79378390e-01,  1.71480387e-01],\n",
       "        dtype=float32),\n",
       "  'prediction': 7}]"
      ]
     },
     "execution_count": 7,
     "metadata": {},
     "output_type": "execute_result"
    }
   ],
   "source": [
    "# y_pred (batch inference)\n",
    "pred_ds = test_ds.map_batches(\n",
    "    predictor,\n",
    "    fn_kwargs={\"device\": \"cuda\"},\n",
    "    concurrency=4,\n",
    "    batch_size=64,\n",
    "    num_gpus=1,\n",
    ")\n",
    "pred_ds.take(1)"
   ]
  },
  {
   "cell_type": "markdown",
   "metadata": {},
   "source": [
    "<p style=\"font-weight: bold; background-color: yellow; padding: 10px; display: inline;\">TODO</p>\n",
    "\n",
    "- mention how Ray data is hyper optimized for throughput so preserving order is not a priority. But for evaluation, this is crucial!\n",
    "    - mention the flag to preserve order but how that's not efficient\n",
    "    - offer your solution of preserving entire row and calculating batch metrics"
   ]
  },
  {
   "cell_type": "code",
   "execution_count": 8,
   "metadata": {},
   "outputs": [
    {
     "name": "stderr",
     "output_type": "stream",
     "text": [
      "2025-02-19 21:47:59,678\tINFO streaming_executor.py:108 -- Starting execution of Dataset. Full logs are in /tmp/ray/session_2025-02-19_20-21-51_646153_2288/logs/ray-data\n",
      "2025-02-19 21:47:59,679\tINFO streaming_executor.py:109 -- Execution plan of Dataset: InputDataBuffer[Input] -> TaskPoolMapOperator[ListFiles] -> TaskPoolMapOperator[PartitionFiles] -> TaskPoolMapOperator[ReadFiles] -> TaskPoolMapOperator[Map(add_class)->Map(Preprocessor.convert_to_label)] -> ActorPoolMapOperator[MapBatches(EmbeddingGenerator)] -> TaskPoolMapOperator[MapBatches(drop_columns)] -> TaskPoolMapOperator[MapBatches(TorchPredictor)] -> TaskPoolMapOperator[MapBatches(batch_metric)] -> AllToAllOperator[Aggregate] -> LimitOperator[limit=1]\n"
     ]
    },
    {
     "data": {
      "application/vnd.jupyter.widget-view+json": {
       "model_id": "258758c3198046c29efa3a0103f06ed3",
       "version_major": 2,
       "version_minor": 0
      },
      "text/plain": [
       "Running 0: 0.00 row [00:00, ? row/s]"
      ]
     },
     "metadata": {},
     "output_type": "display_data"
    },
    {
     "data": {
      "application/vnd.jupyter.widget-view+json": {
       "model_id": "b2590e50dc8f4116b4c16b0fc4a94c47",
       "version_major": 2,
       "version_minor": 0
      },
      "text/plain": [
       "- ListFiles 1: 0.00 row [00:00, ? row/s]"
      ]
     },
     "metadata": {},
     "output_type": "display_data"
    },
    {
     "data": {
      "application/vnd.jupyter.widget-view+json": {
       "model_id": "1fd2f07f48e44c9489743a23038407af",
       "version_major": 2,
       "version_minor": 0
      },
      "text/plain": [
       "- PartitionFiles 2: 0.00 row [00:00, ? row/s]"
      ]
     },
     "metadata": {},
     "output_type": "display_data"
    },
    {
     "data": {
      "application/vnd.jupyter.widget-view+json": {
       "model_id": "1bcefa1a25e943ff91be2d992a5b3f45",
       "version_major": 2,
       "version_minor": 0
      },
      "text/plain": [
       "- ReadFiles 3: 0.00 row [00:00, ? row/s]"
      ]
     },
     "metadata": {},
     "output_type": "display_data"
    },
    {
     "data": {
      "application/vnd.jupyter.widget-view+json": {
       "model_id": "1e586743e93242f48261d240613fde04",
       "version_major": 2,
       "version_minor": 0
      },
      "text/plain": [
       "- Map(add_class)->Map(Preprocessor.convert_to_label) 4: 0.00 row [00:00, ? row/s]"
      ]
     },
     "metadata": {},
     "output_type": "display_data"
    },
    {
     "data": {
      "application/vnd.jupyter.widget-view+json": {
       "model_id": "3b05b4255f314842a71dd0d0a46a4e96",
       "version_major": 2,
       "version_minor": 0
      },
      "text/plain": [
       "- MapBatches(EmbeddingGenerator) 5: 0.00 row [00:00, ? row/s]"
      ]
     },
     "metadata": {},
     "output_type": "display_data"
    },
    {
     "data": {
      "application/vnd.jupyter.widget-view+json": {
       "model_id": "926f41e63d5a491d94c178878e6392f5",
       "version_major": 2,
       "version_minor": 0
      },
      "text/plain": [
       "- MapBatches(drop_columns) 6: 0.00 row [00:00, ? row/s]"
      ]
     },
     "metadata": {},
     "output_type": "display_data"
    },
    {
     "data": {
      "application/vnd.jupyter.widget-view+json": {
       "model_id": "0b299fa24cfb47f6851d8014d6e4de29",
       "version_major": 2,
       "version_minor": 0
      },
      "text/plain": [
       "- MapBatches(TorchPredictor) 7: 0.00 row [00:00, ? row/s]"
      ]
     },
     "metadata": {},
     "output_type": "display_data"
    },
    {
     "data": {
      "application/vnd.jupyter.widget-view+json": {
       "model_id": "bc1b8372bf89481b8ec00758cd38c105",
       "version_major": 2,
       "version_minor": 0
      },
      "text/plain": [
       "- MapBatches(batch_metric) 8: 0.00 row [00:00, ? row/s]"
      ]
     },
     "metadata": {},
     "output_type": "display_data"
    },
    {
     "data": {
      "application/vnd.jupyter.widget-view+json": {
       "model_id": "9e4917203e314c49a14dea75458175e5",
       "version_major": 2,
       "version_minor": 0
      },
      "text/plain": [
       "- Aggregate 9: 0.00 row [00:00, ? row/s]"
      ]
     },
     "metadata": {},
     "output_type": "display_data"
    },
    {
     "data": {
      "application/vnd.jupyter.widget-view+json": {
       "model_id": "c4b869cdfd5d4a4c9a328e7a834f4a7f",
       "version_major": 2,
       "version_minor": 0
      },
      "text/plain": [
       "Sort Sample 10:   0%|          | 0.00/1.00 [00:00<?, ? row/s]"
      ]
     },
     "metadata": {},
     "output_type": "display_data"
    },
    {
     "data": {
      "application/vnd.jupyter.widget-view+json": {
       "model_id": "1f00aeda06c349ca9f365a6d6edef647",
       "version_major": 2,
       "version_minor": 0
      },
      "text/plain": [
       "Shuffle Map 11:   0%|          | 0.00/1.00 [00:00<?, ? row/s]"
      ]
     },
     "metadata": {},
     "output_type": "display_data"
    },
    {
     "data": {
      "application/vnd.jupyter.widget-view+json": {
       "model_id": "2d1d8c0a9c4e4943a32224568e79cd0e",
       "version_major": 2,
       "version_minor": 0
      },
      "text/plain": [
       "Shuffle Reduce 12:   0%|          | 0.00/1.00 [00:00<?, ? row/s]"
      ]
     },
     "metadata": {},
     "output_type": "display_data"
    },
    {
     "data": {
      "application/vnd.jupyter.widget-view+json": {
       "model_id": "2560b4f0a9b045af9d6be371a639e96d",
       "version_major": 2,
       "version_minor": 0
      },
      "text/plain": [
       "- limit=1 13: 0.00 row [00:00, ? row/s]"
      ]
     },
     "metadata": {},
     "output_type": "display_data"
    },
    {
     "name": "stderr",
     "output_type": "stream",
     "text": [
      "\u001b[36m(MapBatches(batch_metric) pid=17403, ip=10.0.103.180)\u001b[0m /home/ray/anaconda3/lib/python3.12/site-packages/sklearn/metrics/_classification.py:1565: UndefinedMetricWarning: Recall is ill-defined and being set to 0.0 in labels with no true samples. Use `zero_division` parameter to control this behavior.\n",
      "\u001b[36m(MapBatches(batch_metric) pid=17403, ip=10.0.103.180)\u001b[0m   _warn_prf(average, modifier, f\"{metric.capitalize()} is\", len(result))\n",
      "2025-02-19 21:48:37,205\tWARNING actor_pool_map_operator.py:264 -- To ensure full parallelization across an actor pool of size 4, the Dataset should consist of at least 4 distinct blocks. Consider increasing the parallelism when creating the Dataset.\n"
     ]
    }
   ],
   "source": [
    "# Calculate metrics\n",
    "metrics_ds = pred_ds.map_batches(batch_metric)\n",
    "aggregate_metrics = metrics_ds.sum([\"precision\", \"recall\", \"f1\", \"count\"])\n",
    "precision = aggregate_metrics[\"sum(precision)\"] / aggregate_metrics[\"sum(count)\"]\n",
    "recall = aggregate_metrics[\"sum(recall)\"] / aggregate_metrics[\"sum(count)\"]\n",
    "f1 = aggregate_metrics[\"sum(f1)\"] / aggregate_metrics[\"sum(count)\"]"
   ]
  },
  {
   "cell_type": "code",
   "execution_count": 9,
   "metadata": {},
   "outputs": [
    {
     "name": "stdout",
     "output_type": "stream",
     "text": [
      "Precision: 0.98\n",
      "Recall: 0.85\n",
      "F1: 0.90\n"
     ]
    }
   ],
   "source": [
    "print(f\"Precision: {precision:.2f}\")\n",
    "print(f\"Recall: {recall:.2f}\")\n",
    "print(f\"F1: {f1:.2f}\")"
   ]
  },
  {
   "cell_type": "code",
   "execution_count": 10,
   "metadata": {},
   "outputs": [
    {
     "data": {
      "text/plain": [
       "{'status': 'ok', 'restart': True}"
      ]
     },
     "execution_count": 10,
     "metadata": {},
     "output_type": "execute_result"
    },
    {
     "ename": "",
     "evalue": "",
     "output_type": "error",
     "traceback": [
      "\u001b[1;31mThe Kernel crashed while executing code in the the current cell or a previous cell. Please review the code in the cell(s) to identify a possible cause of the failure. Click <a href='https://aka.ms/vscodeJupyterKernelCrash'>here</a> for more info. View Jupyter <a href='command:jupyter.viewOutput'>log</a> for further details."
     ]
    }
   ],
   "source": [
    "import IPython\n",
    "IPython.get_ipython().kernel.do_shutdown(restart=True)"
   ]
  },
  {
   "cell_type": "code",
   "execution_count": null,
   "metadata": {},
   "outputs": [],
   "source": []
  }
 ],
 "metadata": {
  "kernelspec": {
   "display_name": "base",
   "language": "python",
   "name": "python3"
  },
  "language_info": {
   "codemirror_mode": {
    "name": "ipython",
    "version": 3
   },
   "file_extension": ".py",
   "mimetype": "text/x-python",
   "name": "python",
   "nbconvert_exporter": "python",
   "pygments_lexer": "ipython3",
   "version": "3.12.2"
  }
 },
 "nbformat": 4,
 "nbformat_minor": 2
}
