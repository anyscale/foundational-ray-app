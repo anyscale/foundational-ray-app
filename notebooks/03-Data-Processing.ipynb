{
 "cells": [
  {
   "cell_type": "code",
   "execution_count": null,
   "metadata": {},
   "outputs": [],
   "source": [
    "%load_ext autoreload\n",
    "%autoreload 2"
   ]
  },
  {
   "cell_type": "code",
   "execution_count": null,
   "metadata": {},
   "outputs": [],
   "source": [
    "import os\n",
    "import ray\n",
    "import warnings\n",
    "warnings.filterwarnings(\"ignore\")"
   ]
  },
  {
   "cell_type": "code",
   "execution_count": null,
   "metadata": {},
   "outputs": [],
   "source": [
    "from doggos.utils import add_class"
   ]
  },
  {
   "cell_type": "code",
   "execution_count": null,
   "metadata": {},
   "outputs": [
    {
     "name": "stderr",
     "output_type": "stream",
     "text": [
      "2025-02-19 21:46:16,045\tINFO worker.py:1636 -- Connecting to existing Ray cluster at address: 10.0.55.44:6379...\n",
      "2025-02-19 21:46:16,054\tINFO worker.py:1812 -- Connected to Ray cluster. View the dashboard at \u001b[1m\u001b[32mhttps://session-3apyclh1wkjd883fht6vsy8xjh.i.anyscaleuserdata.com \u001b[39m\u001b[22m\n",
      "2025-02-19 21:46:16,061\tINFO packaging.py:393 -- Pushing file package 'gcs://_ray_pkg_38952b6614b975cd0034889cea16170ba2a3be71.zip' (2.86MiB) to Ray cluster...\n",
      "2025-02-19 21:46:16,088\tINFO packaging.py:406 -- Successfully pushed file package 'gcs://_ray_pkg_38952b6614b975cd0034889cea16170ba2a3be71.zip'.\n"
     ]
    }
   ],
   "source": [
    "# Load data\n",
    "ds = ray.data.read_images(\n",
    "    \"s3://doggos-dataset/train\", \n",
    "    include_paths=True, \n",
    "    shuffle=\"files\",\n",
    ")\n",
    "ds = ds.map(add_class)  # add class"
   ]
  },
  {
   "cell_type": "markdown",
   "metadata": {},
   "source": [
    "### Data Preprocessing"
   ]
  },
  {
   "cell_type": "markdown",
   "metadata": {},
   "source": [
    "<p style=\"font-weight: bold; background-color: yellow; padding: 10px; display: inline;\">TODO</p>\n",
    "\n",
    "- overall diagram for this section (more detailed than overall e2e)"
   ]
  },
  {
   "cell_type": "code",
   "execution_count": null,
   "metadata": {},
   "outputs": [],
   "source": [
    "from doggos.embed import EmbeddingGenerator"
   ]
  },
  {
   "cell_type": "code",
   "execution_count": null,
   "metadata": {},
   "outputs": [],
   "source": [
    "class Preprocessor:\n",
    "    \"\"\"Preprocessor class.\"\"\"\n",
    "    def __init__(self, class_to_label={}):\n",
    "        self.class_to_label = class_to_label or {}  # mutable defaults\n",
    "        self.label_to_class = {v: k for k, v in self.class_to_label.items()}\n",
    "        \n",
    "    def fit(self, ds, column):\n",
    "        self.classes = ds.unique(column=column)\n",
    "        self.class_to_label = {tag: i for i, tag in enumerate(self.classes)}\n",
    "        self.label_to_class = {v: k for k, v in self.class_to_label.items()}\n",
    "        return self\n",
    "\n",
    "    def convert_to_label(self, row, class_to_label):\n",
    "        if \"class\" in row:\n",
    "            row[\"label\"] = class_to_label[row[\"class\"]]\n",
    "        return row\n",
    "    \n",
    "    def transform(self, ds, concurrency=4, batch_size=64, num_gpus=1):\n",
    "        ds = ds.map(\n",
    "            self.convert_to_label, \n",
    "            fn_kwargs={\"class_to_label\": self.class_to_label},\n",
    "        )\n",
    "        ds = ds.map_batches(\n",
    "            EmbeddingGenerator,\n",
    "            fn_constructor_kwargs={\"model_id\": \"openai/clip-vit-base-patch32\"},\n",
    "            fn_kwargs={\"device\": \"cuda\"}, \n",
    "            concurrency=concurrency, \n",
    "            batch_size=batch_size,\n",
    "            num_gpus=num_gpus,\n",
    "        )\n",
    "        ds = ds.drop_columns([\"image\"])\n",
    "        return ds\n",
    "\n",
    "    def save(self, fp):\n",
    "        with open(fp, \"w\") as f:\n",
    "            json.dump(self.class_to_label, f)"
   ]
  },
  {
   "cell_type": "code",
   "execution_count": null,
   "metadata": {},
   "outputs": [
    {
     "name": "stderr",
     "output_type": "stream",
     "text": [
      "2025-02-19 21:46:18,232\tINFO streaming_executor.py:108 -- Starting execution of Dataset. Full logs are in /tmp/ray/session_2025-02-19_20-21-51_646153_2288/logs/ray-data\n",
      "2025-02-19 21:46:18,232\tINFO streaming_executor.py:109 -- Execution plan of Dataset: InputDataBuffer[Input] -> TaskPoolMapOperator[ListFiles] -> AllToAllOperator[RandomShuffle] -> TaskPoolMapOperator[PartitionFiles] -> TaskPoolMapOperator[ReadFiles] -> TaskPoolMapOperator[Map(add_class)->Project] -> AllToAllOperator[Aggregate]\n"
     ]
    },
    {
     "data": {
      "application/vnd.jupyter.widget-view+json": {
       "model_id": "78e09ac0ea284fb78a0ffeca0608583f",
       "version_major": 2,
       "version_minor": 0
      },
      "text/plain": [
       "Running 0: 0.00 row [00:00, ? row/s]"
      ]
     },
     "metadata": {},
     "output_type": "display_data"
    },
    {
     "data": {
      "application/vnd.jupyter.widget-view+json": {
       "model_id": "2ad68d2d50d14f75b3baa0a08284e468",
       "version_major": 2,
       "version_minor": 0
      },
      "text/plain": [
       "- ListFiles 1: 0.00 row [00:00, ? row/s]"
      ]
     },
     "metadata": {},
     "output_type": "display_data"
    },
    {
     "data": {
      "application/vnd.jupyter.widget-view+json": {
       "model_id": "1e66211d90f94f4ea3d0be578350731b",
       "version_major": 2,
       "version_minor": 0
      },
      "text/plain": [
       "- RandomShuffle 2: 0.00 row [00:00, ? row/s]"
      ]
     },
     "metadata": {},
     "output_type": "display_data"
    },
    {
     "data": {
      "application/vnd.jupyter.widget-view+json": {
       "model_id": "e01e0b44c9874dd0a7f9b381d3c5a67b",
       "version_major": 2,
       "version_minor": 0
      },
      "text/plain": [
       "Shuffle Map 3:   0%|          | 0.00/1.00 [00:00<?, ? row/s]"
      ]
     },
     "metadata": {},
     "output_type": "display_data"
    },
    {
     "data": {
      "application/vnd.jupyter.widget-view+json": {
       "model_id": "8960c936982c4769ad75b08e03ed7c31",
       "version_major": 2,
       "version_minor": 0
      },
      "text/plain": [
       "Shuffle Reduce 4:   0%|          | 0.00/1.00 [00:00<?, ? row/s]"
      ]
     },
     "metadata": {},
     "output_type": "display_data"
    },
    {
     "data": {
      "application/vnd.jupyter.widget-view+json": {
       "model_id": "79eeae78cd394bfeb96a44f306c049eb",
       "version_major": 2,
       "version_minor": 0
      },
      "text/plain": [
       "- PartitionFiles 5: 0.00 row [00:00, ? row/s]"
      ]
     },
     "metadata": {},
     "output_type": "display_data"
    },
    {
     "data": {
      "application/vnd.jupyter.widget-view+json": {
       "model_id": "6216f6d17f044885ac6441e269c85d5b",
       "version_major": 2,
       "version_minor": 0
      },
      "text/plain": [
       "- ReadFiles 6: 0.00 row [00:00, ? row/s]"
      ]
     },
     "metadata": {},
     "output_type": "display_data"
    },
    {
     "data": {
      "application/vnd.jupyter.widget-view+json": {
       "model_id": "25ec9ca6637d4f26828784eaea41e345",
       "version_major": 2,
       "version_minor": 0
      },
      "text/plain": [
       "- Map(add_class)->Project 7: 0.00 row [00:00, ? row/s]"
      ]
     },
     "metadata": {},
     "output_type": "display_data"
    },
    {
     "data": {
      "application/vnd.jupyter.widget-view+json": {
       "model_id": "9a029dad97d64e5b8195d6ed13d07044",
       "version_major": 2,
       "version_minor": 0
      },
      "text/plain": [
       "- Aggregate 8: 0.00 row [00:00, ? row/s]"
      ]
     },
     "metadata": {},
     "output_type": "display_data"
    },
    {
     "data": {
      "application/vnd.jupyter.widget-view+json": {
       "model_id": "436f91dee6214cd0b9d2ac3026640c3a",
       "version_major": 2,
       "version_minor": 0
      },
      "text/plain": [
       "Sort Sample 9:   0%|          | 0.00/1.00 [00:00<?, ? row/s]"
      ]
     },
     "metadata": {},
     "output_type": "display_data"
    },
    {
     "data": {
      "application/vnd.jupyter.widget-view+json": {
       "model_id": "552c31c83ca64c95a0277ebf78949208",
       "version_major": 2,
       "version_minor": 0
      },
      "text/plain": [
       "Shuffle Map 10:   0%|          | 0.00/1.00 [00:00<?, ? row/s]"
      ]
     },
     "metadata": {},
     "output_type": "display_data"
    },
    {
     "data": {
      "application/vnd.jupyter.widget-view+json": {
       "model_id": "b0b9c907cee8436cb011a60b9fa57323",
       "version_major": 2,
       "version_minor": 0
      },
      "text/plain": [
       "Shuffle Reduce 11:   0%|          | 0.00/1.00 [00:00<?, ? row/s]"
      ]
     },
     "metadata": {},
     "output_type": "display_data"
    },
    {
     "name": "stderr",
     "output_type": "stream",
     "text": [
      "2025-02-19 21:46:47,267\tINFO dataset.py:2631 -- Tip: Use `take_batch()` instead of `take() / show()` to return records in pandas or numpy batch format.\n",
      "2025-02-19 21:46:47,272\tINFO streaming_executor.py:108 -- Starting execution of Dataset. Full logs are in /tmp/ray/session_2025-02-19_20-21-51_646153_2288/logs/ray-data\n",
      "2025-02-19 21:46:47,272\tINFO streaming_executor.py:109 -- Execution plan of Dataset: InputDataBuffer[Input] -> TaskPoolMapOperator[ListFiles] -> AllToAllOperator[RandomShuffle] -> TaskPoolMapOperator[PartitionFiles] -> TaskPoolMapOperator[ReadFiles] -> TaskPoolMapOperator[Map(add_class)->Map(Preprocessor.convert_to_label)] -> ActorPoolMapOperator[MapBatches(EmbeddingGenerator)] -> TaskPoolMapOperator[MapBatches(drop_columns)] -> LimitOperator[limit=1]\n"
     ]
    },
    {
     "data": {
      "application/vnd.jupyter.widget-view+json": {
       "model_id": "8e44fa9a70bd4c2694094d7c32d42b92",
       "version_major": 2,
       "version_minor": 0
      },
      "text/plain": [
       "Running 0: 0.00 row [00:00, ? row/s]"
      ]
     },
     "metadata": {},
     "output_type": "display_data"
    },
    {
     "data": {
      "application/vnd.jupyter.widget-view+json": {
       "model_id": "38c4ad7174644097a2742d6aa5791776",
       "version_major": 2,
       "version_minor": 0
      },
      "text/plain": [
       "- ListFiles 1: 0.00 row [00:00, ? row/s]"
      ]
     },
     "metadata": {},
     "output_type": "display_data"
    },
    {
     "data": {
      "application/vnd.jupyter.widget-view+json": {
       "model_id": "0bb9f9029291420b97d511f7183c8495",
       "version_major": 2,
       "version_minor": 0
      },
      "text/plain": [
       "- RandomShuffle 2: 0.00 row [00:00, ? row/s]"
      ]
     },
     "metadata": {},
     "output_type": "display_data"
    },
    {
     "data": {
      "application/vnd.jupyter.widget-view+json": {
       "model_id": "b60c9d0d51b543ab9cca7fd4f5686b81",
       "version_major": 2,
       "version_minor": 0
      },
      "text/plain": [
       "Shuffle Map 3:   0%|          | 0.00/1.00 [00:00<?, ? row/s]"
      ]
     },
     "metadata": {},
     "output_type": "display_data"
    },
    {
     "data": {
      "application/vnd.jupyter.widget-view+json": {
       "model_id": "9b8e52c877694e88b797422256ee63f6",
       "version_major": 2,
       "version_minor": 0
      },
      "text/plain": [
       "Shuffle Reduce 4:   0%|          | 0.00/1.00 [00:00<?, ? row/s]"
      ]
     },
     "metadata": {},
     "output_type": "display_data"
    },
    {
     "data": {
      "application/vnd.jupyter.widget-view+json": {
       "model_id": "ea5c15d4660a49278f10e4db2e698466",
       "version_major": 2,
       "version_minor": 0
      },
      "text/plain": [
       "- PartitionFiles 5: 0.00 row [00:00, ? row/s]"
      ]
     },
     "metadata": {},
     "output_type": "display_data"
    },
    {
     "data": {
      "application/vnd.jupyter.widget-view+json": {
       "model_id": "38c0e8481a4b41bf9b4f6a0ef10f32c9",
       "version_major": 2,
       "version_minor": 0
      },
      "text/plain": [
       "- ReadFiles 6: 0.00 row [00:00, ? row/s]"
      ]
     },
     "metadata": {},
     "output_type": "display_data"
    },
    {
     "data": {
      "application/vnd.jupyter.widget-view+json": {
       "model_id": "d21dfbb248db42419dc1d18ba9e5a155",
       "version_major": 2,
       "version_minor": 0
      },
      "text/plain": [
       "- Map(add_class)->Map(Preprocessor.convert_to_label) 7: 0.00 row [00:00, ? row/s]"
      ]
     },
     "metadata": {},
     "output_type": "display_data"
    },
    {
     "data": {
      "application/vnd.jupyter.widget-view+json": {
       "model_id": "96b3fe11b8ff48f09989fd1ebf94b622",
       "version_major": 2,
       "version_minor": 0
      },
      "text/plain": [
       "- MapBatches(EmbeddingGenerator) 8: 0.00 row [00:00, ? row/s]"
      ]
     },
     "metadata": {},
     "output_type": "display_data"
    },
    {
     "data": {
      "application/vnd.jupyter.widget-view+json": {
       "model_id": "203c3b482f134f8f84023fd6ef5049ad",
       "version_major": 2,
       "version_minor": 0
      },
      "text/plain": [
       "- MapBatches(drop_columns) 9: 0.00 row [00:00, ? row/s]"
      ]
     },
     "metadata": {},
     "output_type": "display_data"
    },
    {
     "data": {
      "application/vnd.jupyter.widget-view+json": {
       "model_id": "99c13e3e05c24fb7a4e91e8d23a49e33",
       "version_major": 2,
       "version_minor": 0
      },
      "text/plain": [
       "- limit=1 10: 0.00 row [00:00, ? row/s]"
      ]
     },
     "metadata": {},
     "output_type": "display_data"
    },
    {
     "data": {
      "text/plain": [
       "[{'path': 'doggos-dataset/train/chihuahua/chihuahua_9351.jpg',\n",
       "  'class': 'chihuahua',\n",
       "  'label': 7,\n",
       "  'embedding': array([ 5.14690615e-02,  4.56984550e-01, -1.96141481e-01,  1.96072102e-01,\n",
       "          3.63849178e-02, -9.10888519e-03,  8.13270450e-01, -4.60949033e-01,\n",
       "         -1.20805547e-01,  4.77093220e-01, -2.13734910e-01,  7.84118474e-02,\n",
       "         -2.26395577e-02,  4.01064634e-01,  2.08187252e-01, -1.83848500e-01,\n",
       "          6.94388509e-01,  1.16164386e-01,  2.97221482e-01, -1.05287388e-01,\n",
       "         -2.95525976e-02,  6.30802810e-02,  8.02717268e-01, -4.17372920e-02,\n",
       "         -1.29790753e-01,  2.96382383e-02,  3.50249171e-01,  8.16543251e-02,\n",
       "         -8.15885141e-02,  5.16429879e-02,  2.69967824e-01,  2.62760997e-01,\n",
       "         -2.02631578e-01, -4.41727526e-02,  1.73084587e-02, -1.95053637e-01,\n",
       "          3.69352162e-01,  8.56357589e-02, -5.04600704e-01,  1.63473415e+00,\n",
       "         -2.70452470e-01, -5.48010245e-02,  3.38966310e-01, -1.84092671e-01,\n",
       "          2.83674031e-01, -5.40114641e-01, -3.24178934e-02,  1.82580501e-01,\n",
       "         -2.80012459e-01, -2.77766809e-02,  8.56505781e-02,  3.22863072e-01,\n",
       "         -4.28545624e-01,  3.44957054e-01,  2.40190715e-01, -1.63579240e-01,\n",
       "          8.02147985e-02,  1.27133101e-01, -2.91206598e-01,  3.11998725e-01,\n",
       "          1.57197833e+00,  2.11200178e-01,  5.40201783e-01,  5.06897122e-02,\n",
       "         -3.71967219e-02, -1.05951451e-01,  1.29920810e-01,  1.10466099e+00,\n",
       "         -2.42923662e-01, -2.10174799e-01,  1.16218537e-01,  4.46687758e-01,\n",
       "          2.48800263e-01,  3.21433961e-01,  3.04136127e-02, -2.96196461e-01,\n",
       "          2.87867934e-01, -3.01521063e-01,  6.73938766e-02, -9.51029360e-03,\n",
       "          1.68279022e-01, -2.99930096e-01,  8.44018459e-02, -8.40963185e-01,\n",
       "          1.24452502e-01, -2.62686044e-01,  1.16986430e+00, -4.25975770e-01,\n",
       "          1.26952246e-01, -1.79956630e-01, -1.95350364e-01, -6.85888410e-01,\n",
       "         -7.40046310e+00,  4.36596841e-01, -7.42226720e-01,  1.75171420e-01,\n",
       "         -8.19312409e-03, -2.54229009e-01, -2.04500124e-01,  1.40724111e+00,\n",
       "          3.77426267e-01, -1.61494762e-01, -7.83015564e-02, -6.18569627e-02,\n",
       "          2.88765281e-01, -9.15382430e-02,  5.66980004e-01, -3.51611346e-01,\n",
       "         -7.60265589e-02, -7.57937655e-02, -2.44325832e-01, -6.00318015e-01,\n",
       "          1.68983370e-01, -2.49573827e-01,  1.36003599e-01,  3.83820504e-01,\n",
       "         -4.07342821e-01, -2.41708755e-03,  1.67601764e-01,  6.18523240e-01,\n",
       "          1.20387204e-01, -4.70173836e-01,  3.64783078e-01,  3.14788967e-01,\n",
       "          2.10542858e-01, -7.46958911e-01, -8.14391971e-02,  4.30746436e-01,\n",
       "         -2.95996934e-01, -1.51293561e-01,  2.83374727e-01, -2.07175940e-01,\n",
       "         -2.87141919e-01,  8.46387744e-01, -4.10025209e-01,  2.77676463e-01,\n",
       "         -6.31167740e-03, -4.18378651e-01, -5.57674527e-01, -1.37293395e-02,\n",
       "         -2.67319709e-01, -2.37157509e-01, -4.82553691e-01, -2.64252219e-02,\n",
       "         -2.27403194e-01, -5.79881445e-02,  3.25078487e-01,  3.32127005e-01,\n",
       "          2.55839564e-02,  3.83803904e-01, -1.74527735e-01,  1.38249546e-01,\n",
       "         -2.00098723e-01,  1.96703121e-01, -6.27321839e-01,  3.92814815e-01,\n",
       "         -2.07039505e-01, -6.26571715e-01, -3.61696452e-01,  7.78085440e-02,\n",
       "          1.72128841e-01, -1.44545346e-01,  2.89789945e-01, -1.57844841e-01,\n",
       "          1.03867799e-01, -8.66980433e-01,  2.45638974e-02,  2.50100017e-01,\n",
       "          1.33541316e-01,  4.42400545e-01, -6.80024400e-02,  2.05448493e-01,\n",
       "         -1.66240364e-01, -3.26299034e-02,  1.88087568e-01, -3.73043388e-01,\n",
       "          1.53424883e+00, -1.22524135e-01,  6.75584853e-01, -1.47180974e-01,\n",
       "          4.22798619e-02,  8.29335004e-02,  6.33437514e-01, -1.57808408e-01,\n",
       "          7.19829649e-02, -1.74470335e-01, -2.45883495e-01,  2.56354839e-01,\n",
       "         -3.11068147e-01, -2.62902007e-02,  1.01374440e-01, -1.76358804e-01,\n",
       "          3.10045481e-01, -1.75804377e-01,  5.06278217e-01,  3.35952938e-01,\n",
       "          9.31585431e-02, -1.60549581e-02, -8.51039767e-01, -3.55997086e-02,\n",
       "          2.57950127e-01, -1.79700837e-01,  8.07861090e-02,  1.68385655e-01,\n",
       "         -2.77732641e-01, -9.00911763e-02,  3.66604179e-01, -7.81492516e-02,\n",
       "          1.88300982e-02, -1.21566951e-02, -6.29456580e-01,  6.07312098e-02,\n",
       "         -3.19986761e-01,  7.01185614e-02, -1.41217276e-01, -3.20181549e-01,\n",
       "         -1.93343610e-01,  1.37446135e-01,  1.61409259e+00, -1.37961090e-01,\n",
       "          7.75033414e-01,  1.52585521e-01, -4.57299724e-02, -3.66457850e-02,\n",
       "         -2.74767503e-02, -2.14710757e-02,  4.04706448e-01,  2.35164165e-01,\n",
       "         -2.58604616e-01,  4.11626577e-01,  6.16465986e-01, -3.20482373e-01,\n",
       "          8.79788548e-02,  1.57628432e-01,  1.67178195e-02,  2.82446682e-01,\n",
       "         -3.11672688e-01, -1.17508546e-01, -2.01683789e-02, -2.18681514e-01,\n",
       "         -4.23198938e-01,  1.70786873e-01,  3.80520701e-01, -1.63840771e-01,\n",
       "         -1.92609608e-01,  7.26143360e-01,  5.60652077e-01, -6.20953977e-01,\n",
       "          2.68251538e-01,  4.14334595e-01,  4.45784181e-02,  5.86740375e-02,\n",
       "         -1.90468222e-01,  3.93109798e-01,  3.06823730e-01, -1.51271418e-01,\n",
       "         -2.20475554e-01, -2.10023999e-01,  1.64496347e-01, -3.99689376e-01,\n",
       "          2.04344019e-02,  8.09738278e-01,  1.94510549e-01, -9.37789202e-01,\n",
       "          2.30844710e-02, -2.80138195e-01,  3.97997856e-01, -4.60158259e-01,\n",
       "         -3.74805719e-01,  8.41333270e-02,  2.81736493e-01, -9.91405547e-03,\n",
       "          5.36275506e-01,  1.58089269e-02,  3.01896930e-01,  2.45981365e-02,\n",
       "         -2.16278821e-01, -4.80505824e-02,  2.47511521e-01,  2.06617996e-01,\n",
       "         -3.12707126e-01, -1.72375366e-02, -6.50924146e-01, -1.06676118e-02,\n",
       "         -5.95178962e-01,  6.68673754e-01,  7.70160735e-01, -3.90681922e-02,\n",
       "         -2.09033087e-01,  2.15194479e-01, -2.18444690e-01, -2.31735725e-02,\n",
       "         -1.01509355e-01,  4.64028455e-02, -2.75175810e-01, -5.84011793e-01,\n",
       "          5.16698599e-01,  1.21995807e-04, -2.46198326e-01, -6.74433559e-02,\n",
       "         -3.85806471e-01, -1.55058771e-01, -2.18583852e-01, -2.16792375e-01,\n",
       "          3.76870334e-01, -2.19400674e-01,  1.35093316e-01, -3.23341191e-01,\n",
       "          1.46075606e-01,  2.80153066e-01, -4.59021211e-01,  5.05626559e-01,\n",
       "          8.45287323e-01, -2.91181445e-01,  4.51529622e-02,  4.13488150e-01,\n",
       "         -2.73480862e-01,  5.10645151e-01, -5.16675711e-01, -1.22521460e-01,\n",
       "          1.17613062e-01,  6.65812552e-01, -4.30592209e-01,  2.54529297e-01,\n",
       "         -4.33806181e-02,  3.31822544e-01, -1.92022353e-01,  5.57656884e-01,\n",
       "         -6.21856004e-02, -3.82013470e-02,  2.32248873e-01, -4.09524322e-01,\n",
       "          4.45218027e-01,  3.54962111e-01, -2.85041630e-01,  4.22196984e-02,\n",
       "         -3.84685323e-02, -1.27127767e-01, -2.17365921e-02, -4.84586239e-01,\n",
       "         -1.99131161e-01, -5.50153218e-02, -1.14137389e-01,  1.94477126e-01,\n",
       "          4.48961735e-01, -1.65068522e-01, -3.25012088e-01,  2.80636221e-01,\n",
       "          2.35699564e-01,  2.75934815e-01, -2.83221334e-01, -1.48049623e-01,\n",
       "          5.83387494e-01, -2.92252839e-01, -7.23688006e-02,  4.68742788e-01,\n",
       "         -3.90618593e-02, -6.89098239e-03, -1.79296836e-01,  2.63892919e-01,\n",
       "          2.22330302e-01,  6.04298338e-02, -3.59845236e-02,  2.87179053e-01,\n",
       "         -1.04987276e+00,  1.48066282e-01, -4.36904877e-01, -3.19971204e-01,\n",
       "          8.38981569e-02, -3.93721938e-01, -1.19603217e-01,  5.58503196e-02,\n",
       "          7.22611174e-02,  9.28570330e-03, -2.03599915e-01,  5.58593534e-02,\n",
       "          1.57168174e+00,  1.56589553e-01, -1.05779314e+00,  1.54573619e-01,\n",
       "          1.03703558e-01, -4.73249614e-01, -6.70621872e-01,  1.65906206e-01,\n",
       "          1.32587910e-01, -4.83465195e-02, -5.15749693e-01,  1.40672266e-01,\n",
       "          3.37721884e-01, -1.74005008e+00, -3.79982919e-01, -8.74968410e-01,\n",
       "          1.71745270e-01,  1.01677760e-01,  2.37297177e-01,  2.76135713e-01,\n",
       "          8.98769125e-02, -2.28438094e-01, -6.15714967e-01, -3.88658643e-01,\n",
       "          6.77864477e-02,  1.47590742e-01,  4.39043403e-01,  1.82969555e-01,\n",
       "         -3.85417551e-01,  1.71693996e-01,  1.32738620e-01, -3.32904845e-01,\n",
       "          2.50189543e-01, -1.22795522e-01,  3.50482851e-01,  1.27392590e-01,\n",
       "         -1.33133382e-02,  2.09725633e-01, -2.83300042e-01, -3.33190858e-02,\n",
       "         -1.55446306e-01, -6.59051239e-02,  4.38752353e-01, -4.31016922e-01,\n",
       "         -6.64185137e-02,  5.59497237e-01,  1.95281133e-01,  2.89117992e-01,\n",
       "          1.96770608e-01,  1.32581592e-03,  3.95894706e-01, -3.16334844e-01,\n",
       "          7.97987521e-01, -3.84683609e-01, -2.14975812e-02, -4.65100221e-02,\n",
       "          3.87184918e-01,  9.55142081e-03, -1.34937108e-01, -2.28504419e-01,\n",
       "         -2.68648803e-01,  1.02345288e-01, -1.11697555e-01, -5.18466055e-01,\n",
       "          3.02322596e-01,  1.75438464e-01, -1.35221615e-01, -8.53785798e-02,\n",
       "         -9.97138470e-02, -3.18175495e-01,  2.21347213e-02, -1.43030703e-01,\n",
       "         -2.63399810e-01, -1.31764710e-01,  1.61111906e-01, -4.85974550e-02,\n",
       "         -1.76866174e-01,  4.40357089e-01, -3.57592881e-01,  2.03232825e-01,\n",
       "          4.08278108e-01,  3.15584064e-01, -8.21863115e-02,  5.14566422e-01,\n",
       "          1.81980431e-03,  8.07451904e-02, -1.85918182e-01, -3.93089354e-01,\n",
       "          4.45000798e-01,  3.11491519e-01, -1.25667781e-01, -5.65966964e-01,\n",
       "         -5.16966760e-01,  3.31101835e-01, -1.26567438e-01,  2.86132425e-01,\n",
       "         -4.41581488e-01, -3.32381465e-02, -1.29565299e-01, -3.28525037e-01,\n",
       "         -3.00594807e-01, -3.35970342e-01, -2.79806376e-01, -2.25717068e-01,\n",
       "          1.91233605e-02,  2.36372709e-01,  5.36626130e-02, -2.37521753e-01,\n",
       "         -6.45922422e-01,  2.94391513e-01, -6.86627403e-02, -7.74402916e-02,\n",
       "         -2.38469794e-01, -1.73547640e-01, -5.59395075e-01, -2.23544747e-01,\n",
       "          7.35005260e-01, -1.86533019e-01,  2.87507683e-01,  1.37580231e-01,\n",
       "         -1.61670491e-01,  2.19145790e-01, -3.65764737e-01, -1.88679099e-01,\n",
       "         -2.55039901e-01,  1.67592630e-01, -1.83626831e-01,  9.22954679e-02,\n",
       "         -2.79904962e-01,  1.76605701e-01, -2.74283588e-01,  3.24088931e-02,\n",
       "         -2.35183895e-01,  1.21834373e+00,  2.18818709e-01,  3.22966576e-01],\n",
       "        dtype=float32)}]"
      ]
     },
     "execution_count": null,
     "metadata": {},
     "output_type": "execute_result"
    }
   ],
   "source": [
    "# Preprocess\n",
    "preprocessor = Preprocessor()\n",
    "preprocessor = preprocessor.fit(ds, column=\"class\")\n",
    "ds = preprocessor.transform(ds=ds)\n",
    "ds.take(1)"
   ]
  },
  {
   "cell_type": "markdown",
   "metadata": {},
   "source": [
    "<p style=\"font-weight: bold; background-color: yellow; padding: 10px; display: inline;\">TODO</p>\n",
    "\n",
    "- explain what's happening in the preprocessor.transform()\n",
    "- mention the scale and fault tolerance\n",
    "- mention how we can easily have heterogenous workloads\n",
    "- mention how CPU/GPU idle time is eliminated with [streaming exection](https://www.anyscale.com/blog/streaming-distributed-execution-across-cpus-and-gpus) (and [visual](https://www.anyscale.com/blog/offline-batch-inference-comparing-ray-apache-spark-and-sagemaker))\n",
    "- mention optimizations\n",
    "- mention RayTurbo utils for data\n",
    "- mention Ray Data advantages over spark (for unstructure and structured)"
   ]
  },
  {
   "cell_type": "code",
   "execution_count": null,
   "metadata": {},
   "outputs": [
    {
     "data": {
      "text/plain": [
       "{'status': 'ok', 'restart': True}"
      ]
     },
     "execution_count": null,
     "metadata": {},
     "output_type": "execute_result"
    },
    {
     "ename": "",
     "evalue": "",
     "output_type": "error",
     "traceback": [
      "\u001b[1;31mThe Kernel crashed while executing code in the the current cell or a previous cell. Please review the code in the cell(s) to identify a possible cause of the failure. Click <a href='https://aka.ms/vscodeJupyterKernelCrash'>here</a> for more info. View Jupyter <a href='command:jupyter.viewOutput'>log</a> for further details."
     ]
    }
   ],
   "source": [
    "import IPython\n",
    "IPython.get_ipython().kernel.do_shutdown(restart=True)"
   ]
  },
  {
   "cell_type": "code",
   "execution_count": null,
   "metadata": {},
   "outputs": [],
   "source": []
  }
 ],
 "metadata": {
  "kernelspec": {
   "display_name": "base",
   "language": "python",
   "name": "python3"
  },
  "language_info": {
   "codemirror_mode": {
    "name": "ipython",
    "version": 3
   },
   "file_extension": ".py",
   "mimetype": "text/x-python",
   "name": "python",
   "nbconvert_exporter": "python",
   "pygments_lexer": "ipython3",
   "version": "3.12.2"
  }
 },
 "nbformat": 4,
 "nbformat_minor": 2
}
