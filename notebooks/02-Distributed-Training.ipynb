{
 "cells": [
  {
   "cell_type": "markdown",
   "metadata": {},
   "source": [
    "# Distributed training\n",
    "\n",
    "<div align=\"left\">\n",
    "<a target=\"_blank\" href=\"https://console.anyscale.com/\"><img src=\"https://img.shields.io/badge/🚀 Run_on-Anyscale-9hf\"></a>&nbsp;\n",
    "<a href=\"https://github.com/anyscale/foundational-ray-app\" role=\"button\"><img src=\"https://img.shields.io/static/v1?label=&amp;message=View%20On%20GitHub&amp;color=586069&amp;logo=github&amp;labelColor=2f363d\"></a>&nbsp;\n",
    "</div>\n",
    "\n",
    "In this tutorial, we'll execute a distributed training workload that will connect the following heterogenous workloads:\n",
    "- preprocess the dataset prior to training\n",
    "- distributed training with Ray Train and PyTorch (with observability)\n",
    "- evaluation (batch inference + eval logic)\n",
    "- save model artifacts to a model registry (MLOps)\n",
    "\n",
    "**Note**: we won't be tuning our model in this tutorial but be sure to check out [Ray Tune](https://docs.ray.io/en/latest/tune/index.html) for experiment execution and hyperparameter tuning at any scale.\n",
    "\n",
    "<img src=\"https://raw.githubusercontent.com/anyscale/foundational-ray-app/refs/heads/main/images/distributed_training.png\" width=800>"
   ]
  },
  {
   "cell_type": "code",
   "execution_count": null,
   "metadata": {},
   "outputs": [],
   "source": [
    "%load_ext autoreload\n",
    "%autoreload all"
   ]
  },
  {
   "cell_type": "code",
   "execution_count": null,
   "metadata": {},
   "outputs": [],
   "source": [
    "import os\n",
    "import ray\n",
    "import sys\n",
    "sys.path.append(os.path.abspath(\"..\"))"
   ]
  },
  {
   "cell_type": "code",
   "execution_count": null,
   "metadata": {},
   "outputs": [
    {
     "name": "stderr",
     "output_type": "stream",
     "text": [
      "2025-04-03 12:05:01,633\tINFO worker.py:1665 -- Connecting to existing Ray cluster at address: 10.0.60.75:6379...\n",
      "2025-04-03 12:05:01,644\tINFO worker.py:1849 -- Connected to Ray cluster. View the dashboard at \u001b[1m\u001b[32mhttps://session-fyhrc759flh928h7czptpn79mb.i.anyscaleuserdata.com \u001b[39m\u001b[22m\n",
      "2025-04-03 12:05:01,690\tINFO packaging.py:575 -- Creating a file package for local module '/home/ray/default'.\n",
      "2025-04-03 12:05:01,747\tINFO packaging.py:367 -- Pushing file package 'gcs://_ray_pkg_8d4e1742b75472ad.zip' (8.50MiB) to Ray cluster...\n",
      "2025-04-03 12:05:01,786\tINFO packaging.py:380 -- Successfully pushed file package 'gcs://_ray_pkg_8d4e1742b75472ad.zip'.\n"
     ]
    },
    {
     "data": {
      "application/vnd.jupyter.widget-view+json": {
       "model_id": "a44dbca8049c465f931b7c8d0b3025e9",
       "version_major": 2,
       "version_minor": 0
      },
      "text/html": [
       "<div class=\"lm-Widget p-Widget lm-Panel p-Panel jp-Cell-outputWrapper\">\n",
       "    <div style=\"margin-left: 50px;display: flex;flex-direction: row;align-items: center\">\n",
       "        <div class=\"jp-RenderedHTMLCommon\" style=\"display: flex; flex-direction: row;\">\n",
       "  <svg viewBox=\"0 0 567 224\" fill=\"none\" xmlns=\"http://www.w3.org/2000/svg\" style=\"height: 3em;\">\n",
       "    <g clip-path=\"url(#clip0_4338_178347)\">\n",
       "        <path d=\"M341.29 165.561H355.29L330.13 129.051C345.63 123.991 354.21 112.051 354.21 94.2307C354.21 71.3707 338.72 58.1807 311.88 58.1807H271V165.561H283.27V131.661H311.8C314.25 131.661 316.71 131.501 319.01 131.351L341.25 165.561H341.29ZM283.29 119.851V70.0007H311.82C331.3 70.0007 342.34 78.2907 342.34 94.5507C342.34 111.271 331.34 119.861 311.82 119.861L283.29 119.851ZM451.4 138.411L463.4 165.561H476.74L428.74 58.1807H416L367.83 165.561H380.83L392.83 138.411H451.4ZM446.19 126.601H398L422 72.1407L446.24 126.601H446.19ZM526.11 128.741L566.91 58.1807H554.35L519.99 114.181L485.17 58.1807H472.44L514.01 129.181V165.541H526.13V128.741H526.11Z\" fill=\"var(--jp-ui-font-color0)\"/>\n",
       "        <path d=\"M82.35 104.44C84.0187 97.8827 87.8248 92.0678 93.1671 87.9146C98.5094 83.7614 105.083 81.5067 111.85 81.5067C118.617 81.5067 125.191 83.7614 130.533 87.9146C135.875 92.0678 139.681 97.8827 141.35 104.44H163.75C164.476 101.562 165.622 98.8057 167.15 96.2605L127.45 56.5605C121.071 60.3522 113.526 61.6823 106.235 60.3005C98.9443 58.9187 92.4094 54.9203 87.8602 49.0574C83.3109 43.1946 81.0609 35.8714 81.5332 28.4656C82.0056 21.0599 85.1679 14.0819 90.4252 8.8446C95.6824 3.60726 102.672 0.471508 110.08 0.0272655C117.487 -0.416977 124.802 1.86091 130.647 6.4324C136.493 11.0039 140.467 17.5539 141.821 24.8501C143.175 32.1463 141.816 39.6859 138 46.0505L177.69 85.7505C182.31 82.9877 187.58 81.4995 192.962 81.4375C198.345 81.3755 203.648 82.742 208.33 85.3976C213.012 88.0532 216.907 91.9029 219.616 96.5544C222.326 101.206 223.753 106.492 223.753 111.875C223.753 117.258 222.326 122.545 219.616 127.197C216.907 131.848 213.012 135.698 208.33 138.353C203.648 141.009 198.345 142.375 192.962 142.313C187.58 142.251 182.31 140.763 177.69 138L138 177.7C141.808 184.071 143.155 191.614 141.79 198.91C140.424 206.205 136.44 212.75 130.585 217.313C124.731 221.875 117.412 224.141 110.004 223.683C102.596 223.226 95.6103 220.077 90.3621 214.828C85.1139 209.58 81.9647 202.595 81.5072 195.187C81.0497 187.779 83.3154 180.459 87.878 174.605C92.4405 168.751 98.9853 164.766 106.281 163.401C113.576 162.035 121.119 163.383 127.49 167.19L167.19 127.49C165.664 124.941 164.518 122.182 163.79 119.3H141.39C139.721 125.858 135.915 131.673 130.573 135.826C125.231 139.98 118.657 142.234 111.89 142.234C105.123 142.234 98.5494 139.98 93.2071 135.826C87.8648 131.673 84.0587 125.858 82.39 119.3H60C58.1878 126.495 53.8086 132.78 47.6863 136.971C41.5641 141.163 34.1211 142.972 26.7579 142.059C19.3947 141.146 12.6191 137.574 7.70605 132.014C2.79302 126.454 0.0813599 119.29 0.0813599 111.87C0.0813599 104.451 2.79302 97.2871 7.70605 91.7272C12.6191 86.1673 19.3947 82.5947 26.7579 81.6817C34.1211 80.7686 41.5641 82.5781 47.6863 86.7696C53.8086 90.9611 58.1878 97.2456 60 104.44H82.35ZM100.86 204.32C103.407 206.868 106.759 208.453 110.345 208.806C113.93 209.159 117.527 208.258 120.522 206.256C123.517 204.254 125.725 201.276 126.771 197.828C127.816 194.38 127.633 190.677 126.253 187.349C124.874 184.021 122.383 181.274 119.205 179.577C116.027 177.88 112.359 177.337 108.826 178.042C105.293 178.746 102.113 180.654 99.8291 183.44C97.5451 186.226 96.2979 189.718 96.3 193.32C96.2985 195.364 96.7006 197.388 97.4831 199.275C98.2656 201.163 99.4132 202.877 100.86 204.32ZM204.32 122.88C206.868 120.333 208.453 116.981 208.806 113.396C209.159 109.811 208.258 106.214 206.256 103.219C204.254 100.223 201.275 98.0151 197.827 96.97C194.38 95.9249 190.676 96.1077 187.348 97.4873C184.02 98.8669 181.274 101.358 179.577 104.536C177.879 107.714 177.337 111.382 178.041 114.915C178.746 118.448 180.653 121.627 183.439 123.911C186.226 126.195 189.717 127.443 193.32 127.44C195.364 127.443 197.388 127.042 199.275 126.259C201.163 125.476 202.878 124.328 204.32 122.88ZM122.88 19.4205C120.333 16.8729 116.981 15.2876 113.395 14.9347C109.81 14.5817 106.213 15.483 103.218 17.4849C100.223 19.4868 98.0146 22.4654 96.9696 25.9131C95.9245 29.3608 96.1073 33.0642 97.4869 36.3922C98.8665 39.7202 101.358 42.4668 104.535 44.1639C107.713 45.861 111.381 46.4036 114.914 45.6992C118.447 44.9949 121.627 43.0871 123.911 40.301C126.195 37.515 127.442 34.0231 127.44 30.4205C127.44 28.3772 127.038 26.3539 126.255 24.4664C125.473 22.5788 124.326 20.8642 122.88 19.4205ZM19.42 100.86C16.8725 103.408 15.2872 106.76 14.9342 110.345C14.5813 113.93 15.4826 117.527 17.4844 120.522C19.4863 123.518 22.4649 125.726 25.9127 126.771C29.3604 127.816 33.0638 127.633 36.3918 126.254C39.7198 124.874 42.4664 122.383 44.1635 119.205C45.8606 116.027 46.4032 112.359 45.6988 108.826C44.9944 105.293 43.0866 102.114 40.3006 99.8296C37.5145 97.5455 34.0227 96.2983 30.42 96.3005C26.2938 96.3018 22.337 97.9421 19.42 100.86ZM100.86 100.86C98.3125 103.408 96.7272 106.76 96.3742 110.345C96.0213 113.93 96.9226 117.527 98.9244 120.522C100.926 123.518 103.905 125.726 107.353 126.771C110.8 127.816 114.504 127.633 117.832 126.254C121.16 124.874 123.906 122.383 125.604 119.205C127.301 116.027 127.843 112.359 127.139 108.826C126.434 105.293 124.527 102.114 121.741 99.8296C118.955 97.5455 115.463 96.2983 111.86 96.3005C109.817 96.299 107.793 96.701 105.905 97.4835C104.018 98.2661 102.303 99.4136 100.86 100.86Z\" fill=\"#00AEEF\"/>\n",
       "    </g>\n",
       "    <defs>\n",
       "        <clipPath id=\"clip0_4338_178347\">\n",
       "            <rect width=\"566.93\" height=\"223.75\" fill=\"white\"/>\n",
       "        </clipPath>\n",
       "    </defs>\n",
       "  </svg>\n",
       "</div>\n",
       "\n",
       "        <table class=\"jp-RenderedHTMLCommon\" style=\"border-collapse: collapse;color: var(--jp-ui-font-color1);font-size: var(--jp-ui-font-size1);\">\n",
       "    <tr>\n",
       "        <td style=\"text-align: left\"><b>Python version:</b></td>\n",
       "        <td style=\"text-align: left\"><b>3.12.9</b></td>\n",
       "    </tr>\n",
       "    <tr>\n",
       "        <td style=\"text-align: left\"><b>Ray version:</b></td>\n",
       "        <td style=\"text-align: left\"><b>3.0.0.dev0</b></td>\n",
       "    </tr>\n",
       "    <tr>\n",
       "    <td style=\"text-align: left\"><b>Dashboard:</b></td>\n",
       "    <td style=\"text-align: left\"><b><a href=\"http://session-fyhrc759flh928h7czptpn79mb.i.anyscaleuserdata.com\" target=\"_blank\">http://session-fyhrc759flh928h7czptpn79mb.i.anyscaleuserdata.com</a></b></td>\n",
       "</tr>\n",
       "\n",
       "</table>\n",
       "\n",
       "    </div>\n",
       "</div>\n"
      ],
      "text/plain": [
       "RayContext(dashboard_url='session-fyhrc759flh928h7czptpn79mb.i.anyscaleuserdata.com', python_version='3.12.9', ray_version='3.0.0.dev0', ray_commit='aa2dede7f795d21407deebf4cefc61fd00e68e84')"
      ]
     },
     "execution_count": null,
     "metadata": {},
     "output_type": "execute_result"
    }
   ],
   "source": [
    "# Enable Ray Train v2 (it's too good to wait for public release!)\n",
    "ray.init(\n",
    "    runtime_env={\n",
    "        \"env_vars\": {\"RAY_TRAIN_V2_ENABLED\": \"1\"}, \n",
    "        \"working_dir\": \"/home/ray/default\",  # to import doggos (default working_dir=\".\")\n",
    "    },\n",
    ")"
   ]
  },
  {
   "cell_type": "code",
   "execution_count": null,
   "metadata": {},
   "outputs": [],
   "source": [
    "%%bash\n",
    "# This will be removed once Ray Train v2 is part of latest Ray version\n",
    "echo \"RAY_TRAIN_V2_ENABLED=1\" > /home/ray/default/.env"
   ]
  },
  {
   "cell_type": "code",
   "execution_count": null,
   "metadata": {},
   "outputs": [
    {
     "data": {
      "text/plain": [
       "True"
      ]
     },
     "execution_count": null,
     "metadata": {},
     "output_type": "execute_result"
    }
   ],
   "source": [
    "# Load env vars in notebooks\n",
    "from dotenv import load_dotenv\n",
    "load_dotenv()"
   ]
  },
  {
   "cell_type": "markdown",
   "metadata": {},
   "source": [
    "### Preprocess"
   ]
  },
  {
   "cell_type": "markdown",
   "metadata": {},
   "source": [
    "We need to convert our classes to labels (unique integers) so that we can train a classifier that can correctly predict the class given an input image. But before we do this, we'll quickly apply the same data ingestion and preprocessing as the previous notebook."
   ]
  },
  {
   "cell_type": "code",
   "execution_count": null,
   "metadata": {},
   "outputs": [],
   "source": [
    "def add_class(row):\n",
    "    row[\"class\"] = row[\"path\"].rsplit(\"/\", 3)[-2]\n",
    "    return row"
   ]
  },
  {
   "cell_type": "code",
   "execution_count": null,
   "metadata": {},
   "outputs": [],
   "source": [
    "# Preprocess data splits\n",
    "train_ds = ray.data.read_images(\"s3://doggos-dataset/train\", include_paths=True, shuffle=\"files\")\n",
    "train_ds = train_ds.map(add_class)\n",
    "val_ds = ray.data.read_images(\"s3://doggos-dataset/val\", include_paths=True)\n",
    "val_ds = val_ds.map(add_class)"
   ]
  },
  {
   "cell_type": "markdown",
   "metadata": {},
   "source": [
    "We'll define a `Preprocessor` class that will:\n",
    "- create an embedding, we will move the embedding layer outside of the model since we will freeze the embedding layer's weights and so we don't have to do it repeatedly as part of the model's forward pass (unecessary compute)\n",
    "- convert our classes into labels for the classifier. \n",
    "\n",
    "While we could've just done this as a simple operation, we're taking the time to organize it as a class so that we can save and load for inference later."
   ]
  },
  {
   "cell_type": "code",
   "execution_count": null,
   "metadata": {},
   "outputs": [],
   "source": [
    "from doggos.embed import EmbeddingGenerator"
   ]
  },
  {
   "cell_type": "code",
   "execution_count": null,
   "metadata": {},
   "outputs": [],
   "source": [
    "class Preprocessor:\n",
    "    \"\"\"Preprocessor class.\"\"\"\n",
    "    def __init__(self, class_to_label=None):\n",
    "        self.class_to_label = class_to_label or {}  # mutable defaults\n",
    "        self.label_to_class = {v: k for k, v in self.class_to_label.items()}\n",
    "        \n",
    "    def fit(self, ds, column):\n",
    "        self.classes = ds.unique(column=column)\n",
    "        self.class_to_label = {tag: i for i, tag in enumerate(self.classes)}\n",
    "        self.label_to_class = {v: k for k, v in self.class_to_label.items()}\n",
    "        return self\n",
    "\n",
    "    def convert_to_label(self, row, class_to_label):\n",
    "        if \"class\" in row:\n",
    "            row[\"label\"] = class_to_label[row[\"class\"]]\n",
    "        return row\n",
    "    \n",
    "    def transform(self, ds, concurrency=4, batch_size=64, num_gpus=1):\n",
    "        ds = ds.map(\n",
    "            self.convert_to_label, \n",
    "            fn_kwargs={\"class_to_label\": self.class_to_label},\n",
    "        )\n",
    "        ds = ds.map_batches(\n",
    "            EmbeddingGenerator,\n",
    "            fn_constructor_kwargs={\"model_id\": \"openai/clip-vit-base-patch32\"},\n",
    "            fn_kwargs={\"device\": \"cuda\"}, \n",
    "            concurrency=concurrency, \n",
    "            batch_size=batch_size,\n",
    "            num_gpus=num_gpus,\n",
    "        )\n",
    "        ds = ds.drop_columns([\"image\"])\n",
    "        return ds\n",
    "\n",
    "    def save(self, fp):\n",
    "        with open(fp, \"w\") as f:\n",
    "            json.dump(self.class_to_label, f)"
   ]
  },
  {
   "cell_type": "code",
   "execution_count": null,
   "metadata": {},
   "outputs": [
    {
     "name": "stderr",
     "output_type": "stream",
     "text": [
      "2025-04-03 12:05:09,005\tINFO dataset.py:2798 -- Tip: Use `take_batch()` instead of `take() / show()` to return records in pandas or numpy batch format.\n"
     ]
    },
    {
     "name": "stderr",
     "output_type": "stream",
     "text": [
      "2025-04-03 12:05:09,029\tINFO streaming_executor.py:108 -- Starting execution of Dataset. Full logs are in /tmp/ray/session_2025-04-03_11-37-08_695372_142551/logs/ray-data\n",
      "2025-04-03 12:05:09,030\tINFO streaming_executor.py:109 -- Execution plan of Dataset: InputDataBuffer[Input] -> TaskPoolMapOperator[ReadImage->Map(add_class)] -> AllToAllOperator[Aggregate] -> LimitOperator[limit=1]\n"
     ]
    },
    {
     "data": {
      "application/vnd.jupyter.widget-view+json": {
       "model_id": "62a85603e50d46c2b5c143fbb5928a51",
       "version_major": 2,
       "version_minor": 0
      },
      "text/plain": [
       "Running 0: 0.00 row [00:00, ? row/s]"
      ]
     },
     "metadata": {},
     "output_type": "display_data"
    },
    {
     "data": {
      "application/vnd.jupyter.widget-view+json": {
       "model_id": "912d1a172bda4d469053d6d08dacb2e6",
       "version_major": 2,
       "version_minor": 0
      },
      "text/plain": [
       "- ReadImage->Map(add_class) 1: 0.00 row [00:00, ? row/s]"
      ]
     },
     "metadata": {},
     "output_type": "display_data"
    },
    {
     "data": {
      "application/vnd.jupyter.widget-view+json": {
       "model_id": "928d45ee05d1466592804af72733091a",
       "version_major": 2,
       "version_minor": 0
      },
      "text/plain": [
       "- Aggregate 2: 0.00 row [00:00, ? row/s]"
      ]
     },
     "metadata": {},
     "output_type": "display_data"
    },
    {
     "data": {
      "application/vnd.jupyter.widget-view+json": {
       "model_id": "7551d28ea2da4574b006bf331163870a",
       "version_major": 2,
       "version_minor": 0
      },
      "text/plain": [
       "Sort Sample 3:   0%|          | 0.00/1.00 [00:00<?, ? row/s]"
      ]
     },
     "metadata": {},
     "output_type": "display_data"
    },
    {
     "data": {
      "application/vnd.jupyter.widget-view+json": {
       "model_id": "65bd534f72ba4492b7fb6dfd05cc9cb2",
       "version_major": 2,
       "version_minor": 0
      },
      "text/plain": [
       "Shuffle Map 4:   0%|          | 0.00/1.00 [00:00<?, ? row/s]"
      ]
     },
     "metadata": {},
     "output_type": "display_data"
    },
    {
     "data": {
      "application/vnd.jupyter.widget-view+json": {
       "model_id": "42ad2909d92d4f8190f46d6455edd6fd",
       "version_major": 2,
       "version_minor": 0
      },
      "text/plain": [
       "Shuffle Reduce 5:   0%|          | 0.00/1.00 [00:00<?, ? row/s]"
      ]
     },
     "metadata": {},
     "output_type": "display_data"
    },
    {
     "data": {
      "application/vnd.jupyter.widget-view+json": {
       "model_id": "e02ec0712cbb4a8e9fa48dc118e87bde",
       "version_major": 2,
       "version_minor": 0
      },
      "text/plain": [
       "- limit=1 6: 0.00 row [00:00, ? row/s]"
      ]
     },
     "metadata": {},
     "output_type": "display_data"
    },
    {
     "name": "stdout",
     "output_type": "stream",
     "text": [
      "\u001b[36m(autoscaler +15s)\u001b[0m Tip: use `ray status` to view detailed cluster status. To disable these messages, set RAY_SCHEDULER_EVENTS=0.\n",
      "\u001b[36m(autoscaler +15s)\u001b[0m [autoscaler] [4xT4:48CPU-192GB] Attempting to add 1 node(s) to the cluster (increasing from 3 to 4).\n"
     ]
    },
    {
     "name": "stderr",
     "output_type": "stream",
     "text": [
      "2025-04-03 12:05:19,100\tINFO streaming_executor.py:108 -- Starting execution of Dataset. Full logs are in /tmp/ray/session_2025-04-03_11-37-08_695372_142551/logs/ray-data\n",
      "2025-04-03 12:05:19,101\tINFO streaming_executor.py:109 -- Execution plan of Dataset: InputDataBuffer[Input] -> TaskPoolMapOperator[ReadImage->Map(add_class)->Map(Preprocessor.convert_to_label)] -> ActorPoolMapOperator[MapBatches(EmbeddingGenerator)] -> TaskPoolMapOperator[MapBatches(drop_columns)] -> LimitOperator[limit=1]\n"
     ]
    },
    {
     "data": {
      "application/vnd.jupyter.widget-view+json": {
       "model_id": "229ce1753dca40e384e2f3d2799a1c50",
       "version_major": 2,
       "version_minor": 0
      },
      "text/plain": [
       "Running 0: 0.00 row [00:00, ? row/s]"
      ]
     },
     "metadata": {},
     "output_type": "display_data"
    },
    {
     "name": "stdout",
     "output_type": "stream",
     "text": [
      "\u001b[36m(autoscaler +20s)\u001b[0m [autoscaler] [4xT4:48CPU-192GB] Launched 1 instances.\n"
     ]
    },
    {
     "data": {
      "application/vnd.jupyter.widget-view+json": {
       "model_id": "f12257cf876646b5a58d0c84929da2be",
       "version_major": 2,
       "version_minor": 0
      },
      "text/plain": [
       "- ReadImage->Map(add_class)->Map(Preprocessor.convert_to_label) 1: 0.00 row [00:00, ? row/s]"
      ]
     },
     "metadata": {},
     "output_type": "display_data"
    },
    {
     "data": {
      "application/vnd.jupyter.widget-view+json": {
       "model_id": "a25b57ecccea43bd90f5b14f93765f3a",
       "version_major": 2,
       "version_minor": 0
      },
      "text/plain": [
       "- MapBatches(EmbeddingGenerator) 2: 0.00 row [00:00, ? row/s]"
      ]
     },
     "metadata": {},
     "output_type": "display_data"
    },
    {
     "data": {
      "application/vnd.jupyter.widget-view+json": {
       "model_id": "6d5098e6695d499e8c29adaa5d5dc6c6",
       "version_major": 2,
       "version_minor": 0
      },
      "text/plain": [
       "- MapBatches(drop_columns) 3: 0.00 row [00:00, ? row/s]"
      ]
     },
     "metadata": {},
     "output_type": "display_data"
    },
    {
     "data": {
      "application/vnd.jupyter.widget-view+json": {
       "model_id": "2b46fd418c9c492cad003c7484d427bb",
       "version_major": 2,
       "version_minor": 0
      },
      "text/plain": [
       "- limit=1 4: 0.00 row [00:00, ? row/s]"
      ]
     },
     "metadata": {},
     "output_type": "display_data"
    },
    {
     "name": "stderr",
     "output_type": "stream",
     "text": [
      "2025-04-03 12:05:31,541\tWARNING progress_bar.py:120 -- Truncating long operator name to 100 characters. To disable this behavior, set `ray.data.DataContext.get_current().DEFAULT_ENABLE_PROGRESS_BAR_NAME_TRUNCATION = False`.\n"
     ]
    },
    {
     "data": {
      "text/plain": [
       "[{'path': 'doggos-dataset/train/basset/basset_9900.jpg',\n",
       "  'class': 'basset',\n",
       "  'label': 23,\n",
       "  'embedding': array([-2.07168400e-01,  1.72517151e-01,  1.06291771e-02,  3.91304970e-01,\n",
       "          4.22165036e-01, -2.29526266e-01,  4.86278594e-01, -7.37224400e-01,\n",
       "         -2.12697357e-01,  9.64940041e-02, -4.45656598e-01,  1.91988591e-02,\n",
       "          1.59223646e-01,  4.70588207e-02,  5.04390359e-01,  4.46884111e-02,\n",
       "          8.77077401e-01, -1.18519142e-01, -2.73600221e-02,  1.21952325e-01,\n",
       "         -1.81658298e-01, -8.20441172e-02,  4.58503455e-01, -2.75700241e-01,\n",
       "         -1.21452257e-01, -1.05347462e-01,  5.08147657e-01,  8.92426074e-02,\n",
       "         -8.58309567e-02,  1.97094947e-01,  2.54393816e-01,  2.57087588e-01,\n",
       "         -7.34195113e-04,  7.72692822e-03,  3.71548086e-01,  1.72115996e-01,\n",
       "          4.44463849e-01, -3.11355114e-01, -1.99511334e-01,  1.66943169e+00,\n",
       "         -6.59029603e-01, -3.57044078e-02,  1.50953978e-01,  3.47819507e-01,\n",
       "          2.39400923e-01,  4.90695834e-01,  2.75830597e-01,  1.36493057e-01,\n",
       "         -8.23794678e-02,  3.17249894e-02,  7.35254735e-02,  3.12771291e-01,\n",
       "         -5.54393008e-02, -4.97066081e-02, -2.38822043e-01, -6.52167797e-02,\n",
       "         -1.36560917e-01,  7.59388149e-01, -2.14425415e-01, -2.36596972e-01,\n",
       "          7.43733168e-01,  3.52360159e-01,  6.58265769e-01,  3.68735343e-02,\n",
       "         -1.97329640e-01, -5.06859794e-02, -8.32590461e-03,  1.03538930e+00,\n",
       "         -5.48267961e-01,  2.45528638e-01,  1.17534459e-01, -1.48107424e-01,\n",
       "         -5.93913868e-02,  3.09349477e-01, -3.48643839e-01, -6.49224073e-02,\n",
       "         -6.48969412e-03, -8.31142738e-02,  2.52401173e-01, -6.21956065e-02,\n",
       "          1.47251979e-01, -3.55143875e-01,  9.59734172e-02, -3.47287059e-01,\n",
       "          2.47406378e-01,  5.16312988e-03,  1.39145303e+00, -2.37711146e-02,\n",
       "          2.90657729e-01, -3.20756212e-02, -4.66559500e-01, -3.53662014e-01,\n",
       "         -7.02127075e+00,  1.03694886e-01, -5.12443662e-01, -2.04488546e-01,\n",
       "         -8.54532048e-02, -1.05591953e-01, -8.99284124e-01,  5.98412335e-01,\n",
       "         -6.15279526e-02,  2.84583122e-01, -1.16048008e-01, -3.29436362e-03,\n",
       "          5.14939904e-01, -4.16580915e-01,  1.17210448e+00, -3.03410798e-01,\n",
       "         -3.44693735e-02, -3.47169459e-01,  1.28728390e-01, -9.60581303e-01,\n",
       "          1.15915877e-03, -1.03696272e-01, -1.50812119e-02,  3.29551935e-01,\n",
       "         -1.60220414e-01, -2.60155834e-02, -4.65873927e-02,  3.76573980e-01,\n",
       "          7.45678544e-01, -1.58954650e-01,  1.77032471e-01,  1.69107795e-01,\n",
       "          4.43298876e-01, -5.47551274e-01, -4.68803108e-01,  2.94819117e-01,\n",
       "         -3.37334335e-01, -3.17371368e-01,  8.31771851e-01,  3.98490578e-01,\n",
       "          5.54045066e-02,  8.61616433e-01, -2.44884849e-01, -7.25856423e-02,\n",
       "          3.36189836e-01, -3.24802309e-01, -1.82785526e-01,  1.15981974e-01,\n",
       "          3.37529071e-02,  1.69921666e-03,  1.41711488e-01,  3.40327322e-02,\n",
       "         -5.01622975e-01,  1.98295534e-01,  1.90347210e-02,  2.11715385e-01,\n",
       "          3.25749159e-01, -2.07002118e-01, -3.72412503e-01,  5.64660311e-01,\n",
       "         -4.37033087e-01, -2.11909860e-01, -3.53648037e-01,  3.09673071e-01,\n",
       "         -2.58155882e-01,  4.61631455e-02, -2.30580300e-01,  5.42885780e-01,\n",
       "         -1.42327510e-02,  1.14572249e-01,  8.32950771e-02,  1.56751536e-02,\n",
       "          1.67868122e-01, -4.57444429e-01,  8.85949656e-03,  3.04210037e-01,\n",
       "          4.07887846e-01,  7.10474074e-01,  1.34128436e-01,  2.14128673e-01,\n",
       "         -4.68678065e-02, -4.26924713e-02,  3.78543809e-02, -3.98457766e-01,\n",
       "          3.36209655e-01, -1.15114093e-01,  3.47250670e-01, -1.23085648e-01,\n",
       "         -7.40958676e-02,  3.52343231e-01,  8.04583073e-01, -2.78849840e-01,\n",
       "         -5.01460582e-02, -1.56570166e-01, -3.88307154e-01,  2.10152864e-01,\n",
       "         -4.54005539e-01,  2.03570336e-01,  4.57440555e-01,  1.29318297e-01,\n",
       "         -4.66674656e-01, -2.05983341e-01,  1.11514390e-01,  2.13883236e-01,\n",
       "          1.95420355e-01,  6.66505247e-02, -8.93885791e-01, -2.56402224e-01,\n",
       "          2.12485597e-01, -3.55535865e-01, -7.36470148e-02,  3.65483761e-01,\n",
       "         -7.21559644e-01, -4.40697163e-01,  1.18999116e-01, -1.00775793e-01,\n",
       "         -1.10337235e-01,  4.39151645e-01, -1.42811775e-01, -3.18768561e-01,\n",
       "         -1.86601490e-01,  5.30124128e-01,  7.89542794e-02,  2.17073411e-03,\n",
       "         -2.99655557e-01,  1.61478162e-01,  1.30727267e+00, -6.95356950e-02,\n",
       "          5.08923709e-01,  2.25280359e-01,  3.28331262e-01,  1.70295998e-01,\n",
       "         -2.16210604e-01,  2.84427971e-01,  1.65402099e-01, -3.84729564e-01,\n",
       "         -2.58657247e-01,  1.58782154e-02,  4.37404178e-02, -9.34408307e-02,\n",
       "         -3.79226446e-01,  8.65049601e-01, -2.68311858e-01, -2.83472419e-01,\n",
       "          6.86876895e-03, -5.14618695e-01,  3.21081430e-01, -2.14956999e-01,\n",
       "          5.43358624e-02,  2.79757008e-02, -2.82643437e-02, -1.60844281e-01,\n",
       "         -2.19945848e-01,  8.88732493e-01,  2.71368295e-01, -9.41052079e-01,\n",
       "          3.26692402e-01,  3.97440761e-01,  5.96240044e-01,  4.37095881e-01,\n",
       "          2.29997471e-01,  5.63006848e-02, -4.66581285e-02, -3.65993649e-01,\n",
       "          5.66107333e-02,  5.31032532e-02, -1.13436556e+00, -4.26955611e-01,\n",
       "         -2.61083782e-01,  4.33448285e-01,  3.63914222e-01, -6.48222923e-01,\n",
       "          3.46862257e-01, -2.89280638e-02, -9.81408730e-02, -6.95362389e-02,\n",
       "          3.21125090e-02,  2.12426752e-01,  1.78244486e-01,  2.01417401e-01,\n",
       "          4.92483020e-01, -5.14270887e-02, -1.82562962e-01, -2.92742193e-01,\n",
       "         -4.56720591e-06,  2.82558620e-01,  6.64821565e-02, -3.14242452e-01,\n",
       "         -3.15923452e-01,  1.33435667e-01, -5.58445573e-01, -3.87445614e-02,\n",
       "          5.24894521e-02,  1.72463760e-01,  5.60443580e-01,  4.34306115e-01,\n",
       "         -7.72164762e-03,  3.30449730e-01, -3.46358687e-01,  1.38117149e-01,\n",
       "         -4.85767797e-02,  1.43949658e-01, -8.92016441e-02, -1.58521891e-01,\n",
       "          1.87507704e-01,  7.95442984e-02,  1.06443487e-01,  8.66552144e-02,\n",
       "         -5.64426899e-01,  4.76276800e-02,  4.15891483e-02,  2.01556459e-01,\n",
       "         -2.19509929e-01, -1.88187584e-01, -1.08261034e-01, -3.10526192e-02,\n",
       "         -2.61865675e-01,  1.87912285e-01, -1.17287405e-01,  5.42612314e-01,\n",
       "          8.60223532e-01, -7.53346235e-02, -1.41389221e-02, -3.52316976e-01,\n",
       "         -1.21819086e-01,  5.03182828e-01, -3.75823617e-01, -5.65191567e-01,\n",
       "          5.40752411e-01,  1.12666178e+00, -3.68468612e-01,  2.27929741e-01,\n",
       "          2.60194778e-01, -5.16147763e-02, -4.58565146e-01,  5.77424645e-01,\n",
       "          2.37106860e-01, -2.42091835e-01, -2.22734541e-01, -3.43057394e-01,\n",
       "          1.86259359e-01, -1.40085518e-01,  1.46343887e-01, -1.76575318e-01,\n",
       "          3.64978276e-02,  2.74406135e-01,  3.10919791e-01, -3.45265180e-01,\n",
       "          2.66014665e-01, -4.22469378e-01, -5.54360747e-02,  3.47364217e-01,\n",
       "          3.25932264e-01, -5.36570325e-04,  2.74639249e-01, -6.31961748e-02,\n",
       "          1.13308109e-01,  3.79191279e-01, -1.10471010e-01,  3.83553773e-01,\n",
       "          3.84910166e-01,  5.16400337e-02,  1.42807603e-01,  7.00627565e-01,\n",
       "          7.79337510e-02, -6.54585063e-02,  1.98164865e-01, -2.89808437e-02,\n",
       "          3.19885135e-01, -1.85207531e-01,  9.59408283e-03,  1.23020634e-02,\n",
       "         -1.33948815e+00,  2.93850780e-01, -1.06066793e-01,  2.28698567e-01,\n",
       "         -1.40023291e-01,  9.66769159e-02,  6.72077090e-02,  1.64928511e-01,\n",
       "          1.32886544e-01,  1.87327981e-01, -2.72354335e-02,  6.54886365e-02,\n",
       "          1.84155965e+00,  4.21633422e-01, -3.38861980e-02,  3.39885563e-01,\n",
       "          1.54305935e-01, -5.15016735e-01, -3.26619074e-02,  2.63852835e-01,\n",
       "          1.98954076e-01, -3.18385035e-01, -9.35619056e-01,  4.24391627e-02,\n",
       "          3.87120932e-01, -1.34815836e+00,  2.41088927e-01, -9.95666146e-01,\n",
       "          1.38964549e-01,  1.64491504e-01, -4.80552390e-02, -1.50910258e-01,\n",
       "          8.73312056e-02,  3.64609718e-01, -4.85318750e-01, -2.94951230e-01,\n",
       "          1.17717840e-01,  4.42605495e-01,  2.84188688e-01,  1.26095265e-01,\n",
       "          2.72693396e-01, -1.44234240e-01,  2.67910004e-01, -3.67440939e-01,\n",
       "          8.57977867e-02, -1.23871565e-02,  2.63349563e-01,  4.62935716e-01,\n",
       "         -8.21032971e-02, -3.45191211e-01,  7.92656094e-02, -1.82718247e-01,\n",
       "         -1.31160676e-01,  1.58797383e-01,  1.25835180e-01, -4.84156758e-01,\n",
       "         -3.97369787e-02,  7.53196716e-01, -1.63204566e-01,  5.46803117e-01,\n",
       "         -7.51684010e-02, -2.83668935e-01, -3.77558291e-01, -4.47852105e-01,\n",
       "          5.45261264e-01, -3.42497110e-01, -1.93123534e-01,  5.99943213e-02,\n",
       "          3.54449511e-01,  2.60261089e-01,  8.52185041e-02, -6.43187910e-02,\n",
       "         -6.87676132e-01,  4.63319212e-01,  1.27003253e-01,  3.08420390e-01,\n",
       "          2.32188866e-01,  7.40024447e-02, -1.72872692e-01, -4.29604441e-01,\n",
       "          3.40964854e-01, -8.76543596e-02,  2.11486787e-01, -1.24384061e-01,\n",
       "         -2.06881806e-01,  4.15536389e-02, -1.99616089e-01, -3.80244195e-01,\n",
       "         -1.20787054e-01,  2.57087499e-02, -5.32090247e-01, -8.66768062e-02,\n",
       "          3.94502282e-02,  5.68600476e-01, -3.49660635e-01,  7.61635184e-01,\n",
       "         -2.50640959e-02,  4.29687463e-02, -3.36911649e-01,  1.38682395e-01,\n",
       "          3.31646860e-01,  4.17455107e-01, -4.01329935e-01, -3.73535864e-02,\n",
       "          2.56796777e-02,  1.80771530e-01,  1.42443776e-01, -7.11615384e-03,\n",
       "         -5.50137281e-01,  2.47301653e-01, -1.65044114e-01, -2.15948984e-01,\n",
       "         -5.25590405e-02, -4.44243588e-02, -3.93591732e-01,  6.37865588e-02,\n",
       "          1.25296712e-02, -8.23624879e-02, -1.09572068e-01, -3.72537583e-01,\n",
       "         -3.84116113e-01,  9.91499871e-02,  1.04963996e-01, -4.87509817e-01,\n",
       "         -3.99754405e-01, -2.81717777e-01, -7.24667609e-01, -4.65090215e-01,\n",
       "          1.65041924e-01, -1.87362373e-01,  3.44035804e-01, -8.00862759e-02,\n",
       "         -4.22329977e-02,  6.01463795e-01, -7.72120595e-01, -4.51350510e-02,\n",
       "         -1.56827763e-01, -8.20782185e-02, -2.69426644e-01, -1.84229687e-02,\n",
       "         -7.89124817e-02, -2.10301340e-01, -2.68194288e-01,  1.47286862e-01,\n",
       "         -5.72420716e-01,  9.94744122e-01,  1.72468454e-01,  7.16043562e-02],\n",
       "        dtype=float32)}]"
      ]
     },
     "execution_count": null,
     "metadata": {},
     "output_type": "execute_result"
    }
   ],
   "source": [
    "# Preprocess\n",
    "preprocessor = Preprocessor()\n",
    "preprocessor = preprocessor.fit(train_ds, column=\"class\")\n",
    "train_ds = preprocessor.transform(ds=train_ds)\n",
    "val_ds = preprocessor.transform(ds=val_ds)\n",
    "train_ds.take(1)"
   ]
  },
  {
   "cell_type": "markdown",
   "metadata": {},
   "source": [
    "<div class=\"alert alert-block alert\"> <b> Data Processing</b> \n",
    "\n",
    "Be sure to checkout this extensive guide on [data loading and preprocessing](https://docs.ray.io/en/latest/train/user-guides/data-loading-preprocessing.html) for the last-mile preprocessing we'll need to do prior to training our models. However, Ray Data does support performant joins, filters, aggregations, etc. for the more structure data processing your workloads may need."
   ]
  },
  {
   "cell_type": "markdown",
   "metadata": {},
   "source": [
    "<div class=\"alert alert-block alert\"> <b> Store often, Save compute</b> \n",
    "\n",
    "We're going to now store our preprocessed data into shared cloud storage because we want to:\n",
    "- save a record of what this preprocessed data looks like\n",
    "- avoid triggering the entire preprocessing for each batch our model will process\n",
    "- don't want to [`materialize`](https://docs.ray.io/en/latest/data/api/doc/ray.data.Dataset.materialize.html) the preprocessed data either (shouldn't force large data to fit in memory)"
   ]
  },
  {
   "cell_type": "code",
   "execution_count": null,
   "metadata": {},
   "outputs": [],
   "source": [
    "from doggos.utils import delete_s3_objects"
   ]
  },
  {
   "cell_type": "code",
   "execution_count": null,
   "metadata": {},
   "outputs": [
    {
     "name": "stdout",
     "output_type": "stream",
     "text": [
      "Deleted 65 objects from s3://anyscale-test-data-cld-i2w99rzq8b6lbjkke9y94vi5/org_7c1Kalm9WcX2bNIjW53GUT/cld_kvedZWag2qA8i5BjxUevf5i7/artifact_storage/goku_mohandas/doggos/preprocessed_data\n"
     ]
    },
    {
     "name": "stderr",
     "output_type": "stream",
     "text": [
      "2025-04-03 12:05:42,432\tINFO streaming_executor.py:108 -- Starting execution of Dataset. Full logs are in /tmp/ray/session_2025-04-03_11-37-08_695372_142551/logs/ray-data\n",
      "2025-04-03 12:05:42,433\tINFO streaming_executor.py:109 -- Execution plan of Dataset: InputDataBuffer[Input] -> TaskPoolMapOperator[ReadImage->Map(add_class)->Map(Preprocessor.convert_to_label)] -> ActorPoolMapOperator[MapBatches(EmbeddingGenerator)] -> TaskPoolMapOperator[MapBatches(drop_columns)->Write]\n"
     ]
    },
    {
     "data": {
      "application/vnd.jupyter.widget-view+json": {
       "model_id": "d602f593bf7a4693bbacb3cd7a7f704d",
       "version_major": 2,
       "version_minor": 0
      },
      "text/plain": [
       "Running 0: 0.00 row [00:00, ? row/s]"
      ]
     },
     "metadata": {},
     "output_type": "display_data"
    },
    {
     "data": {
      "application/vnd.jupyter.widget-view+json": {
       "model_id": "9ea38e68790a426b9141e23f29e725cc",
       "version_major": 2,
       "version_minor": 0
      },
      "text/plain": [
       "- ReadImage->Map(add_class)->Map(Preprocessor.convert_to_label) 1: 0.00 row [00:00, ? row/s]"
      ]
     },
     "metadata": {},
     "output_type": "display_data"
    },
    {
     "data": {
      "application/vnd.jupyter.widget-view+json": {
       "model_id": "78d672498ade4145a0f1fa05a3b16e86",
       "version_major": 2,
       "version_minor": 0
      },
      "text/plain": [
       "- MapBatches(EmbeddingGenerator) 2: 0.00 row [00:00, ? row/s]"
      ]
     },
     "metadata": {},
     "output_type": "display_data"
    },
    {
     "data": {
      "application/vnd.jupyter.widget-view+json": {
       "model_id": "a18493c32a9d4fb3a83e63d92c7d011d",
       "version_major": 2,
       "version_minor": 0
      },
      "text/plain": [
       "- MapBatches(drop_columns)->Write 3: 0.00 row [00:00, ? row/s]"
      ]
     },
     "metadata": {},
     "output_type": "display_data"
    },
    {
     "name": "stderr",
     "output_type": "stream",
     "text": [
      "2025-04-03 12:06:00,911\tINFO dataset.py:4167 -- Data sink Parquet finished. 2880 rows and 5.9MB data written.\n",
      "2025-04-03 12:06:01,145\tINFO streaming_executor.py:108 -- Starting execution of Dataset. Full logs are in /tmp/ray/session_2025-04-03_11-37-08_695372_142551/logs/ray-data\n",
      "2025-04-03 12:06:01,146\tINFO streaming_executor.py:109 -- Execution plan of Dataset: InputDataBuffer[Input] -> TaskPoolMapOperator[ReadImage->Map(add_class)->Map(Preprocessor.convert_to_label)] -> ActorPoolMapOperator[MapBatches(EmbeddingGenerator)] -> TaskPoolMapOperator[MapBatches(drop_columns)->Write]\n"
     ]
    },
    {
     "data": {
      "application/vnd.jupyter.widget-view+json": {
       "model_id": "b042fdaff6f2492598e19c704358ed1c",
       "version_major": 2,
       "version_minor": 0
      },
      "text/plain": [
       "Running 0: 0.00 row [00:00, ? row/s]"
      ]
     },
     "metadata": {},
     "output_type": "display_data"
    },
    {
     "data": {
      "application/vnd.jupyter.widget-view+json": {
       "model_id": "f201ed783e5c45e0b3984f4f45aa09fc",
       "version_major": 2,
       "version_minor": 0
      },
      "text/plain": [
       "- ReadImage->Map(add_class)->Map(Preprocessor.convert_to_label) 1: 0.00 row [00:00, ? row/s]"
      ]
     },
     "metadata": {},
     "output_type": "display_data"
    },
    {
     "data": {
      "application/vnd.jupyter.widget-view+json": {
       "model_id": "842ed20aaa364333a8fe6b0565ca8c14",
       "version_major": 2,
       "version_minor": 0
      },
      "text/plain": [
       "- MapBatches(EmbeddingGenerator) 2: 0.00 row [00:00, ? row/s]"
      ]
     },
     "metadata": {},
     "output_type": "display_data"
    },
    {
     "data": {
      "application/vnd.jupyter.widget-view+json": {
       "model_id": "e27987ab71a74780934b8af75ee0933c",
       "version_major": 2,
       "version_minor": 0
      },
      "text/plain": [
       "- MapBatches(drop_columns)->Write 3: 0.00 row [00:00, ? row/s]"
      ]
     },
     "metadata": {},
     "output_type": "display_data"
    },
    {
     "name": "stdout",
     "output_type": "stream",
     "text": [
      "\u001b[36m(autoscaler +1m15s)\u001b[0m [autoscaler] Cluster upscaled to {192 CPU, 16 GPU}.\n"
     ]
    },
    {
     "name": "stderr",
     "output_type": "stream",
     "text": [
      "2025-04-03 12:06:29,894\tINFO dataset.py:4167 -- Data sink Parquet finished. 720 rows and 1.5MB data written.\n"
     ]
    }
   ],
   "source": [
    "# Write processed data to cloud storage\n",
    "preprocessed_data_path = os.path.join(\n",
    "    os.getenv(\"ANYSCALE_ARTIFACT_STORAGE\", \"\"), \n",
    "    os.getenv(\"ANYSCALE_USERNAME\", \"\").replace(\" \", \"_\"), \n",
    "    \"doggos/preprocessed_data\",\n",
    ")\n",
    "delete_s3_objects(s3_path=preprocessed_data_path)\n",
    "preprocessed_train_path = os.path.join(preprocessed_data_path, \"preprocessed_train\")\n",
    "preprocessed_val_path = os.path.join(preprocessed_data_path, \"preprocessed_val\")\n",
    "train_ds.write_parquet(preprocessed_train_path)\n",
    "val_ds.write_parquet(preprocessed_val_path)"
   ]
  },
  {
   "cell_type": "markdown",
   "metadata": {},
   "source": [
    "### Model"
   ]
  },
  {
   "cell_type": "markdown",
   "metadata": {},
   "source": [
    "Let's define our model -- a simple two layer neural net with softmax layer to predict class probabilities. You'll notice that it's all just base PyTorch and nothing else."
   ]
  },
  {
   "cell_type": "code",
   "execution_count": null,
   "metadata": {},
   "outputs": [],
   "source": [
    "import json\n",
    "from pathlib import Path\n",
    "import torch\n",
    "import torch.nn as nn\n",
    "import torch.nn.functional as F"
   ]
  },
  {
   "cell_type": "code",
   "execution_count": null,
   "metadata": {},
   "outputs": [],
   "source": [
    "class ClassificationModel(torch.nn.Module):\n",
    "    def __init__(self, embedding_dim, hidden_dim, dropout_p, num_classes):\n",
    "        super().__init__()\n",
    "        # Hyperparameters\n",
    "        self.embedding_dim = embedding_dim\n",
    "        self.hidden_dim = hidden_dim\n",
    "        self.dropout_p = dropout_p\n",
    "        self.num_classes = num_classes\n",
    "\n",
    "        # Define layers\n",
    "        self.fc1 = nn.Linear(embedding_dim, hidden_dim)\n",
    "        self.batch_norm = nn.BatchNorm1d(hidden_dim)\n",
    "        self.relu = nn.ReLU()\n",
    "        self.dropout = nn.Dropout(dropout_p)\n",
    "        self.fc2 = nn.Linear(hidden_dim, num_classes)\n",
    "\n",
    "    def forward(self, batch):\n",
    "        z = self.fc1(batch[\"embedding\"])\n",
    "        z = self.batch_norm(z)\n",
    "        z = self.relu(z)\n",
    "        z = self.dropout(z)\n",
    "        z = self.fc2(z)\n",
    "        return z\n",
    "\n",
    "    @torch.inference_mode()\n",
    "    def predict(self, batch):\n",
    "        z = self(batch)\n",
    "        y_pred = torch.argmax(z, dim=1).cpu().numpy()\n",
    "        return y_pred\n",
    "\n",
    "    @torch.inference_mode()\n",
    "    def predict_probabilities(self, batch):\n",
    "        z = self(batch)\n",
    "        y_probs = F.softmax(z, dim=1).cpu().numpy()\n",
    "        return y_probs\n",
    "\n",
    "    def save(self, dp):\n",
    "        Path(dp).mkdir(parents=True, exist_ok=True)\n",
    "        with open(Path(dp, \"args.json\"), \"w\") as fp:\n",
    "            json.dump({\n",
    "                \"embedding_dim\": self.embedding_dim,\n",
    "                \"hidden_dim\": self.hidden_dim,\n",
    "                \"dropout_p\": self.dropout_p,\n",
    "                \"num_classes\": self.num_classes,\n",
    "            }, fp, indent=4)\n",
    "        torch.save(self.state_dict(), Path(dp, \"model.pt\"))\n",
    "\n",
    "    @classmethod\n",
    "    def load(cls, args_fp, state_dict_fp, device=\"cpu\"):\n",
    "        with open(args_fp, \"r\") as fp:\n",
    "            model = cls(**json.load(fp))\n",
    "        model.load_state_dict(torch.load(state_dict_fp, map_location=device))\n",
    "        return model"
   ]
  },
  {
   "cell_type": "code",
   "execution_count": null,
   "metadata": {},
   "outputs": [
    {
     "name": "stdout",
     "output_type": "stream",
     "text": [
      "ClassificationModel(\n",
      "  (fc1): Linear(in_features=512, out_features=256, bias=True)\n",
      "  (batch_norm): BatchNorm1d(256, eps=1e-05, momentum=0.1, affine=True, track_running_stats=True)\n",
      "  (relu): ReLU()\n",
      "  (dropout): Dropout(p=0.3, inplace=False)\n",
      "  (fc2): Linear(in_features=256, out_features=36, bias=True)\n",
      ")\n"
     ]
    }
   ],
   "source": [
    "# Initialize model\n",
    "num_classes = len(preprocessor.classes)\n",
    "model = ClassificationModel(\n",
    "    embedding_dim=512, \n",
    "    hidden_dim=256, \n",
    "    dropout_p=0.3, \n",
    "    num_classes=num_classes,\n",
    ")\n",
    "print (model)"
   ]
  },
  {
   "cell_type": "markdown",
   "metadata": {},
   "source": [
    "### Batching"
   ]
  },
  {
   "cell_type": "markdown",
   "metadata": {},
   "source": [
    "Let's take a look at a sample batch of data and ensure that tensors of the proper data type."
   ]
  },
  {
   "cell_type": "code",
   "execution_count": null,
   "metadata": {},
   "outputs": [],
   "source": [
    "from ray.train.torch import get_device"
   ]
  },
  {
   "cell_type": "code",
   "execution_count": null,
   "metadata": {},
   "outputs": [],
   "source": [
    "def collate_fn(batch):\n",
    "    dtypes = {\"embedding\": torch.float32, \"label\": torch.int64}\n",
    "    tensor_batch = {}\n",
    "    for key in dtypes.keys():\n",
    "        if key in batch:\n",
    "            tensor_batch[key] = torch.as_tensor(\n",
    "                batch[key],\n",
    "                dtype=dtypes[key],\n",
    "                device=get_device(),\n",
    "            )\n",
    "    return tensor_batch"
   ]
  },
  {
   "cell_type": "code",
   "execution_count": null,
   "metadata": {},
   "outputs": [
    {
     "name": "stderr",
     "output_type": "stream",
     "text": [
      "2025-04-03 12:06:30,677\tINFO streaming_executor.py:108 -- Starting execution of Dataset. Full logs are in /tmp/ray/session_2025-04-03_11-37-08_695372_142551/logs/ray-data\n",
      "2025-04-03 12:06:30,678\tINFO streaming_executor.py:109 -- Execution plan of Dataset: InputDataBuffer[Input] -> TaskPoolMapOperator[ReadImage->Map(add_class)->Map(Preprocessor.convert_to_label)] -> ActorPoolMapOperator[MapBatches(EmbeddingGenerator)] -> TaskPoolMapOperator[MapBatches(drop_columns)] -> LimitOperator[limit=3]\n"
     ]
    },
    {
     "data": {
      "application/vnd.jupyter.widget-view+json": {
       "model_id": "95bbb23e9dc04f06984cd31d1d3b9923",
       "version_major": 2,
       "version_minor": 0
      },
      "text/plain": [
       "Running 0: 0.00 row [00:00, ? row/s]"
      ]
     },
     "metadata": {},
     "output_type": "display_data"
    },
    {
     "data": {
      "application/vnd.jupyter.widget-view+json": {
       "model_id": "e5e2516f4618495fbf950affb22ef385",
       "version_major": 2,
       "version_minor": 0
      },
      "text/plain": [
       "- ReadImage->Map(add_class)->Map(Preprocessor.convert_to_label) 1: 0.00 row [00:00, ? row/s]"
      ]
     },
     "metadata": {},
     "output_type": "display_data"
    },
    {
     "data": {
      "application/vnd.jupyter.widget-view+json": {
       "model_id": "a65c8d54b37a4e7fa454bee6e596bc6d",
       "version_major": 2,
       "version_minor": 0
      },
      "text/plain": [
       "- MapBatches(EmbeddingGenerator) 2: 0.00 row [00:00, ? row/s]"
      ]
     },
     "metadata": {},
     "output_type": "display_data"
    },
    {
     "data": {
      "application/vnd.jupyter.widget-view+json": {
       "model_id": "aa9386d67cb84d638f45423befedc610",
       "version_major": 2,
       "version_minor": 0
      },
      "text/plain": [
       "- MapBatches(drop_columns) 3: 0.00 row [00:00, ? row/s]"
      ]
     },
     "metadata": {},
     "output_type": "display_data"
    },
    {
     "data": {
      "application/vnd.jupyter.widget-view+json": {
       "model_id": "aa24d501d22a44b2a837b4acc2124b71",
       "version_major": 2,
       "version_minor": 0
      },
      "text/plain": [
       "- limit=3 4: 0.00 row [00:00, ? row/s]"
      ]
     },
     "metadata": {},
     "output_type": "display_data"
    },
    {
     "name": "stderr",
     "output_type": "stream",
     "text": [
      "/tmp/ipykernel_150714/3214280880.py:6: UserWarning: The given NumPy array is not writable, and PyTorch does not support non-writable tensors. This means writing to this tensor will result in undefined behavior. You may want to copy the array to protect its data or make it writable before converting it to a tensor. This type of warning will be suppressed for the rest of this program. (Triggered internally at ../torch/csrc/utils/tensor_numpy.cpp:206.)\n",
      "  tensor_batch[key] = torch.as_tensor(\n"
     ]
    },
    {
     "data": {
      "text/plain": [
       "{'embedding': tensor([[-0.0119,  0.3011,  0.1426,  ...,  0.5759, -0.0689,  0.1088],\n",
       "         [-0.2397,  0.1221,  0.3727,  ...,  0.5081, -0.1322,  0.3646],\n",
       "         [ 0.2526,  0.2565, -0.4290,  ...,  0.4673,  0.4384,  0.2572]]),\n",
       " 'label': tensor([10, 33, 26])}"
      ]
     },
     "execution_count": null,
     "metadata": {},
     "output_type": "execute_result"
    }
   ],
   "source": [
    "# Sample batch\n",
    "sample_batch = train_ds.take_batch(batch_size=3)\n",
    "collate_fn(batch=sample_batch)"
   ]
  },
  {
   "cell_type": "markdown",
   "metadata": {},
   "source": [
    "### Model registry"
   ]
  },
  {
   "cell_type": "markdown",
   "metadata": {},
   "source": [
    "We'll be creating a model registry in our [Anyscale user storage](https://docs.anyscale.com/configuration/storage/#user-storage) to save our model checkpoints to. We'll be using OSS mlflow but we can easily [set up other experiment trackers](https://docs.ray.io/en/latest/train/user-guides/experiment-tracking.html) with Ray."
   ]
  },
  {
   "cell_type": "code",
   "execution_count": null,
   "metadata": {},
   "outputs": [],
   "source": [
    "import shutil"
   ]
  },
  {
   "cell_type": "code",
   "execution_count": null,
   "metadata": {},
   "outputs": [],
   "source": [
    "model_registry = \"/mnt/user_storage/mlflow/doggos\"\n",
    "os.path.isdir(model_registry) and shutil.rmtree(model_registry)  # clean up\n",
    "os.makedirs(model_registry, exist_ok=True)"
   ]
  },
  {
   "cell_type": "markdown",
   "metadata": {},
   "source": [
    "### Training"
   ]
  },
  {
   "cell_type": "markdown",
   "metadata": {},
   "source": [
    "We'll define our training workload by specifying our:\n",
    "- experiment and model parameters\n",
    "- compute scaling configuration\n",
    "- forward pass for batches of training and validation data\n",
    "- train loop for each epoch of data (and checkpointing)\n",
    "\n",
    "<img src=\"https://raw.githubusercontent.com/anyscale/foundational-ray-app/refs/heads/main/images/trainer.png\" width=500>"
   ]
  },
  {
   "cell_type": "code",
   "execution_count": null,
   "metadata": {},
   "outputs": [],
   "source": [
    "# Train loop config\n",
    "experiment_name = \"doggos\"\n",
    "train_loop_config = {\n",
    "    \"model_registry\": model_registry,\n",
    "    \"experiment_name\": experiment_name,\n",
    "    \"embedding_dim\": 512,\n",
    "    \"hidden_dim\": 256,\n",
    "    \"dropout_p\": 0.3,\n",
    "    \"lr\": 1e-3,\n",
    "    \"lr_factor\": 0.8,\n",
    "    \"lr_patience\": 3,\n",
    "    \"num_epochs\": 20,\n",
    "    \"batch_size\": 256,\n",
    "}"
   ]
  },
  {
   "cell_type": "code",
   "execution_count": null,
   "metadata": {},
   "outputs": [],
   "source": [
    "# Scaling config\n",
    "num_workers = 2\n",
    "scaling_config = ray.train.ScalingConfig(\n",
    "    num_workers=num_workers,\n",
    "    use_gpu=True,\n",
    "    resources_per_worker={\"CPU\": 8, \"GPU\": 2})"
   ]
  },
  {
   "cell_type": "code",
   "execution_count": null,
   "metadata": {},
   "outputs": [],
   "source": [
    "import tempfile\n",
    "import mlflow\n",
    "import numpy as np\n",
    "from ray.train.torch import TorchTrainer"
   ]
  },
  {
   "cell_type": "code",
   "execution_count": null,
   "metadata": {},
   "outputs": [],
   "source": [
    "def train_epoch(ds, batch_size, model, num_classes, loss_fn, optimizer):\n",
    "    model.train()\n",
    "    loss = 0.0\n",
    "    ds_generator = ds.iter_torch_batches(batch_size=batch_size, collate_fn=collate_fn)\n",
    "    for i, batch in enumerate(ds_generator):\n",
    "        optimizer.zero_grad()  # reset gradients\n",
    "        z = model(batch)  # forward pass\n",
    "        targets = F.one_hot(batch[\"label\"], num_classes=num_classes).float()\n",
    "        J = loss_fn(z, targets)  # define loss\n",
    "        J.backward()  # backward pass\n",
    "        optimizer.step()  # update weights\n",
    "        loss += (J.detach().item() - loss) / (i + 1)  # cumulative loss\n",
    "    return loss"
   ]
  },
  {
   "cell_type": "code",
   "execution_count": null,
   "metadata": {},
   "outputs": [],
   "source": [
    "def eval_epoch(ds, batch_size, model, num_classes, loss_fn):\n",
    "    model.eval()\n",
    "    loss = 0.0\n",
    "    y_trues, y_preds = [], []\n",
    "    ds_generator = ds.iter_torch_batches(batch_size=batch_size, collate_fn=collate_fn)\n",
    "    with torch.inference_mode():\n",
    "        for i, batch in enumerate(ds_generator):\n",
    "            z = model(batch)\n",
    "            targets = F.one_hot(batch[\"label\"], num_classes=num_classes).float()  # one-hot (for loss_fn)\n",
    "            J = loss_fn(z, targets).item()\n",
    "            loss += (J - loss) / (i + 1)\n",
    "            y_trues.extend(batch[\"label\"].cpu().numpy())\n",
    "            y_preds.extend(torch.argmax(z, dim=1).cpu().numpy())\n",
    "    return loss, np.vstack(y_trues), np.vstack(y_preds)"
   ]
  },
  {
   "cell_type": "code",
   "execution_count": null,
   "metadata": {},
   "outputs": [],
   "source": [
    "def train_loop_per_worker(config):\n",
    "    # Hyperparameters\n",
    "    model_registry = config[\"model_registry\"]\n",
    "    experiment_name = config[\"experiment_name\"]\n",
    "    embedding_dim = config[\"embedding_dim\"]\n",
    "    hidden_dim = config[\"hidden_dim\"]\n",
    "    dropout_p = config[\"dropout_p\"]\n",
    "    lr = config[\"lr\"]\n",
    "    lr_factor = config[\"lr_factor\"]\n",
    "    lr_patience = config[\"lr_patience\"]\n",
    "    num_epochs = config[\"num_epochs\"]\n",
    "    batch_size = config[\"batch_size\"]\n",
    "    num_classes = config[\"num_classes\"]\n",
    "\n",
    "    # Experiment tracking\n",
    "    if ray.train.get_context().get_world_rank() == 0:\n",
    "        mlflow.set_tracking_uri(f\"file:{model_registry}\")\n",
    "        mlflow.set_experiment(experiment_name)\n",
    "        mlflow.start_run()\n",
    "        mlflow.log_params(config)\n",
    "\n",
    "    # Datasets\n",
    "    train_ds = ray.train.get_dataset_shard(\"train\")\n",
    "    val_ds = ray.train.get_dataset_shard(\"val\")\n",
    "\n",
    "    # Model\n",
    "    model = ClassificationModel(\n",
    "        embedding_dim=embedding_dim, \n",
    "        hidden_dim=hidden_dim, \n",
    "        dropout_p=dropout_p, \n",
    "        num_classes=num_classes,\n",
    "    )\n",
    "    model = ray.train.torch.prepare_model(model)\n",
    "\n",
    "    # Training components\n",
    "    loss_fn = torch.nn.CrossEntropyLoss()\n",
    "    optimizer = torch.optim.Adam(model.parameters(), lr=lr)\n",
    "    scheduler = torch.optim.lr_scheduler.ReduceLROnPlateau(\n",
    "        optimizer, \n",
    "        mode=\"min\", \n",
    "        factor=lr_factor, \n",
    "        patience=lr_patience,\n",
    "    )\n",
    "\n",
    "    # Training\n",
    "    best_val_loss = float(\"inf\")\n",
    "    for epoch in range(num_epochs):\n",
    "        # Steps\n",
    "        train_loss = train_epoch(train_ds, batch_size, model, num_classes, loss_fn, optimizer)\n",
    "        val_loss, _, _ = eval_epoch(val_ds, batch_size, model, num_classes, loss_fn)\n",
    "        scheduler.step(val_loss)\n",
    "\n",
    "        # Checkpoint (metrics, preprocessor and model artifacts)\n",
    "        with tempfile.TemporaryDirectory() as dp:\n",
    "            model.module.save(dp=dp)\n",
    "            metrics = dict(lr=optimizer.param_groups[0][\"lr\"], train_loss=train_loss, val_loss=val_loss)\n",
    "            with open(os.path.join(dp, \"class_to_label.json\"), \"w\") as fp:\n",
    "                json.dump(config[\"class_to_label\"], fp, indent=4)\n",
    "            if ray.train.get_context().get_world_rank() == 0:  # only on main worker 0\n",
    "                mlflow.log_metrics(metrics, step=epoch)\n",
    "                if val_loss < best_val_loss:\n",
    "                    best_val_loss = val_loss\n",
    "                    mlflow.log_artifacts(dp)\n",
    "\n",
    "    # End experiment tracking\n",
    "    if ray.train.get_context().get_world_rank() == 0:\n",
    "        mlflow.end_run()"
   ]
  },
  {
   "cell_type": "markdown",
   "metadata": {},
   "source": [
    "<div class=\"alert alert-block alert\"> <b> Minimal change to your training code</b> \n",
    "\n",
    "You'll notice that there isn't much new Ray Train code on top of our base PyTorch code. We specified how we want to scale out our training workload, load the Ray datasets and then checkpoint on our main worker node... and that's it! Check out these guides ([PyTorch](https://docs.ray.io/en/latest/train/getting-started-pytorch.html), [PyTorch Lightning](https://docs.ray.io/en/latest/train/getting-started-pytorch-lightning.html), [HuggingFace Transformers](https://docs.ray.io/en/latest/train/getting-started-transformers.html)) to see the minimal delta code needed to distribute our training workloads and check out this extensive list of [Ray Train user guides](https://docs.ray.io/en/latest/train/user-guides.html)."
   ]
  },
  {
   "cell_type": "code",
   "execution_count": null,
   "metadata": {},
   "outputs": [
    {
     "data": {
      "application/vnd.jupyter.widget-view+json": {
       "model_id": "9ab3d2cd972b4cf88db02a9785e8cca7",
       "version_major": 2,
       "version_minor": 0
      },
      "text/plain": [
       "Metadata Fetch Progress 0:   0%|          | 0.00/8.00 [00:00<?, ? task/s]"
      ]
     },
     "metadata": {},
     "output_type": "display_data"
    },
    {
     "data": {
      "application/vnd.jupyter.widget-view+json": {
       "model_id": "32a215ef9e6c47f19c2ad6c5a206238e",
       "version_major": 2,
       "version_minor": 0
      },
      "text/plain": [
       "Parquet Files Sample 0:   0%|          | 0.00/2.00 [00:00<?, ? file/s]"
      ]
     },
     "metadata": {},
     "output_type": "display_data"
    },
    {
     "data": {
      "application/vnd.jupyter.widget-view+json": {
       "model_id": "a88e5eb71c2f4d71ae499c1bff5650bd",
       "version_major": 2,
       "version_minor": 0
      },
      "text/plain": [
       "Parquet Files Sample 0:   0%|          | 0.00/2.00 [00:00<?, ? file/s]"
      ]
     },
     "metadata": {},
     "output_type": "display_data"
    }
   ],
   "source": [
    "# Load preprocessed datasets\n",
    "preprocessed_train_ds = ray.data.read_parquet(preprocessed_train_path)\n",
    "preprocessed_val_ds = ray.data.read_parquet(preprocessed_val_path)"
   ]
  },
  {
   "cell_type": "code",
   "execution_count": null,
   "metadata": {},
   "outputs": [],
   "source": [
    "# Trainer\n",
    "train_loop_config[\"class_to_label\"] = preprocessor.class_to_label\n",
    "train_loop_config[\"num_classes\"] = len(preprocessor.class_to_label)\n",
    "trainer = TorchTrainer(\n",
    "    train_loop_per_worker=train_loop_per_worker,\n",
    "    train_loop_config=train_loop_config,\n",
    "    scaling_config=scaling_config,\n",
    "    datasets={\"train\": preprocessed_train_ds, \"val\": preprocessed_val_ds},\n",
    ")"
   ]
  },
  {
   "cell_type": "markdown",
   "metadata": {},
   "source": [
    "<div class=\"alert alert-block alert\"> <b> Ray Train</b> \n",
    "\n",
    "**🎛️ Multi-node orchestration made easy**\n",
    "\n",
    "- Ray Train automatically handles multi-node, multi-GPU setup with no manual SSH setup or hostfile configs. \n",
    "- And it also integrates with Ray's cluster launcher for cloud (AWS, GCP, K8s) and on-prem clusters. \n",
    "- Solutions like PyTorch DDP require manually setting up your own process group, ranks, networking, etc.\n",
    "\n",
    "**🩹 2. Built-in fault tolerance**\n",
    "- Ray Train supports automatic retry of failed workers.\n",
    "- and can continue training from the last checkpoint in case of failure.\n",
    "\n",
    "\n",
    "**✂️ 3. Flexible training strategies** (not just DDP)\n",
    "- Ray Train supports Data Parallel, Model Parallel, Parameter Server, and even custom strategies.\n",
    "- You can also use Torch DDP, FSPD, DeepSpeed, etc. under the hood if you want.\n",
    "- [Ray Compiled graphs](https://docs.ray.io/en/latest/ray-core/compiled-graph/ray-compiled-graph.html) allow us to even define different parallelism for jointly optimizing multipe models (Megatron, Deepspeed, etc. only allow for one global setting).\n",
    "\n",
    "**🔥 Better support for heterogeneous clusters**\n",
    "- Ray Train lets you define per-worker resource requirements (e.g., 2 CPUs and 1 GPU per worker).\n",
    "- and can run on heterogeneous machines and scale flexibly (e.g., CPU for preprocessing and GPU for training)\n",
    "\n",
    "**🌍 Integrations**\n",
    "\n",
    "<img src=\"https://raw.githubusercontent.com/anyscale/foundational-ray-app/refs/heads/main/images/train_integrations.png\" width=500>\n",
    "\n",
    "[RayTurbo Train](https://docs.anyscale.com/rayturbo/rayturbo-train) offers even more improvement to the price-performance ratio, performance monitoring and more:\n",
    "- **elastic training** to scale to a dynamic number of workers, continue training on fewer resources (even on spot instances).\n",
    "- **purpose-built dashboard** designed to streamline the debugging of Ray Train workloads\n",
    "    - Monitoring: View the status of training runs and train workers.\n",
    "    - Metrics: See insights on training throughput, training system operation time.\n",
    "    - Profiling: Investigate bottlenecks, hangs, or errors from individual training worker processes.\n",
    "\n",
    "<img src=\"https://raw.githubusercontent.com/anyscale/foundational-ray-app/refs/heads/main/images/train_dashboard.png\" width=700>"
   ]
  },
  {
   "cell_type": "code",
   "execution_count": null,
   "metadata": {},
   "outputs": [
    {
     "name": "stderr",
     "output_type": "stream",
     "text": [
      "\u001b[36m(TrainController pid=157502)\u001b[0m Attempting to start training worker group of size 4 with the following resources: [{'CPU': 8, 'GPU': 1}] * 4\n"
     ]
    },
    {
     "name": "stdout",
     "output_type": "stream",
     "text": [
      "\u001b[33m(raylet)\u001b[0m WARNING: 4 PYTHON worker processes have been started on node: 80759e494d0d6586b0e9479bac386794004e426bcf24b89f5adf0d4a with address: 10.0.60.75. This could be a result of using a large number of actors, or due to tasks blocked in ray.get() calls (see https://github.com/ray-project/ray/issues/3644 for some discussion of workarounds).\n"
     ]
    },
    {
     "name": "stderr",
     "output_type": "stream",
     "text": [
      "\u001b[36m(RayTrainWorker pid=34863, ip=10.0.25.230)\u001b[0m Setting up process group for: env:// [rank=0, world_size=4]\n",
      "\u001b[36m(RayTrainWorker pid=34863, ip=10.0.25.230)\u001b[0m 2025/04/03 12:07:08 INFO mlflow.tracking.fluent: Experiment with name 'doggos' does not exist. Creating a new experiment.\n",
      "\u001b[36m(RayTrainWorker pid=34863, ip=10.0.25.230)\u001b[0m Moving model to device: cuda:0\n",
      "\u001b[36m(RayTrainWorker pid=34863, ip=10.0.25.230)\u001b[0m Wrapping provided model in DistributedDataParallel.\n",
      "\u001b[36m(SplitCoordinator pid=157639)\u001b[0m Starting execution of Dataset. Full logs are in /tmp/ray/session_2025-04-03_11-37-08_695372_142551/logs/ray-data\n",
      "\u001b[36m(SplitCoordinator pid=157639)\u001b[0m Execution plan of Dataset: InputDataBuffer[Input] -> TaskPoolMapOperator[ReadParquet] -> OutputSplitter[split(4, equal=True)]\n"
     ]
    },
    {
     "data": {
      "application/vnd.jupyter.widget-view+json": {
       "model_id": "755f16da98fe4cfe8e566ed0e906be61",
       "version_major": 2,
       "version_minor": 0
      },
      "text/plain": [
       "(pid=157639) Running 0: 0.00 row [00:00, ? row/s]"
      ]
     },
     "metadata": {},
     "output_type": "display_data"
    },
    {
     "data": {
      "application/vnd.jupyter.widget-view+json": {
       "model_id": "ff8d94ae783c46e1a0bb9ff71a819a36",
       "version_major": 2,
       "version_minor": 0
      },
      "text/plain": [
       "(pid=157639) - ReadParquet->SplitBlocks(8) 1: 0.00 row [00:00, ? row/s]"
      ]
     },
     "metadata": {},
     "output_type": "display_data"
    },
    {
     "data": {
      "application/vnd.jupyter.widget-view+json": {
       "model_id": "008cb9339fe9433d92e865e64678715e",
       "version_major": 2,
       "version_minor": 0
      },
      "text/plain": [
       "(pid=157639) - split(4, equal=True) 2: 0.00 row [00:00, ? row/s]"
      ]
     },
     "metadata": {},
     "output_type": "display_data"
    },
    {
     "name": "stdout",
     "output_type": "stream",
     "text": [
      "\u001b[33m(raylet)\u001b[0m WARNING: 6 PYTHON worker processes have been started on node: 80759e494d0d6586b0e9479bac386794004e426bcf24b89f5adf0d4a with address: 10.0.60.75. This could be a result of using a large number of actors, or due to tasks blocked in ray.get() calls (see https://github.com/ray-project/ray/issues/3644 for some discussion of workarounds).\n"
     ]
    },
    {
     "name": "stderr",
     "output_type": "stream",
     "text": [
      "\u001b[36m(RayTrainWorker pid=34863, ip=10.0.25.230)\u001b[0m /tmp/ipykernel_150714/3214280880.py:6: UserWarning: The given NumPy array is not writable, and PyTorch does not support non-writable tensors. This means writing to this tensor will result in undefined behavior. You may want to copy the array to protect its data or make it writable before converting it to a tensor. This type of warning will be suppressed for the rest of this program. (Triggered internally at ../torch/csrc/utils/tensor_numpy.cpp:206.)\n"
     ]
    },
    {
     "data": {
      "application/vnd.jupyter.widget-view+json": {
       "model_id": "83ddb63c0bef4a2eb7091a3c6d3cd932",
       "version_major": 2,
       "version_minor": 0
      },
      "text/plain": [
       "(pid=157681) Running 0: 0.00 row [00:00, ? row/s]"
      ]
     },
     "metadata": {},
     "output_type": "display_data"
    },
    {
     "data": {
      "application/vnd.jupyter.widget-view+json": {
       "model_id": "3c2da806dd0d4750b6206fe0ed9930b3",
       "version_major": 2,
       "version_minor": 0
      },
      "text/plain": [
       "(pid=157681) - ReadParquet->SplitBlocks(32) 1: 0.00 row [00:00, ? row/s]"
      ]
     },
     "metadata": {},
     "output_type": "display_data"
    },
    {
     "data": {
      "application/vnd.jupyter.widget-view+json": {
       "model_id": "d8f840332d57486f83009b89771e676c",
       "version_major": 2,
       "version_minor": 0
      },
      "text/plain": [
       "(pid=157681) - split(4, equal=True) 2: 0.00 row [00:00, ? row/s]"
      ]
     },
     "metadata": {},
     "output_type": "display_data"
    },
    {
     "name": "stderr",
     "output_type": "stream",
     "text": [
      "\u001b[36m(SplitCoordinator pid=157639)\u001b[0m Starting execution of Dataset. Full logs are in /tmp/ray/session_2025-04-03_11-37-08_695372_142551/logs/ray-data\u001b[32m [repeated 2x across cluster] (Ray deduplicates logs by default. Set RAY_DEDUP_LOGS=0 to disable log deduplication, or see https://docs.ray.io/en/master/ray-observability/user-guides/configure-logging.html#log-deduplication for more options.)\u001b[0m\n",
      "\u001b[36m(SplitCoordinator pid=157639)\u001b[0m Execution plan of Dataset: InputDataBuffer[Input] -> TaskPoolMapOperator[ReadParquet] -> OutputSplitter[split(4, equal=True)]\u001b[32m [repeated 2x across cluster]\u001b[0m\n"
     ]
    },
    {
     "data": {
      "application/vnd.jupyter.widget-view+json": {
       "model_id": "96e71d84e5814a9686c7896e723471e4",
       "version_major": 2,
       "version_minor": 0
      },
      "text/plain": [
       "(pid=157639) Running 0: 0.00 row [00:00, ? row/s]"
      ]
     },
     "metadata": {},
     "output_type": "display_data"
    },
    {
     "data": {
      "application/vnd.jupyter.widget-view+json": {
       "model_id": "7ce5ee3b5d75404cb8efd247356ff797",
       "version_major": 2,
       "version_minor": 0
      },
      "text/plain": [
       "(pid=157639) - ReadParquet->SplitBlocks(8) 1: 0.00 row [00:00, ? row/s]"
      ]
     },
     "metadata": {},
     "output_type": "display_data"
    },
    {
     "data": {
      "application/vnd.jupyter.widget-view+json": {
       "model_id": "5f94cd5e0cc14f4ba703fa200d63e1b2",
       "version_major": 2,
       "version_minor": 0
      },
      "text/plain": [
       "(pid=157639) - split(4, equal=True) 2: 0.00 row [00:00, ? row/s]"
      ]
     },
     "metadata": {},
     "output_type": "display_data"
    },
    {
     "data": {
      "application/vnd.jupyter.widget-view+json": {
       "model_id": "a951cdd5c79a466a8fd581aafc29d000",
       "version_major": 2,
       "version_minor": 0
      },
      "text/plain": [
       "(pid=157681) Running 0: 0.00 row [00:00, ? row/s]"
      ]
     },
     "metadata": {},
     "output_type": "display_data"
    },
    {
     "name": "stdout",
     "output_type": "stream",
     "text": [
      "\u001b[33m(raylet)\u001b[0m WARNING: 8 PYTHON worker processes have been started on node: 80759e494d0d6586b0e9479bac386794004e426bcf24b89f5adf0d4a with address: 10.0.60.75. This could be a result of using a large number of actors, or due to tasks blocked in ray.get() calls (see https://github.com/ray-project/ray/issues/3644 for some discussion of workarounds).\n"
     ]
    },
    {
     "name": "stderr",
     "output_type": "stream",
     "text": [
      "\u001b[36m(RayTrainWorker pid=34862, ip=10.0.25.230)\u001b[0m /tmp/ipykernel_150714/3214280880.py:6: UserWarning: The given NumPy array is not writable, and PyTorch does not support non-writable tensors. This means writing to this tensor will result in undefined behavior. You may want to copy the array to protect its data or make it writable before converting it to a tensor. This type of warning will be suppressed for the rest of this program. (Triggered internally at ../torch/csrc/utils/tensor_numpy.cpp:206.)\u001b[32m [repeated 3x across cluster]\u001b[0m\n"
     ]
    },
    {
     "data": {
      "application/vnd.jupyter.widget-view+json": {
       "model_id": "74fa7385c60f41738f5931458e1629e7",
       "version_major": 2,
       "version_minor": 0
      },
      "text/plain": [
       "(pid=157681) - ReadParquet->SplitBlocks(32) 1: 0.00 row [00:00, ? row/s]"
      ]
     },
     "metadata": {},
     "output_type": "display_data"
    },
    {
     "data": {
      "application/vnd.jupyter.widget-view+json": {
       "model_id": "f4eeef536a674a2fb8f5f3efc5b7639e",
       "version_major": 2,
       "version_minor": 0
      },
      "text/plain": [
       "(pid=157681) - split(4, equal=True) 2: 0.00 row [00:00, ? row/s]"
      ]
     },
     "metadata": {},
     "output_type": "display_data"
    },
    {
     "data": {
      "application/vnd.jupyter.widget-view+json": {
       "model_id": "166aca19571f4ac2b1f400d6453f92a2",
       "version_major": 2,
       "version_minor": 0
      },
      "text/plain": [
       "(pid=157639) Running 0: 0.00 row [00:00, ? row/s]"
      ]
     },
     "metadata": {},
     "output_type": "display_data"
    },
    {
     "data": {
      "application/vnd.jupyter.widget-view+json": {
       "model_id": "ad22476c1f7d4b168d327b431f074e1b",
       "version_major": 2,
       "version_minor": 0
      },
      "text/plain": [
       "(pid=157639) - ReadParquet->SplitBlocks(8) 1: 0.00 row [00:00, ? row/s]"
      ]
     },
     "metadata": {},
     "output_type": "display_data"
    },
    {
     "data": {
      "application/vnd.jupyter.widget-view+json": {
       "model_id": "53abc8cace5a4eda9a699909d3281dbb",
       "version_major": 2,
       "version_minor": 0
      },
      "text/plain": [
       "(pid=157639) - split(4, equal=True) 2: 0.00 row [00:00, ? row/s]"
      ]
     },
     "metadata": {},
     "output_type": "display_data"
    },
    {
     "data": {
      "application/vnd.jupyter.widget-view+json": {
       "model_id": "16c6eecdb71c4440978e86cbe3cc9674",
       "version_major": 2,
       "version_minor": 0
      },
      "text/plain": [
       "(pid=157681) Running 0: 0.00 row [00:00, ? row/s]"
      ]
     },
     "metadata": {},
     "output_type": "display_data"
    },
    {
     "data": {
      "application/vnd.jupyter.widget-view+json": {
       "model_id": "ee719fd1e1ff41e0a7f746bdfa4c26f5",
       "version_major": 2,
       "version_minor": 0
      },
      "text/plain": [
       "(pid=157681) - ReadParquet->SplitBlocks(32) 1: 0.00 row [00:00, ? row/s]"
      ]
     },
     "metadata": {},
     "output_type": "display_data"
    },
    {
     "data": {
      "application/vnd.jupyter.widget-view+json": {
       "model_id": "77a43e97d8d64cfba8af3184f8cf177a",
       "version_major": 2,
       "version_minor": 0
      },
      "text/plain": [
       "(pid=157681) - split(4, equal=True) 2: 0.00 row [00:00, ? row/s]"
      ]
     },
     "metadata": {},
     "output_type": "display_data"
    },
    {
     "name": "stderr",
     "output_type": "stream",
     "text": [
      "\u001b[36m(SplitCoordinator pid=157681)\u001b[0m Starting execution of Dataset. Full logs are in /tmp/ray/session_2025-04-03_11-37-08_695372_142551/logs/ray-data\u001b[32m [repeated 3x across cluster]\u001b[0m\n",
      "\u001b[36m(SplitCoordinator pid=157681)\u001b[0m Execution plan of Dataset: InputDataBuffer[Input] -> TaskPoolMapOperator[ReadParquet] -> OutputSplitter[split(4, equal=True)]\u001b[32m [repeated 3x across cluster]\u001b[0m\n"
     ]
    },
    {
     "data": {
      "application/vnd.jupyter.widget-view+json": {
       "model_id": "cc9fc4d475b54efcbda2f4eab1be11f5",
       "version_major": 2,
       "version_minor": 0
      },
      "text/plain": [
       "(pid=157639) Running 0: 0.00 row [00:00, ? row/s]"
      ]
     },
     "metadata": {},
     "output_type": "display_data"
    },
    {
     "data": {
      "application/vnd.jupyter.widget-view+json": {
       "model_id": "7fa69ee0695a4e7bb2f6be525f29e5c8",
       "version_major": 2,
       "version_minor": 0
      },
      "text/plain": [
       "(pid=157639) - ReadParquet->SplitBlocks(8) 1: 0.00 row [00:00, ? row/s]"
      ]
     },
     "metadata": {},
     "output_type": "display_data"
    },
    {
     "data": {
      "application/vnd.jupyter.widget-view+json": {
       "model_id": "beb9be7a9eb64b41855883142909b750",
       "version_major": 2,
       "version_minor": 0
      },
      "text/plain": [
       "(pid=157639) - split(4, equal=True) 2: 0.00 row [00:00, ? row/s]"
      ]
     },
     "metadata": {},
     "output_type": "display_data"
    },
    {
     "data": {
      "application/vnd.jupyter.widget-view+json": {
       "model_id": "802d85c49e6741f5851eff6cb2d4980e",
       "version_major": 2,
       "version_minor": 0
      },
      "text/plain": [
       "(pid=157681) Running 0: 0.00 row [00:00, ? row/s]"
      ]
     },
     "metadata": {},
     "output_type": "display_data"
    },
    {
     "data": {
      "application/vnd.jupyter.widget-view+json": {
       "model_id": "5b46ed89cc164eeeb92ae90af895c2a9",
       "version_major": 2,
       "version_minor": 0
      },
      "text/plain": [
       "(pid=157681) - ReadParquet->SplitBlocks(32) 1: 0.00 row [00:00, ? row/s]"
      ]
     },
     "metadata": {},
     "output_type": "display_data"
    },
    {
     "data": {
      "application/vnd.jupyter.widget-view+json": {
       "model_id": "d6a3abeef9784aa4956e1ed01e33e82e",
       "version_major": 2,
       "version_minor": 0
      },
      "text/plain": [
       "(pid=157681) - split(4, equal=True) 2: 0.00 row [00:00, ? row/s]"
      ]
     },
     "metadata": {},
     "output_type": "display_data"
    },
    {
     "data": {
      "application/vnd.jupyter.widget-view+json": {
       "model_id": "2281d0350d65491aa6f8edec9604d85d",
       "version_major": 2,
       "version_minor": 0
      },
      "text/plain": [
       "(pid=157639) Running 0: 0.00 row [00:00, ? row/s]"
      ]
     },
     "metadata": {},
     "output_type": "display_data"
    },
    {
     "data": {
      "application/vnd.jupyter.widget-view+json": {
       "model_id": "1cc94cbc5ada4a3b88e7b120d2b012ce",
       "version_major": 2,
       "version_minor": 0
      },
      "text/plain": [
       "(pid=157639) - ReadParquet->SplitBlocks(8) 1: 0.00 row [00:00, ? row/s]"
      ]
     },
     "metadata": {},
     "output_type": "display_data"
    },
    {
     "data": {
      "application/vnd.jupyter.widget-view+json": {
       "model_id": "d90b96e2d223421aac52c52d07ee7220",
       "version_major": 2,
       "version_minor": 0
      },
      "text/plain": [
       "(pid=157639) - split(4, equal=True) 2: 0.00 row [00:00, ? row/s]"
      ]
     },
     "metadata": {},
     "output_type": "display_data"
    },
    {
     "data": {
      "application/vnd.jupyter.widget-view+json": {
       "model_id": "e9362a5ee7394a54aeaa61be64f845aa",
       "version_major": 2,
       "version_minor": 0
      },
      "text/plain": [
       "(pid=157681) Running 0: 0.00 row [00:00, ? row/s]"
      ]
     },
     "metadata": {},
     "output_type": "display_data"
    },
    {
     "name": "stderr",
     "output_type": "stream",
     "text": [
      "\u001b[36m(SplitCoordinator pid=157681)\u001b[0m Starting execution of Dataset. Full logs are in /tmp/ray/session_2025-04-03_11-37-08_695372_142551/logs/ray-data\u001b[32m [repeated 4x across cluster]\u001b[0m\n",
      "\u001b[36m(SplitCoordinator pid=157681)\u001b[0m Execution plan of Dataset: InputDataBuffer[Input] -> TaskPoolMapOperator[ReadParquet] -> OutputSplitter[split(4, equal=True)]\u001b[32m [repeated 4x across cluster]\u001b[0m\n"
     ]
    },
    {
     "data": {
      "application/vnd.jupyter.widget-view+json": {
       "model_id": "fc9e06285bd14f5885635774d09ea927",
       "version_major": 2,
       "version_minor": 0
      },
      "text/plain": [
       "(pid=157681) - ReadParquet->SplitBlocks(32) 1: 0.00 row [00:00, ? row/s]"
      ]
     },
     "metadata": {},
     "output_type": "display_data"
    },
    {
     "data": {
      "application/vnd.jupyter.widget-view+json": {
       "model_id": "afdcc540a0f94b498383a6a5b1d8cf97",
       "version_major": 2,
       "version_minor": 0
      },
      "text/plain": [
       "(pid=157681) - split(4, equal=True) 2: 0.00 row [00:00, ? row/s]"
      ]
     },
     "metadata": {},
     "output_type": "display_data"
    },
    {
     "data": {
      "application/vnd.jupyter.widget-view+json": {
       "model_id": "9f1afda7f51c4ec0b40e5e0531a103bc",
       "version_major": 2,
       "version_minor": 0
      },
      "text/plain": [
       "(pid=157639) Running 0: 0.00 row [00:00, ? row/s]"
      ]
     },
     "metadata": {},
     "output_type": "display_data"
    },
    {
     "data": {
      "application/vnd.jupyter.widget-view+json": {
       "model_id": "3ef84325d17343139656e783b950144b",
       "version_major": 2,
       "version_minor": 0
      },
      "text/plain": [
       "(pid=157639) - ReadParquet->SplitBlocks(8) 1: 0.00 row [00:00, ? row/s]"
      ]
     },
     "metadata": {},
     "output_type": "display_data"
    },
    {
     "data": {
      "application/vnd.jupyter.widget-view+json": {
       "model_id": "51b291207ba64f87a2e94dd63a9a0432",
       "version_major": 2,
       "version_minor": 0
      },
      "text/plain": [
       "(pid=157639) - split(4, equal=True) 2: 0.00 row [00:00, ? row/s]"
      ]
     },
     "metadata": {},
     "output_type": "display_data"
    },
    {
     "data": {
      "application/vnd.jupyter.widget-view+json": {
       "model_id": "40007d6e0c5242e2b49a16cf2209d454",
       "version_major": 2,
       "version_minor": 0
      },
      "text/plain": [
       "(pid=157681) Running 0: 0.00 row [00:00, ? row/s]"
      ]
     },
     "metadata": {},
     "output_type": "display_data"
    },
    {
     "data": {
      "application/vnd.jupyter.widget-view+json": {
       "model_id": "8ea0e34460574a58905193144fbeb29d",
       "version_major": 2,
       "version_minor": 0
      },
      "text/plain": [
       "(pid=157681) - ReadParquet->SplitBlocks(32) 1: 0.00 row [00:00, ? row/s]"
      ]
     },
     "metadata": {},
     "output_type": "display_data"
    },
    {
     "data": {
      "application/vnd.jupyter.widget-view+json": {
       "model_id": "8a3dc5ac292144fb902052b9e569df06",
       "version_major": 2,
       "version_minor": 0
      },
      "text/plain": [
       "(pid=157681) - split(4, equal=True) 2: 0.00 row [00:00, ? row/s]"
      ]
     },
     "metadata": {},
     "output_type": "display_data"
    },
    {
     "name": "stderr",
     "output_type": "stream",
     "text": [
      "\u001b[36m(SplitCoordinator pid=157639)\u001b[0m Starting execution of Dataset. Full logs are in /tmp/ray/session_2025-04-03_11-37-08_695372_142551/logs/ray-data\u001b[32m [repeated 3x across cluster]\u001b[0m\n",
      "\u001b[36m(SplitCoordinator pid=157639)\u001b[0m Execution plan of Dataset: InputDataBuffer[Input] -> TaskPoolMapOperator[ReadParquet] -> OutputSplitter[split(4, equal=True)]\u001b[32m [repeated 3x across cluster]\u001b[0m\n"
     ]
    },
    {
     "data": {
      "application/vnd.jupyter.widget-view+json": {
       "model_id": "95b032a5e7144690b28152006aba5cdd",
       "version_major": 2,
       "version_minor": 0
      },
      "text/plain": [
       "(pid=157639) Running 0: 0.00 row [00:00, ? row/s]"
      ]
     },
     "metadata": {},
     "output_type": "display_data"
    },
    {
     "data": {
      "application/vnd.jupyter.widget-view+json": {
       "model_id": "52b5cf8f018d47868966c4c6ef53a78b",
       "version_major": 2,
       "version_minor": 0
      },
      "text/plain": [
       "(pid=157639) - ReadParquet->SplitBlocks(8) 1: 0.00 row [00:00, ? row/s]"
      ]
     },
     "metadata": {},
     "output_type": "display_data"
    },
    {
     "data": {
      "application/vnd.jupyter.widget-view+json": {
       "model_id": "82018cfcae9843b8908af3641ba884c8",
       "version_major": 2,
       "version_minor": 0
      },
      "text/plain": [
       "(pid=157639) - split(4, equal=True) 2: 0.00 row [00:00, ? row/s]"
      ]
     },
     "metadata": {},
     "output_type": "display_data"
    },
    {
     "data": {
      "application/vnd.jupyter.widget-view+json": {
       "model_id": "9ac3fe957e144eedad853549e71efdc9",
       "version_major": 2,
       "version_minor": 0
      },
      "text/plain": [
       "(pid=157681) Running 0: 0.00 row [00:00, ? row/s]"
      ]
     },
     "metadata": {},
     "output_type": "display_data"
    },
    {
     "data": {
      "application/vnd.jupyter.widget-view+json": {
       "model_id": "a3ab4aed262543bbbd0dbfb983aa1f5e",
       "version_major": 2,
       "version_minor": 0
      },
      "text/plain": [
       "(pid=157681) - ReadParquet->SplitBlocks(32) 1: 0.00 row [00:00, ? row/s]"
      ]
     },
     "metadata": {},
     "output_type": "display_data"
    },
    {
     "data": {
      "application/vnd.jupyter.widget-view+json": {
       "model_id": "bc063ee73a804fc998dc596c5c15703d",
       "version_major": 2,
       "version_minor": 0
      },
      "text/plain": [
       "(pid=157681) - split(4, equal=True) 2: 0.00 row [00:00, ? row/s]"
      ]
     },
     "metadata": {},
     "output_type": "display_data"
    },
    {
     "data": {
      "application/vnd.jupyter.widget-view+json": {
       "model_id": "f601f9199af44fc2b08118a7537f6cfe",
       "version_major": 2,
       "version_minor": 0
      },
      "text/plain": [
       "(pid=157639) Running 0: 0.00 row [00:00, ? row/s]"
      ]
     },
     "metadata": {},
     "output_type": "display_data"
    },
    {
     "data": {
      "application/vnd.jupyter.widget-view+json": {
       "model_id": "99db6ff7a9d247949517b8df40912530",
       "version_major": 2,
       "version_minor": 0
      },
      "text/plain": [
       "(pid=157639) - ReadParquet->SplitBlocks(8) 1: 0.00 row [00:00, ? row/s]"
      ]
     },
     "metadata": {},
     "output_type": "display_data"
    },
    {
     "data": {
      "application/vnd.jupyter.widget-view+json": {
       "model_id": "b0e4e09e9fcf4150beb2f31953c09e68",
       "version_major": 2,
       "version_minor": 0
      },
      "text/plain": [
       "(pid=157639) - split(4, equal=True) 2: 0.00 row [00:00, ? row/s]"
      ]
     },
     "metadata": {},
     "output_type": "display_data"
    },
    {
     "data": {
      "application/vnd.jupyter.widget-view+json": {
       "model_id": "8874edcc8db1400588fff64cfa988daa",
       "version_major": 2,
       "version_minor": 0
      },
      "text/plain": [
       "(pid=157681) Running 0: 0.00 row [00:00, ? row/s]"
      ]
     },
     "metadata": {},
     "output_type": "display_data"
    },
    {
     "data": {
      "application/vnd.jupyter.widget-view+json": {
       "model_id": "ce28728e9493441a84fbc1027088cfe9",
       "version_major": 2,
       "version_minor": 0
      },
      "text/plain": [
       "(pid=157681) - ReadParquet->SplitBlocks(32) 1: 0.00 row [00:00, ? row/s]"
      ]
     },
     "metadata": {},
     "output_type": "display_data"
    },
    {
     "data": {
      "application/vnd.jupyter.widget-view+json": {
       "model_id": "dee0e8e26f704917b60f42a44ea6ead3",
       "version_major": 2,
       "version_minor": 0
      },
      "text/plain": [
       "(pid=157681) - split(4, equal=True) 2: 0.00 row [00:00, ? row/s]"
      ]
     },
     "metadata": {},
     "output_type": "display_data"
    },
    {
     "name": "stderr",
     "output_type": "stream",
     "text": [
      "\u001b[36m(SplitCoordinator pid=157681)\u001b[0m Starting execution of Dataset. Full logs are in /tmp/ray/session_2025-04-03_11-37-08_695372_142551/logs/ray-data\u001b[32m [repeated 3x across cluster]\u001b[0m\n",
      "\u001b[36m(SplitCoordinator pid=157681)\u001b[0m Execution plan of Dataset: InputDataBuffer[Input] -> TaskPoolMapOperator[ReadParquet] -> OutputSplitter[split(4, equal=True)]\u001b[32m [repeated 3x across cluster]\u001b[0m\n"
     ]
    },
    {
     "data": {
      "application/vnd.jupyter.widget-view+json": {
       "model_id": "2ca243a3454246e4884fccdb16f2e06f",
       "version_major": 2,
       "version_minor": 0
      },
      "text/plain": [
       "(pid=157639) Running 0: 0.00 row [00:00, ? row/s]"
      ]
     },
     "metadata": {},
     "output_type": "display_data"
    },
    {
     "data": {
      "application/vnd.jupyter.widget-view+json": {
       "model_id": "b2c71fa947494471b9e102d7a4a4fe09",
       "version_major": 2,
       "version_minor": 0
      },
      "text/plain": [
       "(pid=157639) - ReadParquet->SplitBlocks(8) 1: 0.00 row [00:00, ? row/s]"
      ]
     },
     "metadata": {},
     "output_type": "display_data"
    },
    {
     "data": {
      "application/vnd.jupyter.widget-view+json": {
       "model_id": "b1dea0a177c54ffbb7ddb19df51bbaa1",
       "version_major": 2,
       "version_minor": 0
      },
      "text/plain": [
       "(pid=157639) - split(4, equal=True) 2: 0.00 row [00:00, ? row/s]"
      ]
     },
     "metadata": {},
     "output_type": "display_data"
    },
    {
     "data": {
      "application/vnd.jupyter.widget-view+json": {
       "model_id": "dfcc382f2b174b549c1eb512187fdd83",
       "version_major": 2,
       "version_minor": 0
      },
      "text/plain": [
       "(pid=157681) Running 0: 0.00 row [00:00, ? row/s]"
      ]
     },
     "metadata": {},
     "output_type": "display_data"
    },
    {
     "data": {
      "application/vnd.jupyter.widget-view+json": {
       "model_id": "1c7528603ca843e6ad0e8e704da40f0b",
       "version_major": 2,
       "version_minor": 0
      },
      "text/plain": [
       "(pid=157681) - ReadParquet->SplitBlocks(32) 1: 0.00 row [00:00, ? row/s]"
      ]
     },
     "metadata": {},
     "output_type": "display_data"
    },
    {
     "data": {
      "application/vnd.jupyter.widget-view+json": {
       "model_id": "0ce6cae4dc79437b8075e78a94a38b8f",
       "version_major": 2,
       "version_minor": 0
      },
      "text/plain": [
       "(pid=157681) - split(4, equal=True) 2: 0.00 row [00:00, ? row/s]"
      ]
     },
     "metadata": {},
     "output_type": "display_data"
    },
    {
     "data": {
      "application/vnd.jupyter.widget-view+json": {
       "model_id": "0f20ff99d9234eefa3ee60807c785039",
       "version_major": 2,
       "version_minor": 0
      },
      "text/plain": [
       "(pid=157639) Running 0: 0.00 row [00:00, ? row/s]"
      ]
     },
     "metadata": {},
     "output_type": "display_data"
    },
    {
     "data": {
      "application/vnd.jupyter.widget-view+json": {
       "model_id": "7ab1ee5133ca4b9187c49043ca9f13b0",
       "version_major": 2,
       "version_minor": 0
      },
      "text/plain": [
       "(pid=157639) - ReadParquet->SplitBlocks(8) 1: 0.00 row [00:00, ? row/s]"
      ]
     },
     "metadata": {},
     "output_type": "display_data"
    },
    {
     "data": {
      "application/vnd.jupyter.widget-view+json": {
       "model_id": "1aee0aaab5f24b83813fbd0dcc357f3c",
       "version_major": 2,
       "version_minor": 0
      },
      "text/plain": [
       "(pid=157639) - split(4, equal=True) 2: 0.00 row [00:00, ? row/s]"
      ]
     },
     "metadata": {},
     "output_type": "display_data"
    },
    {
     "data": {
      "application/vnd.jupyter.widget-view+json": {
       "model_id": "d80b4fa5433d4f77a0854ac5f416d615",
       "version_major": 2,
       "version_minor": 0
      },
      "text/plain": [
       "(pid=157681) Running 0: 0.00 row [00:00, ? row/s]"
      ]
     },
     "metadata": {},
     "output_type": "display_data"
    },
    {
     "data": {
      "application/vnd.jupyter.widget-view+json": {
       "model_id": "217cc27f8f5e44b6b5a03ccf231e53c0",
       "version_major": 2,
       "version_minor": 0
      },
      "text/plain": [
       "(pid=157681) - ReadParquet->SplitBlocks(32) 1: 0.00 row [00:00, ? row/s]"
      ]
     },
     "metadata": {},
     "output_type": "display_data"
    },
    {
     "data": {
      "application/vnd.jupyter.widget-view+json": {
       "model_id": "fd0833a5d913430cb25f6d6247341856",
       "version_major": 2,
       "version_minor": 0
      },
      "text/plain": [
       "(pid=157681) - split(4, equal=True) 2: 0.00 row [00:00, ? row/s]"
      ]
     },
     "metadata": {},
     "output_type": "display_data"
    },
    {
     "name": "stderr",
     "output_type": "stream",
     "text": [
      "\u001b[36m(SplitCoordinator pid=157681)\u001b[0m Starting execution of Dataset. Full logs are in /tmp/ray/session_2025-04-03_11-37-08_695372_142551/logs/ray-data\u001b[32m [repeated 4x across cluster]\u001b[0m\n",
      "\u001b[36m(SplitCoordinator pid=157681)\u001b[0m Execution plan of Dataset: InputDataBuffer[Input] -> TaskPoolMapOperator[ReadParquet] -> OutputSplitter[split(4, equal=True)]\u001b[32m [repeated 4x across cluster]\u001b[0m\n"
     ]
    },
    {
     "data": {
      "application/vnd.jupyter.widget-view+json": {
       "model_id": "d8c8d9b9bd014d2f9c2a80253635ca5e",
       "version_major": 2,
       "version_minor": 0
      },
      "text/plain": [
       "(pid=157639) Running 0: 0.00 row [00:00, ? row/s]"
      ]
     },
     "metadata": {},
     "output_type": "display_data"
    },
    {
     "data": {
      "application/vnd.jupyter.widget-view+json": {
       "model_id": "2a665d68ed724ccaae666593448aba09",
       "version_major": 2,
       "version_minor": 0
      },
      "text/plain": [
       "(pid=157639) - ReadParquet->SplitBlocks(8) 1: 0.00 row [00:00, ? row/s]"
      ]
     },
     "metadata": {},
     "output_type": "display_data"
    },
    {
     "data": {
      "application/vnd.jupyter.widget-view+json": {
       "model_id": "12fa04b81ae940aa943ca56f94366a44",
       "version_major": 2,
       "version_minor": 0
      },
      "text/plain": [
       "(pid=157639) - split(4, equal=True) 2: 0.00 row [00:00, ? row/s]"
      ]
     },
     "metadata": {},
     "output_type": "display_data"
    },
    {
     "data": {
      "application/vnd.jupyter.widget-view+json": {
       "model_id": "e26d242abc9e4d60a200c8775fa09d8f",
       "version_major": 2,
       "version_minor": 0
      },
      "text/plain": [
       "(pid=157681) Running 0: 0.00 row [00:00, ? row/s]"
      ]
     },
     "metadata": {},
     "output_type": "display_data"
    },
    {
     "data": {
      "application/vnd.jupyter.widget-view+json": {
       "model_id": "82589b1c9fbf45aea90ca97bad72935a",
       "version_major": 2,
       "version_minor": 0
      },
      "text/plain": [
       "(pid=157681) - ReadParquet->SplitBlocks(32) 1: 0.00 row [00:00, ? row/s]"
      ]
     },
     "metadata": {},
     "output_type": "display_data"
    },
    {
     "data": {
      "application/vnd.jupyter.widget-view+json": {
       "model_id": "143e325d3cde4e68a8058c4134111c6f",
       "version_major": 2,
       "version_minor": 0
      },
      "text/plain": [
       "(pid=157681) - split(4, equal=True) 2: 0.00 row [00:00, ? row/s]"
      ]
     },
     "metadata": {},
     "output_type": "display_data"
    },
    {
     "data": {
      "application/vnd.jupyter.widget-view+json": {
       "model_id": "90583a38c35c4d899efe12633aa4e07b",
       "version_major": 2,
       "version_minor": 0
      },
      "text/plain": [
       "(pid=157639) Running 0: 0.00 row [00:00, ? row/s]"
      ]
     },
     "metadata": {},
     "output_type": "display_data"
    },
    {
     "data": {
      "application/vnd.jupyter.widget-view+json": {
       "model_id": "a9c325b9505f4c50adcc0d8dd06fe1b6",
       "version_major": 2,
       "version_minor": 0
      },
      "text/plain": [
       "(pid=157639) - ReadParquet->SplitBlocks(8) 1: 0.00 row [00:00, ? row/s]"
      ]
     },
     "metadata": {},
     "output_type": "display_data"
    },
    {
     "data": {
      "application/vnd.jupyter.widget-view+json": {
       "model_id": "62aea863de7143b9b7fa7d347ccec36a",
       "version_major": 2,
       "version_minor": 0
      },
      "text/plain": [
       "(pid=157639) - split(4, equal=True) 2: 0.00 row [00:00, ? row/s]"
      ]
     },
     "metadata": {},
     "output_type": "display_data"
    },
    {
     "data": {
      "application/vnd.jupyter.widget-view+json": {
       "model_id": "f1ef3aa329bf4c85903d9dda98d8129c",
       "version_major": 2,
       "version_minor": 0
      },
      "text/plain": [
       "(pid=157681) Running 0: 0.00 row [00:00, ? row/s]"
      ]
     },
     "metadata": {},
     "output_type": "display_data"
    },
    {
     "name": "stderr",
     "output_type": "stream",
     "text": [
      "\u001b[36m(SplitCoordinator pid=157681)\u001b[0m Starting execution of Dataset. Full logs are in /tmp/ray/session_2025-04-03_11-37-08_695372_142551/logs/ray-data\u001b[32m [repeated 4x across cluster]\u001b[0m\n",
      "\u001b[36m(SplitCoordinator pid=157681)\u001b[0m Execution plan of Dataset: InputDataBuffer[Input] -> TaskPoolMapOperator[ReadParquet] -> OutputSplitter[split(4, equal=True)]\u001b[32m [repeated 4x across cluster]\u001b[0m\n"
     ]
    },
    {
     "data": {
      "application/vnd.jupyter.widget-view+json": {
       "model_id": "806a16020b1f4add98be0ed87c8b511b",
       "version_major": 2,
       "version_minor": 0
      },
      "text/plain": [
       "(pid=157681) - ReadParquet->SplitBlocks(32) 1: 0.00 row [00:00, ? row/s]"
      ]
     },
     "metadata": {},
     "output_type": "display_data"
    },
    {
     "data": {
      "application/vnd.jupyter.widget-view+json": {
       "model_id": "db45cfc0ccce4328ab4e4cb6080c2c00",
       "version_major": 2,
       "version_minor": 0
      },
      "text/plain": [
       "(pid=157681) - split(4, equal=True) 2: 0.00 row [00:00, ? row/s]"
      ]
     },
     "metadata": {},
     "output_type": "display_data"
    },
    {
     "data": {
      "application/vnd.jupyter.widget-view+json": {
       "model_id": "47c00787460b4fd8aca2c242fb8b029e",
       "version_major": 2,
       "version_minor": 0
      },
      "text/plain": [
       "(pid=157639) Running 0: 0.00 row [00:00, ? row/s]"
      ]
     },
     "metadata": {},
     "output_type": "display_data"
    },
    {
     "data": {
      "application/vnd.jupyter.widget-view+json": {
       "model_id": "7ca7f50116c24e1893caa8d8ffd3a5cf",
       "version_major": 2,
       "version_minor": 0
      },
      "text/plain": [
       "(pid=157639) - ReadParquet->SplitBlocks(8) 1: 0.00 row [00:00, ? row/s]"
      ]
     },
     "metadata": {},
     "output_type": "display_data"
    },
    {
     "data": {
      "application/vnd.jupyter.widget-view+json": {
       "model_id": "94837dd1f26a4ade8d9787e80c3a7f3f",
       "version_major": 2,
       "version_minor": 0
      },
      "text/plain": [
       "(pid=157639) - split(4, equal=True) 2: 0.00 row [00:00, ? row/s]"
      ]
     },
     "metadata": {},
     "output_type": "display_data"
    },
    {
     "data": {
      "application/vnd.jupyter.widget-view+json": {
       "model_id": "af9a95709a2a4e11b2f12ea80f7c3e86",
       "version_major": 2,
       "version_minor": 0
      },
      "text/plain": [
       "(pid=157681) Running 0: 0.00 row [00:00, ? row/s]"
      ]
     },
     "metadata": {},
     "output_type": "display_data"
    },
    {
     "data": {
      "application/vnd.jupyter.widget-view+json": {
       "model_id": "c982053c84ba4710b4c70b1bdeaf35f9",
       "version_major": 2,
       "version_minor": 0
      },
      "text/plain": [
       "(pid=157681) - ReadParquet->SplitBlocks(32) 1: 0.00 row [00:00, ? row/s]"
      ]
     },
     "metadata": {},
     "output_type": "display_data"
    },
    {
     "data": {
      "application/vnd.jupyter.widget-view+json": {
       "model_id": "94cfc254ef8b4691b4f82b224b2f9844",
       "version_major": 2,
       "version_minor": 0
      },
      "text/plain": [
       "(pid=157681) - split(4, equal=True) 2: 0.00 row [00:00, ? row/s]"
      ]
     },
     "metadata": {},
     "output_type": "display_data"
    },
    {
     "name": "stderr",
     "output_type": "stream",
     "text": [
      "\u001b[36m(SplitCoordinator pid=157639)\u001b[0m Starting execution of Dataset. Full logs are in /tmp/ray/session_2025-04-03_11-37-08_695372_142551/logs/ray-data\u001b[32m [repeated 3x across cluster]\u001b[0m\n",
      "\u001b[36m(SplitCoordinator pid=157639)\u001b[0m Execution plan of Dataset: InputDataBuffer[Input] -> TaskPoolMapOperator[ReadParquet] -> OutputSplitter[split(4, equal=True)]\u001b[32m [repeated 3x across cluster]\u001b[0m\n"
     ]
    },
    {
     "data": {
      "application/vnd.jupyter.widget-view+json": {
       "model_id": "ba43635431f442dd85ef925a0ecf8b2d",
       "version_major": 2,
       "version_minor": 0
      },
      "text/plain": [
       "(pid=157639) Running 0: 0.00 row [00:00, ? row/s]"
      ]
     },
     "metadata": {},
     "output_type": "display_data"
    },
    {
     "data": {
      "application/vnd.jupyter.widget-view+json": {
       "model_id": "2ad59ffc61754be9959a8a5baf7d30da",
       "version_major": 2,
       "version_minor": 0
      },
      "text/plain": [
       "(pid=157639) - ReadParquet->SplitBlocks(8) 1: 0.00 row [00:00, ? row/s]"
      ]
     },
     "metadata": {},
     "output_type": "display_data"
    },
    {
     "data": {
      "application/vnd.jupyter.widget-view+json": {
       "model_id": "97d70759546d4884a3c297c3162a87f6",
       "version_major": 2,
       "version_minor": 0
      },
      "text/plain": [
       "(pid=157639) - split(4, equal=True) 2: 0.00 row [00:00, ? row/s]"
      ]
     },
     "metadata": {},
     "output_type": "display_data"
    },
    {
     "data": {
      "application/vnd.jupyter.widget-view+json": {
       "model_id": "244895fe8d14454fb9bac11f45a1d50d",
       "version_major": 2,
       "version_minor": 0
      },
      "text/plain": [
       "(pid=157681) Running 0: 0.00 row [00:00, ? row/s]"
      ]
     },
     "metadata": {},
     "output_type": "display_data"
    },
    {
     "data": {
      "application/vnd.jupyter.widget-view+json": {
       "model_id": "05b39f7cc2fd413aaa6529b4e22dca1a",
       "version_major": 2,
       "version_minor": 0
      },
      "text/plain": [
       "(pid=157681) - ReadParquet->SplitBlocks(32) 1: 0.00 row [00:00, ? row/s]"
      ]
     },
     "metadata": {},
     "output_type": "display_data"
    },
    {
     "data": {
      "application/vnd.jupyter.widget-view+json": {
       "model_id": "e1c4bae1e6ac4bdd8486dc88307fc280",
       "version_major": 2,
       "version_minor": 0
      },
      "text/plain": [
       "(pid=157681) - split(4, equal=True) 2: 0.00 row [00:00, ? row/s]"
      ]
     },
     "metadata": {},
     "output_type": "display_data"
    },
    {
     "data": {
      "application/vnd.jupyter.widget-view+json": {
       "model_id": "3e15877de2b54468bfd8e497e24872e4",
       "version_major": 2,
       "version_minor": 0
      },
      "text/plain": [
       "(pid=157639) Running 0: 0.00 row [00:00, ? row/s]"
      ]
     },
     "metadata": {},
     "output_type": "display_data"
    },
    {
     "data": {
      "application/vnd.jupyter.widget-view+json": {
       "model_id": "57830abb82634218b8eec44bbd372807",
       "version_major": 2,
       "version_minor": 0
      },
      "text/plain": [
       "(pid=157639) - ReadParquet->SplitBlocks(8) 1: 0.00 row [00:00, ? row/s]"
      ]
     },
     "metadata": {},
     "output_type": "display_data"
    },
    {
     "data": {
      "application/vnd.jupyter.widget-view+json": {
       "model_id": "90dc9fc01778416ea0162153fa9719d9",
       "version_major": 2,
       "version_minor": 0
      },
      "text/plain": [
       "(pid=157639) - split(4, equal=True) 2: 0.00 row [00:00, ? row/s]"
      ]
     },
     "metadata": {},
     "output_type": "display_data"
    },
    {
     "data": {
      "application/vnd.jupyter.widget-view+json": {
       "model_id": "e616f44ffb4a4a10b4ae36039a12684b",
       "version_major": 2,
       "version_minor": 0
      },
      "text/plain": [
       "(pid=157681) Running 0: 0.00 row [00:00, ? row/s]"
      ]
     },
     "metadata": {},
     "output_type": "display_data"
    },
    {
     "data": {
      "application/vnd.jupyter.widget-view+json": {
       "model_id": "769324a85bc145f2ad7458dd3498c277",
       "version_major": 2,
       "version_minor": 0
      },
      "text/plain": [
       "(pid=157681) - ReadParquet->SplitBlocks(32) 1: 0.00 row [00:00, ? row/s]"
      ]
     },
     "metadata": {},
     "output_type": "display_data"
    },
    {
     "data": {
      "application/vnd.jupyter.widget-view+json": {
       "model_id": "0cf9fe1ef1b748138143fc1f26ff468e",
       "version_major": 2,
       "version_minor": 0
      },
      "text/plain": [
       "(pid=157681) - split(4, equal=True) 2: 0.00 row [00:00, ? row/s]"
      ]
     },
     "metadata": {},
     "output_type": "display_data"
    },
    {
     "name": "stderr",
     "output_type": "stream",
     "text": [
      "\u001b[36m(SplitCoordinator pid=157639)\u001b[0m Starting execution of Dataset. Full logs are in /tmp/ray/session_2025-04-03_11-37-08_695372_142551/logs/ray-data\u001b[32m [repeated 4x across cluster]\u001b[0m\n",
      "\u001b[36m(SplitCoordinator pid=157639)\u001b[0m Execution plan of Dataset: InputDataBuffer[Input] -> TaskPoolMapOperator[ReadParquet] -> OutputSplitter[split(4, equal=True)]\u001b[32m [repeated 4x across cluster]\u001b[0m\n"
     ]
    },
    {
     "data": {
      "application/vnd.jupyter.widget-view+json": {
       "model_id": "24633b3990e54df0b688a9d2ffbbc4e8",
       "version_major": 2,
       "version_minor": 0
      },
      "text/plain": [
       "(pid=157639) Running 0: 0.00 row [00:00, ? row/s]"
      ]
     },
     "metadata": {},
     "output_type": "display_data"
    },
    {
     "data": {
      "application/vnd.jupyter.widget-view+json": {
       "model_id": "957644729ef04ce9b610d576e9ffa502",
       "version_major": 2,
       "version_minor": 0
      },
      "text/plain": [
       "(pid=157639) - ReadParquet->SplitBlocks(8) 1: 0.00 row [00:00, ? row/s]"
      ]
     },
     "metadata": {},
     "output_type": "display_data"
    },
    {
     "data": {
      "application/vnd.jupyter.widget-view+json": {
       "model_id": "ed6f4f39dd7c47d7a21cd07f56e0d6f5",
       "version_major": 2,
       "version_minor": 0
      },
      "text/plain": [
       "(pid=157639) - split(4, equal=True) 2: 0.00 row [00:00, ? row/s]"
      ]
     },
     "metadata": {},
     "output_type": "display_data"
    },
    {
     "data": {
      "application/vnd.jupyter.widget-view+json": {
       "model_id": "f2e61b21434748b69baca073d3f05d9a",
       "version_major": 2,
       "version_minor": 0
      },
      "text/plain": [
       "(pid=157681) Running 0: 0.00 row [00:00, ? row/s]"
      ]
     },
     "metadata": {},
     "output_type": "display_data"
    },
    {
     "data": {
      "application/vnd.jupyter.widget-view+json": {
       "model_id": "0b5d07335b16493ca4d876b2ca40c16b",
       "version_major": 2,
       "version_minor": 0
      },
      "text/plain": [
       "(pid=157681) - ReadParquet->SplitBlocks(32) 1: 0.00 row [00:00, ? row/s]"
      ]
     },
     "metadata": {},
     "output_type": "display_data"
    },
    {
     "data": {
      "application/vnd.jupyter.widget-view+json": {
       "model_id": "bf6d3c3d8e43438dad151c4014545e1d",
       "version_major": 2,
       "version_minor": 0
      },
      "text/plain": [
       "(pid=157681) - split(4, equal=True) 2: 0.00 row [00:00, ? row/s]"
      ]
     },
     "metadata": {},
     "output_type": "display_data"
    },
    {
     "data": {
      "application/vnd.jupyter.widget-view+json": {
       "model_id": "edcc804b575c48b286d95bb8e0d883bf",
       "version_major": 2,
       "version_minor": 0
      },
      "text/plain": [
       "(pid=157639) Running 0: 0.00 row [00:00, ? row/s]"
      ]
     },
     "metadata": {},
     "output_type": "display_data"
    },
    {
     "data": {
      "application/vnd.jupyter.widget-view+json": {
       "model_id": "7fb5a32e3c3d47caa8cbd18127f9cd37",
       "version_major": 2,
       "version_minor": 0
      },
      "text/plain": [
       "(pid=157639) - ReadParquet->SplitBlocks(8) 1: 0.00 row [00:00, ? row/s]"
      ]
     },
     "metadata": {},
     "output_type": "display_data"
    },
    {
     "data": {
      "application/vnd.jupyter.widget-view+json": {
       "model_id": "48e4542c87ac43e198cb5bfb1f60372b",
       "version_major": 2,
       "version_minor": 0
      },
      "text/plain": [
       "(pid=157639) - split(4, equal=True) 2: 0.00 row [00:00, ? row/s]"
      ]
     },
     "metadata": {},
     "output_type": "display_data"
    },
    {
     "data": {
      "application/vnd.jupyter.widget-view+json": {
       "model_id": "cd297dca0c2b421481d8d8c845ed7a9f",
       "version_major": 2,
       "version_minor": 0
      },
      "text/plain": [
       "(pid=157681) Running 0: 0.00 row [00:00, ? row/s]"
      ]
     },
     "metadata": {},
     "output_type": "display_data"
    },
    {
     "data": {
      "application/vnd.jupyter.widget-view+json": {
       "model_id": "283a3a020d2049aeb563b5edf31e4f7c",
       "version_major": 2,
       "version_minor": 0
      },
      "text/plain": [
       "(pid=157681) - ReadParquet->SplitBlocks(32) 1: 0.00 row [00:00, ? row/s]"
      ]
     },
     "metadata": {},
     "output_type": "display_data"
    },
    {
     "data": {
      "application/vnd.jupyter.widget-view+json": {
       "model_id": "72123a0d634f4c1e9dda83743f942c4f",
       "version_major": 2,
       "version_minor": 0
      },
      "text/plain": [
       "(pid=157681) - split(4, equal=True) 2: 0.00 row [00:00, ? row/s]"
      ]
     },
     "metadata": {},
     "output_type": "display_data"
    },
    {
     "name": "stderr",
     "output_type": "stream",
     "text": [
      "\u001b[36m(SplitCoordinator pid=157639)\u001b[0m Starting execution of Dataset. Full logs are in /tmp/ray/session_2025-04-03_11-37-08_695372_142551/logs/ray-data\u001b[32m [repeated 4x across cluster]\u001b[0m\n",
      "\u001b[36m(SplitCoordinator pid=157639)\u001b[0m Execution plan of Dataset: InputDataBuffer[Input] -> TaskPoolMapOperator[ReadParquet] -> OutputSplitter[split(4, equal=True)]\u001b[32m [repeated 4x across cluster]\u001b[0m\n"
     ]
    },
    {
     "data": {
      "application/vnd.jupyter.widget-view+json": {
       "model_id": "826f68906ae34546b543736de3d2a0d9",
       "version_major": 2,
       "version_minor": 0
      },
      "text/plain": [
       "(pid=157639) Running 0: 0.00 row [00:00, ? row/s]"
      ]
     },
     "metadata": {},
     "output_type": "display_data"
    },
    {
     "data": {
      "application/vnd.jupyter.widget-view+json": {
       "model_id": "a3fc57b72db14d92857788a2640ddfe1",
       "version_major": 2,
       "version_minor": 0
      },
      "text/plain": [
       "(pid=157639) - ReadParquet->SplitBlocks(8) 1: 0.00 row [00:00, ? row/s]"
      ]
     },
     "metadata": {},
     "output_type": "display_data"
    },
    {
     "data": {
      "application/vnd.jupyter.widget-view+json": {
       "model_id": "4ab5e5776cc441a2a636946d5357f7d7",
       "version_major": 2,
       "version_minor": 0
      },
      "text/plain": [
       "(pid=157639) - split(4, equal=True) 2: 0.00 row [00:00, ? row/s]"
      ]
     },
     "metadata": {},
     "output_type": "display_data"
    },
    {
     "data": {
      "application/vnd.jupyter.widget-view+json": {
       "model_id": "090228a9e73e40d69ebd6951bfa8e520",
       "version_major": 2,
       "version_minor": 0
      },
      "text/plain": [
       "(pid=157681) Running 0: 0.00 row [00:00, ? row/s]"
      ]
     },
     "metadata": {},
     "output_type": "display_data"
    },
    {
     "data": {
      "application/vnd.jupyter.widget-view+json": {
       "model_id": "6c8a393931144e8b8642fe5b04a1dda3",
       "version_major": 2,
       "version_minor": 0
      },
      "text/plain": [
       "(pid=157681) - ReadParquet->SplitBlocks(32) 1: 0.00 row [00:00, ? row/s]"
      ]
     },
     "metadata": {},
     "output_type": "display_data"
    },
    {
     "data": {
      "application/vnd.jupyter.widget-view+json": {
       "model_id": "81ac33179d994f35aad85387e431eb09",
       "version_major": 2,
       "version_minor": 0
      },
      "text/plain": [
       "(pid=157681) - split(4, equal=True) 2: 0.00 row [00:00, ? row/s]"
      ]
     },
     "metadata": {},
     "output_type": "display_data"
    },
    {
     "data": {
      "application/vnd.jupyter.widget-view+json": {
       "model_id": "4371b3536a93444f99ffd2d94a6eb999",
       "version_major": 2,
       "version_minor": 0
      },
      "text/plain": [
       "(pid=157639) Running 0: 0.00 row [00:00, ? row/s]"
      ]
     },
     "metadata": {},
     "output_type": "display_data"
    },
    {
     "data": {
      "application/vnd.jupyter.widget-view+json": {
       "model_id": "4f476061860f4b00819c2ca2f90434cc",
       "version_major": 2,
       "version_minor": 0
      },
      "text/plain": [
       "(pid=157639) - ReadParquet->SplitBlocks(8) 1: 0.00 row [00:00, ? row/s]"
      ]
     },
     "metadata": {},
     "output_type": "display_data"
    },
    {
     "data": {
      "application/vnd.jupyter.widget-view+json": {
       "model_id": "487e229a56d44753b28d024d858f590c",
       "version_major": 2,
       "version_minor": 0
      },
      "text/plain": [
       "(pid=157639) - split(4, equal=True) 2: 0.00 row [00:00, ? row/s]"
      ]
     },
     "metadata": {},
     "output_type": "display_data"
    },
    {
     "data": {
      "application/vnd.jupyter.widget-view+json": {
       "model_id": "2f726745eba741158d2a01105a030db3",
       "version_major": 2,
       "version_minor": 0
      },
      "text/plain": [
       "(pid=157681) Running 0: 0.00 row [00:00, ? row/s]"
      ]
     },
     "metadata": {},
     "output_type": "display_data"
    },
    {
     "data": {
      "application/vnd.jupyter.widget-view+json": {
       "model_id": "2c6f4e37924a44d5be7cc9687c99ca53",
       "version_major": 2,
       "version_minor": 0
      },
      "text/plain": [
       "(pid=157681) - ReadParquet->SplitBlocks(32) 1: 0.00 row [00:00, ? row/s]"
      ]
     },
     "metadata": {},
     "output_type": "display_data"
    },
    {
     "data": {
      "application/vnd.jupyter.widget-view+json": {
       "model_id": "e684faca8b8245f3ad9662e42fb422b7",
       "version_major": 2,
       "version_minor": 0
      },
      "text/plain": [
       "(pid=157681) - split(4, equal=True) 2: 0.00 row [00:00, ? row/s]"
      ]
     },
     "metadata": {},
     "output_type": "display_data"
    },
    {
     "name": "stderr",
     "output_type": "stream",
     "text": [
      "\u001b[36m(SplitCoordinator pid=157639)\u001b[0m Starting execution of Dataset. Full logs are in /tmp/ray/session_2025-04-03_11-37-08_695372_142551/logs/ray-data\u001b[32m [repeated 4x across cluster]\u001b[0m\n",
      "\u001b[36m(SplitCoordinator pid=157639)\u001b[0m Execution plan of Dataset: InputDataBuffer[Input] -> TaskPoolMapOperator[ReadParquet] -> OutputSplitter[split(4, equal=True)]\u001b[32m [repeated 4x across cluster]\u001b[0m\n"
     ]
    },
    {
     "data": {
      "application/vnd.jupyter.widget-view+json": {
       "model_id": "94b8efa0a14d4b62992e552f77ac6780",
       "version_major": 2,
       "version_minor": 0
      },
      "text/plain": [
       "(pid=157639) Running 0: 0.00 row [00:00, ? row/s]"
      ]
     },
     "metadata": {},
     "output_type": "display_data"
    },
    {
     "data": {
      "application/vnd.jupyter.widget-view+json": {
       "model_id": "3f9b904910dd4c5d8b0c507edbd73512",
       "version_major": 2,
       "version_minor": 0
      },
      "text/plain": [
       "(pid=157639) - ReadParquet->SplitBlocks(8) 1: 0.00 row [00:00, ? row/s]"
      ]
     },
     "metadata": {},
     "output_type": "display_data"
    },
    {
     "data": {
      "application/vnd.jupyter.widget-view+json": {
       "model_id": "7253c6ca7f1e49ac9eb392fcd7bf7fe7",
       "version_major": 2,
       "version_minor": 0
      },
      "text/plain": [
       "(pid=157639) - split(4, equal=True) 2: 0.00 row [00:00, ? row/s]"
      ]
     },
     "metadata": {},
     "output_type": "display_data"
    },
    {
     "data": {
      "application/vnd.jupyter.widget-view+json": {
       "model_id": "aeed28ac78a948f99d70a2976928e11d",
       "version_major": 2,
       "version_minor": 0
      },
      "text/plain": [
       "(pid=157681) Running 0: 0.00 row [00:00, ? row/s]"
      ]
     },
     "metadata": {},
     "output_type": "display_data"
    },
    {
     "data": {
      "application/vnd.jupyter.widget-view+json": {
       "model_id": "ff9763868584472aad37edc497fe53a6",
       "version_major": 2,
       "version_minor": 0
      },
      "text/plain": [
       "(pid=157681) - ReadParquet->SplitBlocks(32) 1: 0.00 row [00:00, ? row/s]"
      ]
     },
     "metadata": {},
     "output_type": "display_data"
    },
    {
     "data": {
      "application/vnd.jupyter.widget-view+json": {
       "model_id": "4c9be2fd4299406cbaa5a8c12adee509",
       "version_major": 2,
       "version_minor": 0
      },
      "text/plain": [
       "(pid=157681) - split(4, equal=True) 2: 0.00 row [00:00, ? row/s]"
      ]
     },
     "metadata": {},
     "output_type": "display_data"
    }
   ],
   "source": [
    "# Train\n",
    "results = trainer.fit()"
   ]
  },
  {
   "cell_type": "markdown",
   "metadata": {},
   "source": [
    "We can view our experiment metrics and model artifacts in our model registry. We're using OSS mlflow so we can run the server by pointing to our model registry location:\n",
    "\n",
    "```bash\n",
    "mlflow server -h 0.0.0.0 -p 8080 --backend-store-uri /mnt/user_storage/mlflow/doggos\n",
    "```\n",
    "\n",
    "We can view the dashboard by going to the **Overview tab** up top → **Open Ports**. \n",
    "\n",
    "<img src=\"https://raw.githubusercontent.com/anyscale/foundational-ray-app/refs/heads/main/images/mlflow.png\" width=685>\n",
    "\n",
    "We also have our Ray Dashboard and Train workfload specific dashboards above. \n",
    "\n",
    "<img src=\"https://raw.githubusercontent.com/anyscale/foundational-ray-app/refs/heads/main/images/train_metrics.png\" width=700>\n"
   ]
  },
  {
   "cell_type": "code",
   "execution_count": null,
   "metadata": {},
   "outputs": [
    {
     "data": {
      "text/plain": [
       "run_id                                      7a95842997b04a59ba9b7336fcae611d\n",
       "experiment_id                                             986917759896566964\n",
       "status                                                              FINISHED\n",
       "artifact_uri               file:///mnt/user_storage/mlflow/doggos/9869177...\n",
       "start_time                                  2025-04-03 19:07:08.787000+00:00\n",
       "end_time                                    2025-04-03 19:08:19.551000+00:00\n",
       "metrics.lr                                                             0.001\n",
       "metrics.val_loss                                                    0.599019\n",
       "metrics.train_loss                                                  0.387353\n",
       "params.embedding_dim                                                     512\n",
       "params.experiment_name                                                doggos\n",
       "params.num_epochs                                                         20\n",
       "params.model_registry                        /mnt/user_storage/mlflow/doggos\n",
       "params.num_classes                                                        36\n",
       "params.lr_factor                                                         0.8\n",
       "params.class_to_label      {'border_collie': 0, 'labrador_retriever': 1, ...\n",
       "params.batch_size                                                        256\n",
       "params.dropout_p                                                         0.3\n",
       "params.lr_patience                                                         3\n",
       "params.lr                                                              0.001\n",
       "params.hidden_dim                                                        256\n",
       "tags.mlflow.source.name    /home/ray/anaconda3/lib/python3.12/site-packag...\n",
       "tags.mlflow.source.type                                                LOCAL\n",
       "tags.mlflow.user                                                         ray\n",
       "tags.mlflow.runName                                       skittish-moose-756\n",
       "Name: 0, dtype: object"
      ]
     },
     "execution_count": null,
     "metadata": {},
     "output_type": "execute_result"
    }
   ],
   "source": [
    "# Sorted runs\n",
    "mlflow.set_tracking_uri(f\"file:{model_registry}\")\n",
    "sorted_runs = mlflow.search_runs(\n",
    "    experiment_names=[experiment_name], \n",
    "    order_by=[\"metrics.val_loss ASC\"])\n",
    "best_run = sorted_runs.iloc[0]\n",
    "best_run"
   ]
  },
  {
   "cell_type": "markdown",
   "metadata": {},
   "source": [
    "And we can easily wrap our training workload as a production grade [Anyscale Job](https://docs.anyscale.com/platform/jobs/) ([API ref](https://docs.anyscale.com/reference/job-api/))\n",
    "\n",
    "**Note**: \n",
    "- we're using a `containerfile` to define our dependencies, but we could easily use a pre-built image as well.\n",
    "- we can specify the compute as a [compute config](https://docs.anyscale.com/configuration/compute-configuration/) or inline in a [job config](https://docs.anyscale.com/reference/job-api#job-cli) file.\n",
    "- when we don't specify compute and when launching from a workspace, this defaults to the compute configuration of the Workspace."
   ]
  },
  {
   "cell_type": "code",
   "execution_count": null,
   "metadata": {},
   "outputs": [
    {
     "name": "stderr",
     "output_type": "stream",
     "text": [
      "Output\n",
      "(anyscale +2.9s) Submitting job with config JobConfig(name='train-doggos-model', image_uri=None, compute_config=None, env_vars=None, py_modules=None, py_executable=None, cloud=None, project=None, ray_version=None, job_queue_config=None).\n",
      "(anyscale +4.3s) Building image. View it in the UI: https://console.anyscale.com/v2/container-images/apt_udgl8twk396mta6cawdqsr8ds7/versions/bld_jxtzi5qtafpn445rld8cydln88\n",
      "(anyscale +48.3s) Waiting for image build to complete. Elapsed time: 42 seconds.\n",
      "(anyscale +48.3s) Image build succeeded.\n",
      "(anyscale +48.5s) Uploading local dir '/home/ray/default' to cloud storage.\n",
      "(anyscale +50.3s) Including workspace-managed pip dependencies.\n",
      "(anyscale +50.6s) Job 'train-doggos-model' submitted, ID: 'prodjob_t66b5774u83lwcugkw4999prj4'.\n",
      "(anyscale +50.6s) View the job in the UI: https://console.anyscale.com/jobs/prodjob_t66b5774u83lwcugkw4999prj4\n",
      "(anyscale +50.6s) Use `--wait` to wait for the job to run and stream logs.\n"
     ]
    }
   ],
   "source": [
    "%%bash\n",
    "# Production batch job\n",
    "anyscale job submit --name=train-doggos-model \\\n",
    "  --containerfile=\"/home/ray/default/containerfile\" \\\n",
    "  --working-dir=\"/home/ray/default\" \\\n",
    "  --exclude=\"\" \\\n",
    "  --max-retries=0 \\\n",
    "  -- python doggos/train.py"
   ]
  },
  {
   "cell_type": "markdown",
   "metadata": {},
   "source": [
    "<img src=\"https://raw.githubusercontent.com/anyscale/foundational-ray-app/refs/heads/main/images/train_job.png\" width=700>"
   ]
  },
  {
   "cell_type": "markdown",
   "metadata": {},
   "source": [
    "### Evaluation"
   ]
  },
  {
   "cell_type": "markdown",
   "metadata": {},
   "source": [
    "We'll conclude by evaluating our trained model on our test dataset. Evaluation is essentially just the same as our batch inference workload -- where we'll apply the model on batches of data and then calculate metrics using the predictions vs.true labels. Ray data is hyper optimized for throughput so preserving order is not a priority. But for evaluation, this is crucial! So we'll achieve this by preserving the entire row and adding the predicted label as another column to each row."
   ]
  },
  {
   "cell_type": "code",
   "execution_count": null,
   "metadata": {},
   "outputs": [],
   "source": [
    "from urllib.parse import urlparse\n",
    "from sklearn.metrics import multilabel_confusion_matrix"
   ]
  },
  {
   "cell_type": "code",
   "execution_count": null,
   "metadata": {},
   "outputs": [],
   "source": [
    "class TorchPredictor:\n",
    "    def __init__(self, preprocessor, model):\n",
    "        self.preprocessor = preprocessor\n",
    "        self.model = model\n",
    "        self.model.eval()\n",
    "\n",
    "    def __call__(self, batch, device=\"cuda\"):\n",
    "        self.model.to(device)\n",
    "        batch[\"prediction\"] = self.model.predict(collate_fn(batch))\n",
    "        return batch\n",
    "\n",
    "    def predict_probabilities(self, batch, device=\"cuda\"):\n",
    "        self.model.to(device)\n",
    "        predicted_probabilities = self.model.predict_probabilities(collate_fn(batch))\n",
    "        batch[\"probabilities\"] = [\n",
    "            {self.preprocessor.label_to_class[i]: prob for i, prob in enumerate(probabilities)}\n",
    "            for probabilities in predicted_probabilities\n",
    "        ]\n",
    "        return batch\n",
    "    \n",
    "    @classmethod\n",
    "    def from_artifacts_dir(cls, artifacts_dir):\n",
    "        with open(os.path.join(artifacts_dir, \"class_to_label.json\"), \"r\") as fp:\n",
    "            class_to_label = json.load(fp)\n",
    "        preprocessor = Preprocessor(class_to_label=class_to_label)\n",
    "        model = ClassificationModel.load(\n",
    "            args_fp=os.path.join(artifacts_dir, \"args.json\"), \n",
    "            state_dict_fp=os.path.join(artifacts_dir, \"model.pt\"),\n",
    "        )\n",
    "        return cls(preprocessor=preprocessor, model=model)"
   ]
  },
  {
   "cell_type": "code",
   "execution_count": null,
   "metadata": {},
   "outputs": [
    {
     "name": "stderr",
     "output_type": "stream",
     "text": [
      "/tmp/ipykernel_150714/1167522715.py:52: FutureWarning: You are using `torch.load` with `weights_only=False` (the current default value), which uses the default pickle module implicitly. It is possible to construct malicious pickle data which will execute arbitrary code during unpickling (See https://github.com/pytorch/pytorch/blob/main/SECURITY.md#untrusted-models for more details). In a future release, the default value for `weights_only` will be flipped to `True`. This limits the functions that could be executed during unpickling. Arbitrary objects will no longer be allowed to be loaded via this mode unless they are explicitly allowlisted by the user via `torch.serialization.add_safe_globals`. We recommend you start setting `weights_only=True` for any use case where you don't have full control of the loaded file. Please open an issue on GitHub for any issues related to this experimental feature.\n",
      "  model.load_state_dict(torch.load(state_dict_fp, map_location=device))\n"
     ]
    }
   ],
   "source": [
    "# Load and preproces eval dataset\n",
    "artifacts_dir = urlparse(best_run.artifact_uri).path\n",
    "predictor = TorchPredictor.from_artifacts_dir(artifacts_dir=artifacts_dir)\n",
    "test_ds = ray.data.read_images(\"s3://doggos-dataset/test\", include_paths=True)\n",
    "test_ds = test_ds.map(add_class)\n",
    "test_ds = predictor.preprocessor.transform(ds=test_ds)"
   ]
  },
  {
   "cell_type": "code",
   "execution_count": null,
   "metadata": {},
   "outputs": [
    {
     "name": "stderr",
     "output_type": "stream",
     "text": [
      "2025-04-03 12:09:36,476\tINFO streaming_executor.py:108 -- Starting execution of Dataset. Full logs are in /tmp/ray/session_2025-04-03_11-37-08_695372_142551/logs/ray-data\n",
      "2025-04-03 12:09:36,477\tINFO streaming_executor.py:109 -- Execution plan of Dataset: InputDataBuffer[Input] -> TaskPoolMapOperator[ReadImage->Map(add_class)->Map(Preprocessor.convert_to_label)] -> ActorPoolMapOperator[MapBatches(EmbeddingGenerator)] -> TaskPoolMapOperator[MapBatches(drop_columns)] -> TaskPoolMapOperator[MapBatches(TorchPredictor)] -> LimitOperator[limit=1]\n"
     ]
    },
    {
     "data": {
      "application/vnd.jupyter.widget-view+json": {
       "model_id": "2c1264969aa64be8b29f72f35d6abcac",
       "version_major": 2,
       "version_minor": 0
      },
      "text/plain": [
       "Running 0: 0.00 row [00:00, ? row/s]"
      ]
     },
     "metadata": {},
     "output_type": "display_data"
    },
    {
     "data": {
      "application/vnd.jupyter.widget-view+json": {
       "model_id": "fc18b145b0664627ac0729b61f44fba8",
       "version_major": 2,
       "version_minor": 0
      },
      "text/plain": [
       "- ReadImage->Map(add_class)->Map(Preprocessor.convert_to_label) 1: 0.00 row [00:00, ? row/s]"
      ]
     },
     "metadata": {},
     "output_type": "display_data"
    },
    {
     "data": {
      "application/vnd.jupyter.widget-view+json": {
       "model_id": "b4c12c1254ac43a5844dfd214cf0fd65",
       "version_major": 2,
       "version_minor": 0
      },
      "text/plain": [
       "- MapBatches(EmbeddingGenerator) 2: 0.00 row [00:00, ? row/s]"
      ]
     },
     "metadata": {},
     "output_type": "display_data"
    },
    {
     "data": {
      "application/vnd.jupyter.widget-view+json": {
       "model_id": "9c909d8721074d63a63cb676dc4fe32e",
       "version_major": 2,
       "version_minor": 0
      },
      "text/plain": [
       "- MapBatches(drop_columns) 3: 0.00 row [00:00, ? row/s]"
      ]
     },
     "metadata": {},
     "output_type": "display_data"
    },
    {
     "data": {
      "application/vnd.jupyter.widget-view+json": {
       "model_id": "21ab720335c0462290a6cd6feb986e56",
       "version_major": 2,
       "version_minor": 0
      },
      "text/plain": [
       "- MapBatches(TorchPredictor) 4: 0.00 row [00:00, ? row/s]"
      ]
     },
     "metadata": {},
     "output_type": "display_data"
    },
    {
     "data": {
      "application/vnd.jupyter.widget-view+json": {
       "model_id": "fc224ff9824143e4b4fc95ba55215bf4",
       "version_major": 2,
       "version_minor": 0
      },
      "text/plain": [
       "- limit=1 5: 0.00 row [00:00, ? row/s]"
      ]
     },
     "metadata": {},
     "output_type": "display_data"
    },
    {
     "name": "stderr",
     "output_type": "stream",
     "text": [
      "\u001b[36m(MapBatches(TorchPredictor) pid=14138, ip=10.0.6.95)\u001b[0m /tmp/ipykernel_150714/3214280880.py:6: UserWarning: The given NumPy array is not writable, and PyTorch does not support non-writable tensors. This means writing to this tensor will result in undefined behavior. You may want to copy the array to protect its data or make it writable before converting it to a tensor. This type of warning will be suppressed for the rest of this program. (Triggered internally at ../torch/csrc/utils/tensor_numpy.cpp:206.)\n"
     ]
    },
    {
     "data": {
      "text/plain": [
       "[{'path': 'doggos-dataset/test/bernese_mountain_dog/bernese_mountain_dog_4200.jpg',\n",
       "  'class': 'bernese_mountain_dog',\n",
       "  'label': 14,\n",
       "  'embedding': array([ 1.21616945e-01,  2.49908268e-01, -9.42120180e-02, -1.01999938e-01,\n",
       "          2.50217021e-01, -7.53532588e-01,  1.37271792e-01, -2.63006270e-01,\n",
       "          4.47464064e-02,  4.74804267e-02, -6.01408541e-01, -1.59543782e-01,\n",
       "          4.15230095e-01, -2.00223476e-02,  8.17479253e-01,  2.42886394e-01,\n",
       "          3.10201585e-01, -1.92650370e-02,  3.53697807e-01, -1.75084591e-01,\n",
       "         -7.65018463e-01,  1.78362057e-01,  4.84163761e-01, -5.49955904e-01,\n",
       "          2.23341316e-01,  7.51222894e-02,  3.73767614e-01, -1.23567298e-01,\n",
       "         -2.52771586e-01,  1.15096115e-01,  1.27928227e-01,  3.01279724e-02,\n",
       "          8.95194411e-02, -6.99338242e-02,  5.82968295e-01,  1.54279739e-01,\n",
       "          1.18630141e-01,  4.64450747e-01, -1.26711771e-01,  1.43133807e+00,\n",
       "         -7.22994626e-01, -1.34238645e-01,  1.28221631e-01,  7.86256194e-02,\n",
       "          2.73327053e-01, -4.60388213e-01,  1.23150676e-01, -1.39167562e-01,\n",
       "         -4.47462738e-01, -3.20672989e-05,  1.18964046e-01,  2.81615674e-01,\n",
       "         -1.42013490e-01, -8.52237791e-02,  4.94862795e-02,  2.69987196e-01,\n",
       "          4.77108173e-02,  2.93655604e-01, -8.11076686e-02, -6.11275770e-02,\n",
       "          6.78205907e-01,  5.37405163e-03,  2.84763724e-01,  1.62622988e-01,\n",
       "         -6.37647882e-02, -3.39403421e-01,  3.42197835e-01,  7.56546557e-01,\n",
       "         -5.27377367e-01,  1.21094793e-01, -1.10496059e-01, -4.36927378e-03,\n",
       "          6.13418072e-02,  2.35387832e-01, -5.82148314e-01, -1.11492619e-01,\n",
       "         -1.49061486e-01,  6.19284064e-02, -8.14480186e-02, -1.39032632e-01,\n",
       "          1.22878142e-01, -8.34863111e-02, -1.54198110e-01, -6.95404708e-01,\n",
       "         -9.82761085e-02, -2.98027277e-01,  6.34672880e-01, -4.69968855e-01,\n",
       "          1.74630135e-01,  8.28177482e-03, -1.88869849e-01, -8.86211336e-01,\n",
       "         -6.14540911e+00,  5.86798787e-02, -2.68220305e-01,  1.08147897e-01,\n",
       "         -5.05092554e-02,  7.99511448e-02, -1.35225821e+00,  1.01288691e-01,\n",
       "          4.02956337e-01, -3.03213913e-02, -1.01961836e-01,  6.56169131e-02,\n",
       "         -4.56861705e-01, -5.49244843e-02,  5.18132031e-01, -2.34212339e-01,\n",
       "         -2.45052487e-01, -2.66147792e-01,  2.28080198e-01, -6.53933883e-01,\n",
       "          4.44790453e-01, -1.87154189e-01,  4.06828105e-01, -1.98463440e-01,\n",
       "         -5.25110781e-01, -1.40633136e-01,  1.19004577e-01,  2.53628194e-01,\n",
       "          1.22223809e-01,  4.50843453e-01,  2.62190253e-01, -5.42857826e-01,\n",
       "         -6.33509308e-02, -6.19676948e-01, -2.19499409e-01,  1.90325081e-03,\n",
       "         -4.38454598e-01, -5.37353694e-01,  9.81968343e-01, -1.80371851e-03,\n",
       "         -3.63277256e-01,  8.63728046e-01, -5.11813045e-01,  6.66356534e-02,\n",
       "          4.59976345e-01, -2.27510139e-01, -8.46147612e-02, -3.22829962e-01,\n",
       "          9.68072861e-02,  4.12439555e-03, -2.86248565e-01, -1.27673149e-03,\n",
       "         -6.45805120e-01, -1.96152300e-01, -9.62845087e-02,  1.83929756e-01,\n",
       "         -1.17402025e-01, -4.01701272e-01,  9.39814895e-02,  5.23269415e-01,\n",
       "          2.23757580e-01, -9.08751637e-02, -4.31295276e-01, -1.18477903e-02,\n",
       "         -1.09439768e-01,  1.78953707e-01, -4.52499092e-01,  3.04624915e-01,\n",
       "         -2.95496643e-01,  9.91742313e-02, -1.30627006e-02, -7.53631666e-02,\n",
       "          4.36035931e-01, -5.91937184e-01, -1.79803684e-01,  6.81930423e-01,\n",
       "          1.79935992e-01,  7.58815706e-01,  2.08094895e-01,  1.46913975e-02,\n",
       "          1.91292018e-02,  1.01795956e-01,  2.09804386e-01, -2.48337910e-03,\n",
       "         -2.76777714e-01, -3.04137468e-01,  2.15027779e-01, -1.59156114e-01,\n",
       "         -4.26791199e-02,  1.36059687e-01,  7.73019493e-01, -2.33236998e-01,\n",
       "         -1.30053118e-01,  9.14294422e-02, -2.05146089e-01,  1.18282154e-01,\n",
       "         -2.59589851e-01,  1.09441094e-01,  5.19101880e-03, -6.68303818e-02,\n",
       "         -4.01557796e-02,  1.61487162e-01, -7.66287446e-01, -1.06879152e-01,\n",
       "          2.64510065e-02,  3.32554162e-01, -3.93404335e-01, -3.13975811e-01,\n",
       "          1.91036910e-02, -1.45393193e-01,  3.20935071e-01,  5.50969303e-01,\n",
       "         -4.28011566e-01, -3.82915705e-01,  7.43063614e-02, -3.95407043e-02,\n",
       "         -1.15103893e-01,  4.56623733e-01,  4.78465408e-02, -7.00823843e-01,\n",
       "          2.25609705e-01,  6.78739011e-01, -1.76425382e-01,  2.95268148e-01,\n",
       "         -4.86442864e-01,  1.60800397e-01,  1.10097170e+00,  1.27470139e-02,\n",
       "          3.94284844e-01,  1.92625180e-01,  6.90795481e-01,  9.36945155e-03,\n",
       "         -4.82139677e-01, -4.30817530e-02,  3.29641879e-01,  3.39571834e-02,\n",
       "          4.25046504e-01,  5.63778654e-02,  1.50079668e-01,  1.57116219e-01,\n",
       "          2.35137895e-01,  7.48965800e-01, -3.52324285e-02, -7.38671243e-01,\n",
       "          1.52731121e-01, -2.20919937e-01,  7.32802272e-01, -4.60384995e-01,\n",
       "         -2.45215058e-01,  8.88862908e-02,  1.65296286e-01, -3.31605911e-01,\n",
       "         -3.91313821e-01,  7.33487755e-02,  1.34636477e-01, -4.36503321e-01,\n",
       "         -4.25139181e-02,  2.10423276e-01,  2.45578811e-01, -1.98019519e-01,\n",
       "          3.10782909e-01,  3.34317774e-01,  1.25383139e-02, -4.04615581e-01,\n",
       "         -5.82080111e-02, -5.93839958e-03,  2.93790042e-01, -4.60116446e-01,\n",
       "         -1.12468533e-01,  4.50699449e-01,  3.18689555e-01, -3.70861590e-01,\n",
       "          4.01315480e-01, -2.91209221e-01,  2.32810050e-01,  8.57621506e-02,\n",
       "          2.43376791e-02,  3.68810594e-01,  2.48485789e-01,  2.00109512e-01,\n",
       "          3.92179132e-01, -3.06278408e-01, -4.46264982e-01, -2.83244848e-01,\n",
       "          2.47877210e-01,  3.03863227e-01, -4.90773395e-02, -2.21267611e-01,\n",
       "         -4.34340119e-01,  2.19713911e-01, -6.08959377e-01, -1.74401075e-01,\n",
       "         -4.10787426e-02, -1.50492221e-01,  1.60549939e-01, -3.83779049e-01,\n",
       "         -3.36156577e-01,  3.06550384e-01, -1.54131398e-01,  2.13110849e-01,\n",
       "          1.34387463e-01,  1.44770294e-01, -2.36559510e-01, -4.43594843e-01,\n",
       "          1.29804730e-01,  1.09696023e-01,  1.76831186e-01,  3.13412398e-01,\n",
       "         -3.33681136e-01, -3.73906419e-02,  1.74416721e-01, -5.21921851e-02,\n",
       "         -2.20671743e-02, -2.73385435e-01,  1.90964997e-01, -2.11835094e-02,\n",
       "          1.46828592e-01,  1.85216039e-01, -1.22457221e-02,  2.68288046e-01,\n",
       "          8.62183452e-01,  1.46892816e-01, -3.85125875e-01, -4.74337697e-01,\n",
       "          1.67774200e-01,  4.32520211e-01, -5.18670857e-01, -6.18929267e-01,\n",
       "          7.40631044e-01,  1.07393837e+00, -2.96980590e-01,  4.70065698e-03,\n",
       "          5.79431653e-01,  2.89144646e-02, -1.87592387e-01,  2.61870801e-01,\n",
       "          8.89329761e-02, -3.40277433e-01,  8.10644180e-02, -3.84989917e-01,\n",
       "          1.18201166e-01, -3.69585991e-01,  3.63439769e-01, -2.91525781e-01,\n",
       "          1.49328440e-01,  2.93954730e-01,  1.64447874e-02, -1.62036926e-01,\n",
       "         -6.08794838e-02, -3.76614392e-01,  6.44940436e-02,  1.16026305e-01,\n",
       "          4.65941638e-01,  2.53437757e-01, -3.15054625e-01,  5.86232901e-01,\n",
       "          1.03189647e-01, -3.45416889e-02, -5.44140458e-01,  1.87870264e-01,\n",
       "          1.18288986e-01, -1.61617085e-01,  1.11394286e-01,  6.90456748e-01,\n",
       "          6.91876858e-02, -7.62554228e-01,  2.25613162e-01, -1.32891148e-01,\n",
       "          7.73465157e-01, -1.45398110e-01,  2.14732289e-01,  2.32364923e-01,\n",
       "         -3.49756718e-01,  1.74967721e-02, -3.06238145e-01, -3.45096380e-01,\n",
       "          1.22213908e-01,  2.65246809e-01,  2.40748063e-01,  2.01970935e-01,\n",
       "         -3.15169513e-01,  6.83310926e-02, -5.46034217e-01,  8.87838602e-02,\n",
       "          1.93082809e+00, -1.86029971e-01,  3.06135565e-01,  5.36726058e-01,\n",
       "          6.51068270e-01, -3.25996876e-01,  4.09261703e-01, -6.11350536e-02,\n",
       "          3.56091499e-01, -4.32661593e-01, -5.37102461e-01,  1.60279542e-01,\n",
       "          4.80016805e-02, -1.75402021e+00, -2.67510235e-01, -8.79740596e-01,\n",
       "          4.15115595e-01, -1.76929802e-01, -1.91882700e-01, -5.74885964e-01,\n",
       "         -4.21917111e-01,  2.99151056e-02, -7.48071671e-01, -3.17029089e-01,\n",
       "          1.56509414e-01,  1.73049569e-01, -9.06985179e-02,  4.44660604e-01,\n",
       "         -5.48316166e-04,  9.01636481e-03,  7.17142075e-02, -2.34545887e-01,\n",
       "          5.01023650e-01, -1.96168512e-01,  5.79988241e-01,  2.25337848e-01,\n",
       "         -1.49395257e-01, -3.96973073e-01, -1.29832506e-01,  4.48375851e-01,\n",
       "          3.67187977e-01,  4.08879042e-01,  2.88305823e-02, -3.52973104e-01,\n",
       "          1.61907792e-01,  3.14742059e-01, -1.85555279e-01, -6.83446705e-01,\n",
       "         -3.03754568e-01,  3.05950250e-02,  4.44154918e-01,  3.66746545e-01,\n",
       "         -7.49447823e-01, -1.95511237e-01,  1.93643361e-01,  2.92316914e-01,\n",
       "          4.61119294e-01,  3.92739475e-03,  1.12335846e-01, -3.88892829e-01,\n",
       "         -1.25999653e+00,  7.35512018e-01, -2.03802809e-02, -2.09609091e-01,\n",
       "         -4.36344668e-02,  3.52214754e-01, -1.19208887e-01, -9.40283537e-02,\n",
       "          6.66494131e-01,  4.39709097e-01,  4.63071913e-02,  3.88870895e-01,\n",
       "         -1.51526660e-01, -1.15425274e-01, -6.63434803e-01, -3.01881015e-01,\n",
       "          5.19469738e-01, -2.50628263e-01, -3.57223690e-01, -5.36133468e-01,\n",
       "          3.43770683e-01, -3.81960571e-02, -1.57641992e-01,  5.24321377e-01,\n",
       "          7.04907998e-02,  4.01306003e-01,  6.75355047e-02,  1.36868998e-01,\n",
       "          2.54218578e-01,  2.13425353e-01, -4.15002346e-01, -2.48983279e-01,\n",
       "         -4.41491872e-01,  2.90065020e-01,  6.28341675e-01,  3.34598780e-01,\n",
       "         -4.21452582e-01,  1.59788489e-01, -2.23025367e-01,  1.52382106e-01,\n",
       "         -3.18680853e-01, -3.25428486e-01,  1.94726754e-02, -1.10094056e-01,\n",
       "          3.51278186e-01, -2.38457710e-01, -2.61369973e-01, -1.28019243e-01,\n",
       "          4.44775820e-03,  4.89995480e-01, -7.26858228e-02, -6.60212040e-01,\n",
       "         -1.55904114e-01,  1.05222613e-02, -5.66976130e-01, -2.48551726e-01,\n",
       "          4.25063699e-01, -3.90253097e-01, -7.70033300e-02,  5.15052438e-01,\n",
       "          1.36635333e-01,  7.45117724e-01, -6.80227458e-01,  1.85361981e-01,\n",
       "         -2.18178213e-01, -2.46785969e-01,  1.59098357e-02, -7.89431557e-02,\n",
       "         -1.27641916e-01,  3.47798824e-01, -3.24661046e-01,  3.87033224e-01,\n",
       "         -6.65866733e-01,  8.94589782e-01, -4.25154448e-01, -4.61943299e-02],\n",
       "        dtype=float32),\n",
       "  'prediction': 14}]"
      ]
     },
     "execution_count": null,
     "metadata": {},
     "output_type": "execute_result"
    }
   ],
   "source": [
    "# y_pred (batch inference)\n",
    "pred_ds = test_ds.map_batches(\n",
    "    predictor,\n",
    "    fn_kwargs={\"device\": \"cuda\"},\n",
    "    concurrency=4,\n",
    "    batch_size=64,\n",
    "    num_gpus=1,\n",
    ")\n",
    "pred_ds.take(1)"
   ]
  },
  {
   "cell_type": "code",
   "execution_count": null,
   "metadata": {},
   "outputs": [],
   "source": [
    "def batch_metric(batch):\n",
    "    labels = batch[\"label\"]\n",
    "    preds = batch[\"prediction\"]\n",
    "    mcm = multilabel_confusion_matrix(labels, preds)\n",
    "    tn, fp, fn, tp = [], [], [], []\n",
    "    for i in range(mcm.shape[0]):\n",
    "        tn.append(mcm[i, 0, 0])  # True negatives\n",
    "        fp.append(mcm[i, 0, 1])  # False positives\n",
    "        fn.append(mcm[i, 1, 0])  # False negatives\n",
    "        tp.append(mcm[i, 1, 1])  # True positives\n",
    "    return {\"TN\": tn, \"FP\": fp, \"FN\": fn, \"TP\": tp}\n"
   ]
  },
  {
   "cell_type": "code",
   "execution_count": null,
   "metadata": {},
   "outputs": [
    {
     "name": "stderr",
     "output_type": "stream",
     "text": [
      "2025-04-03 12:09:53,530\tINFO streaming_executor.py:108 -- Starting execution of Dataset. Full logs are in /tmp/ray/session_2025-04-03_11-37-08_695372_142551/logs/ray-data\n",
      "2025-04-03 12:09:53,531\tINFO streaming_executor.py:109 -- Execution plan of Dataset: InputDataBuffer[Input] -> TaskPoolMapOperator[ReadImage->Map(add_class)->Map(Preprocessor.convert_to_label)] -> ActorPoolMapOperator[MapBatches(EmbeddingGenerator)] -> TaskPoolMapOperator[MapBatches(drop_columns)] -> TaskPoolMapOperator[MapBatches(TorchPredictor)] -> TaskPoolMapOperator[MapBatches(batch_metric)] -> AllToAllOperator[Aggregate] -> LimitOperator[limit=1]\n"
     ]
    },
    {
     "data": {
      "application/vnd.jupyter.widget-view+json": {
       "model_id": "301f2116e3e94713925add3486091d44",
       "version_major": 2,
       "version_minor": 0
      },
      "text/plain": [
       "Running 0: 0.00 row [00:00, ? row/s]"
      ]
     },
     "metadata": {},
     "output_type": "display_data"
    },
    {
     "data": {
      "application/vnd.jupyter.widget-view+json": {
       "model_id": "6ac0bf29528b464680f6ebf163da53a5",
       "version_major": 2,
       "version_minor": 0
      },
      "text/plain": [
       "- ReadImage->Map(add_class)->Map(Preprocessor.convert_to_label) 1: 0.00 row [00:00, ? row/s]"
      ]
     },
     "metadata": {},
     "output_type": "display_data"
    },
    {
     "data": {
      "application/vnd.jupyter.widget-view+json": {
       "model_id": "02543fa5fef24874a80ddc64ea4daa10",
       "version_major": 2,
       "version_minor": 0
      },
      "text/plain": [
       "- MapBatches(EmbeddingGenerator) 2: 0.00 row [00:00, ? row/s]"
      ]
     },
     "metadata": {},
     "output_type": "display_data"
    },
    {
     "data": {
      "application/vnd.jupyter.widget-view+json": {
       "model_id": "a983bf9e6164466aa7c7e77384c85bab",
       "version_major": 2,
       "version_minor": 0
      },
      "text/plain": [
       "- MapBatches(drop_columns) 3: 0.00 row [00:00, ? row/s]"
      ]
     },
     "metadata": {},
     "output_type": "display_data"
    },
    {
     "data": {
      "application/vnd.jupyter.widget-view+json": {
       "model_id": "477282d5f66d4427a9775782488e02f2",
       "version_major": 2,
       "version_minor": 0
      },
      "text/plain": [
       "- MapBatches(TorchPredictor) 4: 0.00 row [00:00, ? row/s]"
      ]
     },
     "metadata": {},
     "output_type": "display_data"
    },
    {
     "data": {
      "application/vnd.jupyter.widget-view+json": {
       "model_id": "03c439790eb24c0fb03f2b6b3bcb4ca6",
       "version_major": 2,
       "version_minor": 0
      },
      "text/plain": [
       "- MapBatches(batch_metric) 5: 0.00 row [00:00, ? row/s]"
      ]
     },
     "metadata": {},
     "output_type": "display_data"
    },
    {
     "data": {
      "application/vnd.jupyter.widget-view+json": {
       "model_id": "d16ea4f4107040418ee5d5bff279986d",
       "version_major": 2,
       "version_minor": 0
      },
      "text/plain": [
       "- Aggregate 6: 0.00 row [00:00, ? row/s]"
      ]
     },
     "metadata": {},
     "output_type": "display_data"
    },
    {
     "data": {
      "application/vnd.jupyter.widget-view+json": {
       "model_id": "24bf6bbef4634a15bffa27285aeb9800",
       "version_major": 2,
       "version_minor": 0
      },
      "text/plain": [
       "Sort Sample 7:   0%|          | 0.00/1.00 [00:00<?, ? row/s]"
      ]
     },
     "metadata": {},
     "output_type": "display_data"
    },
    {
     "data": {
      "application/vnd.jupyter.widget-view+json": {
       "model_id": "d9424d5759744bbda3b15e7fa1857ecb",
       "version_major": 2,
       "version_minor": 0
      },
      "text/plain": [
       "Shuffle Map 8:   0%|          | 0.00/1.00 [00:00<?, ? row/s]"
      ]
     },
     "metadata": {},
     "output_type": "display_data"
    },
    {
     "data": {
      "application/vnd.jupyter.widget-view+json": {
       "model_id": "b6d8d2db7aab43feb3fb07b3d858cab1",
       "version_major": 2,
       "version_minor": 0
      },
      "text/plain": [
       "Shuffle Reduce 9:   0%|          | 0.00/1.00 [00:00<?, ? row/s]"
      ]
     },
     "metadata": {},
     "output_type": "display_data"
    },
    {
     "data": {
      "application/vnd.jupyter.widget-view+json": {
       "model_id": "ce25a7d615524738aa4b5e1c2a6c73b4",
       "version_major": 2,
       "version_minor": 0
      },
      "text/plain": [
       "- limit=1 10: 0.00 row [00:00, ? row/s]"
      ]
     },
     "metadata": {},
     "output_type": "display_data"
    },
    {
     "name": "stderr",
     "output_type": "stream",
     "text": [
      "\u001b[36m(MapBatches(TorchPredictor) pid=47590, ip=10.0.28.144)\u001b[0m /tmp/ipykernel_150714/3214280880.py:6: UserWarning: The given NumPy array is not writable, and PyTorch does not support non-writable tensors. This means writing to this tensor will result in undefined behavior. You may want to copy the array to protect its data or make it writable before converting it to a tensor. This type of warning will be suppressed for the rest of this program. (Triggered internally at ../torch/csrc/utils/tensor_numpy.cpp:206.)\n",
      "\u001b[36m(MapBatches(TorchPredictor) pid=45894, ip=10.0.25.230)\u001b[0m /tmp/ipykernel_150714/3214280880.py:6: UserWarning: The given NumPy array is not writable, and PyTorch does not support non-writable tensors. This means writing to this tensor will result in undefined behavior. You may want to copy the array to protect its data or make it writable before converting it to a tensor. This type of warning will be suppressed for the rest of this program. (Triggered internally at ../torch/csrc/utils/tensor_numpy.cpp:206.)\u001b[32m [repeated 4x across cluster]\u001b[0m\n",
      "\u001b[36m(MapBatches(TorchPredictor) pid=17723, ip=10.0.6.95)\u001b[0m /tmp/ipykernel_150714/3214280880.py:6: UserWarning: The given NumPy array is not writable, and PyTorch does not support non-writable tensors. This means writing to this tensor will result in undefined behavior. You may want to copy the array to protect its data or make it writable before converting it to a tensor. This type of warning will be suppressed for the rest of this program. (Triggered internally at ../torch/csrc/utils/tensor_numpy.cpp:206.)\u001b[32m [repeated 4x across cluster]\u001b[0m\n",
      "\u001b[36m(MapBatches(TorchPredictor) pid=17896, ip=10.0.6.95)\u001b[0m /tmp/ipykernel_150714/3214280880.py:6: UserWarning: The given NumPy array is not writable, and PyTorch does not support non-writable tensors. This means writing to this tensor will result in undefined behavior. You may want to copy the array to protect its data or make it writable before converting it to a tensor. This type of warning will be suppressed for the rest of this program. (Triggered internally at ../torch/csrc/utils/tensor_numpy.cpp:206.)\u001b[32m [repeated 4x across cluster]\u001b[0m\n",
      "\u001b[36m(MapBatches(TorchPredictor) pid=18072, ip=10.0.6.95)\u001b[0m /tmp/ipykernel_150714/3214280880.py:6: UserWarning: The given NumPy array is not writable, and PyTorch does not support non-writable tensors. This means writing to this tensor will result in undefined behavior. You may want to copy the array to protect its data or make it writable before converting it to a tensor. This type of warning will be suppressed for the rest of this program. (Triggered internally at ../torch/csrc/utils/tensor_numpy.cpp:206.)\u001b[32m [repeated 4x across cluster]\u001b[0m\n",
      "\u001b[36m(MapBatches(TorchPredictor) pid=18247, ip=10.0.6.95)\u001b[0m /tmp/ipykernel_150714/3214280880.py:6: UserWarning: The given NumPy array is not writable, and PyTorch does not support non-writable tensors. This means writing to this tensor will result in undefined behavior. You may want to copy the array to protect its data or make it writable before converting it to a tensor. This type of warning will be suppressed for the rest of this program. (Triggered internally at ../torch/csrc/utils/tensor_numpy.cpp:206.)\u001b[32m [repeated 4x across cluster]\u001b[0m\n",
      "\u001b[36m(MapBatches(TorchPredictor) pid=18419, ip=10.0.6.95)\u001b[0m /tmp/ipykernel_150714/3214280880.py:6: UserWarning: The given NumPy array is not writable, and PyTorch does not support non-writable tensors. This means writing to this tensor will result in undefined behavior. You may want to copy the array to protect its data or make it writable before converting it to a tensor. This type of warning will be suppressed for the rest of this program. (Triggered internally at ../torch/csrc/utils/tensor_numpy.cpp:206.)\u001b[32m [repeated 4x across cluster]\u001b[0m\n",
      "\u001b[36m(MapBatches(TorchPredictor) pid=18590, ip=10.0.6.95)\u001b[0m /tmp/ipykernel_150714/3214280880.py:6: UserWarning: The given NumPy array is not writable, and PyTorch does not support non-writable tensors. This means writing to this tensor will result in undefined behavior. You may want to copy the array to protect its data or make it writable before converting it to a tensor. This type of warning will be suppressed for the rest of this program. (Triggered internally at ../torch/csrc/utils/tensor_numpy.cpp:206.)\u001b[32m [repeated 4x across cluster]\u001b[0m\n",
      "\u001b[36m(MapBatches(TorchPredictor) pid=18680, ip=10.0.6.95)\u001b[0m /tmp/ipykernel_150714/3214280880.py:6: UserWarning: The given NumPy array is not writable, and PyTorch does not support non-writable tensors. This means writing to this tensor will result in undefined behavior. You may want to copy the array to protect its data or make it writable before converting it to a tensor. This type of warning will be suppressed for the rest of this program. (Triggered internally at ../torch/csrc/utils/tensor_numpy.cpp:206.)\u001b[32m [repeated 4x across cluster]\u001b[0m\n",
      "\u001b[36m(MapBatches(TorchPredictor) pid=18770, ip=10.0.6.95)\u001b[0m /tmp/ipykernel_150714/3214280880.py:6: UserWarning: The given NumPy array is not writable, and PyTorch does not support non-writable tensors. This means writing to this tensor will result in undefined behavior. You may want to copy the array to protect its data or make it writable before converting it to a tensor. This type of warning will be suppressed for the rest of this program. (Triggered internally at ../torch/csrc/utils/tensor_numpy.cpp:206.)\u001b[32m [repeated 4x across cluster]\u001b[0m\n",
      "\u001b[36m(MapBatches(TorchPredictor) pid=47825, ip=10.0.28.144)\u001b[0m /tmp/ipykernel_150714/3214280880.py:6: UserWarning: The given NumPy array is not writable, and PyTorch does not support non-writable tensors. This means writing to this tensor will result in undefined behavior. You may want to copy the array to protect its data or make it writable before converting it to a tensor. This type of warning will be suppressed for the rest of this program. (Triggered internally at ../torch/csrc/utils/tensor_numpy.cpp:206.)\u001b[32m [repeated 4x across cluster]\u001b[0m\n"
     ]
    }
   ],
   "source": [
    "# Aggregated metrics after processing all batches\n",
    "metrics_ds = pred_ds.map_batches(batch_metric)\n",
    "aggregate_metrics = metrics_ds.sum([\"TN\", \"FP\", \"FN\", \"TP\"])\n",
    "\n",
    "# Aggregate the confusion matrix components across all batches\n",
    "tn = aggregate_metrics[\"sum(TN)\"]\n",
    "fp = aggregate_metrics[\"sum(FP)\"]\n",
    "fn = aggregate_metrics[\"sum(FN)\"]\n",
    "tp = aggregate_metrics[\"sum(TP)\"]\n",
    "\n",
    "# Calculate metrics\n",
    "precision = tp / (tp + fp) if (tp + fp) > 0 else 0\n",
    "recall = tp / (tp + fn) if (tp + fn) > 0 else 0\n",
    "f1 = 2 * precision * recall / (precision + recall) if (precision + recall) > 0 else 0\n",
    "accuracy = (tp + tn) / (tp + tn + fp + fn)"
   ]
  },
  {
   "cell_type": "code",
   "execution_count": null,
   "metadata": {},
   "outputs": [
    {
     "name": "stdout",
     "output_type": "stream",
     "text": [
      "Precision: 0.84\n",
      "Recall: 0.84\n",
      "F1: 0.84\n",
      "Accuracy: 0.96\n"
     ]
    }
   ],
   "source": [
    "print(f\"Precision: {precision:.2f}\")\n",
    "print(f\"Recall: {recall:.2f}\")\n",
    "print(f\"F1: {f1:.2f}\")\n",
    "print(f\"Accuracy: {accuracy:.2f}\")"
   ]
  },
  {
   "cell_type": "code",
   "execution_count": null,
   "metadata": {},
   "outputs": [
    {
     "data": {
      "text/plain": [
       "{'status': 'ok', 'restart': True}"
      ]
     },
     "execution_count": null,
     "metadata": {},
     "output_type": "execute_result"
    },
    {
     "ename": "",
     "evalue": "",
     "output_type": "error",
     "traceback": [
      "\u001b[1;31mThe Kernel crashed while executing code in the the current cell or a previous cell. Please review the code in the cell(s) to identify a possible cause of the failure. Click <a href='https://aka.ms/vscodeJupyterKernelCrash'>here</a> for more info. View Jupyter <a href='command:jupyter.viewOutput'>log</a> for further details."
     ]
    }
   ],
   "source": [
    "import IPython\n",
    "IPython.get_ipython().kernel.do_shutdown(restart=True)"
   ]
  }
 ],
 "metadata": {
  "kernelspec": {
   "display_name": "base",
   "language": "python",
   "name": "python3"
  },
  "language_info": {
   "codemirror_mode": {
    "name": "ipython",
    "version": 3
   },
   "file_extension": ".py",
   "mimetype": "text/x-python",
   "name": "python",
   "nbconvert_exporter": "python",
   "pygments_lexer": "ipython3",
   "version": "3.12.9"
  }
 },
 "nbformat": 4,
 "nbformat_minor": 2
}
