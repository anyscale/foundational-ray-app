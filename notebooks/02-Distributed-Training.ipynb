{
 "cells": [
  {
   "cell_type": "markdown",
   "metadata": {},
   "source": [
    "# Distributed training\n",
    "\n",
    "<div align=\"left\">\n",
    "<a target=\"_blank\" href=\"https://console.anyscale.com/\"><img src=\"https://img.shields.io/badge/🚀 Run_on-Anyscale-9hf\"></a>&nbsp;\n",
    "<a href=\"https://github.com/anyscale/foundational-ray-app\" role=\"button\"><img src=\"https://img.shields.io/static/v1?label=&amp;message=View%20On%20GitHub&amp;color=586069&amp;logo=github&amp;labelColor=2f363d\"></a>&nbsp;\n",
    "</div>\n",
    "\n",
    "In this tutorial, we'll execute a distributed training workload that will connect the following heterogenous workloads:\n",
    "- preprocess the dataset prior to training\n",
    "- distributed training with Ray Train and PyTorch (with observability)\n",
    "- evaluation (batch inference + eval logic)\n",
    "- save model artifacts to a model registry (MLOps)\n",
    "\n",
    "**Note**: we won't be tuning our model in this tutorial but be sure to check out [Ray Tune](https://docs.ray.io/en/latest/tune/index.html) for experiment execution and hyperparameter tuning at any scale.\n",
    "\n",
    "<img src=\"../images/distributed_training.png\" width=800>"
   ]
  },
  {
   "cell_type": "code",
   "execution_count": null,
   "metadata": {},
   "outputs": [],
   "source": [
    "%load_ext autoreload\n",
    "%autoreload all"
   ]
  },
  {
   "cell_type": "code",
   "execution_count": null,
   "metadata": {},
   "outputs": [],
   "source": [
    "import os\n",
    "import ray\n",
    "import sys\n",
    "sys.path.append(os.path.abspath(\"..\"))"
   ]
  },
  {
   "cell_type": "code",
   "execution_count": null,
   "metadata": {},
   "outputs": [
    {
     "name": "stderr",
     "output_type": "stream",
     "text": [
      "2025-04-02 07:27:45,966\tINFO worker.py:1660 -- Connecting to existing Ray cluster at address: 10.0.20.47:6379...\n",
      "2025-04-02 07:27:45,976\tINFO worker.py:1843 -- Connected to Ray cluster. View the dashboard at \u001b[1m\u001b[32mhttps://session-fyhrc759flh928h7czptpn79mb.i.anyscaleuserdata.com \u001b[39m\u001b[22m\n",
      "2025-04-02 07:27:45,989\tINFO packaging.py:367 -- Pushing file package 'gcs://_ray_pkg_0b08aeed72810f81292cb115f1a529e07b7fdfd5.zip' (1.82MiB) to Ray cluster...\n",
      "2025-04-02 07:27:45,996\tINFO packaging.py:380 -- Successfully pushed file package 'gcs://_ray_pkg_0b08aeed72810f81292cb115f1a529e07b7fdfd5.zip'.\n"
     ]
    },
    {
     "data": {
      "application/vnd.jupyter.widget-view+json": {
       "model_id": "43c7e4a9bfd44a2495dfaa17fa124e38",
       "version_major": 2,
       "version_minor": 0
      },
      "text/html": [
       "<div class=\"lm-Widget p-Widget lm-Panel p-Panel jp-Cell-outputWrapper\">\n",
       "    <div style=\"margin-left: 50px;display: flex;flex-direction: row;align-items: center\">\n",
       "        <div class=\"jp-RenderedHTMLCommon\" style=\"display: flex; flex-direction: row;\">\n",
       "  <svg viewBox=\"0 0 567 224\" fill=\"none\" xmlns=\"http://www.w3.org/2000/svg\" style=\"height: 3em;\">\n",
       "    <g clip-path=\"url(#clip0_4338_178347)\">\n",
       "        <path d=\"M341.29 165.561H355.29L330.13 129.051C345.63 123.991 354.21 112.051 354.21 94.2307C354.21 71.3707 338.72 58.1807 311.88 58.1807H271V165.561H283.27V131.661H311.8C314.25 131.661 316.71 131.501 319.01 131.351L341.25 165.561H341.29ZM283.29 119.851V70.0007H311.82C331.3 70.0007 342.34 78.2907 342.34 94.5507C342.34 111.271 331.34 119.861 311.82 119.861L283.29 119.851ZM451.4 138.411L463.4 165.561H476.74L428.74 58.1807H416L367.83 165.561H380.83L392.83 138.411H451.4ZM446.19 126.601H398L422 72.1407L446.24 126.601H446.19ZM526.11 128.741L566.91 58.1807H554.35L519.99 114.181L485.17 58.1807H472.44L514.01 129.181V165.541H526.13V128.741H526.11Z\" fill=\"var(--jp-ui-font-color0)\"/>\n",
       "        <path d=\"M82.35 104.44C84.0187 97.8827 87.8248 92.0678 93.1671 87.9146C98.5094 83.7614 105.083 81.5067 111.85 81.5067C118.617 81.5067 125.191 83.7614 130.533 87.9146C135.875 92.0678 139.681 97.8827 141.35 104.44H163.75C164.476 101.562 165.622 98.8057 167.15 96.2605L127.45 56.5605C121.071 60.3522 113.526 61.6823 106.235 60.3005C98.9443 58.9187 92.4094 54.9203 87.8602 49.0574C83.3109 43.1946 81.0609 35.8714 81.5332 28.4656C82.0056 21.0599 85.1679 14.0819 90.4252 8.8446C95.6824 3.60726 102.672 0.471508 110.08 0.0272655C117.487 -0.416977 124.802 1.86091 130.647 6.4324C136.493 11.0039 140.467 17.5539 141.821 24.8501C143.175 32.1463 141.816 39.6859 138 46.0505L177.69 85.7505C182.31 82.9877 187.58 81.4995 192.962 81.4375C198.345 81.3755 203.648 82.742 208.33 85.3976C213.012 88.0532 216.907 91.9029 219.616 96.5544C222.326 101.206 223.753 106.492 223.753 111.875C223.753 117.258 222.326 122.545 219.616 127.197C216.907 131.848 213.012 135.698 208.33 138.353C203.648 141.009 198.345 142.375 192.962 142.313C187.58 142.251 182.31 140.763 177.69 138L138 177.7C141.808 184.071 143.155 191.614 141.79 198.91C140.424 206.205 136.44 212.75 130.585 217.313C124.731 221.875 117.412 224.141 110.004 223.683C102.596 223.226 95.6103 220.077 90.3621 214.828C85.1139 209.58 81.9647 202.595 81.5072 195.187C81.0497 187.779 83.3154 180.459 87.878 174.605C92.4405 168.751 98.9853 164.766 106.281 163.401C113.576 162.035 121.119 163.383 127.49 167.19L167.19 127.49C165.664 124.941 164.518 122.182 163.79 119.3H141.39C139.721 125.858 135.915 131.673 130.573 135.826C125.231 139.98 118.657 142.234 111.89 142.234C105.123 142.234 98.5494 139.98 93.2071 135.826C87.8648 131.673 84.0587 125.858 82.39 119.3H60C58.1878 126.495 53.8086 132.78 47.6863 136.971C41.5641 141.163 34.1211 142.972 26.7579 142.059C19.3947 141.146 12.6191 137.574 7.70605 132.014C2.79302 126.454 0.0813599 119.29 0.0813599 111.87C0.0813599 104.451 2.79302 97.2871 7.70605 91.7272C12.6191 86.1673 19.3947 82.5947 26.7579 81.6817C34.1211 80.7686 41.5641 82.5781 47.6863 86.7696C53.8086 90.9611 58.1878 97.2456 60 104.44H82.35ZM100.86 204.32C103.407 206.868 106.759 208.453 110.345 208.806C113.93 209.159 117.527 208.258 120.522 206.256C123.517 204.254 125.725 201.276 126.771 197.828C127.816 194.38 127.633 190.677 126.253 187.349C124.874 184.021 122.383 181.274 119.205 179.577C116.027 177.88 112.359 177.337 108.826 178.042C105.293 178.746 102.113 180.654 99.8291 183.44C97.5451 186.226 96.2979 189.718 96.3 193.32C96.2985 195.364 96.7006 197.388 97.4831 199.275C98.2656 201.163 99.4132 202.877 100.86 204.32ZM204.32 122.88C206.868 120.333 208.453 116.981 208.806 113.396C209.159 109.811 208.258 106.214 206.256 103.219C204.254 100.223 201.275 98.0151 197.827 96.97C194.38 95.9249 190.676 96.1077 187.348 97.4873C184.02 98.8669 181.274 101.358 179.577 104.536C177.879 107.714 177.337 111.382 178.041 114.915C178.746 118.448 180.653 121.627 183.439 123.911C186.226 126.195 189.717 127.443 193.32 127.44C195.364 127.443 197.388 127.042 199.275 126.259C201.163 125.476 202.878 124.328 204.32 122.88ZM122.88 19.4205C120.333 16.8729 116.981 15.2876 113.395 14.9347C109.81 14.5817 106.213 15.483 103.218 17.4849C100.223 19.4868 98.0146 22.4654 96.9696 25.9131C95.9245 29.3608 96.1073 33.0642 97.4869 36.3922C98.8665 39.7202 101.358 42.4668 104.535 44.1639C107.713 45.861 111.381 46.4036 114.914 45.6992C118.447 44.9949 121.627 43.0871 123.911 40.301C126.195 37.515 127.442 34.0231 127.44 30.4205C127.44 28.3772 127.038 26.3539 126.255 24.4664C125.473 22.5788 124.326 20.8642 122.88 19.4205ZM19.42 100.86C16.8725 103.408 15.2872 106.76 14.9342 110.345C14.5813 113.93 15.4826 117.527 17.4844 120.522C19.4863 123.518 22.4649 125.726 25.9127 126.771C29.3604 127.816 33.0638 127.633 36.3918 126.254C39.7198 124.874 42.4664 122.383 44.1635 119.205C45.8606 116.027 46.4032 112.359 45.6988 108.826C44.9944 105.293 43.0866 102.114 40.3006 99.8296C37.5145 97.5455 34.0227 96.2983 30.42 96.3005C26.2938 96.3018 22.337 97.9421 19.42 100.86ZM100.86 100.86C98.3125 103.408 96.7272 106.76 96.3742 110.345C96.0213 113.93 96.9226 117.527 98.9244 120.522C100.926 123.518 103.905 125.726 107.353 126.771C110.8 127.816 114.504 127.633 117.832 126.254C121.16 124.874 123.906 122.383 125.604 119.205C127.301 116.027 127.843 112.359 127.139 108.826C126.434 105.293 124.527 102.114 121.741 99.8296C118.955 97.5455 115.463 96.2983 111.86 96.3005C109.817 96.299 107.793 96.701 105.905 97.4835C104.018 98.2661 102.303 99.4136 100.86 100.86Z\" fill=\"#00AEEF\"/>\n",
       "    </g>\n",
       "    <defs>\n",
       "        <clipPath id=\"clip0_4338_178347\">\n",
       "            <rect width=\"566.93\" height=\"223.75\" fill=\"white\"/>\n",
       "        </clipPath>\n",
       "    </defs>\n",
       "  </svg>\n",
       "</div>\n",
       "\n",
       "        <table class=\"jp-RenderedHTMLCommon\" style=\"border-collapse: collapse;color: var(--jp-ui-font-color1);font-size: var(--jp-ui-font-size1);\">\n",
       "    <tr>\n",
       "        <td style=\"text-align: left\"><b>Python version:</b></td>\n",
       "        <td style=\"text-align: left\"><b>3.12.9</b></td>\n",
       "    </tr>\n",
       "    <tr>\n",
       "        <td style=\"text-align: left\"><b>Ray version:</b></td>\n",
       "        <td style=\"text-align: left\"><b>2.44.1</b></td>\n",
       "    </tr>\n",
       "    <tr>\n",
       "    <td style=\"text-align: left\"><b>Dashboard:</b></td>\n",
       "    <td style=\"text-align: left\"><b><a href=\"http://session-fyhrc759flh928h7czptpn79mb.i.anyscaleuserdata.com\" target=\"_blank\">http://session-fyhrc759flh928h7czptpn79mb.i.anyscaleuserdata.com</a></b></td>\n",
       "</tr>\n",
       "\n",
       "</table>\n",
       "\n",
       "    </div>\n",
       "</div>\n"
      ],
      "text/plain": [
       "RayContext(dashboard_url='session-fyhrc759flh928h7czptpn79mb.i.anyscaleuserdata.com', python_version='3.12.9', ray_version='2.44.1', ray_commit='66b3699996151045a71991762f4f83ecc03f881e')"
      ]
     },
     "execution_count": null,
     "metadata": {},
     "output_type": "execute_result"
    }
   ],
   "source": [
    "# Enable Ray Train v2 (it's too good to wait for public release!)\n",
    "ray.init(runtime_env={\"env_vars\": {\"RAY_TRAIN_V2_ENABLED\": \"1\"}})"
   ]
  },
  {
   "cell_type": "code",
   "execution_count": null,
   "metadata": {},
   "outputs": [],
   "source": [
    "%%bash\n",
    "# This will be removed once Ray Train v2 is part of latest Ray version\n",
    "echo \"RAY_TRAIN_V2_ENABLED=1\" > /home/ray/default/.env"
   ]
  },
  {
   "cell_type": "code",
   "execution_count": null,
   "metadata": {},
   "outputs": [
    {
     "data": {
      "text/plain": [
       "True"
      ]
     },
     "execution_count": null,
     "metadata": {},
     "output_type": "execute_result"
    }
   ],
   "source": [
    "# Load env vars in notebooks\n",
    "from dotenv import load_dotenv\n",
    "load_dotenv()"
   ]
  },
  {
   "cell_type": "markdown",
   "metadata": {},
   "source": [
    "### Preprocess"
   ]
  },
  {
   "cell_type": "markdown",
   "metadata": {},
   "source": [
    "We need to convert our classes to labels (unique integers) so that we can train a classifier that can correctly predict the class given an input image. But before we do this, we'll quickly apply the same data ingestion and preprocessing as the previous notebook."
   ]
  },
  {
   "cell_type": "code",
   "execution_count": null,
   "metadata": {},
   "outputs": [],
   "source": [
    "def add_class(row):\n",
    "    row[\"class\"] = row[\"path\"].rsplit(\"/\", 3)[-2]\n",
    "    return row"
   ]
  },
  {
   "cell_type": "code",
   "execution_count": null,
   "metadata": {},
   "outputs": [],
   "source": [
    "# Preprocess data splits\n",
    "train_ds = ray.data.read_images(\"s3://doggos-dataset/train\", include_paths=True, shuffle=\"files\")\n",
    "train_ds = train_ds.map(add_class)\n",
    "val_ds = ray.data.read_images(\"s3://doggos-dataset/val\", include_paths=True)\n",
    "val_ds = val_ds.map(add_class)"
   ]
  },
  {
   "cell_type": "markdown",
   "metadata": {},
   "source": [
    "We'll define a `Preprocessor` class that will:\n",
    "- create an embedding, since we will not want to change the embedding layer's weights and so we don't have to do it repeatedly as part of the model's forward pass (unecessary compute)\n",
    "- convert our classes into labels for the classifier. \n",
    "\n",
    "While we could've just done this as a simple operation, we're taking the time to organize it as a class so that we can save and load for inference later."
   ]
  },
  {
   "cell_type": "code",
   "execution_count": null,
   "metadata": {},
   "outputs": [],
   "source": [
    "import numpy as np\n",
    "from PIL import Image\n",
    "import torch\n",
    "from transformers import CLIPModel, CLIPProcessor"
   ]
  },
  {
   "cell_type": "code",
   "execution_count": null,
   "metadata": {},
   "outputs": [],
   "source": [
    "class EmbeddingGenerator(object):\n",
    "    def __init__(self, model_id):\n",
    "        # Load CLIP model and processor\n",
    "        self.model = CLIPModel.from_pretrained(model_id)\n",
    "        self.processor = CLIPProcessor.from_pretrained(model_id)\n",
    "\n",
    "    def __call__(self, batch, device=\"cpu\"):\n",
    "        # Load and preprocess images\n",
    "        images = [Image.fromarray(np.uint8(img)).convert(\"RGB\") for img in batch[\"image\"]]\n",
    "        inputs = self.processor(images=images, return_tensors=\"pt\", padding=True).to(device)\n",
    "\n",
    "        # Generate embeddings\n",
    "        self.model.to(device)\n",
    "        with torch.inference_mode():\n",
    "            batch[\"embedding\"] = self.model.get_image_features(**inputs).cpu().numpy()\n",
    "\n",
    "        return batch"
   ]
  },
  {
   "cell_type": "code",
   "execution_count": null,
   "metadata": {},
   "outputs": [],
   "source": [
    "class Preprocessor:\n",
    "    \"\"\"Preprocessor class.\"\"\"\n",
    "    def __init__(self, class_to_label={}):\n",
    "        self.class_to_label = class_to_label or {}  # mutable defaults\n",
    "        self.label_to_class = {v: k for k, v in self.class_to_label.items()}\n",
    "        \n",
    "    def fit(self, ds, column):\n",
    "        self.classes = ds.unique(column=column)\n",
    "        self.class_to_label = {tag: i for i, tag in enumerate(self.classes)}\n",
    "        self.label_to_class = {v: k for k, v in self.class_to_label.items()}\n",
    "        return self\n",
    "\n",
    "    def convert_to_label(self, row, class_to_label):\n",
    "        if \"class\" in row:\n",
    "            row[\"label\"] = class_to_label[row[\"class\"]]\n",
    "        return row\n",
    "    \n",
    "    def transform(self, ds, concurrency=4, batch_size=64, num_gpus=1):\n",
    "        ds = ds.map(\n",
    "            self.convert_to_label, \n",
    "            fn_kwargs={\"class_to_label\": self.class_to_label},\n",
    "        )\n",
    "        ds = ds.map_batches(\n",
    "            EmbeddingGenerator,\n",
    "            fn_constructor_kwargs={\"model_id\": \"openai/clip-vit-base-patch32\"},\n",
    "            fn_kwargs={\"device\": \"cuda\"}, \n",
    "            concurrency=concurrency, \n",
    "            batch_size=batch_size,\n",
    "            num_gpus=num_gpus,\n",
    "        )\n",
    "        ds = ds.drop_columns([\"image\"])\n",
    "        return ds\n",
    "\n",
    "    def save(self, fp):\n",
    "        with open(fp, \"w\") as f:\n",
    "            json.dump(self.class_to_label, f)"
   ]
  },
  {
   "cell_type": "code",
   "execution_count": null,
   "metadata": {},
   "outputs": [
    {
     "name": "stderr",
     "output_type": "stream",
     "text": [
      "2025-04-02 07:27:54,232\tINFO dataset.py:2809 -- Tip: Use `take_batch()` instead of `take() / show()` to return records in pandas or numpy batch format.\n",
      "2025-04-02 07:27:54,243\tINFO streaming_executor.py:108 -- Starting execution of Dataset. Full logs are in /tmp/ray/session_2025-04-02_01-36-15_100194_2258/logs/ray-data\n",
      "2025-04-02 07:27:54,244\tINFO streaming_executor.py:109 -- Execution plan of Dataset: InputDataBuffer[Input] -> TaskPoolMapOperator[ListFiles] -> TaskPoolMapOperator[ReadFiles] -> TaskPoolMapOperator[Map(add_class)] -> AllToAllOperator[Aggregate] -> LimitOperator[limit=1]\n"
     ]
    },
    {
     "data": {
      "application/vnd.jupyter.widget-view+json": {
       "model_id": "bdd4add0f50c4bbf845eb42051a81f84",
       "version_major": 2,
       "version_minor": 0
      },
      "text/plain": [
       "Running 0: 0.00 row [00:00, ? row/s]"
      ]
     },
     "metadata": {},
     "output_type": "display_data"
    },
    {
     "data": {
      "application/vnd.jupyter.widget-view+json": {
       "model_id": "b05bea0700924bb8a4a6a3dc2c7de795",
       "version_major": 2,
       "version_minor": 0
      },
      "text/plain": [
       "- ListFiles 1: 0.00 row [00:00, ? row/s]"
      ]
     },
     "metadata": {},
     "output_type": "display_data"
    },
    {
     "data": {
      "application/vnd.jupyter.widget-view+json": {
       "model_id": "c31d15d11b2e43689638b51cb4b112db",
       "version_major": 2,
       "version_minor": 0
      },
      "text/plain": [
       "- ReadFiles 2: 0.00 row [00:00, ? row/s]"
      ]
     },
     "metadata": {},
     "output_type": "display_data"
    },
    {
     "data": {
      "application/vnd.jupyter.widget-view+json": {
       "model_id": "5674ea3684764a6583d5d4df26db8023",
       "version_major": 2,
       "version_minor": 0
      },
      "text/plain": [
       "- Map(add_class) 3: 0.00 row [00:00, ? row/s]"
      ]
     },
     "metadata": {},
     "output_type": "display_data"
    },
    {
     "data": {
      "application/vnd.jupyter.widget-view+json": {
       "model_id": "f329c520d0764ad7aba742fb116bd8ee",
       "version_major": 2,
       "version_minor": 0
      },
      "text/plain": [
       "- Aggregate 4: 0.00 row [00:00, ? row/s]"
      ]
     },
     "metadata": {},
     "output_type": "display_data"
    },
    {
     "data": {
      "application/vnd.jupyter.widget-view+json": {
       "model_id": "1927dd1767534f3eb7678ecb79a892b9",
       "version_major": 2,
       "version_minor": 0
      },
      "text/plain": [
       "Sort Sample 5:   0%|          | 0.00/1.00 [00:00<?, ? row/s]"
      ]
     },
     "metadata": {},
     "output_type": "display_data"
    },
    {
     "data": {
      "application/vnd.jupyter.widget-view+json": {
       "model_id": "dd5c53fe54b94a25b5f85752a96b1561",
       "version_major": 2,
       "version_minor": 0
      },
      "text/plain": [
       "Shuffle Map 6:   0%|          | 0.00/1.00 [00:00<?, ? row/s]"
      ]
     },
     "metadata": {},
     "output_type": "display_data"
    },
    {
     "data": {
      "application/vnd.jupyter.widget-view+json": {
       "model_id": "b6f4ea7517644206b9e253aecf012e7d",
       "version_major": 2,
       "version_minor": 0
      },
      "text/plain": [
       "Shuffle Reduce 7:   0%|          | 0.00/1.00 [00:00<?, ? row/s]"
      ]
     },
     "metadata": {},
     "output_type": "display_data"
    },
    {
     "data": {
      "application/vnd.jupyter.widget-view+json": {
       "model_id": "a97221df6cec404ab36e06c1308df011",
       "version_major": 2,
       "version_minor": 0
      },
      "text/plain": [
       "- limit=1 8: 0.00 row [00:00, ? row/s]"
      ]
     },
     "metadata": {},
     "output_type": "display_data"
    },
    {
     "name": "stdout",
     "output_type": "stream",
     "text": [
      "\u001b[36m(autoscaler +15s)\u001b[0m Tip: use `ray status` to view detailed cluster status. To disable these messages, set RAY_SCHEDULER_EVENTS=0.\n",
      "\u001b[36m(autoscaler +15s)\u001b[0m [autoscaler] [4xT4:48CPU-192GB] Attempting to add 1 node(s) to the cluster (increasing from 0 to 1).\n",
      "\u001b[36m(autoscaler +15s)\u001b[0m [autoscaler] [4xT4:48CPU-192GB] Launched 1 instances.\n",
      "\u001b[36m(ListFiles pid=3033, ip=10.0.117.255)\u001b[0m >>> [DBG] partition_files: before: pyarrow.Table\n",
      "\u001b[36m(ListFiles pid=3033, ip=10.0.117.255)\u001b[0m __path: string\n",
      "\u001b[36m(ListFiles pid=3033, ip=10.0.117.255)\u001b[0m __file_size: int64\n",
      "\u001b[36m(ListFiles pid=3033, ip=10.0.117.255)\u001b[0m ----\n",
      "\u001b[36m(ListFiles pid=3033, ip=10.0.117.255)\u001b[0m __path: [[\"doggos-dataset/train/basset/basset_10028.jpg\",\"doggos-dataset/train/basset/basset_10054.jpg\",\"doggos-dataset/train/basset/basset_10072.jpg\",\"doggos-dataset/train/basset/basset_10095.jpg\",\"doggos-dataset/train/basset/basset_10110.jpg\",...,\"doggos-dataset/train/yorkshire_terrier/yorkshire_terrier_889.jpg\",\"doggos-dataset/train/yorkshire_terrier/yorkshire_terrier_9618.jpg\",\"doggos-dataset/train/yorkshire_terrier/yorkshire_terrier_962.jpg\",\"doggos-dataset/train/yorkshire_terrier/yorkshire_terrier_967.jpg\",\"doggos-dataset/train/yorkshire_terrier/yorkshire_terrier_9739.jpg\"]]\n",
      "\u001b[36m(ListFiles pid=3033, ip=10.0.117.255)\u001b[0m __file_size: [[56919,36417,21093,23721,12511,...,19267,43746,29862,37592,32578]]\n",
      "\u001b[36m(ListFiles pid=3033, ip=10.0.117.255)\u001b[0m >>> [DBG] partition_files: after: pyarrow.Table\n",
      "\u001b[36m(ListFiles pid=3033, ip=10.0.117.255)\u001b[0m __path: string\n",
      "\u001b[36m(ListFiles pid=3033, ip=10.0.117.255)\u001b[0m __file_size: int64\n",
      "\u001b[36m(ListFiles pid=3033, ip=10.0.117.255)\u001b[0m ----\n",
      "\u001b[36m(ListFiles pid=3033, ip=10.0.117.255)\u001b[0m __path: [[\"doggos-dataset/train/french_bulldog/french_bulldog_10204.jpg\",\"doggos-dataset/train/maltese_dog/maltese_dog_3315.jpg\",\"doggos-dataset/train/labrador_retriever/labrador_retriever_7418.jpg\",\"doggos-dataset/train/great_dane/great_dane_1672.jpg\",\"doggos-dataset/train/eskimo_dog/eskimo_dog_18552.jpg\",...,\"doggos-dataset/train/doberman/doberman_7841.jpg\",\"doggos-dataset/train/french_bulldog/french_bulldog_12139.jpg\",\"doggos-dataset/train/collie/collie_15172.jpg\",\"doggos-dataset/train/miniature_poodle/miniature_poodle_2136.jpg\",\"doggos-dataset/train/chow/chow_2453.jpg\"]]\n",
      "\u001b[36m(ListFiles pid=3033, ip=10.0.117.255)\u001b[0m __file_size: [[326103,23691,33041,45663,26192,...,39593,124526,52384,36068,64904]]\n"
     ]
    },
    {
     "name": "stderr",
     "output_type": "stream",
     "text": [
      "2025-04-02 07:29:26,022\tINFO streaming_executor.py:108 -- Starting execution of Dataset. Full logs are in /tmp/ray/session_2025-04-02_01-36-15_100194_2258/logs/ray-data\n",
      "2025-04-02 07:29:26,022\tINFO streaming_executor.py:109 -- Execution plan of Dataset: InputDataBuffer[Input] -> TaskPoolMapOperator[ListFiles] -> TaskPoolMapOperator[ReadFiles] -> TaskPoolMapOperator[Map(add_class)->Map(Preprocessor.convert_to_label)] -> ActorPoolMapOperator[MapBatches(EmbeddingGenerator)] -> TaskPoolMapOperator[MapBatches(drop_columns)] -> LimitOperator[limit=1]\n"
     ]
    },
    {
     "data": {
      "application/vnd.jupyter.widget-view+json": {
       "model_id": "01dd208bed324a039d44db4a3bd533c7",
       "version_major": 2,
       "version_minor": 0
      },
      "text/plain": [
       "Running 0: 0.00 row [00:00, ? row/s]"
      ]
     },
     "metadata": {},
     "output_type": "display_data"
    },
    {
     "data": {
      "application/vnd.jupyter.widget-view+json": {
       "model_id": "c1a3184327b14b8ba608a8927c640fab",
       "version_major": 2,
       "version_minor": 0
      },
      "text/plain": [
       "- ListFiles 1: 0.00 row [00:00, ? row/s]"
      ]
     },
     "metadata": {},
     "output_type": "display_data"
    },
    {
     "data": {
      "application/vnd.jupyter.widget-view+json": {
       "model_id": "c7c98667d0d7414f90cada6195143408",
       "version_major": 2,
       "version_minor": 0
      },
      "text/plain": [
       "- ReadFiles 2: 0.00 row [00:00, ? row/s]"
      ]
     },
     "metadata": {},
     "output_type": "display_data"
    },
    {
     "data": {
      "application/vnd.jupyter.widget-view+json": {
       "model_id": "67f4701e536e4bfb9ad01bca5660b555",
       "version_major": 2,
       "version_minor": 0
      },
      "text/plain": [
       "- Map(add_class)->Map(Preprocessor.convert_to_label) 3: 0.00 row [00:00, ? row/s]"
      ]
     },
     "metadata": {},
     "output_type": "display_data"
    },
    {
     "data": {
      "application/vnd.jupyter.widget-view+json": {
       "model_id": "b78f4eeed6ec4776997cc6f599b9c626",
       "version_major": 2,
       "version_minor": 0
      },
      "text/plain": [
       "- MapBatches(EmbeddingGenerator) 4: 0.00 row [00:00, ? row/s]"
      ]
     },
     "metadata": {},
     "output_type": "display_data"
    },
    {
     "data": {
      "application/vnd.jupyter.widget-view+json": {
       "model_id": "01979b37c4d74071a47c5ded57f17891",
       "version_major": 2,
       "version_minor": 0
      },
      "text/plain": [
       "- MapBatches(drop_columns) 5: 0.00 row [00:00, ? row/s]"
      ]
     },
     "metadata": {},
     "output_type": "display_data"
    },
    {
     "data": {
      "application/vnd.jupyter.widget-view+json": {
       "model_id": "076b528be7614ff3a1e0ded93085058a",
       "version_major": 2,
       "version_minor": 0
      },
      "text/plain": [
       "- limit=1 6: 0.00 row [00:00, ? row/s]"
      ]
     },
     "metadata": {},
     "output_type": "display_data"
    },
    {
     "name": "stdout",
     "output_type": "stream",
     "text": [
      "\u001b[36m(ListFiles pid=4290, ip=10.0.117.255)\u001b[0m >>> [DBG] partition_files: before: pyarrow.Table\n",
      "\u001b[36m(ListFiles pid=4290, ip=10.0.117.255)\u001b[0m __path: string\u001b[32m [repeated 2x across cluster] (Ray deduplicates logs by default. Set RAY_DEDUP_LOGS=0 to disable log deduplication, or see https://docs.ray.io/en/master/ray-observability/user-guides/configure-logging.html#log-deduplication for more options.)\u001b[0m\n",
      "\u001b[36m(ListFiles pid=4290, ip=10.0.117.255)\u001b[0m __file_size: [[72246,38195,396642,16829,41808,...,7636,37138,18289,152413,24018]]\u001b[32m [repeated 4x across cluster]\u001b[0m\n",
      "\u001b[36m(ListFiles pid=4290, ip=10.0.117.255)\u001b[0m ----\u001b[32m [repeated 2x across cluster]\u001b[0m\n",
      "\u001b[36m(ListFiles pid=4290, ip=10.0.117.255)\u001b[0m __path: [[\"doggos-dataset/train/miniature_schnauzer/miniature_schnauzer_2178.jpg\",\"doggos-dataset/train/malamute/malamute_6518.jpg\",\"doggos-dataset/train/malinois/malinois_2093.jpg\",\"doggos-dataset/train/golden_retriever/golden_retriever_3508.jpg\",\"doggos-dataset/train/border_collie/border_collie_1776.jpg\",...,\"doggos-dataset/train/eskimo_dog/eskimo_dog_2272.jpg\",\"doggos-dataset/train/bull_mastiff/bull_mastiff_4000.jpg\",\"doggos-dataset/train/beagle/beagle_11458.jpg\",\"doggos-dataset/train/french_bulldog/french_bulldog_5337.jpg\",\"doggos-dataset/train/bull_mastiff/bull_mastiff_5432.jpg\"]]\u001b[32m [repeated 2x across cluster]\u001b[0m\n",
      "\u001b[36m(ListFiles pid=4290, ip=10.0.117.255)\u001b[0m >>> [DBG] partition_files: after: pyarrow.Table\n"
     ]
    },
    {
     "data": {
      "text/plain": [
       "[{'path': 'doggos-dataset/train/malamute/malamute_12269.jpg',\n",
       "  'class': 'malamute',\n",
       "  'label': 26,\n",
       "  'embedding': array([-3.20934802e-02,  2.38295987e-01, -2.82098830e-01,  3.15648079e-01,\n",
       "          4.98129278e-02, -3.21801215e-01,  1.72749728e-01,  2.98801422e-01,\n",
       "         -1.46350980e-01,  3.36772591e-01, -2.07972020e-01,  8.03879276e-02,\n",
       "          3.31074893e-01,  2.07380429e-01,  3.22806120e-01, -2.45789498e-01,\n",
       "          4.45166469e-01,  7.23792464e-02, -2.30011567e-01, -3.13075364e-01,\n",
       "         -4.44811493e-01,  7.88827240e-03,  2.61921108e-01, -5.02690732e-01,\n",
       "         -7.88383186e-03, -1.80014670e-01,  3.15743566e-01, -4.99399513e-01,\n",
       "          1.14164159e-01,  3.44607234e-01,  1.55417800e-01, -1.19305663e-01,\n",
       "          1.82588041e-01, -8.12833011e-02,  1.02748406e+00,  1.45590588e-01,\n",
       "          1.71805650e-01,  2.43361276e-02, -4.99892712e-01,  1.35278070e+00,\n",
       "         -4.73846406e-01, -6.83804229e-02,  4.67592418e-01, -4.83125627e-01,\n",
       "         -2.01296866e-01, -5.84190071e-01, -7.43945360e-01,  7.68971816e-02,\n",
       "         -2.09415317e-01, -2.55938858e-01,  1.92723900e-01,  6.09705001e-02,\n",
       "         -2.19670504e-01, -9.81502384e-02,  5.30644178e-01, -2.23626167e-01,\n",
       "          3.15872550e-01,  5.21848723e-02, -1.71324119e-01,  3.32367629e-01,\n",
       "          1.08207917e+00, -2.90736973e-01,  1.75664186e-01, -3.71934250e-02,\n",
       "         -1.75397992e-01, -1.42002702e-01,  2.17121422e-01, -2.24009037e-01,\n",
       "          4.05838847e-01,  3.74283969e-01,  5.69825709e-01,  5.69132678e-02,\n",
       "          3.65753680e-01,  4.90024462e-02, -3.65065038e-01, -1.62594110e-01,\n",
       "         -2.93448061e-01, -2.21320823e-01, -6.73118681e-02, -2.11094797e-01,\n",
       "          4.43281233e-03, -1.85499296e-01,  3.13386291e-01, -5.00525534e-01,\n",
       "          4.31658000e-01, -5.76825023e-01,  6.87788844e-01, -7.92091966e-01,\n",
       "          4.71678197e-01, -5.76278627e-01, -4.66293871e-01, -6.75025821e-01,\n",
       "         -6.71313715e+00,  5.79446495e-01, -9.04363245e-02,  4.71891314e-02,\n",
       "         -2.74407268e-01, -1.45916417e-01, -1.22885370e+00,  4.44890618e-01,\n",
       "          2.04414293e-01,  2.39866003e-02, -9.34667587e-02,  8.27539787e-02,\n",
       "          4.85498309e-02, -1.97088718e-02,  5.41543663e-02,  2.44369030e-01,\n",
       "         -4.72228751e-02, -6.14093304e-01, -2.81193703e-01, -3.30112457e-01,\n",
       "         -5.96092343e-02, -4.10150170e-01, -2.38274947e-01,  9.17014778e-02,\n",
       "         -5.84682286e-01, -6.73281401e-02,  3.46299857e-02,  2.58465469e-01,\n",
       "          2.27716684e-01,  6.60125434e-01,  2.75859594e-01, -1.34304464e-01,\n",
       "          3.58200073e-01, -5.85955024e-01, -1.75695121e-01,  1.78209633e-01,\n",
       "          3.23631540e-02,  2.56739974e-01,  8.52017328e-02, -5.44206440e-01,\n",
       "         -2.29019195e-01,  8.94143701e-01,  3.09359767e-02,  8.96865204e-02,\n",
       "         -1.77594244e-01, -5.43482840e-01,  1.92743272e-01,  1.37181118e-01,\n",
       "          5.91808669e-02, -1.00600511e-01,  5.49114227e-01,  5.26895940e-01,\n",
       "          1.39343038e-01,  3.92547935e-01,  5.23535013e-01,  3.62725824e-01,\n",
       "         -3.78532678e-01, -1.08418778e-01, -3.61481309e-02,  1.11200772e-01,\n",
       "         -5.83069682e-01, -1.55718476e-01, -3.48844193e-02, -3.59898545e-02,\n",
       "         -3.39002430e-01, -9.05116141e-01, -4.41548198e-01,  2.27936178e-01,\n",
       "         -5.86570501e-02, -3.70021723e-02,  1.65736362e-01, -9.57358479e-02,\n",
       "         -5.65813556e-02, -2.26885639e-02, -1.71620876e-01,  6.56464338e-01,\n",
       "         -1.35425553e-01,  6.94816291e-01, -5.45170084e-02, -6.76299632e-03,\n",
       "          4.13688660e-01, -9.66617689e-02, -5.10856509e-04, -7.08612502e-01,\n",
       "          1.48451075e-01, -4.27866817e-01,  2.03142971e-01,  8.48585367e-03,\n",
       "         -2.63550371e-01, -1.66112259e-02, -3.21659267e-01,  1.09753557e-01,\n",
       "         -6.00883961e-02, -3.93774137e-02, -1.61440268e-01, -1.87261194e-01,\n",
       "          4.13195714e-02, -1.35894075e-01,  8.31076354e-02,  2.06505641e-01,\n",
       "         -1.82095855e-01,  3.21999907e-01, -3.82214814e-01,  1.05417371e-02,\n",
       "         -2.60874778e-01, -1.98317736e-01, -3.28351736e-01, -4.14183170e-01,\n",
       "          2.44233280e-01, -2.57743627e-01,  2.78272957e-01, -7.99466372e-02,\n",
       "         -1.96852401e-01, -4.24623370e-01,  5.13007455e-02,  1.39748350e-01,\n",
       "          3.86882186e-01,  3.96514535e-02,  4.87721860e-02, -8.45756412e-01,\n",
       "          3.74966085e-01,  3.87819797e-01, -6.54496074e-01, -1.44585922e-01,\n",
       "         -3.94274712e-01,  4.94704962e-01,  1.43988752e+00,  1.38593912e-01,\n",
       "          4.34320837e-01,  4.51163769e-01,  2.15332568e-01,  1.43068299e-01,\n",
       "         -4.40358281e-01, -4.84636575e-02,  2.45608404e-01, -2.48929858e-03,\n",
       "          3.29954237e-01,  4.88774121e-01,  4.96535987e-01, -4.24144939e-02,\n",
       "          5.55808097e-02,  6.53616190e-01,  4.57310468e-01,  2.53257826e-02,\n",
       "         -1.63385764e-01,  5.17640561e-02,  3.10653031e-01, -6.26136780e-01,\n",
       "          2.12571964e-01,  2.38368228e-01, -4.63016108e-02,  1.74996927e-01,\n",
       "         -2.47206926e-01,  3.16661239e-01,  2.99133539e-01, -7.03150094e-01,\n",
       "          3.15040171e-01,  3.49111319e-01, -1.88144539e-02,  2.82256603e-01,\n",
       "          1.69153288e-01,  3.33173275e-01,  5.62236965e-01, -2.48743236e-01,\n",
       "         -1.22130811e-02, -4.79233176e-01,  5.39528728e-01,  9.07163396e-02,\n",
       "          6.44370914e-03,  2.91271210e-01, -5.00518918e-01, -1.94252384e+00,\n",
       "         -2.43652090e-01, -3.76635283e-01, -2.64601894e-02,  9.99027267e-02,\n",
       "          1.23249225e-01,  4.03161943e-01, -1.96851164e-01, -2.01858670e-01,\n",
       "          3.90471697e-01,  2.71335810e-01, -3.20328511e-02, -9.79557708e-02,\n",
       "          6.28314734e-01, -8.57043862e-02,  4.18714806e-02,  3.43138009e-01,\n",
       "          1.17611796e-01, -3.97182927e-02, -5.27801216e-01, -3.68269414e-01,\n",
       "         -4.13431764e-01, -5.15117161e-02,  2.49433547e-01,  4.66327041e-01,\n",
       "          2.46574983e-01, -1.67130530e-01, -3.61589998e-01,  1.33323476e-01,\n",
       "         -3.38856906e-01, -1.86917514e-01,  1.39147431e-01,  9.36437249e-02,\n",
       "          1.76651433e-01,  6.37554348e-01, -3.94285113e-01,  1.89501122e-02,\n",
       "          2.16048241e-01,  4.90462661e-01, -1.58416361e-01, -3.26895326e-01,\n",
       "          3.70981216e-01, -2.73001492e-02,  3.68877858e-01,  1.98447049e-01,\n",
       "          1.97740167e-01,  9.08652544e-02, -1.17119700e-02,  7.74823844e-01,\n",
       "          8.92667234e-01, -2.64638662e-01, -1.04876988e-01, -2.01884419e-01,\n",
       "          4.91743833e-02,  2.59144038e-01, -3.41067880e-01, -5.30999601e-01,\n",
       "          7.34744728e-01,  9.44730699e-01, -4.83295806e-02,  8.27279463e-02,\n",
       "          1.59715980e-01,  4.42440540e-01, -1.42786101e-01,  4.64621037e-01,\n",
       "         -9.92024243e-02,  8.62569809e-02, -3.21180373e-01, -9.21251997e-02,\n",
       "          3.08308065e-01, -9.38933134e-01,  1.06639668e-01,  2.35632852e-01,\n",
       "         -1.28079563e-01,  1.18066654e-01, -1.40815943e-01, -6.53731346e-01,\n",
       "         -1.96166903e-01, -4.29534018e-02,  1.64634436e-01,  2.82438487e-01,\n",
       "          2.23476082e-01,  3.11611980e-01,  8.44471827e-02,  7.13580906e-01,\n",
       "          6.86661080e-02, -1.41137362e-01, -8.81652951e-01, -2.53444672e-01,\n",
       "          3.71164382e-01,  8.19550455e-03, -4.12500709e-01,  1.16066134e+00,\n",
       "          4.06898975e-01, -1.35239899e+00,  3.11805904e-02, -3.94908786e-01,\n",
       "          6.41731024e-01, -2.29572862e-01,  5.46519831e-02,  4.41135973e-01,\n",
       "         -5.02049267e-01,  1.48065910e-02, -2.79423058e-01, -6.36827946e-01,\n",
       "         -2.44014248e-01, -1.20513044e-01,  1.48043543e-01,  4.59248126e-01,\n",
       "         -7.82550722e-02,  1.80641487e-02,  1.30212262e-01,  1.34271652e-01,\n",
       "          1.14677882e+00,  2.81622745e-02,  3.96006554e-03,  3.09550196e-01,\n",
       "          6.16916001e-01,  4.93447483e-02,  1.09332457e-01,  1.61632791e-01,\n",
       "          3.26580405e-01,  1.01373225e-01, -9.53377366e-01,  1.03618056e-01,\n",
       "          4.52589154e-01, -1.26325464e+00, -3.87842476e-01, -3.82656902e-01,\n",
       "          5.49233556e-01, -1.86407462e-01, -5.17569065e-01, -2.89926529e-01,\n",
       "         -1.76853299e-01, -8.80410224e-02, -9.97348577e-02, -1.45099610e-01,\n",
       "         -3.75010729e-01, -4.13981855e-01,  4.97319251e-02,  2.65145421e-01,\n",
       "          1.73030242e-01, -1.35677427e-01,  2.80994833e-01, -1.91530764e-01,\n",
       "          6.15969002e-01, -1.15404323e-01,  5.53753197e-01,  5.49734682e-02,\n",
       "         -1.87248290e-01, -2.10104436e-02, -2.55396992e-01,  1.95638716e-01,\n",
       "          5.73325515e-01,  1.85926273e-01,  7.37474680e-01, -2.45845020e-01,\n",
       "          4.18950081e-01,  2.17697516e-01, -2.99608707e-02, -2.52365440e-01,\n",
       "          5.96521139e-01, -3.92477483e-01, -3.71100567e-02,  1.58388525e-01,\n",
       "          7.19024390e-02,  1.57696366e-01,  8.50951597e-02,  5.72210073e-01,\n",
       "         -5.73913381e-03,  1.91684783e-01,  1.08315252e-01,  1.71261907e-01,\n",
       "         -4.72111821e-01, -1.20932758e-01,  4.46866870e-01, -5.76900467e-02,\n",
       "          4.74283904e-01,  3.81212145e-01, -5.29929817e-01,  3.26513015e-02,\n",
       "          3.92266035e-01, -1.48953006e-01, -6.47319555e-02, -2.11950660e-01,\n",
       "          5.57697043e-02,  5.10710441e-02, -4.83758450e-01,  1.81324556e-02,\n",
       "          3.20890814e-01,  5.09483397e-01, -1.49124205e-01, -2.94227451e-01,\n",
       "          1.41105860e-01,  6.97703421e-01,  4.78595570e-02,  5.40084779e-01,\n",
       "         -1.80378035e-01,  1.28524318e-01, -1.07854106e-01,  1.53929695e-01,\n",
       "          3.79738152e-01, -6.23284727e-02, -5.03109515e-01, -3.19698095e-01,\n",
       "         -3.25030446e-01,  5.00319041e-02,  3.77775282e-01,  4.48614448e-01,\n",
       "         -2.81376243e-01,  9.24485326e-02,  2.04705559e-02, -5.93850762e-03,\n",
       "         -2.44162783e-01,  5.77979386e-02, -8.04442763e-02, -2.00098723e-01,\n",
       "          2.74642229e-01, -6.30058587e-01, -2.56761909e-03,  1.54366195e-02,\n",
       "         -3.61877680e-01,  2.81136259e-02, -2.63790339e-02, -3.77400458e-01,\n",
       "         -2.54047066e-01,  1.07920572e-01, -1.39474913e-01,  5.29913247e-01,\n",
       "          3.14704746e-01, -1.56739220e-01,  4.78564575e-03,  1.24592505e-01,\n",
       "         -6.03849292e-02,  3.95484924e-01, -4.59243238e-01,  6.39173448e-01,\n",
       "         -7.68050253e-01, -2.63301209e-02,  1.73824489e-01, -9.63639989e-02,\n",
       "          4.55865860e-01, -4.13743556e-01, -3.01070422e-01, -1.11348748e-01,\n",
       "         -5.55089593e-01,  3.02217036e-01, -2.12172866e-01,  4.94142473e-01],\n",
       "        dtype=float32)}]"
      ]
     },
     "execution_count": null,
     "metadata": {},
     "output_type": "execute_result"
    }
   ],
   "source": [
    "# Preprocess\n",
    "preprocessor = Preprocessor()\n",
    "preprocessor = preprocessor.fit(train_ds, column=\"class\")\n",
    "train_ds = preprocessor.transform(ds=train_ds)\n",
    "val_ds = preprocessor.transform(ds=val_ds)\n",
    "train_ds.take(1)"
   ]
  },
  {
   "cell_type": "markdown",
   "metadata": {},
   "source": [
    "<div class=\"alert alert-block alert\"> <b> Data Processing</b> \n",
    "\n",
    "Be sure to checkout this extensive guide on [data loading and preprocessing](https://docs.ray.io/en/latest/train/user-guides/data-loading-preprocessing.html) for the last-mile preprocessing we'll need to do prior to training our models. However, Ray Data does support performant joins, filters, aggregations, etc. for the more structure data processing your workloads may need."
   ]
  },
  {
   "cell_type": "markdown",
   "metadata": {},
   "source": [
    "<div class=\"alert alert-block alert\"> <b> Store often, Save compute</b> \n",
    "\n",
    "We're going to now store our preprocessed data into shared cloud storage because we want to:\n",
    "- save a record of what this preprocessed data looks like\n",
    "- avoid triggering the entire preprocessing for each batch our model will process\n",
    "- don't want to [`materialize`](https://docs.ray.io/en/latest/data/api/doc/ray.data.Dataset.materialize.html) the preprocessed data either (shouldn't force large data to fit in memory)"
   ]
  },
  {
   "cell_type": "code",
   "execution_count": null,
   "metadata": {},
   "outputs": [],
   "source": [
    "from doggos.utils import delete_s3_objects"
   ]
  },
  {
   "cell_type": "code",
   "execution_count": null,
   "metadata": {},
   "outputs": [
    {
     "name": "stdout",
     "output_type": "stream",
     "text": [
      "Deleted 65 objects from s3://anyscale-test-data-cld-i2w99rzq8b6lbjkke9y94vi5/org_7c1Kalm9WcX2bNIjW53GUT/cld_kvedZWag2qA8i5BjxUevf5i7/artifact_storage/goku_mohandas/doggos/preprocessed_data\n"
     ]
    },
    {
     "name": "stderr",
     "output_type": "stream",
     "text": [
      "2025-04-02 07:29:49,790\tINFO streaming_executor.py:108 -- Starting execution of Dataset. Full logs are in /tmp/ray/session_2025-04-02_01-36-15_100194_2258/logs/ray-data\n",
      "2025-04-02 07:29:49,792\tINFO streaming_executor.py:109 -- Execution plan of Dataset: InputDataBuffer[Input] -> TaskPoolMapOperator[ListFiles] -> TaskPoolMapOperator[ReadFiles] -> TaskPoolMapOperator[Map(add_class)->Map(Preprocessor.convert_to_label)] -> ActorPoolMapOperator[MapBatches(EmbeddingGenerator)] -> TaskPoolMapOperator[MapBatches(drop_columns)->Write]\n"
     ]
    },
    {
     "data": {
      "application/vnd.jupyter.widget-view+json": {
       "model_id": "4a54be07300e44f1ae0edbf7a01d9c0b",
       "version_major": 2,
       "version_minor": 0
      },
      "text/plain": [
       "Running 0: 0.00 row [00:00, ? row/s]"
      ]
     },
     "metadata": {},
     "output_type": "display_data"
    },
    {
     "data": {
      "application/vnd.jupyter.widget-view+json": {
       "model_id": "edb87323527c4d46a2214a64bc07e9d4",
       "version_major": 2,
       "version_minor": 0
      },
      "text/plain": [
       "- ListFiles 1: 0.00 row [00:00, ? row/s]"
      ]
     },
     "metadata": {},
     "output_type": "display_data"
    },
    {
     "data": {
      "application/vnd.jupyter.widget-view+json": {
       "model_id": "65f5748ced9b4bc195c7be55c9406fa9",
       "version_major": 2,
       "version_minor": 0
      },
      "text/plain": [
       "- ReadFiles 2: 0.00 row [00:00, ? row/s]"
      ]
     },
     "metadata": {},
     "output_type": "display_data"
    },
    {
     "data": {
      "application/vnd.jupyter.widget-view+json": {
       "model_id": "1537b11435274a7fafbce179753fc684",
       "version_major": 2,
       "version_minor": 0
      },
      "text/plain": [
       "- Map(add_class)->Map(Preprocessor.convert_to_label) 3: 0.00 row [00:00, ? row/s]"
      ]
     },
     "metadata": {},
     "output_type": "display_data"
    },
    {
     "data": {
      "application/vnd.jupyter.widget-view+json": {
       "model_id": "bef41b164da34194b6d4c1c6786e5ce4",
       "version_major": 2,
       "version_minor": 0
      },
      "text/plain": [
       "- MapBatches(EmbeddingGenerator) 4: 0.00 row [00:00, ? row/s]"
      ]
     },
     "metadata": {},
     "output_type": "display_data"
    },
    {
     "data": {
      "application/vnd.jupyter.widget-view+json": {
       "model_id": "05fb5da4820c4bd1bf6a5b6c009c0f99",
       "version_major": 2,
       "version_minor": 0
      },
      "text/plain": [
       "- MapBatches(drop_columns)->Write 5: 0.00 row [00:00, ? row/s]"
      ]
     },
     "metadata": {},
     "output_type": "display_data"
    },
    {
     "name": "stdout",
     "output_type": "stream",
     "text": [
      "\u001b[36m(ListFiles pid=4265, ip=10.0.117.255)\u001b[0m >>> [DBG] partition_files: before: pyarrow.Table\n",
      "\u001b[36m(ListFiles pid=4265, ip=10.0.117.255)\u001b[0m __path: string\n",
      "\u001b[36m(ListFiles pid=4265, ip=10.0.117.255)\u001b[0m __file_size: int64\n",
      "\u001b[36m(ListFiles pid=4265, ip=10.0.117.255)\u001b[0m ----\n",
      "\u001b[36m(ListFiles pid=4265, ip=10.0.117.255)\u001b[0m __path: [[\"doggos-dataset/train/basset/basset_10028.jpg\",\"doggos-dataset/train/basset/basset_10054.jpg\",\"doggos-dataset/train/basset/basset_10072.jpg\",\"doggos-dataset/train/basset/basset_10095.jpg\",\"doggos-dataset/train/basset/basset_10110.jpg\",...,\"doggos-dataset/train/yorkshire_terrier/yorkshire_terrier_889.jpg\",\"doggos-dataset/train/yorkshire_terrier/yorkshire_terrier_9618.jpg\",\"doggos-dataset/train/yorkshire_terrier/yorkshire_terrier_962.jpg\",\"doggos-dataset/train/yorkshire_terrier/yorkshire_terrier_967.jpg\",\"doggos-dataset/train/yorkshire_terrier/yorkshire_terrier_9739.jpg\"]]\n",
      "\u001b[36m(ListFiles pid=4265, ip=10.0.117.255)\u001b[0m __file_size: [[56919,36417,21093,23721,12511,...,19267,43746,29862,37592,32578]]\n",
      "\u001b[36m(ListFiles pid=4265, ip=10.0.117.255)\u001b[0m >>> [DBG] partition_files: after: pyarrow.Table\n",
      "\u001b[36m(ListFiles pid=4265, ip=10.0.117.255)\u001b[0m __path: string\n",
      "\u001b[36m(ListFiles pid=4265, ip=10.0.117.255)\u001b[0m __file_size: int64\n",
      "\u001b[36m(ListFiles pid=4265, ip=10.0.117.255)\u001b[0m ----\n",
      "\u001b[36m(ListFiles pid=4265, ip=10.0.117.255)\u001b[0m __path: [[\"doggos-dataset/train/great_pyrenees/great_pyrenees_2572.jpg\",\"doggos-dataset/train/dingo/dingo_1327.jpg\",\"doggos-dataset/train/golden_retriever/golden_retriever_2422.jpg\",\"doggos-dataset/train/chihuahua/chihuahua_4572.jpg\",\"doggos-dataset/train/miniature_poodle/miniature_poodle_1136.jpg\",...,\"doggos-dataset/train/bernese_mountain_dog/bernese_mountain_dog_2305.jpg\",\"doggos-dataset/train/cocker_spaniel/cocker_spaniel_8275.jpg\",\"doggos-dataset/train/great_pyrenees/great_pyrenees_9015.jpg\",\"doggos-dataset/train/french_bulldog/french_bulldog_12904.jpg\",\"doggos-dataset/train/miniature_poodle/miniature_poodle_163.jpg\"]]\n",
      "\u001b[36m(ListFiles pid=4265, ip=10.0.117.255)\u001b[0m __file_size: [[52513,41903,18135,24065,20349,...,35071,42327,23060,11305,35352]]\n"
     ]
    },
    {
     "name": "stderr",
     "output_type": "stream",
     "text": [
      "2025-04-02 07:30:09,377\tINFO dataset.py:4178 -- Data sink Parquet finished. 2880 rows and 5.9MB data written.\n",
      "2025-04-02 07:30:09,602\tINFO streaming_executor.py:108 -- Starting execution of Dataset. Full logs are in /tmp/ray/session_2025-04-02_01-36-15_100194_2258/logs/ray-data\n",
      "2025-04-02 07:30:09,603\tINFO streaming_executor.py:109 -- Execution plan of Dataset: InputDataBuffer[Input] -> TaskPoolMapOperator[ListFiles] -> TaskPoolMapOperator[ReadFiles] -> TaskPoolMapOperator[Map(add_class)->Map(Preprocessor.convert_to_label)] -> ActorPoolMapOperator[MapBatches(EmbeddingGenerator)] -> TaskPoolMapOperator[MapBatches(drop_columns)->Write]\n"
     ]
    },
    {
     "data": {
      "application/vnd.jupyter.widget-view+json": {
       "model_id": "5b964835dc634bcaba10bc01d487a1c9",
       "version_major": 2,
       "version_minor": 0
      },
      "text/plain": [
       "Running 0: 0.00 row [00:00, ? row/s]"
      ]
     },
     "metadata": {},
     "output_type": "display_data"
    },
    {
     "data": {
      "application/vnd.jupyter.widget-view+json": {
       "model_id": "e2df1adfa0c1467f92a908557e7d251e",
       "version_major": 2,
       "version_minor": 0
      },
      "text/plain": [
       "- ListFiles 1: 0.00 row [00:00, ? row/s]"
      ]
     },
     "metadata": {},
     "output_type": "display_data"
    },
    {
     "data": {
      "application/vnd.jupyter.widget-view+json": {
       "model_id": "4dc42c19cf674f0397c5b5f9e5669769",
       "version_major": 2,
       "version_minor": 0
      },
      "text/plain": [
       "- ReadFiles 2: 0.00 row [00:00, ? row/s]"
      ]
     },
     "metadata": {},
     "output_type": "display_data"
    },
    {
     "data": {
      "application/vnd.jupyter.widget-view+json": {
       "model_id": "c1f4325fcd804a8d9d9d4d6227d23036",
       "version_major": 2,
       "version_minor": 0
      },
      "text/plain": [
       "- Map(add_class)->Map(Preprocessor.convert_to_label) 3: 0.00 row [00:00, ? row/s]"
      ]
     },
     "metadata": {},
     "output_type": "display_data"
    },
    {
     "data": {
      "application/vnd.jupyter.widget-view+json": {
       "model_id": "5fec19e0b11045b8ab19f75eb804dab3",
       "version_major": 2,
       "version_minor": 0
      },
      "text/plain": [
       "- MapBatches(EmbeddingGenerator) 4: 0.00 row [00:00, ? row/s]"
      ]
     },
     "metadata": {},
     "output_type": "display_data"
    },
    {
     "data": {
      "application/vnd.jupyter.widget-view+json": {
       "model_id": "576498c7ce0c432fa0d1bf99459a3883",
       "version_major": 2,
       "version_minor": 0
      },
      "text/plain": [
       "- MapBatches(drop_columns)->Write 5: 0.00 row [00:00, ? row/s]"
      ]
     },
     "metadata": {},
     "output_type": "display_data"
    },
    {
     "name": "stderr",
     "output_type": "stream",
     "text": [
      "2025-04-02 07:30:28,105\tINFO dataset.py:4178 -- Data sink Parquet finished. 720 rows and 1.5MB data written.\n"
     ]
    }
   ],
   "source": [
    "# Write processed data to cloud storage\n",
    "preprocessed_data_path = os.path.join(\n",
    "    os.getenv(\"ANYSCALE_ARTIFACT_STORAGE\", \"\"), \n",
    "    os.getenv(\"ANYSCALE_USERNAME\", \"\").replace(\" \", \"_\"), \n",
    "    \"doggos/preprocessed_data\",\n",
    ")\n",
    "delete_s3_objects(s3_path=preprocessed_data_path)\n",
    "preprocessed_train_path = os.path.join(preprocessed_data_path, \"preprocessed_train\")\n",
    "preprocessed_val_path = os.path.join(preprocessed_data_path, \"preprocessed_val\")\n",
    "train_ds.write_parquet(preprocessed_train_path)\n",
    "val_ds.write_parquet(preprocessed_val_path)"
   ]
  },
  {
   "cell_type": "markdown",
   "metadata": {},
   "source": [
    "### Model"
   ]
  },
  {
   "cell_type": "markdown",
   "metadata": {},
   "source": [
    "Let's define our model -- a simple two layer neural net with softmax layer to predict class probabilities. You'll notice that it's all just base PyTorch and nothing else."
   ]
  },
  {
   "cell_type": "code",
   "execution_count": null,
   "metadata": {},
   "outputs": [],
   "source": [
    "import json\n",
    "from pathlib import Path\n",
    "import torch\n",
    "import torch.nn as nn\n",
    "import torch.nn.functional as F"
   ]
  },
  {
   "cell_type": "code",
   "execution_count": null,
   "metadata": {},
   "outputs": [],
   "source": [
    "class ClassificationModel(torch.nn.Module):\n",
    "    def __init__(self, embedding_dim, hidden_dim, dropout_p, num_classes):\n",
    "        super().__init__()\n",
    "        # Hyperparameters\n",
    "        self.embedding_dim = embedding_dim\n",
    "        self.hidden_dim = hidden_dim\n",
    "        self.dropout_p = dropout_p\n",
    "        self.num_classes = num_classes\n",
    "\n",
    "        # Define layers\n",
    "        self.fc1 = nn.Linear(embedding_dim, hidden_dim)\n",
    "        self.batch_norm = nn.BatchNorm1d(hidden_dim)\n",
    "        self.relu = nn.ReLU()\n",
    "        self.dropout = nn.Dropout(dropout_p)\n",
    "        self.fc2 = nn.Linear(hidden_dim, num_classes)\n",
    "\n",
    "    def forward(self, batch):\n",
    "        z = self.fc1(batch[\"embedding\"])\n",
    "        z = self.batch_norm(z)\n",
    "        z = self.relu(z)\n",
    "        z = self.dropout(z)\n",
    "        z = self.fc2(z)\n",
    "        return z\n",
    "\n",
    "    @torch.inference_mode()\n",
    "    def predict(self, batch):\n",
    "        z = self(batch)\n",
    "        y_pred = torch.argmax(z, dim=1).cpu().numpy()\n",
    "        return y_pred\n",
    "\n",
    "    @torch.inference_mode()\n",
    "    def predict_probabilities(self, batch):\n",
    "        z = self(batch)\n",
    "        y_probs = F.softmax(z, dim=1).cpu().numpy()\n",
    "        return y_probs\n",
    "\n",
    "    def save(self, dp):\n",
    "        Path(dp).mkdir(parents=True, exist_ok=True)\n",
    "        with open(Path(dp, \"args.json\"), \"w\") as fp:\n",
    "            json.dump({\n",
    "                \"embedding_dim\": self.embedding_dim,\n",
    "                \"hidden_dim\": self.hidden_dim,\n",
    "                \"dropout_p\": self.dropout_p,\n",
    "                \"num_classes\": self.num_classes,\n",
    "            }, fp, indent=4)\n",
    "        torch.save(self.state_dict(), Path(dp, \"model.pt\"))\n",
    "\n",
    "    @classmethod\n",
    "    def load(cls, args_fp, state_dict_fp, device=\"cpu\"):\n",
    "        with open(args_fp, \"r\") as fp:\n",
    "            model = cls(**json.load(fp))\n",
    "        model.load_state_dict(torch.load(state_dict_fp, map_location=device))\n",
    "        return model"
   ]
  },
  {
   "cell_type": "code",
   "execution_count": null,
   "metadata": {},
   "outputs": [
    {
     "name": "stdout",
     "output_type": "stream",
     "text": [
      "<bound method Module.named_parameters of ClassificationModel(\n",
      "  (fc1): Linear(in_features=512, out_features=256, bias=True)\n",
      "  (batch_norm): BatchNorm1d(256, eps=1e-05, momentum=0.1, affine=True, track_running_stats=True)\n",
      "  (relu): ReLU()\n",
      "  (dropout): Dropout(p=0.3, inplace=False)\n",
      "  (fc2): Linear(in_features=256, out_features=36, bias=True)\n",
      ")>\n"
     ]
    }
   ],
   "source": [
    "# Initialize model\n",
    "num_classes = len(preprocessor.classes)\n",
    "model = ClassificationModel(\n",
    "    embedding_dim=512, \n",
    "    hidden_dim=256, \n",
    "    dropout_p=0.3, \n",
    "    num_classes=num_classes,\n",
    ")\n",
    "print (model.named_parameters)"
   ]
  },
  {
   "cell_type": "markdown",
   "metadata": {},
   "source": [
    "### Batching"
   ]
  },
  {
   "cell_type": "markdown",
   "metadata": {},
   "source": [
    "Let's take a look at a sample batch of data and ensure that tensors of the proper data type."
   ]
  },
  {
   "cell_type": "code",
   "execution_count": null,
   "metadata": {},
   "outputs": [],
   "source": [
    "from ray.train.torch import get_device"
   ]
  },
  {
   "cell_type": "code",
   "execution_count": null,
   "metadata": {},
   "outputs": [],
   "source": [
    "def collate_fn(batch):\n",
    "    dtypes = {\"embedding\": torch.float32, \"label\": torch.int64}\n",
    "    tensor_batch = {}\n",
    "    for key in dtypes.keys():\n",
    "        if key in batch:\n",
    "            tensor_batch[key] = torch.as_tensor(\n",
    "                batch[key],\n",
    "                dtype=dtypes[key],\n",
    "                device=get_device(),\n",
    "            )\n",
    "    return tensor_batch"
   ]
  },
  {
   "cell_type": "code",
   "execution_count": null,
   "metadata": {},
   "outputs": [
    {
     "name": "stderr",
     "output_type": "stream",
     "text": [
      "2025-04-02 07:30:31,488\tINFO streaming_executor.py:108 -- Starting execution of Dataset. Full logs are in /tmp/ray/session_2025-04-02_01-36-15_100194_2258/logs/ray-data\n",
      "2025-04-02 07:30:31,489\tINFO streaming_executor.py:109 -- Execution plan of Dataset: InputDataBuffer[Input] -> TaskPoolMapOperator[ListFiles] -> TaskPoolMapOperator[ReadFiles] -> TaskPoolMapOperator[Map(add_class)->Map(Preprocessor.convert_to_label)] -> ActorPoolMapOperator[MapBatches(EmbeddingGenerator)] -> TaskPoolMapOperator[MapBatches(drop_columns)] -> LimitOperator[limit=3]\n"
     ]
    },
    {
     "data": {
      "application/vnd.jupyter.widget-view+json": {
       "model_id": "08c8511e1d9b4f60bf0ab5dcd360cedf",
       "version_major": 2,
       "version_minor": 0
      },
      "text/plain": [
       "Running 0: 0.00 row [00:00, ? row/s]"
      ]
     },
     "metadata": {},
     "output_type": "display_data"
    },
    {
     "data": {
      "application/vnd.jupyter.widget-view+json": {
       "model_id": "e67095ce695c47849aef12587e06975c",
       "version_major": 2,
       "version_minor": 0
      },
      "text/plain": [
       "- ListFiles 1: 0.00 row [00:00, ? row/s]"
      ]
     },
     "metadata": {},
     "output_type": "display_data"
    },
    {
     "data": {
      "application/vnd.jupyter.widget-view+json": {
       "model_id": "24a6e3949d4e4e0995ba3f8be8151250",
       "version_major": 2,
       "version_minor": 0
      },
      "text/plain": [
       "- ReadFiles 2: 0.00 row [00:00, ? row/s]"
      ]
     },
     "metadata": {},
     "output_type": "display_data"
    },
    {
     "data": {
      "application/vnd.jupyter.widget-view+json": {
       "model_id": "9304fc054d8e4761b695e3ddbb7eee63",
       "version_major": 2,
       "version_minor": 0
      },
      "text/plain": [
       "- Map(add_class)->Map(Preprocessor.convert_to_label) 3: 0.00 row [00:00, ? row/s]"
      ]
     },
     "metadata": {},
     "output_type": "display_data"
    },
    {
     "data": {
      "application/vnd.jupyter.widget-view+json": {
       "model_id": "2c6ac579f99148f19ca056fc6bb751a3",
       "version_major": 2,
       "version_minor": 0
      },
      "text/plain": [
       "- MapBatches(EmbeddingGenerator) 4: 0.00 row [00:00, ? row/s]"
      ]
     },
     "metadata": {},
     "output_type": "display_data"
    },
    {
     "data": {
      "application/vnd.jupyter.widget-view+json": {
       "model_id": "63ca7205e7bb4ef097d8086f2e2afaf5",
       "version_major": 2,
       "version_minor": 0
      },
      "text/plain": [
       "- MapBatches(drop_columns) 5: 0.00 row [00:00, ? row/s]"
      ]
     },
     "metadata": {},
     "output_type": "display_data"
    },
    {
     "data": {
      "application/vnd.jupyter.widget-view+json": {
       "model_id": "6038a05cd7ff43b0af30df344d9abc29",
       "version_major": 2,
       "version_minor": 0
      },
      "text/plain": [
       "- limit=3 6: 0.00 row [00:00, ? row/s]"
      ]
     },
     "metadata": {},
     "output_type": "display_data"
    },
    {
     "name": "stdout",
     "output_type": "stream",
     "text": [
      "\u001b[36m(ListFiles pid=3033, ip=10.0.117.255)\u001b[0m >>> [DBG] partition_files: before: pyarrow.Table\n",
      "\u001b[36m(ListFiles pid=3033, ip=10.0.117.255)\u001b[0m __path: string\n",
      "\u001b[36m(ListFiles pid=3033, ip=10.0.117.255)\u001b[0m __file_size: int64\n",
      "\u001b[36m(ListFiles pid=3033, ip=10.0.117.255)\u001b[0m ----\n",
      "\u001b[36m(ListFiles pid=3033, ip=10.0.117.255)\u001b[0m __path: [[\"doggos-dataset/train/basset/basset_10028.jpg\",\"doggos-dataset/train/basset/basset_10054.jpg\",\"doggos-dataset/train/basset/basset_10072.jpg\",\"doggos-dataset/train/basset/basset_10095.jpg\",\"doggos-dataset/train/basset/basset_10110.jpg\",...,\"doggos-dataset/train/yorkshire_terrier/yorkshire_terrier_889.jpg\",\"doggos-dataset/train/yorkshire_terrier/yorkshire_terrier_9618.jpg\",\"doggos-dataset/train/yorkshire_terrier/yorkshire_terrier_962.jpg\",\"doggos-dataset/train/yorkshire_terrier/yorkshire_terrier_967.jpg\",\"doggos-dataset/train/yorkshire_terrier/yorkshire_terrier_9739.jpg\"]]\n",
      "\u001b[36m(ListFiles pid=3033, ip=10.0.117.255)\u001b[0m __file_size: [[56919,36417,21093,23721,12511,...,19267,43746,29862,37592,32578]]\n",
      "\u001b[36m(ListFiles pid=3033, ip=10.0.117.255)\u001b[0m >>> [DBG] partition_files: after: pyarrow.Table\n",
      "\u001b[36m(ListFiles pid=3033, ip=10.0.117.255)\u001b[0m __path: string\n",
      "\u001b[36m(ListFiles pid=3033, ip=10.0.117.255)\u001b[0m __file_size: int64\n",
      "\u001b[36m(ListFiles pid=3033, ip=10.0.117.255)\u001b[0m ----\n",
      "\u001b[36m(ListFiles pid=3033, ip=10.0.117.255)\u001b[0m __path: [[\"doggos-dataset/train/miniature_schnauzer/miniature_schnauzer_1913.jpg\",\"doggos-dataset/train/beagle/beagle_5716.jpg\",\"doggos-dataset/train/eskimo_dog/eskimo_dog_11634.jpg\",\"doggos-dataset/train/chihuahua/chihuahua_3975.jpg\",\"doggos-dataset/train/miniature_schnauzer/miniature_schnauzer_6434.jpg\",...,\"doggos-dataset/train/maltese_dog/maltese_dog_2167.jpg\",\"doggos-dataset/train/bull_mastiff/bull_mastiff_568.jpg\",\"doggos-dataset/train/miniature_schnauzer/miniature_schnauzer_1589.jpg\",\"doggos-dataset/train/toy_poodle/toy_poodle_1832.jpg\",\"doggos-dataset/train/dingo/dingo_925.jpg\"]]\n",
      "\u001b[36m(ListFiles pid=3033, ip=10.0.117.255)\u001b[0m __file_size: [[31003,12786,27356,28826,66570,...,14135,25185,54340,43553,64213]]\n"
     ]
    },
    {
     "name": "stderr",
     "output_type": "stream",
     "text": [
      "/tmp/ipykernel_114954/3214280880.py:6: UserWarning: The given NumPy array is not writable, and PyTorch does not support non-writable tensors. This means writing to this tensor will result in undefined behavior. You may want to copy the array to protect its data or make it writable before converting it to a tensor. This type of warning will be suppressed for the rest of this program. (Triggered internally at ../torch/csrc/utils/tensor_numpy.cpp:206.)\n",
      "  tensor_batch[key] = torch.as_tensor(\n"
     ]
    },
    {
     "data": {
      "text/plain": [
       "{'embedding': tensor([[-0.2528,  0.3721, -0.3783,  ...,  1.1563,  0.2734, -0.0609],\n",
       "         [-0.0251, -0.2169, -0.0802,  ...,  0.5675,  0.2192, -0.0173],\n",
       "         [-0.0288, -0.0551,  0.0742,  ...,  0.5049, -0.2767,  0.0743]]),\n",
       " 'label': tensor([29,  5, 21])}"
      ]
     },
     "execution_count": null,
     "metadata": {},
     "output_type": "execute_result"
    }
   ],
   "source": [
    "# Sample batch\n",
    "sample_batch = train_ds.take_batch(batch_size=3)\n",
    "collate_fn(batch=sample_batch)"
   ]
  },
  {
   "cell_type": "markdown",
   "metadata": {},
   "source": [
    "### Model registry"
   ]
  },
  {
   "cell_type": "markdown",
   "metadata": {},
   "source": [
    "We'll be creating a model registry in our [Anyscale user storage](https://docs.anyscale.com/configuration/storage/#user-storage) to save our model checkpoints to. We'll be using OSS mlflow but we can easily [set up other experiment trackers](https://docs.ray.io/en/latest/train/user-guides/experiment-tracking.html) with Ray."
   ]
  },
  {
   "cell_type": "code",
   "execution_count": null,
   "metadata": {},
   "outputs": [],
   "source": [
    "import shutil"
   ]
  },
  {
   "cell_type": "code",
   "execution_count": null,
   "metadata": {},
   "outputs": [],
   "source": [
    "model_registry = \"/mnt/user_storage/mlflow/doggos\"\n",
    "os.path.isdir(model_registry) and shutil.rmtree(model_registry)  # clean up\n",
    "os.makedirs(model_registry, exist_ok=True)"
   ]
  },
  {
   "cell_type": "markdown",
   "metadata": {},
   "source": [
    "### Training"
   ]
  },
  {
   "cell_type": "markdown",
   "metadata": {},
   "source": [
    "We'll define our training workload by specifying our:\n",
    "- experiment and model parameters\n",
    "- compute scaling configuration\n",
    "- forward pass for batches of training and validation data\n",
    "- train loop for each epoch of data (and checkpointing)\n",
    "\n",
    "<img src=\"../images/trainer.png\" width=500>"
   ]
  },
  {
   "cell_type": "code",
   "execution_count": null,
   "metadata": {},
   "outputs": [],
   "source": [
    "# Train loop config\n",
    "experiment_name = \"doggos\"\n",
    "train_loop_config = {\n",
    "    \"model_registry\": model_registry,\n",
    "    \"experiment_name\": experiment_name,\n",
    "    \"embedding_dim\": 512,\n",
    "    \"hidden_dim\": 256,\n",
    "    \"dropout_p\": 0.3,\n",
    "    \"lr\": 1e-3,\n",
    "    \"lr_factor\": 0.8,\n",
    "    \"lr_patience\": 3,\n",
    "    \"num_epochs\": 20,\n",
    "    \"batch_size\": 256,\n",
    "}"
   ]
  },
  {
   "cell_type": "code",
   "execution_count": null,
   "metadata": {},
   "outputs": [],
   "source": [
    "# Scaling config\n",
    "num_workers = 4\n",
    "scaling_config = ray.train.ScalingConfig(\n",
    "    num_workers=num_workers,\n",
    "    use_gpu=True,\n",
    "    resources_per_worker={\"CPU\": 8, \"GPU\": 1})"
   ]
  },
  {
   "cell_type": "code",
   "execution_count": null,
   "metadata": {},
   "outputs": [],
   "source": [
    "import tempfile\n",
    "import mlflow\n",
    "from ray.train.torch import TorchTrainer"
   ]
  },
  {
   "cell_type": "code",
   "execution_count": null,
   "metadata": {},
   "outputs": [],
   "source": [
    "def train_step(ds, batch_size, model, num_classes, loss_fn, optimizer):\n",
    "    model.train()\n",
    "    loss = 0.0\n",
    "    ds_generator = ds.iter_torch_batches(batch_size=batch_size, collate_fn=collate_fn)\n",
    "    for i, batch in enumerate(ds_generator):\n",
    "        optimizer.zero_grad()  # reset gradients\n",
    "        z = model(batch)  # forward pass\n",
    "        targets = F.one_hot(batch[\"label\"], num_classes=num_classes).float()\n",
    "        J = loss_fn(z, targets)  # define loss\n",
    "        J.backward()  # backward pass\n",
    "        optimizer.step()  # update weights\n",
    "        loss += (J.detach().item() - loss) / (i + 1)  # cumulative loss\n",
    "    return loss"
   ]
  },
  {
   "cell_type": "code",
   "execution_count": null,
   "metadata": {},
   "outputs": [],
   "source": [
    "def eval_step(ds, batch_size, model, num_classes, loss_fn):\n",
    "    model.eval()\n",
    "    loss = 0.0\n",
    "    y_trues, y_preds = [], []\n",
    "    ds_generator = ds.iter_torch_batches(batch_size=batch_size, collate_fn=collate_fn)\n",
    "    with torch.inference_mode():\n",
    "        for i, batch in enumerate(ds_generator):\n",
    "            z = model(batch)\n",
    "            targets = F.one_hot(batch[\"label\"], num_classes=num_classes).float()  # one-hot (for loss_fn)\n",
    "            J = loss_fn(z, targets).item()\n",
    "            loss += (J - loss) / (i + 1)\n",
    "            y_trues.extend(batch[\"label\"].cpu().numpy())\n",
    "            y_preds.extend(torch.argmax(z, dim=1).cpu().numpy())\n",
    "    return loss, np.vstack(y_trues), np.vstack(y_preds)"
   ]
  },
  {
   "cell_type": "code",
   "execution_count": null,
   "metadata": {},
   "outputs": [],
   "source": [
    "def train_loop_per_worker(config):\n",
    "    # Hyperparameters\n",
    "    model_registry = config[\"model_registry\"]\n",
    "    experiment_name = config[\"experiment_name\"]\n",
    "    embedding_dim = config[\"embedding_dim\"]\n",
    "    hidden_dim = config[\"hidden_dim\"]\n",
    "    dropout_p = config[\"dropout_p\"]\n",
    "    lr = config[\"lr\"]\n",
    "    lr_factor = config[\"lr_factor\"]\n",
    "    lr_patience = config[\"lr_patience\"]\n",
    "    num_epochs = config[\"num_epochs\"]\n",
    "    batch_size = config[\"batch_size\"]\n",
    "    num_classes = config[\"num_classes\"]\n",
    "\n",
    "    # Experiment tracking\n",
    "    if ray.train.get_context().get_world_rank() == 0:\n",
    "        mlflow.set_tracking_uri(f\"file:{model_registry}\")\n",
    "        mlflow.set_experiment(experiment_name)\n",
    "        mlflow.start_run()\n",
    "        mlflow.log_params(config)\n",
    "\n",
    "    # Datasets\n",
    "    train_ds = ray.train.get_dataset_shard(\"train\")\n",
    "    val_ds = ray.train.get_dataset_shard(\"val\")\n",
    "\n",
    "    # Model\n",
    "    model = ClassificationModel(\n",
    "        embedding_dim=embedding_dim, \n",
    "        hidden_dim=hidden_dim, \n",
    "        dropout_p=dropout_p, \n",
    "        num_classes=num_classes,\n",
    "    )\n",
    "    model = ray.train.torch.prepare_model(model)\n",
    "\n",
    "    # Training components\n",
    "    loss_fn = torch.nn.CrossEntropyLoss()\n",
    "    optimizer = torch.optim.Adam(model.parameters(), lr=lr)\n",
    "    scheduler = torch.optim.lr_scheduler.ReduceLROnPlateau(\n",
    "        optimizer, \n",
    "        mode=\"min\", \n",
    "        factor=lr_factor, \n",
    "        patience=lr_patience,\n",
    "    )\n",
    "\n",
    "    # Training\n",
    "    best_val_loss = float(\"inf\")\n",
    "    for epoch in range(num_epochs):\n",
    "        # Steps\n",
    "        train_loss = train_step(train_ds, batch_size, model, num_classes, loss_fn, optimizer)\n",
    "        val_loss, _, _ = eval_step(val_ds, batch_size, model, num_classes, loss_fn)\n",
    "        scheduler.step(val_loss)\n",
    "\n",
    "        # Checkpoint (metrics, preprocessor and model artifacts)\n",
    "        with tempfile.TemporaryDirectory() as dp:\n",
    "            model.module.save(dp=dp)\n",
    "            metrics = dict(lr=optimizer.param_groups[0][\"lr\"], train_loss=train_loss, val_loss=val_loss)\n",
    "            with open(os.path.join(dp, \"class_to_label.json\"), \"w\") as fp:\n",
    "                json.dump(config[\"class_to_label\"], fp, indent=4)\n",
    "            if ray.train.get_context().get_world_rank() == 0:  # only on main worker 0\n",
    "                mlflow.log_metrics(metrics, step=epoch)\n",
    "                if val_loss < best_val_loss:\n",
    "                    best_val_loss = val_loss\n",
    "                    mlflow.log_artifacts(dp)\n",
    "\n",
    "    # End experiment tracking\n",
    "    if ray.train.get_context().get_world_rank() == 0:\n",
    "        mlflow.end_run()"
   ]
  },
  {
   "cell_type": "markdown",
   "metadata": {},
   "source": [
    "<div class=\"alert alert-block alert\"> <b> Minimal change to your training code</b> \n",
    "\n",
    "You'll notice that there isn't much new Ray Train code on top of our base PyTorch code. We specified how we want to scale out our training workload, load the Ray datasets and then checkpoint on our main worker node... and that's it! Check out these guides ([PyTorch](https://docs.ray.io/en/latest/train/getting-started-pytorch.html), [PyTorch Lightning](https://docs.ray.io/en/latest/train/getting-started-pytorch-lightning.html), [HuggingFace Transformers](https://docs.ray.io/en/latest/train/getting-started-transformers.html)) to see the minimal delta code needed to distribute our training workloads and check out this extensive list of [Ray Train user guides](https://docs.ray.io/en/latest/train/user-guides.html)."
   ]
  },
  {
   "cell_type": "code",
   "execution_count": null,
   "metadata": {},
   "outputs": [],
   "source": [
    "# Load preprocessed datasets\n",
    "preprocessed_train_ds = ray.data.read_parquet(preprocessed_train_path)\n",
    "preprocessed_val_ds = ray.data.read_parquet(preprocessed_val_path)"
   ]
  },
  {
   "cell_type": "code",
   "execution_count": null,
   "metadata": {},
   "outputs": [],
   "source": [
    "# Trainer\n",
    "train_loop_config[\"class_to_label\"] = preprocessor.class_to_label\n",
    "train_loop_config[\"num_classes\"] = len(preprocessor.class_to_label)\n",
    "trainer = TorchTrainer(\n",
    "    train_loop_per_worker=train_loop_per_worker,\n",
    "    train_loop_config=train_loop_config,\n",
    "    scaling_config=scaling_config,\n",
    "    datasets={\"train\": preprocessed_train_ds, \"val\": preprocessed_val_ds},\n",
    ")"
   ]
  },
  {
   "cell_type": "markdown",
   "metadata": {},
   "source": [
    "<div class=\"alert alert-block alert\"> <b> Ray Train</b> \n",
    "\n",
    "**🎛️ Multi-node orchestration made easy**\n",
    "\n",
    "- Ray Train automatically handles multi-node, multi-GPU setup with no manual SSH setup or hostfile configs. \n",
    "- And it also integrates with Ray's cluster launcher for cloud (AWS, GCP, K8s) and on-prem clusters. \n",
    "- Solutions like PyTorch DDP require manually setting up your own process group, ranks, networking, etc.\n",
    "\n",
    "**🩹 2. Built-in fault tolerance**\n",
    "- Ray Train supports automatic retry of failed workers.\n",
    "- and can continue training from the last checkpoint in case of failure.\n",
    "\n",
    "\n",
    "**✂️ 3. Flexible training strategies** (not just DDP)\n",
    "- Ray Train supports Data Parallel, Model Parallel, Parameter Server, and even custom strategies.\n",
    "- You can also use Torch DDP, FSPD, DeepSpeed, etc. under the hood if you want.\n",
    "- [Ray Compiled graphs](https://docs.ray.io/en/latest/ray-core/compiled-graph/ray-compiled-graph.html) allow us to even define different parallelism for jointly optimizing multipe models (Megatron, Deepspeed, etc. only allow for one global setting).\n",
    "\n",
    "**🔥 Better support for heterogeneous clusters**\n",
    "- Ray Train lets you define per-worker resource requirements (e.g., 2 CPUs, 1 GPU per worker).\n",
    "- and can run on heterogeneous machines and scale flexibly.\n",
    "\n",
    "**🌍 Integrations**\n",
    "\n",
    "<img src=\"../images/train_integrations.png\" width=500>\n",
    "\n",
    "[RayTurbo Train]() offers even more improvemen to the price-performance ratio, performance monitoring and more:\n",
    "- **elastic training** to enable jobs to seamlessly adapt to changes in resource availability\n",
    "- **purpose-built dashboard** designed to streamline the debugging of Ray Train workloads\n",
    "    - Monitoring: View the status of training runs and train workers.\n",
    "    - Metrics: See insights on training throughput, training system operation time.\n",
    "    - Profiling: Investigate bottlenecks, hangs, or errors from individual training worker processes.\n",
    "\n",
    "<img src=\"../images/train_dashboard.png\" width=700>"
   ]
  },
  {
   "cell_type": "code",
   "execution_count": null,
   "metadata": {},
   "outputs": [
    {
     "name": "stdout",
     "output_type": "stream",
     "text": [
      "\u001b[36m(autoscaler +9m6s)\u001b[0m [autoscaler] Downscaling node i-008ce49342ee21cd1 (node IP: 10.0.117.255) due to node idle termination.\n"
     ]
    }
   ],
   "source": [
    "# Train\n",
    "results = trainer.fit()"
   ]
  },
  {
   "cell_type": "markdown",
   "metadata": {},
   "source": [
    "We can view our experiment metrics and model artifacts in our model registry. We're using OSS mlflow so we can run the server by pointing to our model registry location:\n",
    "\n",
    "```bash\n",
    "mlflow server -h 0.0.0.0 -p 8080 --backend-store-uri /mnt/user_storage/mlflow/doggos\n",
    "```\n",
    "\n",
    "We can view the dashboard by going to the **Overview tab** up top → **Open Ports**. \n",
    "\n",
    "<img src=\"../images/mlflow.png\" width=685>\n",
    "\n",
    "We also have our Ray Dashboard and Train workfload specific dashboards above. \n",
    "\n",
    "<img src=\"../images/train_metrics.png\" width=700>\n"
   ]
  },
  {
   "cell_type": "code",
   "execution_count": null,
   "metadata": {},
   "outputs": [
    {
     "data": {
      "text/plain": [
       "run_id                                      0f1ed542edda4cff8ecf731efe23893b\n",
       "experiment_id                                             415276455561301916\n",
       "status                                                               RUNNING\n",
       "artifact_uri               file:///mnt/user_storage/mlflow/doggos/4152764...\n",
       "start_time                                  2025-04-02 05:28:46.736000+00:00\n",
       "end_time                                                                None\n",
       "metrics.val_loss                                                    0.886611\n",
       "metrics.lr                                                             0.001\n",
       "metrics.train_loss                                                  0.620973\n",
       "params.lr_factor                                                         0.8\n",
       "params.embedding_dim                                                     512\n",
       "params.num_classes                                                        36\n",
       "params.dropout_p                                                         0.3\n",
       "params.batch_size                                                        256\n",
       "params.num_epochs                                                         20\n",
       "params.experiment_name                                                doggos\n",
       "params.class_to_label      {'malamute': 0, 'beagle': 1, 'pug': 2, 'chihua...\n",
       "params.lr                                                              0.001\n",
       "params.lr_patience                                                         3\n",
       "params.model_registry                        /mnt/user_storage/mlflow/doggos\n",
       "params.hidden_dim                                                        256\n",
       "tags.mlflow.user                                                         ray\n",
       "tags.mlflow.source.name    /home/ray/anaconda3/lib/python3.12/site-packag...\n",
       "tags.mlflow.runName                                      intrigued-sponge-45\n",
       "tags.mlflow.source.type                                                LOCAL\n",
       "Name: 0, dtype: object"
      ]
     },
     "execution_count": null,
     "metadata": {},
     "output_type": "execute_result"
    }
   ],
   "source": [
    "# Sorted runs\n",
    "mlflow.set_tracking_uri(f\"file:{model_registry}\")\n",
    "sorted_runs = mlflow.search_runs(\n",
    "    experiment_names=[experiment_name], \n",
    "    order_by=[\"metrics.val_loss ASC\"])\n",
    "best_run = sorted_runs.iloc[0]\n",
    "best_run"
   ]
  },
  {
   "cell_type": "markdown",
   "metadata": {},
   "source": [
    "And we can easily wrap our training workload as a production grade Job:"
   ]
  },
  {
   "cell_type": "code",
   "execution_count": null,
   "metadata": {},
   "outputs": [
    {
     "name": "stderr",
     "output_type": "stream",
     "text": [
      "Output\n",
      "(anyscale +0.8s) Submitting job with config JobConfig(name='train-doggos-model', image_uri=None, compute_config=ComputeConfig(cloud='anyscale_v2_default_cloud'), env_vars=None, py_modules=None, py_executable=None, cloud=None, project=None, ray_version=None, job_queue_config=None).\n",
      "(anyscale +1.4s) Created compute config: 'compute-v1-038176bbd05fe5f40d47c502a03ae789:1'\n",
      "(anyscale +1.4s) View the compute config in the UI: 'https://console.anyscale.com/v2/cld_kvedZWag2qA8i5BjxUevf5i7/compute-configs/cpt_wmtzjwgcli4ftbuveyuujqtg4b'\n",
      "(anyscale +2.4s) Uploading local dir '/home/ray/default' to cloud storage.\n",
      "(anyscale +3.3s) Including workspace-managed pip dependencies.\n",
      "(anyscale +3.7s) Job 'train-doggos-model' submitted, ID: 'prodjob_a9sg2ernkhnr62vklzdx39unm8'.\n",
      "(anyscale +3.7s) View the job in the UI: https://console.anyscale.com/jobs/prodjob_a9sg2ernkhnr62vklzdx39unm8\n",
      "(anyscale +3.7s) Use `--wait` to wait for the job to run and stream logs.\n"
     ]
    }
   ],
   "source": [
    "%%bash\n",
    "anyscale job submit --name=train-doggos-model \\\n",
    "  --containerfile=\"/home/ray/default/containerfile\" \\\n",
    "  --config-file=\"/home/ray/default/compute.yaml\" \\\n",
    "  --working-dir=\"/home/ray/default\" \\\n",
    "  --exclude=\"\" \\\n",
    "  --max-retries=0 \\\n",
    "  -- python doggos/train.py"
   ]
  },
  {
   "cell_type": "markdown",
   "metadata": {},
   "source": [
    "<img src=\"../images/train_job.png\" width=700>"
   ]
  },
  {
   "cell_type": "markdown",
   "metadata": {},
   "source": [
    "### Evaluation"
   ]
  },
  {
   "cell_type": "markdown",
   "metadata": {},
   "source": [
    "We'll conclude by evaluating our trained model on our test dataset. Evaluation is essentially just the same as our batch inference workload -- where we'll apply the model on batches of data and then calculate metrics using the predictions vs.true labels. Ray data is hyper optimized for throughput so preserving order is not a priority. But for evaluation, this is crucial! So we'll achieve this by preserving the entire row and adding the predicted label as another column to each row."
   ]
  },
  {
   "cell_type": "code",
   "execution_count": null,
   "metadata": {},
   "outputs": [],
   "source": [
    "from urllib.parse import urlparse"
   ]
  },
  {
   "cell_type": "code",
   "execution_count": null,
   "metadata": {},
   "outputs": [],
   "source": [
    "class TorchPredictor:\n",
    "    def __init__(self, preprocessor, model):\n",
    "        self.preprocessor = preprocessor\n",
    "        self.model = model\n",
    "        self.model.eval()\n",
    "\n",
    "    def __call__(self, batch, device=\"cuda\"):\n",
    "        self.model.to(device)\n",
    "        batch[\"prediction\"] = self.model.predict(collate_fn(batch))\n",
    "        return batch\n",
    "\n",
    "    def predict_probabilities(self, batch, device=\"cuda\"):\n",
    "        self.model.to(device)\n",
    "        predicted_probabilities = self.model.predict_probabilities(collate_fn(batch))\n",
    "        batch[\"probabilities\"] = [\n",
    "            {self.preprocessor.label_to_class[i]: prob for i, prob in enumerate(probabilities)}\n",
    "            for probabilities in predicted_probabilities\n",
    "        ]\n",
    "        return batch\n",
    "    \n",
    "    @classmethod\n",
    "    def from_artifacts_dir(cls, artifacts_dir):\n",
    "        with open(os.path.join(artifacts_dir, \"class_to_label.json\"), \"r\") as fp:\n",
    "            class_to_label = json.load(fp)\n",
    "        preprocessor = Preprocessor(class_to_label=class_to_label)\n",
    "        model = ClassificationModel.load(\n",
    "            args_fp=os.path.join(artifacts_dir, \"args.json\"), \n",
    "            state_dict_fp=os.path.join(artifacts_dir, \"model.pt\"),\n",
    "        )\n",
    "        return cls(preprocessor=preprocessor, model=model)"
   ]
  },
  {
   "cell_type": "code",
   "execution_count": null,
   "metadata": {},
   "outputs": [
    {
     "name": "stderr",
     "output_type": "stream",
     "text": [
      "/tmp/ipykernel_67004/3069163375.py:52: FutureWarning: You are using `torch.load` with `weights_only=False` (the current default value), which uses the default pickle module implicitly. It is possible to construct malicious pickle data which will execute arbitrary code during unpickling (See https://github.com/pytorch/pytorch/blob/main/SECURITY.md#untrusted-models for more details). In a future release, the default value for `weights_only` will be flipped to `True`. This limits the functions that could be executed during unpickling. Arbitrary objects will no longer be allowed to be loaded via this mode unless they are explicitly allowlisted by the user via `torch.serialization.add_safe_globals`. We recommend you start setting `weights_only=True` for any use case where you don't have full control of the loaded file. Please open an issue on GitHub for any issues related to this experimental feature.\n",
      "  model.load_state_dict(torch.load(state_dict_fp, map_location=device))\n"
     ]
    }
   ],
   "source": [
    "# Load and preproces eval dataset\n",
    "artifacts_dir = urlparse(best_run.artifact_uri).path\n",
    "predictor = TorchPredictor.from_artifacts_dir(artifacts_dir=artifacts_dir)\n",
    "test_ds = ray.data.read_images(\"s3://doggos-dataset/test\", include_paths=True)\n",
    "test_ds = test_ds.map(add_class)\n",
    "test_ds = predictor.preprocessor.transform(ds=test_ds)"
   ]
  },
  {
   "cell_type": "code",
   "execution_count": null,
   "metadata": {},
   "outputs": [
    {
     "name": "stderr",
     "output_type": "stream",
     "text": [
      "2025-04-02 05:38:34,078\tINFO streaming_executor.py:108 -- Starting execution of Dataset. Full logs are in /tmp/ray/session_2025-04-02_01-36-15_100194_2258/logs/ray-data\n",
      "2025-04-02 05:38:34,078\tINFO streaming_executor.py:109 -- Execution plan of Dataset: InputDataBuffer[Input] -> TaskPoolMapOperator[ListFiles] -> TaskPoolMapOperator[ReadFiles] -> TaskPoolMapOperator[Map(add_class)->Map(Preprocessor.convert_to_label)] -> ActorPoolMapOperator[MapBatches(EmbeddingGenerator)] -> TaskPoolMapOperator[MapBatches(drop_columns)] -> TaskPoolMapOperator[MapBatches(TorchPredictor)] -> LimitOperator[limit=1]\n"
     ]
    },
    {
     "data": {
      "application/vnd.jupyter.widget-view+json": {
       "model_id": "147c6f7c7fd545bb9841dd4a1e5efac0",
       "version_major": 2,
       "version_minor": 0
      },
      "text/plain": [
       "Running 0: 0.00 row [00:00, ? row/s]"
      ]
     },
     "metadata": {},
     "output_type": "display_data"
    },
    {
     "name": "stdout",
     "output_type": "stream",
     "text": [
      "\u001b[36m(autoscaler +43m42s)\u001b[0m [autoscaler] [4xT4:48CPU-192GB] Attempting to add 1 node(s) to the cluster (increasing from 0 to 1).\n",
      "\u001b[36m(autoscaler +43m42s)\u001b[0m [autoscaler] [4xT4:48CPU-192GB] Launched 1 instances.\n"
     ]
    },
    {
     "data": {
      "application/vnd.jupyter.widget-view+json": {
       "model_id": "7cd8948d8a994d528b43d1dd574b2ea0",
       "version_major": 2,
       "version_minor": 0
      },
      "text/plain": [
       "- ListFiles 1: 0.00 row [00:00, ? row/s]"
      ]
     },
     "metadata": {},
     "output_type": "display_data"
    },
    {
     "data": {
      "application/vnd.jupyter.widget-view+json": {
       "model_id": "6b67affc25ae4b1b9e8c8bce8ca9967b",
       "version_major": 2,
       "version_minor": 0
      },
      "text/plain": [
       "- ReadFiles 2: 0.00 row [00:00, ? row/s]"
      ]
     },
     "metadata": {},
     "output_type": "display_data"
    },
    {
     "data": {
      "application/vnd.jupyter.widget-view+json": {
       "model_id": "8e933694d6c4419593ba7fbefac4ef5f",
       "version_major": 2,
       "version_minor": 0
      },
      "text/plain": [
       "- Map(add_class)->Map(Preprocessor.convert_to_label) 3: 0.00 row [00:00, ? row/s]"
      ]
     },
     "metadata": {},
     "output_type": "display_data"
    },
    {
     "data": {
      "application/vnd.jupyter.widget-view+json": {
       "model_id": "ca7a51244c6f420da7e6bb0add8df0cc",
       "version_major": 2,
       "version_minor": 0
      },
      "text/plain": [
       "- MapBatches(EmbeddingGenerator) 4: 0.00 row [00:00, ? row/s]"
      ]
     },
     "metadata": {},
     "output_type": "display_data"
    },
    {
     "data": {
      "application/vnd.jupyter.widget-view+json": {
       "model_id": "7ce02edc47fe4eb09d72757615dc7152",
       "version_major": 2,
       "version_minor": 0
      },
      "text/plain": [
       "- MapBatches(drop_columns) 5: 0.00 row [00:00, ? row/s]"
      ]
     },
     "metadata": {},
     "output_type": "display_data"
    },
    {
     "data": {
      "application/vnd.jupyter.widget-view+json": {
       "model_id": "851b39a6edeb47b2ab5baf34548ad432",
       "version_major": 2,
       "version_minor": 0
      },
      "text/plain": [
       "- MapBatches(TorchPredictor) 6: 0.00 row [00:00, ? row/s]"
      ]
     },
     "metadata": {},
     "output_type": "display_data"
    },
    {
     "data": {
      "application/vnd.jupyter.widget-view+json": {
       "model_id": "0ff7fa365d5b4385ae28129eff036ddd",
       "version_major": 2,
       "version_minor": 0
      },
      "text/plain": [
       "- limit=1 7: 0.00 row [00:00, ? row/s]"
      ]
     },
     "metadata": {},
     "output_type": "display_data"
    },
    {
     "name": "stdout",
     "output_type": "stream",
     "text": [
      "\u001b[36m(autoscaler +45m2s)\u001b[0m [autoscaler] [4xT4:48CPU-192GB] Attempting to add 1 node(s) to the cluster (increasing from 1 to 2).\n",
      "\u001b[36m(autoscaler +45m2s)\u001b[0m [autoscaler] [4xT4:48CPU-192GB] Launched 1 instances.\n"
     ]
    },
    {
     "name": "stderr",
     "output_type": "stream",
     "text": [
      "\u001b[36m(MapBatches(TorchPredictor) pid=3638, ip=10.0.99.208)\u001b[0m /tmp/ipykernel_67004/3214280880.py:6: UserWarning: The given NumPy array is not writable, and PyTorch does not support non-writable tensors. This means writing to this tensor will result in undefined behavior. You may want to copy the array to protect its data or make it writable before converting it to a tensor. This type of warning will be suppressed for the rest of this program. (Triggered internally at ../torch/csrc/utils/tensor_numpy.cpp:206.)\n"
     ]
    },
    {
     "data": {
      "text/plain": [
       "[{'path': 'doggos-dataset/test/basset/basset_3579.jpg',\n",
       "  'class': 'basset',\n",
       "  'label': 20,\n",
       "  'embedding': array([ 2.20798776e-02, -1.71993062e-01, -9.32805091e-02,  2.52691805e-01,\n",
       "         -2.29116872e-01, -7.94908166e-01,  4.60279137e-01,  2.67838597e-01,\n",
       "         -1.26107395e-01, -2.50836074e-01, -1.45977423e-01, -1.36666849e-01,\n",
       "          2.27473646e-01, -2.00646162e-01,  6.81822419e-01,  9.98634398e-02,\n",
       "          4.29645002e-01,  6.83942139e-02, -4.37991731e-02, -1.69624895e-01,\n",
       "         -5.87508202e-01, -1.87354431e-01,  9.97562930e-02, -3.60309660e-01,\n",
       "         -4.44779992e-01,  4.32465971e-02,  4.66175020e-01,  1.49571478e-01,\n",
       "         -1.19229004e-01, -8.18487182e-02,  2.32132941e-01,  1.93196714e-01,\n",
       "          2.08487064e-01, -2.43074715e-01, -9.16214734e-02,  1.96457177e-01,\n",
       "         -1.50599152e-01, -2.74054796e-01, -6.15260229e-02,  2.02351093e+00,\n",
       "         -4.40336466e-01,  2.25521371e-01,  1.24245100e-02,  2.49176830e-01,\n",
       "         -5.37308306e-02, -8.19697261e-01,  2.31172949e-01,  1.67471781e-01,\n",
       "          2.07666829e-01, -2.94321060e-01, -1.89222082e-01,  2.54815787e-01,\n",
       "         -1.60635680e-01,  3.10349166e-01,  2.59462297e-01, -9.72227380e-03,\n",
       "          5.32649696e-01,  5.56068659e-01, -3.87171715e-01, -5.52967310e-01,\n",
       "          5.98531187e-01,  8.64774287e-02,  6.38826072e-01,  1.52033925e-01,\n",
       "         -3.98862720e-01, -1.15421981e-01, -1.59685120e-01,  2.11828500e-01,\n",
       "         -1.40830621e-01,  2.81075463e-02,  4.35671173e-02, -3.19451302e-01,\n",
       "         -2.38897026e-01,  4.38175797e-02, -1.47937357e-01,  3.76038849e-01,\n",
       "         -4.06108737e-01, -1.01139538e-01,  7.69992471e-02,  2.20388472e-02,\n",
       "         -9.93648693e-02, -1.22747220e-01, -1.83052465e-01, -8.65560949e-01,\n",
       "          3.80284667e-01, -1.53369367e-01,  1.28545690e+00,  1.00389667e-01,\n",
       "          3.55007887e-01,  1.44457534e-01, -1.95507571e-01, -4.35890734e-01,\n",
       "         -6.33745146e+00, -2.42156595e-01, -8.53533298e-02,  1.84473723e-01,\n",
       "         -1.97164819e-01,  2.56050795e-01, -5.98834634e-01,  4.31794882e-01,\n",
       "         -1.41965300e-01,  2.73702741e-01, -2.00805649e-01, -4.71777394e-02,\n",
       "          7.97083229e-03, -5.27704597e-01,  2.45196626e-01,  2.15527505e-01,\n",
       "          3.50023806e-02, -3.17680091e-01,  9.03695673e-02, -1.03524089e+00,\n",
       "          4.90019396e-02,  4.44804728e-02, -6.69940189e-02, -2.33631372e-01,\n",
       "         -2.43619725e-01,  2.33544961e-01,  1.43807366e-01, -3.17817032e-01,\n",
       "         -7.12811276e-02,  4.04484361e-01,  4.66147959e-01,  1.88450813e-01,\n",
       "          2.01110691e-01, -4.27903473e-01, -2.23323822e-01,  5.41359186e-02,\n",
       "          2.56465003e-02, -3.16068947e-01,  3.91239494e-01, -2.19241813e-01,\n",
       "         -2.47570932e-01,  9.02818561e-01, -6.10458493e-01,  2.76587456e-01,\n",
       "         -2.29227617e-02, -8.44806790e-01,  6.89516366e-02, -8.25168639e-02,\n",
       "          7.18078762e-02,  1.93370059e-02,  2.77393460e-01,  4.15021181e-01,\n",
       "         -1.79693758e-01,  1.19500287e-01,  2.98125632e-02,  7.56191313e-01,\n",
       "          4.56590205e-03,  2.18493074e-01, -3.76282990e-01,  2.03807771e-01,\n",
       "         -2.92265147e-01, -2.32304558e-01, -2.58641481e-01,  1.63724720e-01,\n",
       "         -9.36058164e-02, -2.94378698e-01,  2.47406468e-01,  1.57246754e-01,\n",
       "         -2.81990230e-01,  6.25280887e-02,  3.60538304e-01,  1.42216727e-01,\n",
       "          1.28854752e-01, -1.28152043e-01,  2.67638952e-01,  5.25902212e-01,\n",
       "          3.33330482e-01,  1.58459634e-01,  5.61394691e-02,  5.74338287e-02,\n",
       "          2.65830368e-01,  1.16330452e-01, -1.93104342e-01, -5.24635255e-01,\n",
       "          3.90792221e-01,  2.27617636e-01,  4.53231364e-01,  9.91562158e-02,\n",
       "         -2.13119313e-01,  5.57811707e-02,  3.54727864e-01, -2.91130573e-01,\n",
       "          1.27629414e-02,  9.38888937e-02, -1.91234499e-01, -4.63791043e-01,\n",
       "         -8.96691084e-02,  3.28862399e-01,  5.40194154e-01,  1.18453965e-01,\n",
       "         -2.42356285e-01,  2.18410730e-01,  1.19070277e-01,  3.25516045e-01,\n",
       "          4.29698706e-01,  2.08075196e-02, -8.28520179e-01, -6.43369257e-01,\n",
       "          4.94295895e-01,  2.34260000e-02,  2.71506071e-01,  1.43162131e-01,\n",
       "         -2.31686324e-01, -6.72550678e-01, -1.41815424e-01, -9.22383890e-02,\n",
       "          2.00623304e-01,  5.21553457e-01,  5.18047698e-02,  7.00314641e-02,\n",
       "          6.30923957e-02,  2.19934434e-01,  3.76092829e-02, -3.45529288e-01,\n",
       "         -6.38225853e-01,  3.49237323e-01,  7.43557632e-01, -4.34034914e-02,\n",
       "          4.98431504e-01,  3.24615955e-01, -2.61475921e-01,  1.26666814e-01,\n",
       "         -1.13198005e-01,  6.83547258e-02, -9.86572206e-02, -1.95753142e-01,\n",
       "          1.45571351e-01,  2.78572768e-01,  1.87841773e-01,  3.39797556e-01,\n",
       "         -2.17545837e-01,  4.32194829e-01, -3.35787833e-01,  9.15808603e-03,\n",
       "         -4.32670377e-02, -3.73985231e-01,  3.25013325e-03, -7.70293593e-01,\n",
       "          3.51034224e-01,  1.38326734e-01,  1.92164525e-01, -3.43656927e-01,\n",
       "          7.26532862e-02,  8.77161026e-02,  5.22000611e-01, -1.39614344e-01,\n",
       "         -2.05092251e-01,  3.51513952e-01,  3.61656457e-01,  5.57368994e-01,\n",
       "          2.01629788e-01, -8.68569762e-02, -7.13983625e-02, -1.62724108e-01,\n",
       "          2.03042597e-01, -1.24127015e-01,  1.60374045e-02,  8.55167508e-02,\n",
       "         -3.49883735e-01,  3.52605820e-01,  1.62362009e-01, -1.15259433e+00,\n",
       "          2.72192270e-01, -5.12223363e-01, -3.09959650e-01, -1.79768875e-02,\n",
       "          8.84458125e-02, -2.29995593e-01, -1.19246818e-01,  3.89583930e-02,\n",
       "          7.28194654e-01,  4.27783310e-01, -3.91784161e-01, -8.63718390e-02,\n",
       "          1.41866893e-01,  2.35531911e-01, -5.24803996e-02, -1.06892884e-01,\n",
       "          6.09300211e-02,  1.67175069e-01,  4.01730239e-02, -9.11218897e-02,\n",
       "          6.33468032e-02,  2.92127699e-01, -8.59015763e-01,  2.51887828e-01,\n",
       "         -5.79897046e-01,  7.61728510e-02,  3.18508863e-01, -5.95711768e-02,\n",
       "         -9.82075632e-02, -7.93258399e-02,  1.57595247e-01, -1.31796747e-01,\n",
       "         -2.67028123e-01,  3.82483065e-01,  1.93868533e-01, -1.39863603e-02,\n",
       "         -1.79800287e-01,  6.72241673e-02, -1.24505103e-01,  3.86807978e-01,\n",
       "         -1.46477416e-01, -2.10405782e-01, -2.91339815e-01,  3.18243563e-01,\n",
       "          3.48617494e-01,  4.17098075e-01, -4.15886104e-01,  8.98242116e-01,\n",
       "          9.01189268e-01,  2.88481265e-02,  9.12544727e-02, -2.46349871e-01,\n",
       "          2.47474328e-01, -2.01425627e-02, -3.23376358e-01, -6.67020559e-01,\n",
       "          1.20963454e+00,  2.84126610e-01, -4.89466965e-01,  5.85063696e-01,\n",
       "          1.96767434e-01,  2.62077928e-01, -1.74549282e-01,  1.95363835e-01,\n",
       "          2.47009292e-01,  1.42245293e-02, -2.96361417e-01, -1.44303575e-01,\n",
       "          6.75277770e-01, -4.92253363e-01,  4.72066939e-01, -1.57828927e-01,\n",
       "          2.61032641e-01,  2.54936755e-01,  3.60622332e-02, -3.20611805e-01,\n",
       "          3.54077995e-01, -7.38073468e-01, -8.94931927e-02,  2.91453451e-01,\n",
       "          3.72973144e-01,  7.58394450e-02,  3.73381615e-01,  2.45664686e-01,\n",
       "          2.63898037e-02, -2.27488801e-01, -6.73726678e-01,  6.51899725e-04,\n",
       "          1.37602687e-02,  8.89185518e-02,  2.19692737e-02,  8.42355609e-01,\n",
       "          4.61707115e-01, -9.12959576e-01,  2.87088275e-01, -1.23662293e-01,\n",
       "          9.40104365e-01,  7.16798231e-02, -2.73707271e-01,  2.80776441e-01,\n",
       "         -4.57624465e-01,  1.40915528e-01, -8.41534555e-01,  4.03707027e-02,\n",
       "         -3.71279716e-01, -3.33202660e-01,  1.57389194e-01,  1.65215611e-01,\n",
       "          3.61649364e-01,  6.24611564e-02, -3.24563086e-01,  1.47838205e-01,\n",
       "          1.93367648e+00,  4.08248961e-01, -3.11453223e-01,  2.30162501e-01,\n",
       "          4.23462600e-01, -2.52928823e-01,  1.28137454e-01,  1.99647084e-01,\n",
       "          3.53322297e-01, -4.60197031e-01, -5.72713912e-01,  2.48520195e-01,\n",
       "          3.35361332e-01, -1.62905169e+00, -1.56306282e-01, -3.32582027e-01,\n",
       "          5.05934536e-01, -6.18880510e-01, -4.72709686e-01, -1.88753664e-01,\n",
       "         -9.51938331e-02,  8.01956654e-02, -4.02268738e-01, -2.87888080e-01,\n",
       "          7.80224651e-02, -2.28288919e-02, -4.32451814e-01,  1.25518724e-01,\n",
       "          2.92097926e-02, -4.20579910e-01, -9.95684266e-02, -3.48850280e-01,\n",
       "          2.84241170e-01, -4.76208210e-01,  7.83672988e-01, -1.69535458e-01,\n",
       "         -3.15620869e-01, -3.00630569e-01, -5.54985479e-02, -9.00666509e-03,\n",
       "          4.78171200e-01,  2.79308915e-01, -7.31042773e-02, -4.00137275e-01,\n",
       "          3.60153258e-01,  3.80457431e-01, -3.44497412e-02, -4.89859581e-01,\n",
       "         -1.05873324e-01,  2.32654154e-01, -2.05280274e-01, -1.24300152e-01,\n",
       "         -1.14402652e-01, -8.98568034e-02,  5.94870783e-02,  1.01655595e-01,\n",
       "         -5.35213530e-01,  1.38692841e-01, -4.13207486e-02, -1.02717303e-01,\n",
       "         -8.81673098e-01,  1.86586931e-01, -1.06045686e-01,  5.60228527e-03,\n",
       "          1.65674031e-01,  3.63045901e-01, -1.01444766e-01, -1.95119321e-01,\n",
       "          5.48930049e-01, -3.97764683e-01,  2.52510130e-01, -2.02681214e-01,\n",
       "          1.56958729e-01, -2.78838694e-01, -5.90107203e-01, -5.12853503e-01,\n",
       "          9.63809192e-02,  1.21449769e-01, -2.71800220e-01, -1.01383507e-01,\n",
       "          5.59693128e-02,  4.25699174e-01,  8.16711336e-02,  2.89665386e-02,\n",
       "          1.93850785e-01, -5.86676538e-01, -1.95637956e-01,  2.02430546e-01,\n",
       "          3.71388376e-01,  5.05181551e-01, -4.72899467e-01,  1.19251758e-01,\n",
       "         -7.73385093e-02, -9.35530365e-02,  2.15739295e-01,  1.04236938e-01,\n",
       "         -1.01309389e-01, -4.26144272e-01,  2.30068624e-01, -9.48145092e-02,\n",
       "          2.21150115e-01,  2.17832685e-01, -2.57514060e-01, -2.43274942e-01,\n",
       "          1.97732121e-01, -1.32024348e-01, -6.54527247e-02, -4.84291166e-01,\n",
       "         -9.38371778e-01, -1.00198269e-01, -2.69310564e-01, -4.43751514e-01,\n",
       "         -2.15588957e-01,  4.17040884e-02, -6.50074892e-03, -3.51336509e-01,\n",
       "          3.96420538e-01, -4.89554375e-01,  1.90897793e-01, -1.07432947e-01,\n",
       "         -2.62247995e-02,  6.65236831e-01, -7.92437077e-01,  3.96727562e-01,\n",
       "         -7.27133453e-01, -2.50274599e-01, -2.80742973e-01,  3.92667577e-02,\n",
       "          7.49597371e-01, -1.73881412e-01, -4.66146946e-01,  1.85965672e-01,\n",
       "         -5.70056498e-01,  3.02346230e-01,  6.69352710e-02, -4.11108196e-01],\n",
       "        dtype=float32),\n",
       "  'prediction': 20}]"
      ]
     },
     "execution_count": null,
     "metadata": {},
     "output_type": "execute_result"
    }
   ],
   "source": [
    "# y_pred (batch inference)\n",
    "pred_ds = test_ds.map_batches(\n",
    "    predictor,\n",
    "    fn_kwargs={\"device\": \"cuda\"},\n",
    "    concurrency=4,\n",
    "    batch_size=64,\n",
    "    num_gpus=1,\n",
    ")\n",
    "pred_ds.take(1)"
   ]
  },
  {
   "cell_type": "code",
   "execution_count": null,
   "metadata": {},
   "outputs": [],
   "source": [
    "from sklearn.metrics import precision_recall_fscore_support"
   ]
  },
  {
   "cell_type": "code",
   "execution_count": null,
   "metadata": {},
   "outputs": [],
   "source": [
    "def batch_metric(batch):\n",
    "    labels = batch[\"label\"]\n",
    "    preds = batch[\"prediction\"]\n",
    "    precision, recall, f1, _ = precision_recall_fscore_support(labels, preds, average=\"weighted\", zero_division=0)\n",
    "    return {\"precision\": [precision], \"recall\": [recall], \"f1\": [f1], \"count\": [1]}"
   ]
  },
  {
   "cell_type": "code",
   "execution_count": null,
   "metadata": {},
   "outputs": [
    {
     "name": "stderr",
     "output_type": "stream",
     "text": [
      "2025-04-02 05:49:35,580\tINFO streaming_executor.py:108 -- Starting execution of Dataset. Full logs are in /tmp/ray/session_2025-04-02_01-36-15_100194_2258/logs/ray-data\n",
      "2025-04-02 05:49:35,581\tINFO streaming_executor.py:109 -- Execution plan of Dataset: InputDataBuffer[Input] -> TaskPoolMapOperator[ListFiles] -> TaskPoolMapOperator[ReadFiles] -> TaskPoolMapOperator[Map(add_class)->Map(Preprocessor.convert_to_label)] -> ActorPoolMapOperator[MapBatches(EmbeddingGenerator)] -> TaskPoolMapOperator[MapBatches(drop_columns)] -> TaskPoolMapOperator[MapBatches(TorchPredictor)] -> TaskPoolMapOperator[MapBatches(batch_metric)] -> AllToAllOperator[Aggregate] -> LimitOperator[limit=1]\n"
     ]
    },
    {
     "data": {
      "application/vnd.jupyter.widget-view+json": {
       "model_id": "8fa688047d724d11b0404dadd8dffe70",
       "version_major": 2,
       "version_minor": 0
      },
      "text/plain": [
       "Running 0: 0.00 row [00:00, ? row/s]"
      ]
     },
     "metadata": {},
     "output_type": "display_data"
    },
    {
     "data": {
      "application/vnd.jupyter.widget-view+json": {
       "model_id": "98a52e5276e645cb828c2d4e1721b33f",
       "version_major": 2,
       "version_minor": 0
      },
      "text/plain": [
       "- ListFiles 1: 0.00 row [00:00, ? row/s]"
      ]
     },
     "metadata": {},
     "output_type": "display_data"
    },
    {
     "data": {
      "application/vnd.jupyter.widget-view+json": {
       "model_id": "42255f2739d4449a80681e8764aa410b",
       "version_major": 2,
       "version_minor": 0
      },
      "text/plain": [
       "- ReadFiles 2: 0.00 row [00:00, ? row/s]"
      ]
     },
     "metadata": {},
     "output_type": "display_data"
    },
    {
     "data": {
      "application/vnd.jupyter.widget-view+json": {
       "model_id": "995d2c8ea6cc4b8eb6ef6117e64336e2",
       "version_major": 2,
       "version_minor": 0
      },
      "text/plain": [
       "- Map(add_class)->Map(Preprocessor.convert_to_label) 3: 0.00 row [00:00, ? row/s]"
      ]
     },
     "metadata": {},
     "output_type": "display_data"
    },
    {
     "data": {
      "application/vnd.jupyter.widget-view+json": {
       "model_id": "178f3c2dedec4647a30080ec7ced981d",
       "version_major": 2,
       "version_minor": 0
      },
      "text/plain": [
       "- MapBatches(EmbeddingGenerator) 4: 0.00 row [00:00, ? row/s]"
      ]
     },
     "metadata": {},
     "output_type": "display_data"
    },
    {
     "data": {
      "application/vnd.jupyter.widget-view+json": {
       "model_id": "61a731b02a4e4fe3b5dc8fd1ffa94763",
       "version_major": 2,
       "version_minor": 0
      },
      "text/plain": [
       "- MapBatches(drop_columns) 5: 0.00 row [00:00, ? row/s]"
      ]
     },
     "metadata": {},
     "output_type": "display_data"
    },
    {
     "data": {
      "application/vnd.jupyter.widget-view+json": {
       "model_id": "35f3042f9a524b318994fbd6abda42bf",
       "version_major": 2,
       "version_minor": 0
      },
      "text/plain": [
       "- MapBatches(TorchPredictor) 6: 0.00 row [00:00, ? row/s]"
      ]
     },
     "metadata": {},
     "output_type": "display_data"
    },
    {
     "data": {
      "application/vnd.jupyter.widget-view+json": {
       "model_id": "dc8abfa2247f4806b83546a180939540",
       "version_major": 2,
       "version_minor": 0
      },
      "text/plain": [
       "- MapBatches(batch_metric) 7: 0.00 row [00:00, ? row/s]"
      ]
     },
     "metadata": {},
     "output_type": "display_data"
    },
    {
     "data": {
      "application/vnd.jupyter.widget-view+json": {
       "model_id": "7c87f9be2299430583fecd7ecefd5d62",
       "version_major": 2,
       "version_minor": 0
      },
      "text/plain": [
       "- Aggregate 8: 0.00 row [00:00, ? row/s]"
      ]
     },
     "metadata": {},
     "output_type": "display_data"
    },
    {
     "data": {
      "application/vnd.jupyter.widget-view+json": {
       "model_id": "db672ad9c7fd4c4f9d3f1ff77822cc84",
       "version_major": 2,
       "version_minor": 0
      },
      "text/plain": [
       "Sort Sample 9:   0%|          | 0.00/1.00 [00:00<?, ? row/s]"
      ]
     },
     "metadata": {},
     "output_type": "display_data"
    },
    {
     "data": {
      "application/vnd.jupyter.widget-view+json": {
       "model_id": "fecc3e9b6baf4f29b7da5ce26ba0b670",
       "version_major": 2,
       "version_minor": 0
      },
      "text/plain": [
       "Shuffle Map 10:   0%|          | 0.00/1.00 [00:00<?, ? row/s]"
      ]
     },
     "metadata": {},
     "output_type": "display_data"
    },
    {
     "data": {
      "application/vnd.jupyter.widget-view+json": {
       "model_id": "c9e35ae847a945e0a4736a5fc8434a27",
       "version_major": 2,
       "version_minor": 0
      },
      "text/plain": [
       "Shuffle Reduce 11:   0%|          | 0.00/1.00 [00:00<?, ? row/s]"
      ]
     },
     "metadata": {},
     "output_type": "display_data"
    },
    {
     "data": {
      "application/vnd.jupyter.widget-view+json": {
       "model_id": "638f3c7d58ed4a93b29f4491dfca212a",
       "version_major": 2,
       "version_minor": 0
      },
      "text/plain": [
       "- limit=1 12: 0.00 row [00:00, ? row/s]"
      ]
     },
     "metadata": {},
     "output_type": "display_data"
    },
    {
     "name": "stderr",
     "output_type": "stream",
     "text": [
      "\u001b[36m(MapBatches(TorchPredictor) pid=28788, ip=10.0.99.208)\u001b[0m /tmp/ipykernel_67004/3214280880.py:6: UserWarning: The given NumPy array is not writable, and PyTorch does not support non-writable tensors. This means writing to this tensor will result in undefined behavior. You may want to copy the array to protect its data or make it writable before converting it to a tensor. This type of warning will be suppressed for the rest of this program. (Triggered internally at ../torch/csrc/utils/tensor_numpy.cpp:206.)\n",
      "\u001b[36m(MapBatches(TorchPredictor) pid=28947, ip=10.0.99.208)\u001b[0m /tmp/ipykernel_67004/3214280880.py:6: UserWarning: The given NumPy array is not writable, and PyTorch does not support non-writable tensors. This means writing to this tensor will result in undefined behavior. You may want to copy the array to protect its data or make it writable before converting it to a tensor. This type of warning will be suppressed for the rest of this program. (Triggered internally at ../torch/csrc/utils/tensor_numpy.cpp:206.)\u001b[32m [repeated 4x across cluster]\u001b[0m\n",
      "\u001b[36m(MapBatches(TorchPredictor) pid=14611, ip=10.0.107.124)\u001b[0m /tmp/ipykernel_67004/3214280880.py:6: UserWarning: The given NumPy array is not writable, and PyTorch does not support non-writable tensors. This means writing to this tensor will result in undefined behavior. You may want to copy the array to protect its data or make it writable before converting it to a tensor. This type of warning will be suppressed for the rest of this program. (Triggered internally at ../torch/csrc/utils/tensor_numpy.cpp:206.)\u001b[32m [repeated 5x across cluster]\u001b[0m\n",
      "\u001b[36m(MapBatches(TorchPredictor) pid=29130, ip=10.0.99.208)\u001b[0m /tmp/ipykernel_67004/3214280880.py:6: UserWarning: The given NumPy array is not writable, and PyTorch does not support non-writable tensors. This means writing to this tensor will result in undefined behavior. You may want to copy the array to protect its data or make it writable before converting it to a tensor. This type of warning will be suppressed for the rest of this program. (Triggered internally at ../torch/csrc/utils/tensor_numpy.cpp:206.)\u001b[32m [repeated 4x across cluster]\u001b[0m\n",
      "\u001b[36m(MapBatches(TorchPredictor) pid=14875, ip=10.0.107.124)\u001b[0m /tmp/ipykernel_67004/3214280880.py:6: UserWarning: The given NumPy array is not writable, and PyTorch does not support non-writable tensors. This means writing to this tensor will result in undefined behavior. You may want to copy the array to protect its data or make it writable before converting it to a tensor. This type of warning will be suppressed for the rest of this program. (Triggered internally at ../torch/csrc/utils/tensor_numpy.cpp:206.)\u001b[32m [repeated 4x across cluster]\u001b[0m\n",
      "\u001b[36m(MapBatches(TorchPredictor) pid=8697, ip=10.0.127.226)\u001b[0m /tmp/ipykernel_67004/3214280880.py:6: UserWarning: The given NumPy array is not writable, and PyTorch does not support non-writable tensors. This means writing to this tensor will result in undefined behavior. You may want to copy the array to protect its data or make it writable before converting it to a tensor. This type of warning will be suppressed for the rest of this program. (Triggered internally at ../torch/csrc/utils/tensor_numpy.cpp:206.)\u001b[32m [repeated 4x across cluster]\u001b[0m\n",
      "\u001b[36m(MapBatches(TorchPredictor) pid=29481, ip=10.0.99.208)\u001b[0m /tmp/ipykernel_67004/3214280880.py:6: UserWarning: The given NumPy array is not writable, and PyTorch does not support non-writable tensors. This means writing to this tensor will result in undefined behavior. You may want to copy the array to protect its data or make it writable before converting it to a tensor. This type of warning will be suppressed for the rest of this program. (Triggered internally at ../torch/csrc/utils/tensor_numpy.cpp:206.)\u001b[32m [repeated 4x across cluster]\u001b[0m\n",
      "\u001b[36m(MapBatches(TorchPredictor) pid=15224, ip=10.0.107.124)\u001b[0m /tmp/ipykernel_67004/3214280880.py:6: UserWarning: The given NumPy array is not writable, and PyTorch does not support non-writable tensors. This means writing to this tensor will result in undefined behavior. You may want to copy the array to protect its data or make it writable before converting it to a tensor. This type of warning will be suppressed for the rest of this program. (Triggered internally at ../torch/csrc/utils/tensor_numpy.cpp:206.)\u001b[32m [repeated 4x across cluster]\u001b[0m\n",
      "\u001b[36m(MapBatches(TorchPredictor) pid=9045, ip=10.0.127.226)\u001b[0m /tmp/ipykernel_67004/3214280880.py:6: UserWarning: The given NumPy array is not writable, and PyTorch does not support non-writable tensors. This means writing to this tensor will result in undefined behavior. You may want to copy the array to protect its data or make it writable before converting it to a tensor. This type of warning will be suppressed for the rest of this program. (Triggered internally at ../torch/csrc/utils/tensor_numpy.cpp:206.)\u001b[32m [repeated 4x across cluster]\u001b[0m\n",
      "\u001b[36m(MapBatches(TorchPredictor) pid=29829, ip=10.0.99.208)\u001b[0m /tmp/ipykernel_67004/3214280880.py:6: UserWarning: The given NumPy array is not writable, and PyTorch does not support non-writable tensors. This means writing to this tensor will result in undefined behavior. You may want to copy the array to protect its data or make it writable before converting it to a tensor. This type of warning will be suppressed for the rest of this program. (Triggered internally at ../torch/csrc/utils/tensor_numpy.cpp:206.)\u001b[32m [repeated 4x across cluster]\u001b[0m\n",
      "\u001b[36m(MapBatches(TorchPredictor) pid=15574, ip=10.0.107.124)\u001b[0m /tmp/ipykernel_67004/3214280880.py:6: UserWarning: The given NumPy array is not writable, and PyTorch does not support non-writable tensors. This means writing to this tensor will result in undefined behavior. You may want to copy the array to protect its data or make it writable before converting it to a tensor. This type of warning will be suppressed for the rest of this program. (Triggered internally at ../torch/csrc/utils/tensor_numpy.cpp:206.)\u001b[32m [repeated 4x across cluster]\u001b[0m\n",
      "\u001b[36m(MapBatches(TorchPredictor) pid=30081, ip=10.0.99.208)\u001b[0m /tmp/ipykernel_67004/3214280880.py:6: UserWarning: The given NumPy array is not writable, and PyTorch does not support non-writable tensors. This means writing to this tensor will result in undefined behavior. You may want to copy the array to protect its data or make it writable before converting it to a tensor. This type of warning will be suppressed for the rest of this program. (Triggered internally at ../torch/csrc/utils/tensor_numpy.cpp:206.)\u001b[32m [repeated 4x across cluster]\u001b[0m\n"
     ]
    },
    {
     "name": "stdout",
     "output_type": "stream",
     "text": [
      "\u001b[36m(autoscaler +57m2s)\u001b[0m [autoscaler] Downscaling node i-0fbb05b1d1e6d2559 (node IP: 10.0.107.124) due to node idle termination.\n",
      "\u001b[36m(autoscaler +57m2s)\u001b[0m [autoscaler] Downscaling node i-0155b391f7ed6818b (node IP: 10.0.127.226) due to node idle termination.\n",
      "\u001b[36m(autoscaler +57m2s)\u001b[0m [autoscaler] Cluster resized to {48 CPU, 4 GPU}.\n"
     ]
    }
   ],
   "source": [
    "# Calculate metrics\n",
    "metrics_ds = pred_ds.map_batches(batch_metric)\n",
    "aggregate_metrics = metrics_ds.sum([\"precision\", \"recall\", \"f1\", \"count\"])\n",
    "precision = aggregate_metrics[\"sum(precision)\"] / aggregate_metrics[\"sum(count)\"]\n",
    "recall = aggregate_metrics[\"sum(recall)\"] / aggregate_metrics[\"sum(count)\"]\n",
    "f1 = aggregate_metrics[\"sum(f1)\"] / aggregate_metrics[\"sum(count)\"]"
   ]
  },
  {
   "cell_type": "code",
   "execution_count": null,
   "metadata": {},
   "outputs": [
    {
     "name": "stdout",
     "output_type": "stream",
     "text": [
      "Precision: 0.91\n",
      "Recall: 0.83\n",
      "F1: 0.85\n"
     ]
    },
    {
     "name": "stdout",
     "output_type": "stream",
     "text": [
      "\u001b[36m(autoscaler +1h11m57s)\u001b[0m [autoscaler] Downscaling node i-0a05c37a45a557c0d (node IP: 10.0.99.208) due to node idle termination.\n"
     ]
    }
   ],
   "source": [
    "print(f\"Precision: {precision:.2f}\")\n",
    "print(f\"Recall: {recall:.2f}\")\n",
    "print(f\"F1: {f1:.2f}\")"
   ]
  },
  {
   "cell_type": "code",
   "execution_count": null,
   "metadata": {},
   "outputs": [],
   "source": [
    "import IPython\n",
    "IPython.get_ipython().kernel.do_shutdown(restart=True)"
   ]
  }
 ],
 "metadata": {
  "kernelspec": {
   "display_name": "base",
   "language": "python",
   "name": "python3"
  },
  "language_info": {
   "codemirror_mode": {
    "name": "ipython",
    "version": 3
   },
   "file_extension": ".py",
   "mimetype": "text/x-python",
   "name": "python",
   "nbconvert_exporter": "python",
   "pygments_lexer": "ipython3",
   "version": "3.12.9"
  }
 },
 "nbformat": 4,
 "nbformat_minor": 2
}
