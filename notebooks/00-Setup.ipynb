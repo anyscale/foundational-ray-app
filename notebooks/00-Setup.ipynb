{
 "cells": [
  {
   "cell_type": "markdown",
   "metadata": {},
   "source": [
    "<p style=\"font-weight: bold; background-color: yellow; padding: 10px; display: inline;\">TODO</p>\n",
    "\n",
    "- mention the whole application e2e with a nice clean diagram\n",
    "- CTA to Anyscale"
   ]
  },
  {
   "cell_type": "markdown",
   "metadata": {},
   "source": [
    "<p style=\"font-weight: bold; background-color: yellow; padding: 10px; display: inline;\">TODO</p>\n",
    "\n",
    "- explain how Workspaces work\n",
    "- mention compute and env (and new containerfile)\n",
    "- mention no need to worry about infra (unlike k8s stack -- mention weak points about k8s stack)\n",
    "- mention weak points about sagemaker, vertex and DB (without naming dropping DB for now)\n",
    "- show how to configure Git"
   ]
  },
  {
   "cell_type": "code",
   "execution_count": 15,
   "metadata": {},
   "outputs": [],
   "source": [
    "%load_ext autoreload\n",
    "%autoreload all"
   ]
  },
  {
   "cell_type": "markdown",
   "metadata": {},
   "source": [
    "<p style=\"font-weight: bold; background-color: yellow; padding: 10px; display: inline;\">TODO</p>\n",
    "\n",
    "- explain what autoreload does"
   ]
  },
  {
   "cell_type": "code",
   "execution_count": 1,
   "metadata": {},
   "outputs": [],
   "source": [
    "import os\n",
    "import ray\n",
    "import sys\n",
    "import warnings\n",
    "from utils import show\n",
    "sys.path.append(os.path.abspath(\"../\"))\n",
    "warnings.filterwarnings(\"ignore\")"
   ]
  },
  {
   "cell_type": "markdown",
   "metadata": {},
   "source": [
    "<div class=\"alert alert-block alert-warning\"> <b> Title</b> \n",
    "\n",
    "Description [link descirption](url). Example in `italics`.\n",
    "\n",
    "</div>"
   ]
  },
  {
   "cell_type": "markdown",
   "metadata": {},
   "source": [
    "<p style=\"font-weight: bold; background-color: yellow; padding: 10px; display: inline;\">TODO</p>\n",
    "\n",
    "- explain ray run_time env\n",
    "- can RAY_DEBUG always be turned on?\n",
    "- remove train v2 flag once it becomes available (and the .env file making code)\n",
    "- add a small section on env vars (dotenv) somewhere\n",
    "- link to distributed debugger\n",
    "\n",
    "```python\n",
    "from dotenv import load_dotenv\n",
    "load_dotenv()\n",
    "\n",
    "ray.init(\n",
    "    runtime_env={\n",
    "        \"env_vars\": {\n",
    "            \"RAY_DEBUG\": \"1\",\n",
    "            \"RAY_TRAIN_V2_ENABLED\": \"1\",\n",
    "        },\n",
    "    },\n",
    ")\n",
    "```"
   ]
  },
  {
   "cell_type": "code",
   "execution_count": 3,
   "metadata": {},
   "outputs": [
    {
     "data": {
      "text/plain": [
       "{'status': 'ok', 'restart': True}"
      ]
     },
     "execution_count": 3,
     "metadata": {},
     "output_type": "execute_result"
    },
    {
     "ename": "",
     "evalue": "",
     "output_type": "error",
     "traceback": [
      "\u001b[1;31mThe Kernel crashed while executing code in the the current cell or a previous cell. Please review the code in the cell(s) to identify a possible cause of the failure. Click <a href='https://aka.ms/vscodeJupyterKernelCrash'>here</a> for more info. View Jupyter <a href='command:jupyter.viewOutput'>log</a> for further details."
     ]
    }
   ],
   "source": [
    "# Shutdown this notebook\n",
    "import IPython\n",
    "IPython.get_ipython().kernel.do_shutdown(restart=True)"
   ]
  },
  {
   "cell_type": "code",
   "execution_count": null,
   "metadata": {},
   "outputs": [],
   "source": []
  }
 ],
 "metadata": {
  "kernelspec": {
   "display_name": "base",
   "language": "python",
   "name": "python3"
  },
  "language_info": {
   "codemirror_mode": {
    "name": "ipython",
    "version": 3
   },
   "file_extension": ".py",
   "mimetype": "text/x-python",
   "name": "python",
   "nbconvert_exporter": "python",
   "pygments_lexer": "ipython3",
   "version": "3.12.2"
  }
 },
 "nbformat": 4,
 "nbformat_minor": 2
}
